{
  "nbformat": 4,
  "nbformat_minor": 0,
  "metadata": {
    "colab": {
      "name": "20211104_이재관.ipynb",
      "provenance": [],
      "authorship_tag": "ABX9TyNRjtG0khg9J986obAcYEKF",
      "include_colab_link": true
    },
    "kernelspec": {
      "name": "python3",
      "display_name": "Python 3"
    },
    "language_info": {
      "name": "python"
    }
  },
  "cells": [
    {
      "cell_type": "markdown",
      "metadata": {
        "id": "view-in-github",
        "colab_type": "text"
      },
      "source": [
        "<a href=\"https://colab.research.google.com/github/JamesLeeeeeee/machineLearning_practice/blob/master/20211104_%EC%9D%B4%EC%9E%AC%EA%B4%80.ipynb\" target=\"_parent\"><img src=\"https://colab.research.google.com/assets/colab-badge.svg\" alt=\"Open In Colab\"/></a>"
      ]
    },
    {
      "cell_type": "markdown",
      "metadata": {
        "id": "OlcMCCoy0ZiC"
      },
      "source": [
        "09-3 2개층을 연결하기"
      ]
    },
    {
      "cell_type": "code",
      "metadata": {
        "id": "Xv05vB2x2BlV"
      },
      "source": [
        "from tensorflow.keras.datasets import imdb\n",
        "from sklearn.model_selection import train_test_split\n",
        "(train_input, train_target), (test_input, test_target)= imdb.load_data(num_words=500)\n",
        "train_input, val_input, train_target, val_target= train_test_split(train_input, train_target, test_size=0.2, random_state=42)"
      ],
      "execution_count": 16,
      "outputs": []
    },
    {
      "cell_type": "code",
      "metadata": {
        "id": "GE-lHspF221s"
      },
      "source": [
        "from tensorflow.keras.preprocessing.sequence import pad_sequences\n",
        "train_seq= pad_sequences(train_input, maxlen=100)\n",
        "val_seq= pad_sequences(val_input, maxlen=100)"
      ],
      "execution_count": 14,
      "outputs": []
    },
    {
      "cell_type": "code",
      "metadata": {
        "id": "jrfgNRfv3JiX"
      },
      "source": [
        "from tensorflow import keras\n",
        "model=keras.Sequential()\n",
        "model.add(keras.layers.Embedding(500, 16, input_length=100))\n",
        "model.add(keras.layers.LSTM(8, dropout=0.3, return_sequences=True))\n",
        "model.add(keras.layers.LSTM(8, dropout=0.3))\n",
        "model.add(keras.layers.Dense(1, activation='sigmoid'))"
      ],
      "execution_count": 4,
      "outputs": []
    },
    {
      "cell_type": "code",
      "metadata": {
        "colab": {
          "base_uri": "https://localhost:8080/"
        },
        "id": "0g_nU5Vb3o4r",
        "outputId": "fbb363b2-4d6a-4605-a0e7-723c97754e06"
      },
      "source": [
        "model.summary()"
      ],
      "execution_count": 5,
      "outputs": [
        {
          "output_type": "stream",
          "name": "stdout",
          "text": [
            "Model: \"sequential\"\n",
            "_________________________________________________________________\n",
            "Layer (type)                 Output Shape              Param #   \n",
            "=================================================================\n",
            "embedding (Embedding)        (None, 100, 16)           8000      \n",
            "_________________________________________________________________\n",
            "lstm (LSTM)                  (None, 100, 8)            800       \n",
            "_________________________________________________________________\n",
            "lstm_1 (LSTM)                (None, 8)                 544       \n",
            "_________________________________________________________________\n",
            "dense (Dense)                (None, 1)                 9         \n",
            "=================================================================\n",
            "Total params: 9,353\n",
            "Trainable params: 9,353\n",
            "Non-trainable params: 0\n",
            "_________________________________________________________________\n"
          ]
        }
      ]
    },
    {
      "cell_type": "code",
      "metadata": {
        "colab": {
          "base_uri": "https://localhost:8080/"
        },
        "id": "5j-r9P5q3qY-",
        "outputId": "83804264-5c7c-4473-9ff4-eec00f7e2799"
      },
      "source": [
        "rmsprop=keras.optimizers.RMSprop(learning_rate=1e-4)\n",
        "model.compile(optimizer=rmsprop, loss='binary_crossentropy', metrics=['accuracy'])\n",
        "checkpoint=keras.callbacks.ModelCheckpoint('best-2lstm-model.h5', save_best_only=True)\n",
        "early_stopping=keras.callbacks.EarlyStopping(patience=3, restore_best_weights=True)\n",
        "model.fit(train_seq, train_target, epochs=100, batch_size=64, \n",
        "          validation_data=(val_seq, val_target), callbacks=[checkpoint, early_stopping])"
      ],
      "execution_count": 6,
      "outputs": [
        {
          "output_type": "stream",
          "name": "stdout",
          "text": [
            "Epoch 1/100\n",
            "313/313 [==============================] - 30s 82ms/step - loss: 0.6928 - accuracy: 0.5227 - val_loss: 0.6924 - val_accuracy: 0.5602\n",
            "Epoch 2/100\n",
            "313/313 [==============================] - 25s 79ms/step - loss: 0.6911 - accuracy: 0.5813 - val_loss: 0.6891 - val_accuracy: 0.6288\n",
            "Epoch 3/100\n",
            "313/313 [==============================] - 25s 79ms/step - loss: 0.6833 - accuracy: 0.6302 - val_loss: 0.6745 - val_accuracy: 0.6388\n",
            "Epoch 4/100\n",
            "313/313 [==============================] - 25s 80ms/step - loss: 0.6453 - accuracy: 0.6611 - val_loss: 0.6095 - val_accuracy: 0.6924\n",
            "Epoch 5/100\n",
            "313/313 [==============================] - 25s 80ms/step - loss: 0.5774 - accuracy: 0.7138 - val_loss: 0.5579 - val_accuracy: 0.7232\n",
            "Epoch 6/100\n",
            "313/313 [==============================] - 25s 79ms/step - loss: 0.5452 - accuracy: 0.7372 - val_loss: 0.5355 - val_accuracy: 0.7400\n",
            "Epoch 7/100\n",
            "313/313 [==============================] - 25s 79ms/step - loss: 0.5262 - accuracy: 0.7506 - val_loss: 0.5177 - val_accuracy: 0.7544\n",
            "Epoch 8/100\n",
            "313/313 [==============================] - 25s 80ms/step - loss: 0.5125 - accuracy: 0.7600 - val_loss: 0.5050 - val_accuracy: 0.7632\n",
            "Epoch 9/100\n",
            "313/313 [==============================] - 25s 79ms/step - loss: 0.5007 - accuracy: 0.7681 - val_loss: 0.4931 - val_accuracy: 0.7704\n",
            "Epoch 10/100\n",
            "313/313 [==============================] - 25s 79ms/step - loss: 0.4889 - accuracy: 0.7750 - val_loss: 0.4885 - val_accuracy: 0.7752\n",
            "Epoch 11/100\n",
            "313/313 [==============================] - 25s 79ms/step - loss: 0.4805 - accuracy: 0.7783 - val_loss: 0.4771 - val_accuracy: 0.7786\n",
            "Epoch 12/100\n",
            "313/313 [==============================] - 25s 79ms/step - loss: 0.4741 - accuracy: 0.7815 - val_loss: 0.4710 - val_accuracy: 0.7852\n",
            "Epoch 13/100\n",
            "313/313 [==============================] - 25s 79ms/step - loss: 0.4660 - accuracy: 0.7884 - val_loss: 0.4673 - val_accuracy: 0.7828\n",
            "Epoch 14/100\n",
            "313/313 [==============================] - 25s 79ms/step - loss: 0.4615 - accuracy: 0.7900 - val_loss: 0.4611 - val_accuracy: 0.7876\n",
            "Epoch 15/100\n",
            "313/313 [==============================] - 25s 79ms/step - loss: 0.4570 - accuracy: 0.7907 - val_loss: 0.4596 - val_accuracy: 0.7862\n",
            "Epoch 16/100\n",
            "313/313 [==============================] - 25s 79ms/step - loss: 0.4540 - accuracy: 0.7951 - val_loss: 0.4538 - val_accuracy: 0.7880\n",
            "Epoch 17/100\n",
            "313/313 [==============================] - 25s 79ms/step - loss: 0.4505 - accuracy: 0.7953 - val_loss: 0.4513 - val_accuracy: 0.7902\n",
            "Epoch 18/100\n",
            "313/313 [==============================] - 25s 79ms/step - loss: 0.4470 - accuracy: 0.7947 - val_loss: 0.4502 - val_accuracy: 0.7898\n",
            "Epoch 19/100\n",
            "313/313 [==============================] - 25s 79ms/step - loss: 0.4427 - accuracy: 0.7982 - val_loss: 0.4487 - val_accuracy: 0.7912\n",
            "Epoch 20/100\n",
            "313/313 [==============================] - 24s 78ms/step - loss: 0.4432 - accuracy: 0.7988 - val_loss: 0.4497 - val_accuracy: 0.7914\n",
            "Epoch 21/100\n",
            "313/313 [==============================] - 25s 79ms/step - loss: 0.4438 - accuracy: 0.7960 - val_loss: 0.4445 - val_accuracy: 0.7912\n",
            "Epoch 22/100\n",
            "313/313 [==============================] - 25s 79ms/step - loss: 0.4401 - accuracy: 0.7992 - val_loss: 0.4457 - val_accuracy: 0.7950\n",
            "Epoch 23/100\n",
            "313/313 [==============================] - 25s 79ms/step - loss: 0.4349 - accuracy: 0.8032 - val_loss: 0.4419 - val_accuracy: 0.7964\n",
            "Epoch 24/100\n",
            "313/313 [==============================] - 25s 79ms/step - loss: 0.4351 - accuracy: 0.8009 - val_loss: 0.4412 - val_accuracy: 0.7950\n",
            "Epoch 25/100\n",
            "313/313 [==============================] - 25s 79ms/step - loss: 0.4351 - accuracy: 0.8011 - val_loss: 0.4401 - val_accuracy: 0.7970\n",
            "Epoch 26/100\n",
            "313/313 [==============================] - 25s 79ms/step - loss: 0.4308 - accuracy: 0.8041 - val_loss: 0.4441 - val_accuracy: 0.7970\n",
            "Epoch 27/100\n",
            "313/313 [==============================] - 25s 79ms/step - loss: 0.4336 - accuracy: 0.8040 - val_loss: 0.4394 - val_accuracy: 0.7988\n",
            "Epoch 28/100\n",
            "313/313 [==============================] - 25s 79ms/step - loss: 0.4297 - accuracy: 0.8044 - val_loss: 0.4384 - val_accuracy: 0.7970\n",
            "Epoch 29/100\n",
            "313/313 [==============================] - 25s 79ms/step - loss: 0.4299 - accuracy: 0.8041 - val_loss: 0.4384 - val_accuracy: 0.7986\n",
            "Epoch 30/100\n",
            "313/313 [==============================] - 25s 79ms/step - loss: 0.4298 - accuracy: 0.8051 - val_loss: 0.4388 - val_accuracy: 0.7990\n",
            "Epoch 31/100\n",
            "313/313 [==============================] - 25s 79ms/step - loss: 0.4299 - accuracy: 0.8041 - val_loss: 0.4366 - val_accuracy: 0.7954\n",
            "Epoch 32/100\n",
            "313/313 [==============================] - 25s 80ms/step - loss: 0.4277 - accuracy: 0.8034 - val_loss: 0.4400 - val_accuracy: 0.7922\n",
            "Epoch 33/100\n",
            "313/313 [==============================] - 25s 80ms/step - loss: 0.4259 - accuracy: 0.8037 - val_loss: 0.4352 - val_accuracy: 0.7974\n",
            "Epoch 34/100\n",
            "313/313 [==============================] - 24s 78ms/step - loss: 0.4253 - accuracy: 0.8068 - val_loss: 0.4363 - val_accuracy: 0.8002\n",
            "Epoch 35/100\n",
            "313/313 [==============================] - 24s 77ms/step - loss: 0.4253 - accuracy: 0.8066 - val_loss: 0.4349 - val_accuracy: 0.8020\n",
            "Epoch 36/100\n",
            "313/313 [==============================] - 24s 77ms/step - loss: 0.4259 - accuracy: 0.8055 - val_loss: 0.4363 - val_accuracy: 0.7956\n",
            "Epoch 37/100\n",
            "313/313 [==============================] - 24s 77ms/step - loss: 0.4230 - accuracy: 0.8085 - val_loss: 0.4356 - val_accuracy: 0.8018\n",
            "Epoch 38/100\n",
            "313/313 [==============================] - 25s 79ms/step - loss: 0.4218 - accuracy: 0.8076 - val_loss: 0.4361 - val_accuracy: 0.7972\n"
          ]
        },
        {
          "output_type": "execute_result",
          "data": {
            "text/plain": [
              "<keras.callbacks.History at 0x7fdfca37dd90>"
            ]
          },
          "metadata": {},
          "execution_count": 6
        }
      ]
    },
    {
      "cell_type": "code",
      "metadata": {
        "id": "Y2HKn1ck4juS"
      },
      "source": [
        "plt.plot(history.history['loss'])\n",
        "plt.plot(history.history['val_loss'])\n",
        "plt.xlabel('epoch')\n",
        "plt.ylabel('loss')\n",
        "plt.legend(['train', 'val'])\n",
        "plt.show()"
      ],
      "execution_count": null,
      "outputs": []
    },
    {
      "cell_type": "code",
      "metadata": {
        "colab": {
          "base_uri": "https://localhost:8080/"
        },
        "id": "MmZ4MT9P7JIm",
        "outputId": "1f1cf9d8-3d4f-45e7-a6a1-85c59ed1c57f"
      },
      "source": [
        "model2=keras.Sequential()\n",
        "model2.add(keras.layers.Embedding(500, 16, input_length=100))\n",
        "model2.add(keras.layers.GRU(8))\n",
        "model2.add(keras.layers.Dense(1, activation='sigmoid'))\n",
        "model2.summary()"
      ],
      "execution_count": 7,
      "outputs": [
        {
          "output_type": "stream",
          "name": "stdout",
          "text": [
            "Model: \"sequential_1\"\n",
            "_________________________________________________________________\n",
            "Layer (type)                 Output Shape              Param #   \n",
            "=================================================================\n",
            "embedding_1 (Embedding)      (None, 100, 16)           8000      \n",
            "_________________________________________________________________\n",
            "gru (GRU)                    (None, 8)                 624       \n",
            "_________________________________________________________________\n",
            "dense_1 (Dense)              (None, 1)                 9         \n",
            "=================================================================\n",
            "Total params: 8,633\n",
            "Trainable params: 8,633\n",
            "Non-trainable params: 0\n",
            "_________________________________________________________________\n"
          ]
        }
      ]
    },
    {
      "cell_type": "code",
      "metadata": {
        "colab": {
          "base_uri": "https://localhost:8080/"
        },
        "id": "flT1VeUF7mUx",
        "outputId": "93463ca0-6068-4783-d318-907fe12767fa"
      },
      "source": [
        "rmsprop=keras.optimizers.RMSprop(learning_rate=1e-4)\n",
        "model2.compile(optimizer=rmsprop, loss='binary_crossentropy', metrics=['accuracy'])\n",
        "checkpoint=keras.callbacks.ModelCheckpoint('best-gru-model.h5', best_save_only=True)\n",
        "early_stopping=keras.callbacks.EarlyStopping(patience=3, restore_best_weights=True)\n",
        "history=model2.fit(train_seq, train_target, epochs=100, batch_size=64,\n",
        "                   validation_data=(val_seq,val_target), callbacks=[checkpoint, early_stopping])"
      ],
      "execution_count": 10,
      "outputs": [
        {
          "output_type": "stream",
          "name": "stdout",
          "text": [
            "Epoch 1/100\n",
            "313/313 [==============================] - 16s 45ms/step - loss: 0.6926 - accuracy: 0.5150 - val_loss: 0.6919 - val_accuracy: 0.5282\n",
            "Epoch 2/100\n",
            "313/313 [==============================] - 14s 44ms/step - loss: 0.6902 - accuracy: 0.5680 - val_loss: 0.6893 - val_accuracy: 0.5794\n",
            "Epoch 3/100\n",
            "313/313 [==============================] - 14s 44ms/step - loss: 0.6860 - accuracy: 0.6107 - val_loss: 0.6844 - val_accuracy: 0.6034\n",
            "Epoch 4/100\n",
            "313/313 [==============================] - 14s 44ms/step - loss: 0.6784 - accuracy: 0.6309 - val_loss: 0.6750 - val_accuracy: 0.6204\n",
            "Epoch 5/100\n",
            "313/313 [==============================] - 14s 44ms/step - loss: 0.6649 - accuracy: 0.6486 - val_loss: 0.6587 - val_accuracy: 0.6392\n",
            "Epoch 6/100\n",
            "313/313 [==============================] - 14s 44ms/step - loss: 0.6405 - accuracy: 0.6681 - val_loss: 0.6278 - val_accuracy: 0.6746\n",
            "Epoch 7/100\n",
            "313/313 [==============================] - 14s 44ms/step - loss: 0.5925 - accuracy: 0.6991 - val_loss: 0.5662 - val_accuracy: 0.7188\n",
            "Epoch 8/100\n",
            "313/313 [==============================] - 14s 44ms/step - loss: 0.5339 - accuracy: 0.7397 - val_loss: 0.5277 - val_accuracy: 0.7440\n",
            "Epoch 9/100\n",
            "313/313 [==============================] - 14s 44ms/step - loss: 0.5099 - accuracy: 0.7538 - val_loss: 0.5144 - val_accuracy: 0.7534\n",
            "Epoch 10/100\n",
            "313/313 [==============================] - 14s 44ms/step - loss: 0.4955 - accuracy: 0.7657 - val_loss: 0.5007 - val_accuracy: 0.7666\n",
            "Epoch 11/100\n",
            "313/313 [==============================] - 14s 44ms/step - loss: 0.4836 - accuracy: 0.7726 - val_loss: 0.4920 - val_accuracy: 0.7696\n",
            "Epoch 12/100\n",
            "313/313 [==============================] - 14s 44ms/step - loss: 0.4737 - accuracy: 0.7785 - val_loss: 0.4833 - val_accuracy: 0.7734\n",
            "Epoch 13/100\n",
            "313/313 [==============================] - 14s 44ms/step - loss: 0.4659 - accuracy: 0.7831 - val_loss: 0.4764 - val_accuracy: 0.7774\n",
            "Epoch 14/100\n",
            "313/313 [==============================] - 14s 44ms/step - loss: 0.4593 - accuracy: 0.7868 - val_loss: 0.4710 - val_accuracy: 0.7816\n",
            "Epoch 15/100\n",
            "313/313 [==============================] - 14s 44ms/step - loss: 0.4532 - accuracy: 0.7947 - val_loss: 0.4667 - val_accuracy: 0.7842\n",
            "Epoch 16/100\n",
            "313/313 [==============================] - 14s 44ms/step - loss: 0.4484 - accuracy: 0.7939 - val_loss: 0.4622 - val_accuracy: 0.7860\n",
            "Epoch 17/100\n",
            "313/313 [==============================] - 14s 45ms/step - loss: 0.4443 - accuracy: 0.7994 - val_loss: 0.4592 - val_accuracy: 0.7844\n",
            "Epoch 18/100\n",
            "313/313 [==============================] - 14s 45ms/step - loss: 0.4404 - accuracy: 0.8007 - val_loss: 0.4575 - val_accuracy: 0.7848\n",
            "Epoch 19/100\n",
            "313/313 [==============================] - 14s 44ms/step - loss: 0.4374 - accuracy: 0.8023 - val_loss: 0.4561 - val_accuracy: 0.7884\n",
            "Epoch 20/100\n",
            "313/313 [==============================] - 14s 46ms/step - loss: 0.4349 - accuracy: 0.8040 - val_loss: 0.4540 - val_accuracy: 0.7880\n",
            "Epoch 21/100\n",
            "313/313 [==============================] - 14s 45ms/step - loss: 0.4316 - accuracy: 0.8058 - val_loss: 0.4517 - val_accuracy: 0.7878\n",
            "Epoch 22/100\n",
            "313/313 [==============================] - 14s 45ms/step - loss: 0.4300 - accuracy: 0.8070 - val_loss: 0.4509 - val_accuracy: 0.7892\n",
            "Epoch 23/100\n",
            "313/313 [==============================] - 14s 46ms/step - loss: 0.4276 - accuracy: 0.8095 - val_loss: 0.4498 - val_accuracy: 0.7912\n",
            "Epoch 24/100\n",
            "313/313 [==============================] - 15s 46ms/step - loss: 0.4263 - accuracy: 0.8091 - val_loss: 0.4494 - val_accuracy: 0.7898\n",
            "Epoch 25/100\n",
            "313/313 [==============================] - 14s 46ms/step - loss: 0.4250 - accuracy: 0.8091 - val_loss: 0.4479 - val_accuracy: 0.7928\n",
            "Epoch 26/100\n",
            "313/313 [==============================] - 14s 46ms/step - loss: 0.4237 - accuracy: 0.8115 - val_loss: 0.4479 - val_accuracy: 0.7934\n",
            "Epoch 27/100\n",
            "313/313 [==============================] - 15s 47ms/step - loss: 0.4227 - accuracy: 0.8119 - val_loss: 0.4481 - val_accuracy: 0.7898\n",
            "Epoch 28/100\n",
            "313/313 [==============================] - 15s 47ms/step - loss: 0.4218 - accuracy: 0.8131 - val_loss: 0.4462 - val_accuracy: 0.7934\n",
            "Epoch 29/100\n",
            "313/313 [==============================] - 14s 46ms/step - loss: 0.4211 - accuracy: 0.8128 - val_loss: 0.4459 - val_accuracy: 0.7930\n",
            "Epoch 30/100\n",
            "313/313 [==============================] - 14s 46ms/step - loss: 0.4201 - accuracy: 0.8146 - val_loss: 0.4459 - val_accuracy: 0.7952\n",
            "Epoch 31/100\n",
            "313/313 [==============================] - 14s 46ms/step - loss: 0.4192 - accuracy: 0.8144 - val_loss: 0.4492 - val_accuracy: 0.7926\n",
            "Epoch 32/100\n",
            "313/313 [==============================] - 14s 45ms/step - loss: 0.4186 - accuracy: 0.8146 - val_loss: 0.4475 - val_accuracy: 0.7884\n",
            "Epoch 33/100\n",
            "313/313 [==============================] - 14s 45ms/step - loss: 0.4178 - accuracy: 0.8145 - val_loss: 0.4578 - val_accuracy: 0.7838\n"
          ]
        }
      ]
    },
    {
      "cell_type": "code",
      "metadata": {
        "colab": {
          "base_uri": "https://localhost:8080/",
          "height": 278
        },
        "id": "t20WhsWO8ioG",
        "outputId": "5dcd8c67-9038-44d4-a45d-6d27187a666c"
      },
      "source": [
        "import matplotlib.pyplot as plt\n",
        "plt.plot(history.history['loss'])\n",
        "plt.plot(history.history['val_loss'])\n",
        "plt.xlabel('epochs')\n",
        "plt.ylabel('loss')\n",
        "plt.legend(['train','val'])\n",
        "plt.show()"
      ],
      "execution_count": 12,
      "outputs": [
        {
          "output_type": "display_data",
          "data": {
            "image/png": "[encoded data removed]",
            "text/plain": [
              "<Figure size 432x288 with 1 Axes>"
            ]
          },
          "metadata": {
            "needs_background": "light"
          }
        }
      ]
    },
    {
      "cell_type": "code",
      "metadata": {
        "colab": {
          "base_uri": "https://localhost:8080/"
        },
        "id": "FrByE1fd8__w",
        "outputId": "c913b0e9-940c-451d-ea65-1bf62ee619da"
      },
      "source": [
        "\n",
        "test_seq=pad_sequences(test_input, maxlen=100)\n",
        "rnn_model= keras.models.load_model('best-2lstm-model.h5')\n",
        "rnn_model.evaluate(test_seq, test_target)"
      ],
      "execution_count": 17,
      "outputs": [
        {
          "output_type": "stream",
          "name": "stdout",
          "text": [
            "782/782 [==============================] - 11s 13ms/step - loss: 0.4307 - accuracy: 0.7999\n"
          ]
        },
        {
          "output_type": "execute_result",
          "data": {
            "text/plain": [
              "[0.4306689202785492, 0.7998800277709961]"
            ]
          },
          "metadata": {},
          "execution_count": 17
        }
      ]
    },
    {
      "cell_type": "code",
      "metadata": {
        "colab": {
          "base_uri": "https://localhost:8080/"
        },
        "id": "xz8fmiJj9Vq5",
        "outputId": "8c70512c-e7ae-4100-d014-1c751abef896"
      },
      "source": [
        "gru_model= keras.models.load_model('best-gru-model.h5')\n",
        "gru_model.evaluate(test_seq, test_target)"
      ],
      "execution_count": 18,
      "outputs": [
        {
          "output_type": "stream",
          "name": "stdout",
          "text": [
            "782/782 [==============================] - 6s 7ms/step - loss: 0.4518 - accuracy: 0.7924\n"
          ]
        },
        {
          "output_type": "execute_result",
          "data": {
            "text/plain": [
              "[0.4518490135669708, 0.7923600077629089]"
            ]
          },
          "metadata": {},
          "execution_count": 18
        }
      ]
    },
    {
      "cell_type": "code",
      "metadata": {
        "id": "5_egF8rd_4is"
      },
      "source": [
        ""
      ],
      "execution_count": null,
      "outputs": []
    }
  ]
}