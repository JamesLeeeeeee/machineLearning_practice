{
  "nbformat": 4,
  "nbformat_minor": 0,
  "metadata": {
    "colab": {
      "name": "20211103_이재관.ipynb",
      "provenance": [],
      "authorship_tag": "ABX9TyPRoKiyZX0gt3mfO1xVzQoa",
      "include_colab_link": true
    },
    "kernelspec": {
      "name": "python3",
      "display_name": "Python 3"
    },
    "language_info": {
      "name": "python"
    }
  },
  "cells": [
    {
      "cell_type": "markdown",
      "metadata": {
        "id": "view-in-github",
        "colab_type": "text"
      },
      "source": [
        "<a href=\"https://colab.research.google.com/github/JamesLeeeeeee/machineLearning_practice/blob/master/20211103_%EC%9D%B4%EC%9E%AC%EA%B4%80.ipynb\" target=\"_parent\"><img src=\"https://colab.research.google.com/assets/colab-badge.svg\" alt=\"Open In Colab\"/></a>"
      ]
    },
    {
      "cell_type": "markdown",
      "metadata": {
        "id": "xrYqosTI6Scp"
      },
      "source": [
        "#9-2"
      ]
    },
    {
      "cell_type": "code",
      "metadata": {
        "colab": {
          "base_uri": "https://localhost:8080/"
        },
        "id": "bGGU1x8mpCIK",
        "outputId": "db883c5b-aa7f-43b2-d1a1-d7bde0fa8cc1"
      },
      "source": [
        "from tensorflow.keras.datasets import imdb\n",
        "(train_input,train_target), (test_input, test_target)= imdb.load_data(num_words=500)"
      ],
      "execution_count": 1,
      "outputs": [
        {
          "output_type": "stream",
          "name": "stdout",
          "text": [
            "Downloading data from https://storage.googleapis.com/tensorflow/tf-keras-datasets/imdb.npz\n",
            "17465344/17464789 [==============================] - 0s 0us/step\n",
            "17473536/17464789 [==============================] - 0s 0us/step\n"
          ]
        }
      ]
    },
    {
      "cell_type": "code",
      "metadata": {
        "colab": {
          "base_uri": "https://localhost:8080/"
        },
        "id": "1yuKVgPFq1iq",
        "outputId": "db10593a-edb3-47ff-9248-f19879860bb3"
      },
      "source": [
        "print(train_input.shape, test_input.shape)"
      ],
      "execution_count": 2,
      "outputs": [
        {
          "output_type": "stream",
          "name": "stdout",
          "text": [
            "(25000,) (25000,)\n"
          ]
        }
      ]
    },
    {
      "cell_type": "code",
      "metadata": {
        "colab": {
          "base_uri": "https://localhost:8080/"
        },
        "id": "pyP3HR-kq6kb",
        "outputId": "95ac8599-55be-4906-cef1-dbdd78e6cbd6"
      },
      "source": [
        "train_input[0]"
      ],
      "execution_count": 3,
      "outputs": [
        {
          "output_type": "execute_result",
          "data": {
            "text/plain": [
              "[1,\n",
              " 14,\n",
              " 22,\n",
              " 16,\n",
              " 43,\n",
              " 2,\n",
              " 2,\n",
              " 2,\n",
              " 2,\n",
              " 65,\n",
              " 458,\n",
              " 2,\n",
              " 66,\n",
              " 2,\n",
              " 4,\n",
              " 173,\n",
              " 36,\n",
              " 256,\n",
              " 5,\n",
              " 25,\n",
              " 100,\n",
              " 43,\n",
              " 2,\n",
              " 112,\n",
              " 50,\n",
              " 2,\n",
              " 2,\n",
              " 9,\n",
              " 35,\n",
              " 480,\n",
              " 284,\n",
              " 5,\n",
              " 150,\n",
              " 4,\n",
              " 172,\n",
              " 112,\n",
              " 167,\n",
              " 2,\n",
              " 336,\n",
              " 385,\n",
              " 39,\n",
              " 4,\n",
              " 172,\n",
              " 2,\n",
              " 2,\n",
              " 17,\n",
              " 2,\n",
              " 38,\n",
              " 13,\n",
              " 447,\n",
              " 4,\n",
              " 192,\n",
              " 50,\n",
              " 16,\n",
              " 6,\n",
              " 147,\n",
              " 2,\n",
              " 19,\n",
              " 14,\n",
              " 22,\n",
              " 4,\n",
              " 2,\n",
              " 2,\n",
              " 469,\n",
              " 4,\n",
              " 22,\n",
              " 71,\n",
              " 87,\n",
              " 12,\n",
              " 16,\n",
              " 43,\n",
              " 2,\n",
              " 38,\n",
              " 76,\n",
              " 15,\n",
              " 13,\n",
              " 2,\n",
              " 4,\n",
              " 22,\n",
              " 17,\n",
              " 2,\n",
              " 17,\n",
              " 12,\n",
              " 16,\n",
              " 2,\n",
              " 18,\n",
              " 2,\n",
              " 5,\n",
              " 62,\n",
              " 386,\n",
              " 12,\n",
              " 8,\n",
              " 316,\n",
              " 8,\n",
              " 106,\n",
              " 5,\n",
              " 4,\n",
              " 2,\n",
              " 2,\n",
              " 16,\n",
              " 480,\n",
              " 66,\n",
              " 2,\n",
              " 33,\n",
              " 4,\n",
              " 130,\n",
              " 12,\n",
              " 16,\n",
              " 38,\n",
              " 2,\n",
              " 5,\n",
              " 25,\n",
              " 124,\n",
              " 51,\n",
              " 36,\n",
              " 135,\n",
              " 48,\n",
              " 25,\n",
              " 2,\n",
              " 33,\n",
              " 6,\n",
              " 22,\n",
              " 12,\n",
              " 215,\n",
              " 28,\n",
              " 77,\n",
              " 52,\n",
              " 5,\n",
              " 14,\n",
              " 407,\n",
              " 16,\n",
              " 82,\n",
              " 2,\n",
              " 8,\n",
              " 4,\n",
              " 107,\n",
              " 117,\n",
              " 2,\n",
              " 15,\n",
              " 256,\n",
              " 4,\n",
              " 2,\n",
              " 7,\n",
              " 2,\n",
              " 5,\n",
              " 2,\n",
              " 36,\n",
              " 71,\n",
              " 43,\n",
              " 2,\n",
              " 476,\n",
              " 26,\n",
              " 400,\n",
              " 317,\n",
              " 46,\n",
              " 7,\n",
              " 4,\n",
              " 2,\n",
              " 2,\n",
              " 13,\n",
              " 104,\n",
              " 88,\n",
              " 4,\n",
              " 381,\n",
              " 15,\n",
              " 297,\n",
              " 98,\n",
              " 32,\n",
              " 2,\n",
              " 56,\n",
              " 26,\n",
              " 141,\n",
              " 6,\n",
              " 194,\n",
              " 2,\n",
              " 18,\n",
              " 4,\n",
              " 226,\n",
              " 22,\n",
              " 21,\n",
              " 134,\n",
              " 476,\n",
              " 26,\n",
              " 480,\n",
              " 5,\n",
              " 144,\n",
              " 30,\n",
              " 2,\n",
              " 18,\n",
              " 51,\n",
              " 36,\n",
              " 28,\n",
              " 224,\n",
              " 92,\n",
              " 25,\n",
              " 104,\n",
              " 4,\n",
              " 226,\n",
              " 65,\n",
              " 16,\n",
              " 38,\n",
              " 2,\n",
              " 88,\n",
              " 12,\n",
              " 16,\n",
              " 283,\n",
              " 5,\n",
              " 16,\n",
              " 2,\n",
              " 113,\n",
              " 103,\n",
              " 32,\n",
              " 15,\n",
              " 16,\n",
              " 2,\n",
              " 19,\n",
              " 178,\n",
              " 32]"
            ]
          },
          "metadata": {},
          "execution_count": 3
        }
      ]
    },
    {
      "cell_type": "code",
      "metadata": {
        "colab": {
          "base_uri": "https://localhost:8080/"
        },
        "id": "26pYaacWrFJR",
        "outputId": "8dce78a2-5535-42ad-95a5-a2d13935c4d3"
      },
      "source": [
        "print(len(train_input[0]))"
      ],
      "execution_count": 5,
      "outputs": [
        {
          "output_type": "stream",
          "name": "stdout",
          "text": [
            "218\n"
          ]
        }
      ]
    },
    {
      "cell_type": "code",
      "metadata": {
        "colab": {
          "base_uri": "https://localhost:8080/"
        },
        "id": "YdtGWalWrIzY",
        "outputId": "2609dc3e-35e0-4c2c-bef1-4501922cef96"
      },
      "source": [
        "print(train_target[:20])"
      ],
      "execution_count": 6,
      "outputs": [
        {
          "output_type": "stream",
          "name": "stdout",
          "text": [
            "[1 0 0 1 0 0 1 0 1 0 1 0 0 0 0 0 1 1 0 1]\n"
          ]
        }
      ]
    },
    {
      "cell_type": "code",
      "metadata": {
        "id": "e1IzFfJFrUSM"
      },
      "source": [
        "from sklearn.model_selection import train_test_split\n",
        "train_input, val_input, train_target, val_target= train_test_split(train_input, train_target, test_size=0.2, random_state=42)"
      ],
      "execution_count": 7,
      "outputs": []
    },
    {
      "cell_type": "code",
      "metadata": {
        "id": "TWiKGZk9rqDt"
      },
      "source": [
        "import numpy as np\n",
        "lengths= np.array([len(x) for x in train_input])"
      ],
      "execution_count": 9,
      "outputs": []
    },
    {
      "cell_type": "code",
      "metadata": {
        "colab": {
          "base_uri": "https://localhost:8080/"
        },
        "id": "hwmO480zrw2d",
        "outputId": "bc0a8dd1-59a2-4b60-f745-1ff138fc7b3c"
      },
      "source": [
        "print(np.mean(lengths), np.median(lengths))"
      ],
      "execution_count": 10,
      "outputs": [
        {
          "output_type": "stream",
          "name": "stdout",
          "text": [
            "239.00925 178.0\n"
          ]
        }
      ]
    },
    {
      "cell_type": "code",
      "metadata": {
        "colab": {
          "base_uri": "https://localhost:8080/",
          "height": 278
        },
        "id": "xEgATerPsGdm",
        "outputId": "000cc217-99b2-4213-ae34-4703eec21137"
      },
      "source": [
        "import matplotlib.pyplot as plt\n",
        "plt.hist(lengths)\n",
        "plt.xlabel('length')\n",
        "plt.ylabel('frequency')\n",
        "plt.show()"
      ],
      "execution_count": 11,
      "outputs": [
        {
          "output_type": "display_data",
          "data": {
            "image/png": "[encoded data removed]",
            "text/plain": [
              "<Figure size 432x288 with 1 Axes>"
            ]
          },
          "metadata": {
            "needs_background": "light"
          }
        }
      ]
    },
    {
      "cell_type": "code",
      "metadata": {
        "id": "4QbhUQbusbsg"
      },
      "source": [
        "from tensorflow.keras.preprocessing.sequence import pad_sequences\n",
        "train_seq= pad_sequences(train_input, maxlen=100)"
      ],
      "execution_count": 12,
      "outputs": []
    },
    {
      "cell_type": "code",
      "metadata": {
        "colab": {
          "base_uri": "https://localhost:8080/"
        },
        "id": "-X9agjoctinf",
        "outputId": "1c861158-5cf4-4876-9476-58fdfe4db620"
      },
      "source": [
        "print(train_seq.shape)"
      ],
      "execution_count": 13,
      "outputs": [
        {
          "output_type": "stream",
          "name": "stdout",
          "text": [
            "(20000, 100)\n"
          ]
        }
      ]
    },
    {
      "cell_type": "code",
      "metadata": {
        "colab": {
          "base_uri": "https://localhost:8080/"
        },
        "id": "OJqorAyJtnRs",
        "outputId": "ec6cef17-8ded-4a12-aacd-fa7c7c98bd9a"
      },
      "source": [
        "print(len(train_seq[0]))"
      ],
      "execution_count": 14,
      "outputs": [
        {
          "output_type": "stream",
          "name": "stdout",
          "text": [
            "100\n"
          ]
        }
      ]
    },
    {
      "cell_type": "code",
      "metadata": {
        "colab": {
          "base_uri": "https://localhost:8080/"
        },
        "id": "rRuusy-etqNe",
        "outputId": "fcf787d4-b34d-4eec-dbb4-f54d67214060"
      },
      "source": [
        "print(train_seq[5])"
      ],
      "execution_count": 15,
      "outputs": [
        {
          "output_type": "stream",
          "name": "stdout",
          "text": [
            "[  0   0   0   0   1   2 195  19  49   2   2 190   4   2 352   2 183  10\n",
            "  10  13  82  79   4   2  36  71 269   8   2  25  19  49   7   4   2   2\n",
            "   2   2   2  10  10  48  25  40   2  11   2   2  40   2   2   5   4   2\n",
            "   2  95  14 238  56 129   2  10  10  21   2  94 364 352   2   2  11 190\n",
            "  24 484   2   7  94 205 405  10  10  87   2  34  49   2   7   2   2   2\n",
            "   2   2 290   2  46  48  64  18   4   2]\n"
          ]
        }
      ]
    },
    {
      "cell_type": "code",
      "metadata": {
        "id": "oRuAtaDWt_pF"
      },
      "source": [
        "val_seq= pad_sequences(val_input, maxlen=100)"
      ],
      "execution_count": 16,
      "outputs": []
    },
    {
      "cell_type": "code",
      "metadata": {
        "id": "U06lXvlWuLCL"
      },
      "source": [
        "from tensorflow import keras\n",
        "model= keras.Sequential()\n",
        "model.add(keras.layers.SimpleRNN(8, input_shape=(100,500)))\n",
        "model.add(keras.layers.Dense(1, activation='sigmoid'))"
      ],
      "execution_count": 17,
      "outputs": []
    },
    {
      "cell_type": "code",
      "metadata": {
        "id": "-D-evav3unhN"
      },
      "source": [
        "train_oh= keras.utils.to_categorical(train_seq)"
      ],
      "execution_count": 18,
      "outputs": []
    },
    {
      "cell_type": "code",
      "metadata": {
        "colab": {
          "base_uri": "https://localhost:8080/"
        },
        "id": "TS5UYe0evZmo",
        "outputId": "40872129-21ee-49a4-f2e4-148fa642146f"
      },
      "source": [
        "print(train_oh.shape)"
      ],
      "execution_count": 19,
      "outputs": [
        {
          "output_type": "stream",
          "name": "stdout",
          "text": [
            "(20000, 100, 500)\n"
          ]
        }
      ]
    },
    {
      "cell_type": "code",
      "metadata": {
        "colab": {
          "base_uri": "https://localhost:8080/"
        },
        "id": "cSvyGixivcZ2",
        "outputId": "8e38a89c-9a2b-49e0-8cf9-270401cd74fa"
      },
      "source": [
        "print(train_oh[0][0][:12])"
      ],
      "execution_count": 20,
      "outputs": [
        {
          "output_type": "stream",
          "name": "stdout",
          "text": [
            "[0. 0. 0. 0. 0. 0. 0. 0. 0. 0. 1. 0.]\n"
          ]
        }
      ]
    },
    {
      "cell_type": "code",
      "metadata": {
        "colab": {
          "base_uri": "https://localhost:8080/"
        },
        "id": "XGeojBnpv1hH",
        "outputId": "dd13519f-7a8b-4b49-ac25-665a90395dd5"
      },
      "source": [
        "print(np.sum(train_oh[0][0]))"
      ],
      "execution_count": 24,
      "outputs": [
        {
          "output_type": "stream",
          "name": "stdout",
          "text": [
            "1.0\n"
          ]
        }
      ]
    },
    {
      "cell_type": "code",
      "metadata": {
        "id": "-4YcqTE2v5Pe"
      },
      "source": [
        "val_oh= keras.utils.to_categorical(val_seq)"
      ],
      "execution_count": 25,
      "outputs": []
    },
    {
      "cell_type": "code",
      "metadata": {
        "colab": {
          "base_uri": "https://localhost:8080/"
        },
        "id": "AquPyVVPwH3i",
        "outputId": "4f45ddcb-d8ab-4461-8c6e-1c24ade3e415"
      },
      "source": [
        "model.summary()"
      ],
      "execution_count": 26,
      "outputs": [
        {
          "output_type": "stream",
          "name": "stdout",
          "text": [
            "Model: \"sequential\"\n",
            "_________________________________________________________________\n",
            "Layer (type)                 Output Shape              Param #   \n",
            "=================================================================\n",
            "simple_rnn (SimpleRNN)       (None, 8)                 4072      \n",
            "_________________________________________________________________\n",
            "dense (Dense)                (None, 1)                 9         \n",
            "=================================================================\n",
            "Total params: 4,081\n",
            "Trainable params: 4,081\n",
            "Non-trainable params: 0\n",
            "_________________________________________________________________\n"
          ]
        }
      ]
    },
    {
      "cell_type": "code",
      "metadata": {
        "colab": {
          "base_uri": "https://localhost:8080/"
        },
        "id": "TLmmPvFMwJtG",
        "outputId": "4cee3344-4138-4b8f-c545-f084c8d7389c"
      },
      "source": [
        "rmsprop= keras.optimizers.RMSprop(learning_rate=1e-4)\n",
        "model.compile(optimizer=rmsprop, loss ='binary_crossentropy', metrics=['accuracy'])\n",
        "checkpoint_cb=keras.callbacks.ModelCheckpoint('best-simplernn-model.h5', save_best_only=True)\n",
        "early_stopping_cb= keras.callbacks.EarlyStopping(patience=3, restore_best_weights= True)\n",
        "history=model.fit(train_oh, train_target, epochs=100, batch_size=64, validation_data=(val_oh, val_target), \n",
        "                  callbacks=[checkpoint_cb, early_stopping_cb])"
      ],
      "execution_count": 28,
      "outputs": [
        {
          "output_type": "stream",
          "name": "stdout",
          "text": [
            "Epoch 1/100\n",
            "313/313 [==============================] - 14s 41ms/step - loss: 0.6996 - accuracy: 0.4996 - val_loss: 0.6961 - val_accuracy: 0.5224\n",
            "Epoch 2/100\n",
            "313/313 [==============================] - 13s 40ms/step - loss: 0.6960 - accuracy: 0.5085 - val_loss: 0.6947 - val_accuracy: 0.5148\n",
            "Epoch 3/100\n",
            "313/313 [==============================] - 13s 40ms/step - loss: 0.6935 - accuracy: 0.5151 - val_loss: 0.6935 - val_accuracy: 0.5168\n",
            "Epoch 4/100\n",
            "313/313 [==============================] - 13s 40ms/step - loss: 0.6915 - accuracy: 0.5215 - val_loss: 0.6924 - val_accuracy: 0.5168\n",
            "Epoch 5/100\n",
            "313/313 [==============================] - 13s 40ms/step - loss: 0.6898 - accuracy: 0.5293 - val_loss: 0.6915 - val_accuracy: 0.5220\n",
            "Epoch 6/100\n",
            "313/313 [==============================] - 13s 41ms/step - loss: 0.6882 - accuracy: 0.5386 - val_loss: 0.6906 - val_accuracy: 0.5242\n",
            "Epoch 7/100\n",
            "313/313 [==============================] - 13s 40ms/step - loss: 0.6866 - accuracy: 0.5461 - val_loss: 0.6897 - val_accuracy: 0.5292\n",
            "Epoch 8/100\n",
            "313/313 [==============================] - 13s 40ms/step - loss: 0.6851 - accuracy: 0.5523 - val_loss: 0.6888 - val_accuracy: 0.5352\n",
            "Epoch 9/100\n",
            "313/313 [==============================] - 13s 40ms/step - loss: 0.6835 - accuracy: 0.5572 - val_loss: 0.6880 - val_accuracy: 0.5352\n",
            "Epoch 10/100\n",
            "313/313 [==============================] - 13s 40ms/step - loss: 0.6819 - accuracy: 0.5619 - val_loss: 0.6872 - val_accuracy: 0.5390\n",
            "Epoch 11/100\n",
            "313/313 [==============================] - 12s 40ms/step - loss: 0.6803 - accuracy: 0.5683 - val_loss: 0.6864 - val_accuracy: 0.5436\n",
            "Epoch 12/100\n",
            "313/313 [==============================] - 13s 40ms/step - loss: 0.6786 - accuracy: 0.5725 - val_loss: 0.6856 - val_accuracy: 0.5454\n",
            "Epoch 13/100\n",
            "313/313 [==============================] - 12s 40ms/step - loss: 0.6768 - accuracy: 0.5777 - val_loss: 0.6848 - val_accuracy: 0.5470\n",
            "Epoch 14/100\n",
            "313/313 [==============================] - 13s 41ms/step - loss: 0.6749 - accuracy: 0.5820 - val_loss: 0.6840 - val_accuracy: 0.5476\n",
            "Epoch 15/100\n",
            "313/313 [==============================] - 13s 40ms/step - loss: 0.6729 - accuracy: 0.5868 - val_loss: 0.6832 - val_accuracy: 0.5500\n",
            "Epoch 16/100\n",
            "313/313 [==============================] - 13s 41ms/step - loss: 0.6708 - accuracy: 0.5917 - val_loss: 0.6824 - val_accuracy: 0.5540\n",
            "Epoch 17/100\n",
            "313/313 [==============================] - 13s 41ms/step - loss: 0.6686 - accuracy: 0.5954 - val_loss: 0.6817 - val_accuracy: 0.5546\n",
            "Epoch 18/100\n",
            "313/313 [==============================] - 13s 41ms/step - loss: 0.6663 - accuracy: 0.5992 - val_loss: 0.6808 - val_accuracy: 0.5592\n",
            "Epoch 19/100\n",
            "313/313 [==============================] - 13s 41ms/step - loss: 0.6639 - accuracy: 0.6033 - val_loss: 0.6800 - val_accuracy: 0.5620\n",
            "Epoch 20/100\n",
            "313/313 [==============================] - 13s 40ms/step - loss: 0.6614 - accuracy: 0.6059 - val_loss: 0.6791 - val_accuracy: 0.5648\n",
            "Epoch 21/100\n",
            "313/313 [==============================] - 13s 41ms/step - loss: 0.6589 - accuracy: 0.6108 - val_loss: 0.6783 - val_accuracy: 0.5660\n",
            "Epoch 22/100\n",
            "313/313 [==============================] - 13s 40ms/step - loss: 0.6563 - accuracy: 0.6151 - val_loss: 0.6776 - val_accuracy: 0.5656\n",
            "Epoch 23/100\n",
            "313/313 [==============================] - 13s 41ms/step - loss: 0.6536 - accuracy: 0.6181 - val_loss: 0.6767 - val_accuracy: 0.5694\n",
            "Epoch 24/100\n",
            "313/313 [==============================] - 13s 40ms/step - loss: 0.6509 - accuracy: 0.6237 - val_loss: 0.6759 - val_accuracy: 0.5708\n",
            "Epoch 25/100\n",
            "313/313 [==============================] - 13s 41ms/step - loss: 0.6480 - accuracy: 0.6277 - val_loss: 0.6752 - val_accuracy: 0.5720\n",
            "Epoch 26/100\n",
            "313/313 [==============================] - 13s 41ms/step - loss: 0.6451 - accuracy: 0.6303 - val_loss: 0.6749 - val_accuracy: 0.5716\n",
            "Epoch 27/100\n",
            "313/313 [==============================] - 13s 40ms/step - loss: 0.6423 - accuracy: 0.6363 - val_loss: 0.6739 - val_accuracy: 0.5720\n",
            "Epoch 28/100\n",
            "313/313 [==============================] - 13s 40ms/step - loss: 0.6392 - accuracy: 0.6375 - val_loss: 0.6736 - val_accuracy: 0.5772\n",
            "Epoch 29/100\n",
            "313/313 [==============================] - 13s 41ms/step - loss: 0.6363 - accuracy: 0.6425 - val_loss: 0.6727 - val_accuracy: 0.5734\n",
            "Epoch 30/100\n",
            "313/313 [==============================] - 13s 41ms/step - loss: 0.6332 - accuracy: 0.6471 - val_loss: 0.6717 - val_accuracy: 0.5780\n",
            "Epoch 31/100\n",
            "313/313 [==============================] - 13s 41ms/step - loss: 0.6300 - accuracy: 0.6502 - val_loss: 0.6713 - val_accuracy: 0.5762\n",
            "Epoch 32/100\n",
            "313/313 [==============================] - 13s 41ms/step - loss: 0.6269 - accuracy: 0.6539 - val_loss: 0.6704 - val_accuracy: 0.5784\n",
            "Epoch 33/100\n",
            "313/313 [==============================] - 13s 40ms/step - loss: 0.6236 - accuracy: 0.6585 - val_loss: 0.6689 - val_accuracy: 0.5866\n",
            "Epoch 34/100\n",
            "313/313 [==============================] - 13s 40ms/step - loss: 0.6201 - accuracy: 0.6624 - val_loss: 0.6674 - val_accuracy: 0.5880\n",
            "Epoch 35/100\n",
            "313/313 [==============================] - 13s 40ms/step - loss: 0.6166 - accuracy: 0.6685 - val_loss: 0.6651 - val_accuracy: 0.5936\n",
            "Epoch 36/100\n",
            "313/313 [==============================] - 13s 41ms/step - loss: 0.6127 - accuracy: 0.6693 - val_loss: 0.6638 - val_accuracy: 0.5984\n",
            "Epoch 37/100\n",
            "313/313 [==============================] - 13s 40ms/step - loss: 0.6089 - accuracy: 0.6766 - val_loss: 0.6618 - val_accuracy: 0.6010\n",
            "Epoch 38/100\n",
            "313/313 [==============================] - 13s 41ms/step - loss: 0.6048 - accuracy: 0.6809 - val_loss: 0.6599 - val_accuracy: 0.6042\n",
            "Epoch 39/100\n",
            "313/313 [==============================] - 13s 41ms/step - loss: 0.6007 - accuracy: 0.6843 - val_loss: 0.6558 - val_accuracy: 0.6120\n",
            "Epoch 40/100\n",
            "313/313 [==============================] - 13s 41ms/step - loss: 0.5962 - accuracy: 0.6895 - val_loss: 0.6530 - val_accuracy: 0.6132\n",
            "Epoch 41/100\n",
            "313/313 [==============================] - 13s 41ms/step - loss: 0.5921 - accuracy: 0.6898 - val_loss: 0.6537 - val_accuracy: 0.6190\n",
            "Epoch 42/100\n",
            "313/313 [==============================] - 13s 41ms/step - loss: 0.5878 - accuracy: 0.6934 - val_loss: 0.6491 - val_accuracy: 0.6234\n",
            "Epoch 43/100\n",
            "313/313 [==============================] - 13s 40ms/step - loss: 0.5834 - accuracy: 0.6967 - val_loss: 0.6494 - val_accuracy: 0.6268\n",
            "Epoch 44/100\n",
            "313/313 [==============================] - 13s 41ms/step - loss: 0.5792 - accuracy: 0.6992 - val_loss: 0.6465 - val_accuracy: 0.6278\n",
            "Epoch 45/100\n",
            "313/313 [==============================] - 13s 41ms/step - loss: 0.5752 - accuracy: 0.7024 - val_loss: 0.6452 - val_accuracy: 0.6276\n",
            "Epoch 46/100\n",
            "313/313 [==============================] - 13s 41ms/step - loss: 0.5710 - accuracy: 0.7071 - val_loss: 0.6443 - val_accuracy: 0.6290\n",
            "Epoch 47/100\n",
            "313/313 [==============================] - 13s 40ms/step - loss: 0.5674 - accuracy: 0.7088 - val_loss: 0.6419 - val_accuracy: 0.6320\n",
            "Epoch 48/100\n",
            "313/313 [==============================] - 13s 41ms/step - loss: 0.5640 - accuracy: 0.7119 - val_loss: 0.6428 - val_accuracy: 0.6294\n",
            "Epoch 49/100\n",
            "313/313 [==============================] - 13s 40ms/step - loss: 0.5608 - accuracy: 0.7132 - val_loss: 0.6413 - val_accuracy: 0.6354\n",
            "Epoch 50/100\n",
            "313/313 [==============================] - 13s 41ms/step - loss: 0.5577 - accuracy: 0.7171 - val_loss: 0.6392 - val_accuracy: 0.6400\n",
            "Epoch 51/100\n",
            "313/313 [==============================] - 13s 40ms/step - loss: 0.5547 - accuracy: 0.7189 - val_loss: 0.6463 - val_accuracy: 0.6368\n",
            "Epoch 52/100\n",
            "313/313 [==============================] - 13s 40ms/step - loss: 0.5518 - accuracy: 0.7211 - val_loss: 0.6424 - val_accuracy: 0.6378\n",
            "Epoch 53/100\n",
            "313/313 [==============================] - 13s 41ms/step - loss: 0.5493 - accuracy: 0.7214 - val_loss: 0.6401 - val_accuracy: 0.6396\n"
          ]
        }
      ]
    },
    {
      "cell_type": "code",
      "metadata": {
        "colab": {
          "base_uri": "https://localhost:8080/",
          "height": 278
        },
        "id": "8jukOuCtx4H_",
        "outputId": "07f34300-506f-44c8-e5ed-f705e69527fc"
      },
      "source": [
        "plt.plot(history.history['loss'])\n",
        "plt.plot(history.history['val_loss'])\n",
        "plt.xlabel('epoch')\n",
        "plt.ylabel('loss')\n",
        "plt.legend(['loss', 'val_loss'])\n",
        "plt.show()"
      ],
      "execution_count": 29,
      "outputs": [
        {
          "output_type": "display_data",
          "data": {
            "image/png": "[encoded data removed]",
            "text/plain": [
              "<Figure size 432x288 with 1 Axes>"
            ]
          },
          "metadata": {
            "needs_background": "light"
          }
        }
      ]
    },
    {
      "cell_type": "code",
      "metadata": {
        "colab": {
          "base_uri": "https://localhost:8080/"
        },
        "id": "kzXD0KOy1MDi",
        "outputId": "46d11aeb-30f1-42fc-83b9-3064d8aa6246"
      },
      "source": [
        "print(train_seq.nbytes, train_oh.nbytes)"
      ],
      "execution_count": 30,
      "outputs": [
        {
          "output_type": "stream",
          "name": "stdout",
          "text": [
            "8000000 4000000000\n"
          ]
        }
      ]
    },
    {
      "cell_type": "code",
      "metadata": {
        "id": "I5BU1To91Zo_"
      },
      "source": [
        "model2= keras.Sequential()\n",
        "model2.add(keras.layers.Embedding(500, 16, input_length=100))\n",
        "model2.add(keras.layers.SimpleRNN(8))\n",
        "model2.add(keras.layers.Dense(1, activation='sigmoid'))"
      ],
      "execution_count": 31,
      "outputs": []
    },
    {
      "cell_type": "code",
      "metadata": {
        "colab": {
          "base_uri": "https://localhost:8080/"
        },
        "id": "cwEAbymx1uRO",
        "outputId": "4043ef65-3c4b-4fc3-cd93-ae5ea879bf57"
      },
      "source": [
        "model2.summary()"
      ],
      "execution_count": 32,
      "outputs": [
        {
          "output_type": "stream",
          "name": "stdout",
          "text": [
            "Model: \"sequential_1\"\n",
            "_________________________________________________________________\n",
            "Layer (type)                 Output Shape              Param #   \n",
            "=================================================================\n",
            "embedding (Embedding)        (None, 100, 16)           8000      \n",
            "_________________________________________________________________\n",
            "simple_rnn_1 (SimpleRNN)     (None, 8)                 200       \n",
            "_________________________________________________________________\n",
            "dense_1 (Dense)              (None, 1)                 9         \n",
            "=================================================================\n",
            "Total params: 8,209\n",
            "Trainable params: 8,209\n",
            "Non-trainable params: 0\n",
            "_________________________________________________________________\n"
          ]
        }
      ]
    },
    {
      "cell_type": "code",
      "metadata": {
        "colab": {
          "base_uri": "https://localhost:8080/"
        },
        "id": "ya4Gh_y212Dz",
        "outputId": "883c5a63-1e04-4070-c296-a652e7ffedc9"
      },
      "source": [
        "rmsprop=keras.optimizers.RMSprop(learning_rate=1e-4)\n",
        "model2.compile(optimizer=rmsprop, loss='binary_crossentropy', metrics=['accuracy'])\n",
        "checkpoint=keras.callbacks.ModelCheckpoint('best-embedding-model.h5',save_best_only=True)\n",
        "early_stopping=keras.callbacks.EarlyStopping(patience=3, restore_best_weights=True)\n",
        "history=model2.fit(train_seq, train_target, epochs=100, batch_size=64, validation_data=(val_seq, val_target), callbacks=[checkpoint, early_stopping])"
      ],
      "execution_count": 34,
      "outputs": [
        {
          "output_type": "stream",
          "name": "stdout",
          "text": [
            "Epoch 1/100\n",
            "313/313 [==============================] - 8s 23ms/step - loss: 0.6927 - accuracy: 0.5184 - val_loss: 0.6847 - val_accuracy: 0.5500\n",
            "Epoch 2/100\n",
            "313/313 [==============================] - 7s 23ms/step - loss: 0.6763 - accuracy: 0.5894 - val_loss: 0.6571 - val_accuracy: 0.6486\n",
            "Epoch 3/100\n",
            "313/313 [==============================] - 7s 23ms/step - loss: 0.6172 - accuracy: 0.6975 - val_loss: 0.5968 - val_accuracy: 0.7158\n",
            "Epoch 4/100\n",
            "313/313 [==============================] - 7s 24ms/step - loss: 0.5784 - accuracy: 0.7386 - val_loss: 0.5701 - val_accuracy: 0.7384\n",
            "Epoch 5/100\n",
            "313/313 [==============================] - 7s 23ms/step - loss: 0.5530 - accuracy: 0.7564 - val_loss: 0.5574 - val_accuracy: 0.7432\n",
            "Epoch 6/100\n",
            "313/313 [==============================] - 7s 23ms/step - loss: 0.5332 - accuracy: 0.7674 - val_loss: 0.5339 - val_accuracy: 0.7660\n",
            "Epoch 7/100\n",
            "313/313 [==============================] - 7s 23ms/step - loss: 0.5194 - accuracy: 0.7725 - val_loss: 0.5238 - val_accuracy: 0.7636\n",
            "Epoch 8/100\n",
            "313/313 [==============================] - 7s 23ms/step - loss: 0.5064 - accuracy: 0.7805 - val_loss: 0.5101 - val_accuracy: 0.7724\n",
            "Epoch 9/100\n",
            "313/313 [==============================] - 7s 23ms/step - loss: 0.4945 - accuracy: 0.7864 - val_loss: 0.5070 - val_accuracy: 0.7692\n",
            "Epoch 10/100\n",
            "313/313 [==============================] - 7s 23ms/step - loss: 0.4852 - accuracy: 0.7911 - val_loss: 0.4940 - val_accuracy: 0.7852\n",
            "Epoch 11/100\n",
            "313/313 [==============================] - 7s 23ms/step - loss: 0.4773 - accuracy: 0.7933 - val_loss: 0.4873 - val_accuracy: 0.7814\n",
            "Epoch 12/100\n",
            "313/313 [==============================] - 7s 23ms/step - loss: 0.4712 - accuracy: 0.7966 - val_loss: 0.4906 - val_accuracy: 0.7730\n",
            "Epoch 13/100\n",
            "313/313 [==============================] - 7s 23ms/step - loss: 0.4651 - accuracy: 0.8002 - val_loss: 0.4786 - val_accuracy: 0.7882\n",
            "Epoch 14/100\n",
            "313/313 [==============================] - 7s 23ms/step - loss: 0.4574 - accuracy: 0.8027 - val_loss: 0.4763 - val_accuracy: 0.7856\n",
            "Epoch 15/100\n",
            "313/313 [==============================] - 7s 23ms/step - loss: 0.4512 - accuracy: 0.8062 - val_loss: 0.4732 - val_accuracy: 0.7840\n",
            "Epoch 16/100\n",
            "313/313 [==============================] - 7s 23ms/step - loss: 0.4459 - accuracy: 0.8080 - val_loss: 0.4724 - val_accuracy: 0.7848\n",
            "Epoch 17/100\n",
            "313/313 [==============================] - 7s 23ms/step - loss: 0.4399 - accuracy: 0.8123 - val_loss: 0.4683 - val_accuracy: 0.7880\n",
            "Epoch 18/100\n",
            "313/313 [==============================] - 7s 23ms/step - loss: 0.4371 - accuracy: 0.8124 - val_loss: 0.4669 - val_accuracy: 0.7844\n",
            "Epoch 19/100\n",
            "313/313 [==============================] - 7s 23ms/step - loss: 0.4318 - accuracy: 0.8155 - val_loss: 0.4709 - val_accuracy: 0.7812\n",
            "Epoch 20/100\n",
            "313/313 [==============================] - 7s 23ms/step - loss: 0.4287 - accuracy: 0.8163 - val_loss: 0.4631 - val_accuracy: 0.7882\n",
            "Epoch 21/100\n",
            "313/313 [==============================] - 7s 23ms/step - loss: 0.4240 - accuracy: 0.8205 - val_loss: 0.4603 - val_accuracy: 0.7916\n",
            "Epoch 22/100\n",
            "313/313 [==============================] - 7s 23ms/step - loss: 0.4209 - accuracy: 0.8209 - val_loss: 0.4634 - val_accuracy: 0.7896\n",
            "Epoch 23/100\n",
            "313/313 [==============================] - 7s 23ms/step - loss: 0.4176 - accuracy: 0.8239 - val_loss: 0.4596 - val_accuracy: 0.7936\n",
            "Epoch 24/100\n",
            "313/313 [==============================] - 7s 23ms/step - loss: 0.4137 - accuracy: 0.8253 - val_loss: 0.4659 - val_accuracy: 0.7878\n",
            "Epoch 25/100\n",
            "313/313 [==============================] - 7s 23ms/step - loss: 0.4121 - accuracy: 0.8266 - val_loss: 0.4618 - val_accuracy: 0.7892\n",
            "Epoch 26/100\n",
            "313/313 [==============================] - 7s 23ms/step - loss: 0.4093 - accuracy: 0.8263 - val_loss: 0.4597 - val_accuracy: 0.7914\n"
          ]
        }
      ]
    },
    {
      "cell_type": "code",
      "metadata": {
        "colab": {
          "base_uri": "https://localhost:8080/",
          "height": 278
        },
        "id": "Cd9_lovO2vy8",
        "outputId": "ed7f501e-4ac9-4c02-d1e5-8bb6156dd26d"
      },
      "source": [
        "plt.plot(history.history['loss'])\n",
        "plt.plot(history.history['val_loss'])\n",
        "plt.xlabel('epoch')\n",
        "plt.ylabel('loss')\n",
        "plt.legend(['loss','val'])\n",
        "plt.show()"
      ],
      "execution_count": 35,
      "outputs": [
        {
          "output_type": "display_data",
          "data": {
            "image/png": "[encoded data removed]",
            "text/plain": [
              "<Figure size 432x288 with 1 Axes>"
            ]
          },
          "metadata": {
            "needs_background": "light"
          }
        }
      ]
    },
    {
      "cell_type": "code",
      "metadata": {
        "colab": {
          "base_uri": "https://localhost:8080/"
        },
        "id": "VjwmdjzL3kVm",
        "outputId": "0f702214-9416-4b27-8637-0f4aa3c54eb4"
      },
      "source": [
        "160+(16*16)+16"
      ],
      "execution_count": 38,
      "outputs": [
        {
          "output_type": "execute_result",
          "data": {
            "text/plain": [
              "432"
            ]
          },
          "metadata": {},
          "execution_count": 38
        }
      ]
    },
    {
      "cell_type": "markdown",
      "metadata": {
        "id": "6pgFWZf65uTi"
      },
      "source": [
        "# 9-3"
      ]
    },
    {
      "cell_type": "code",
      "metadata": {
        "id": "w1ip_tpL6V8A"
      },
      "source": [
        "from tensorflow.keras.datasets import imdb\n",
        "from sklearn.model_selection import train_test_split\n",
        "(train_input, train_target), (test_input, test_target)= imdb.load_data(num_words=500)\n",
        "train_input, val_input, train_target, val_target= train_test_split(train_input, train_target, test_size=0.2, random_state=42)"
      ],
      "execution_count": 39,
      "outputs": []
    },
    {
      "cell_type": "code",
      "metadata": {
        "id": "0jHj0DJH-K2l"
      },
      "source": [
        "from tensorflow.keras.preprocessing.sequence import pad_sequences\n",
        "train_seq= pad_sequences(train_input, maxlen=100)\n",
        "val_seq=pad_sequences(val_input, maxlen=100)"
      ],
      "execution_count": 40,
      "outputs": []
    },
    {
      "cell_type": "code",
      "metadata": {
        "id": "b76LQ6aA-bBn"
      },
      "source": [
        "from tensorflow import keras\n",
        "model= keras.Sequential()\n",
        "model.add(keras.layers.Embedding(500,16,input_length=100))\n",
        "model.add(keras.layers.LSTM(8))\n",
        "model.add(keras.layers.Dense(1, activation='sigmoid'))"
      ],
      "execution_count": 43,
      "outputs": []
    },
    {
      "cell_type": "code",
      "metadata": {
        "colab": {
          "base_uri": "https://localhost:8080/"
        },
        "id": "jvPDYEgdAe49",
        "outputId": "e9514426-cfb0-47f6-f896-aa4eba7b6348"
      },
      "source": [
        "model.summary()"
      ],
      "execution_count": 44,
      "outputs": [
        {
          "output_type": "stream",
          "name": "stdout",
          "text": [
            "Model: \"sequential_3\"\n",
            "_________________________________________________________________\n",
            "Layer (type)                 Output Shape              Param #   \n",
            "=================================================================\n",
            "embedding_1 (Embedding)      (None, 100, 16)           8000      \n",
            "_________________________________________________________________\n",
            "lstm (LSTM)                  (None, 8)                 800       \n",
            "_________________________________________________________________\n",
            "dense_2 (Dense)              (None, 1)                 9         \n",
            "=================================================================\n",
            "Total params: 8,809\n",
            "Trainable params: 8,809\n",
            "Non-trainable params: 0\n",
            "_________________________________________________________________\n"
          ]
        }
      ]
    },
    {
      "cell_type": "code",
      "metadata": {
        "colab": {
          "base_uri": "https://localhost:8080/"
        },
        "id": "1cJklXugAouo",
        "outputId": "84e05628-11c1-4961-d31c-cb1f65790ece"
      },
      "source": [
        "rmsprop= keras.optimizers.RMSprop(learning_rate=1e-4)\n",
        "model.compile(optimizer=rmsprop, loss='binary_crossentropy', metrics=['accuracy'])\n",
        "checkpoint=keras.callbacks.ModelCheckpoint('best-lstm-model.h5', save_best_only=True)\n",
        "early_stopping=keras.callbacks.EarlyStopping(patience=3, restore_best_weights=True)\n",
        "history=model.fit(train_seq, train_target, epochs=100, batch_size=64, \n",
        "                  validation_data=(val_seq, val_target),callbacks=[checkpoint, early_stopping])"
      ],
      "execution_count": 46,
      "outputs": [
        {
          "output_type": "stream",
          "name": "stdout",
          "text": [
            "Epoch 1/100\n",
            "313/313 [==============================] - 16s 44ms/step - loss: 0.6923 - accuracy: 0.5537 - val_loss: 0.6911 - val_accuracy: 0.6048\n",
            "Epoch 2/100\n",
            "313/313 [==============================] - 13s 43ms/step - loss: 0.6885 - accuracy: 0.6332 - val_loss: 0.6845 - val_accuracy: 0.6572\n",
            "Epoch 3/100\n",
            "313/313 [==============================] - 13s 43ms/step - loss: 0.6691 - accuracy: 0.6629 - val_loss: 0.6369 - val_accuracy: 0.7028\n",
            "Epoch 4/100\n",
            "313/313 [==============================] - 13s 43ms/step - loss: 0.6063 - accuracy: 0.7240 - val_loss: 0.5898 - val_accuracy: 0.7276\n",
            "Epoch 5/100\n",
            "313/313 [==============================] - 13s 42ms/step - loss: 0.5772 - accuracy: 0.7416 - val_loss: 0.5730 - val_accuracy: 0.7348\n",
            "Epoch 6/100\n",
            "313/313 [==============================] - 13s 42ms/step - loss: 0.5574 - accuracy: 0.7531 - val_loss: 0.5582 - val_accuracy: 0.7424\n",
            "Epoch 7/100\n",
            "313/313 [==============================] - 13s 43ms/step - loss: 0.5401 - accuracy: 0.7623 - val_loss: 0.5405 - val_accuracy: 0.7548\n",
            "Epoch 8/100\n",
            "313/313 [==============================] - 13s 42ms/step - loss: 0.5237 - accuracy: 0.7708 - val_loss: 0.5258 - val_accuracy: 0.7580\n",
            "Epoch 9/100\n",
            "313/313 [==============================] - 13s 43ms/step - loss: 0.5079 - accuracy: 0.7789 - val_loss: 0.5102 - val_accuracy: 0.7710\n",
            "Epoch 10/100\n",
            "313/313 [==============================] - 13s 42ms/step - loss: 0.4930 - accuracy: 0.7853 - val_loss: 0.4985 - val_accuracy: 0.7772\n",
            "Epoch 11/100\n",
            "313/313 [==============================] - 13s 42ms/step - loss: 0.4795 - accuracy: 0.7944 - val_loss: 0.4856 - val_accuracy: 0.7820\n",
            "Epoch 12/100\n",
            "313/313 [==============================] - 13s 42ms/step - loss: 0.4680 - accuracy: 0.7973 - val_loss: 0.4769 - val_accuracy: 0.7818\n",
            "Epoch 13/100\n",
            "313/313 [==============================] - 13s 42ms/step - loss: 0.4581 - accuracy: 0.8022 - val_loss: 0.4673 - val_accuracy: 0.7900\n",
            "Epoch 14/100\n",
            "313/313 [==============================] - 13s 43ms/step - loss: 0.4502 - accuracy: 0.8043 - val_loss: 0.4617 - val_accuracy: 0.7934\n",
            "Epoch 15/100\n",
            "313/313 [==============================] - 13s 43ms/step - loss: 0.4440 - accuracy: 0.8059 - val_loss: 0.4563 - val_accuracy: 0.7956\n",
            "Epoch 16/100\n",
            "313/313 [==============================] - 13s 43ms/step - loss: 0.4388 - accuracy: 0.8069 - val_loss: 0.4531 - val_accuracy: 0.7932\n",
            "Epoch 17/100\n",
            "313/313 [==============================] - 13s 42ms/step - loss: 0.4343 - accuracy: 0.8091 - val_loss: 0.4497 - val_accuracy: 0.7960\n",
            "Epoch 18/100\n",
            "313/313 [==============================] - 13s 42ms/step - loss: 0.4308 - accuracy: 0.8101 - val_loss: 0.4469 - val_accuracy: 0.7946\n",
            "Epoch 19/100\n",
            "313/313 [==============================] - 13s 42ms/step - loss: 0.4282 - accuracy: 0.8099 - val_loss: 0.4456 - val_accuracy: 0.7974\n",
            "Epoch 20/100\n",
            "313/313 [==============================] - 13s 42ms/step - loss: 0.4253 - accuracy: 0.8109 - val_loss: 0.4438 - val_accuracy: 0.7972\n",
            "Epoch 21/100\n",
            "313/313 [==============================] - 13s 42ms/step - loss: 0.4230 - accuracy: 0.8130 - val_loss: 0.4419 - val_accuracy: 0.8012\n",
            "Epoch 22/100\n",
            "313/313 [==============================] - 13s 43ms/step - loss: 0.4210 - accuracy: 0.8119 - val_loss: 0.4431 - val_accuracy: 0.7920\n",
            "Epoch 23/100\n",
            "313/313 [==============================] - 13s 42ms/step - loss: 0.4195 - accuracy: 0.8138 - val_loss: 0.4400 - val_accuracy: 0.8020\n",
            "Epoch 24/100\n",
            "313/313 [==============================] - 13s 42ms/step - loss: 0.4181 - accuracy: 0.8117 - val_loss: 0.4375 - val_accuracy: 0.7972\n",
            "Epoch 25/100\n",
            "313/313 [==============================] - 13s 42ms/step - loss: 0.4168 - accuracy: 0.8130 - val_loss: 0.4382 - val_accuracy: 0.8026\n",
            "Epoch 26/100\n",
            "313/313 [==============================] - 13s 43ms/step - loss: 0.4155 - accuracy: 0.8134 - val_loss: 0.4381 - val_accuracy: 0.8032\n",
            "Epoch 27/100\n",
            "313/313 [==============================] - 13s 42ms/step - loss: 0.4142 - accuracy: 0.8130 - val_loss: 0.4358 - val_accuracy: 0.7988\n",
            "Epoch 28/100\n",
            "313/313 [==============================] - 13s 43ms/step - loss: 0.4135 - accuracy: 0.8134 - val_loss: 0.4373 - val_accuracy: 0.8034\n",
            "Epoch 29/100\n",
            "313/313 [==============================] - 13s 42ms/step - loss: 0.4122 - accuracy: 0.8144 - val_loss: 0.4349 - val_accuracy: 0.8000\n",
            "Epoch 30/100\n",
            "313/313 [==============================] - 13s 42ms/step - loss: 0.4115 - accuracy: 0.8154 - val_loss: 0.4350 - val_accuracy: 0.8036\n",
            "Epoch 31/100\n",
            "313/313 [==============================] - 13s 42ms/step - loss: 0.4103 - accuracy: 0.8158 - val_loss: 0.4336 - val_accuracy: 0.8016\n",
            "Epoch 32/100\n",
            "313/313 [==============================] - 13s 43ms/step - loss: 0.4095 - accuracy: 0.8153 - val_loss: 0.4344 - val_accuracy: 0.7990\n",
            "Epoch 33/100\n",
            "313/313 [==============================] - 13s 43ms/step - loss: 0.4086 - accuracy: 0.8160 - val_loss: 0.4325 - val_accuracy: 0.8002\n",
            "Epoch 34/100\n",
            "313/313 [==============================] - 13s 42ms/step - loss: 0.4078 - accuracy: 0.8168 - val_loss: 0.4322 - val_accuracy: 0.8014\n",
            "Epoch 35/100\n",
            "313/313 [==============================] - 13s 42ms/step - loss: 0.4071 - accuracy: 0.8164 - val_loss: 0.4323 - val_accuracy: 0.8018\n",
            "Epoch 36/100\n",
            "313/313 [==============================] - 13s 43ms/step - loss: 0.4064 - accuracy: 0.8171 - val_loss: 0.4310 - val_accuracy: 0.8018\n",
            "Epoch 37/100\n",
            "313/313 [==============================] - 13s 42ms/step - loss: 0.4058 - accuracy: 0.8170 - val_loss: 0.4308 - val_accuracy: 0.8028\n",
            "Epoch 38/100\n",
            "313/313 [==============================] - 13s 42ms/step - loss: 0.4050 - accuracy: 0.8171 - val_loss: 0.4350 - val_accuracy: 0.7980\n",
            "Epoch 39/100\n",
            "313/313 [==============================] - 13s 43ms/step - loss: 0.4044 - accuracy: 0.8167 - val_loss: 0.4299 - val_accuracy: 0.8028\n",
            "Epoch 40/100\n",
            "313/313 [==============================] - 13s 43ms/step - loss: 0.4036 - accuracy: 0.8175 - val_loss: 0.4302 - val_accuracy: 0.8016\n",
            "Epoch 41/100\n",
            "313/313 [==============================] - 13s 42ms/step - loss: 0.4028 - accuracy: 0.8190 - val_loss: 0.4288 - val_accuracy: 0.8038\n",
            "Epoch 42/100\n",
            "313/313 [==============================] - 13s 42ms/step - loss: 0.4024 - accuracy: 0.8191 - val_loss: 0.4292 - val_accuracy: 0.8014\n",
            "Epoch 43/100\n",
            "313/313 [==============================] - 13s 43ms/step - loss: 0.4019 - accuracy: 0.8197 - val_loss: 0.4306 - val_accuracy: 0.8018\n",
            "Epoch 44/100\n",
            "313/313 [==============================] - 13s 43ms/step - loss: 0.4013 - accuracy: 0.8186 - val_loss: 0.4287 - val_accuracy: 0.8036\n",
            "Epoch 45/100\n",
            "313/313 [==============================] - 13s 43ms/step - loss: 0.4007 - accuracy: 0.8203 - val_loss: 0.4286 - val_accuracy: 0.8032\n",
            "Epoch 46/100\n",
            "313/313 [==============================] - 13s 43ms/step - loss: 0.3999 - accuracy: 0.8191 - val_loss: 0.4282 - val_accuracy: 0.8032\n",
            "Epoch 47/100\n",
            "313/313 [==============================] - 13s 42ms/step - loss: 0.3995 - accuracy: 0.8198 - val_loss: 0.4278 - val_accuracy: 0.8030\n",
            "Epoch 48/100\n",
            "313/313 [==============================] - 13s 43ms/step - loss: 0.3987 - accuracy: 0.8199 - val_loss: 0.4318 - val_accuracy: 0.8016\n",
            "Epoch 49/100\n",
            "313/313 [==============================] - 13s 43ms/step - loss: 0.3984 - accuracy: 0.8196 - val_loss: 0.4275 - val_accuracy: 0.8032\n",
            "Epoch 50/100\n",
            "313/313 [==============================] - 13s 42ms/step - loss: 0.3977 - accuracy: 0.8210 - val_loss: 0.4301 - val_accuracy: 0.8038\n",
            "Epoch 51/100\n",
            "313/313 [==============================] - 13s 42ms/step - loss: 0.3972 - accuracy: 0.8213 - val_loss: 0.4266 - val_accuracy: 0.8038\n",
            "Epoch 52/100\n",
            "313/313 [==============================] - 13s 42ms/step - loss: 0.3961 - accuracy: 0.8207 - val_loss: 0.4311 - val_accuracy: 0.8020\n",
            "Epoch 53/100\n",
            "313/313 [==============================] - 13s 42ms/step - loss: 0.3961 - accuracy: 0.8213 - val_loss: 0.4282 - val_accuracy: 0.8030\n",
            "Epoch 54/100\n",
            "313/313 [==============================] - 13s 43ms/step - loss: 0.3950 - accuracy: 0.8210 - val_loss: 0.4311 - val_accuracy: 0.8002\n"
          ]
        }
      ]
    },
    {
      "cell_type": "code",
      "metadata": {
        "colab": {
          "base_uri": "https://localhost:8080/",
          "height": 278
        },
        "id": "HvaBoyNdB3Fm",
        "outputId": "a0353a8a-fe68-416f-ecf2-7a463f68130f"
      },
      "source": [
        "import matplotlib.pyplot as plt\n",
        "plt.plot(history.history['loss'])\n",
        "plt.plot(history.history['val_loss'])\n",
        "plt.xlabel('epochs')\n",
        "plt.ylabel('loss')\n",
        "plt.legend(['train','val'])\n",
        "plt.show()"
      ],
      "execution_count": 47,
      "outputs": [
        {
          "output_type": "display_data",
          "data": {
            "image/png": "[encoded data removed]",
            "text/plain": [
              "<Figure size 432x288 with 1 Axes>"
            ]
          },
          "metadata": {
            "needs_background": "light"
          }
        }
      ]
    },
    {
      "cell_type": "code",
      "metadata": {
        "id": "1mIOHCmZEsCz"
      },
      "source": [
        "model2=keras.Sequential()\n",
        "model2.add(keras.layers.Embedding(500,16, input_length=100))\n",
        "model2.add(keras.layers.LSTM(8, dropout=0.3))\n",
        "model2.add(keras.layers.Dense(1,activation='sigmoid'))"
      ],
      "execution_count": 48,
      "outputs": []
    },
    {
      "cell_type": "code",
      "metadata": {
        "colab": {
          "base_uri": "https://localhost:8080/"
        },
        "id": "2emS5-5bFXwC",
        "outputId": "097e426e-aef3-41ac-b031-603adf3fde47"
      },
      "source": [
        "rmsprop=keras.optimizers.RMSprop(learning_rate=1e-4)\n",
        "model2.compile(optimizer=rmsprop, loss='binary_crossentropy', metrics=['accuracy'])\n",
        "checkpoint=keras.callbacks.ModelCheckpoint('best-dropout-model.h5', save_best_only=True)\n",
        "early_stopping=keras.callbacks.EarlyStopping(patience=3, restore_best_weights=True)\n",
        "history= model2.fit(train_seq, train_target, epochs=100, batch_size=64, \n",
        "                    validation_data=(val_seq, val_target),callbacks=[checkpoint, early_stopping])"
      ],
      "execution_count": 49,
      "outputs": [
        {
          "output_type": "stream",
          "name": "stdout",
          "text": [
            "Epoch 1/100\n",
            "313/313 [==============================] - 16s 45ms/step - loss: 0.6925 - accuracy: 0.5197 - val_loss: 0.6917 - val_accuracy: 0.5622\n",
            "Epoch 2/100\n",
            "313/313 [==============================] - 14s 44ms/step - loss: 0.6908 - accuracy: 0.5682 - val_loss: 0.6898 - val_accuracy: 0.6030\n",
            "Epoch 3/100\n",
            "313/313 [==============================] - 14s 44ms/step - loss: 0.6880 - accuracy: 0.6014 - val_loss: 0.6862 - val_accuracy: 0.6192\n",
            "Epoch 4/100\n",
            "313/313 [==============================] - 14s 44ms/step - loss: 0.6824 - accuracy: 0.6248 - val_loss: 0.6790 - val_accuracy: 0.6300\n",
            "Epoch 5/100\n",
            "313/313 [==============================] - 14s 43ms/step - loss: 0.6717 - accuracy: 0.6463 - val_loss: 0.6644 - val_accuracy: 0.6496\n",
            "Epoch 6/100\n",
            "313/313 [==============================] - 14s 44ms/step - loss: 0.6468 - accuracy: 0.6682 - val_loss: 0.6262 - val_accuracy: 0.6824\n",
            "Epoch 7/100\n",
            "313/313 [==============================] - 14s 44ms/step - loss: 0.5851 - accuracy: 0.7088 - val_loss: 0.5598 - val_accuracy: 0.7362\n",
            "Epoch 8/100\n",
            "313/313 [==============================] - 14s 44ms/step - loss: 0.5438 - accuracy: 0.7351 - val_loss: 0.5341 - val_accuracy: 0.7424\n",
            "Epoch 9/100\n",
            "313/313 [==============================] - 14s 44ms/step - loss: 0.5215 - accuracy: 0.7487 - val_loss: 0.5129 - val_accuracy: 0.7528\n",
            "Epoch 10/100\n",
            "313/313 [==============================] - 14s 44ms/step - loss: 0.5012 - accuracy: 0.7662 - val_loss: 0.4977 - val_accuracy: 0.7604\n",
            "Epoch 11/100\n",
            "313/313 [==============================] - 14s 44ms/step - loss: 0.4889 - accuracy: 0.7703 - val_loss: 0.4822 - val_accuracy: 0.7732\n",
            "Epoch 12/100\n",
            "313/313 [==============================] - 14s 44ms/step - loss: 0.4759 - accuracy: 0.7779 - val_loss: 0.4723 - val_accuracy: 0.7798\n",
            "Epoch 13/100\n",
            "313/313 [==============================] - 14s 44ms/step - loss: 0.4680 - accuracy: 0.7828 - val_loss: 0.4652 - val_accuracy: 0.7850\n",
            "Epoch 14/100\n",
            "313/313 [==============================] - 14s 44ms/step - loss: 0.4599 - accuracy: 0.7885 - val_loss: 0.4579 - val_accuracy: 0.7880\n",
            "Epoch 15/100\n",
            "313/313 [==============================] - 14s 44ms/step - loss: 0.4522 - accuracy: 0.7911 - val_loss: 0.4529 - val_accuracy: 0.7926\n",
            "Epoch 16/100\n",
            "313/313 [==============================] - 14s 44ms/step - loss: 0.4465 - accuracy: 0.7965 - val_loss: 0.4504 - val_accuracy: 0.7884\n",
            "Epoch 17/100\n",
            "313/313 [==============================] - 14s 44ms/step - loss: 0.4420 - accuracy: 0.7994 - val_loss: 0.4463 - val_accuracy: 0.7948\n",
            "Epoch 18/100\n",
            "313/313 [==============================] - 14s 44ms/step - loss: 0.4385 - accuracy: 0.8007 - val_loss: 0.4434 - val_accuracy: 0.7982\n",
            "Epoch 19/100\n",
            "313/313 [==============================] - 14s 44ms/step - loss: 0.4368 - accuracy: 0.8011 - val_loss: 0.4422 - val_accuracy: 0.7982\n",
            "Epoch 20/100\n",
            "313/313 [==============================] - 14s 44ms/step - loss: 0.4346 - accuracy: 0.8009 - val_loss: 0.4399 - val_accuracy: 0.7974\n",
            "Epoch 21/100\n",
            "313/313 [==============================] - 14s 44ms/step - loss: 0.4317 - accuracy: 0.8041 - val_loss: 0.4387 - val_accuracy: 0.7992\n",
            "Epoch 22/100\n",
            "313/313 [==============================] - 14s 44ms/step - loss: 0.4281 - accuracy: 0.8047 - val_loss: 0.4395 - val_accuracy: 0.7978\n",
            "Epoch 23/100\n",
            "313/313 [==============================] - 14s 44ms/step - loss: 0.4280 - accuracy: 0.8047 - val_loss: 0.4368 - val_accuracy: 0.7976\n",
            "Epoch 24/100\n",
            "313/313 [==============================] - 14s 43ms/step - loss: 0.4260 - accuracy: 0.8062 - val_loss: 0.4378 - val_accuracy: 0.7980\n",
            "Epoch 25/100\n",
            "313/313 [==============================] - 14s 43ms/step - loss: 0.4254 - accuracy: 0.8048 - val_loss: 0.4360 - val_accuracy: 0.8004\n",
            "Epoch 26/100\n",
            "313/313 [==============================] - 14s 44ms/step - loss: 0.4244 - accuracy: 0.8051 - val_loss: 0.4351 - val_accuracy: 0.7966\n",
            "Epoch 27/100\n",
            "313/313 [==============================] - 14s 43ms/step - loss: 0.4221 - accuracy: 0.8059 - val_loss: 0.4354 - val_accuracy: 0.7988\n",
            "Epoch 28/100\n",
            "313/313 [==============================] - 14s 44ms/step - loss: 0.4221 - accuracy: 0.8079 - val_loss: 0.4364 - val_accuracy: 0.7982\n",
            "Epoch 29/100\n",
            "313/313 [==============================] - 14s 44ms/step - loss: 0.4215 - accuracy: 0.8080 - val_loss: 0.4328 - val_accuracy: 0.7992\n",
            "Epoch 30/100\n",
            "313/313 [==============================] - 14s 43ms/step - loss: 0.4213 - accuracy: 0.8086 - val_loss: 0.4338 - val_accuracy: 0.8014\n",
            "Epoch 31/100\n",
            "313/313 [==============================] - 14s 44ms/step - loss: 0.4201 - accuracy: 0.8079 - val_loss: 0.4365 - val_accuracy: 0.8016\n",
            "Epoch 32/100\n",
            "313/313 [==============================] - 14s 44ms/step - loss: 0.4199 - accuracy: 0.8076 - val_loss: 0.4335 - val_accuracy: 0.7978\n"
          ]
        }
      ]
    },
    {
      "cell_type": "code",
      "metadata": {
        "colab": {
          "base_uri": "https://localhost:8080/",
          "height": 278
        },
        "id": "iDLCTDl-GVPu",
        "outputId": "d916523c-31bc-4209-f223-033da78124f0"
      },
      "source": [
        "plt.plot(history.history['loss'])\n",
        "plt.plot(history.history['val_loss'])\n",
        "plt.xlabel('epoch')\n",
        "plt.ylabel('loss')\n",
        "plt.legend(['train','val'])\n",
        "plt.show()"
      ],
      "execution_count": 50,
      "outputs": [
        {
          "output_type": "display_data",
          "data": {
            "image/png": "[encoded data removed]",
            "text/plain": [
              "<Figure size 432x288 with 1 Axes>"
            ]
          },
          "metadata": {
            "needs_background": "light"
          }
        }
      ]
    },
    {
      "cell_type": "code",
      "metadata": {
        "id": "xKbs6v89G49i"
      },
      "source": [
        "mode"
      ],
      "execution_count": null,
      "outputs": []
    }
  ]
}