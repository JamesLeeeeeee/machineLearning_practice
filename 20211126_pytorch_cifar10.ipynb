{
  "nbformat": 4,
  "nbformat_minor": 0,
  "metadata": {
    "colab": {
      "name": "20211126_pytorch cifar10.ipynb",
      "provenance": [],
      "authorship_tag": "ABX9TyO7hrzwfksCUqgcO8JLFlbo",
      "include_colab_link": true
    },
    "kernelspec": {
      "name": "python3",
      "display_name": "Python 3"
    },
    "language_info": {
      "name": "python"
    },
    "accelerator": "GPU",
    "widgets": {
      "application/vnd.jupyter.widget-state+json": {
        "9aa1c65098b5415388a1446802443676": {
          "model_module": "@jupyter-widgets/controls",
          "model_name": "HBoxModel",
          "model_module_version": "1.5.0",
          "state": {
            "_view_name": "HBoxView",
            "_dom_classes": [],
            "_model_name": "HBoxModel",
            "_view_module": "@jupyter-widgets/controls",
            "_model_module_version": "1.5.0",
            "_view_count": null,
            "_view_module_version": "1.5.0",
            "box_style": "",
            "layout": "IPY_MODEL_6410a1a77cad4e8c9ace45e6cfee895f",
            "_model_module": "@jupyter-widgets/controls",
            "children": [
              "IPY_MODEL_9caf01a3e2f64ab59a575d234f9b659d",
              "IPY_MODEL_36954ee279e747bfad90f321f261fc77",
              "IPY_MODEL_5bfb4939173f4702b96fccf6fcd589e0"
            ]
          }
        },
        "6410a1a77cad4e8c9ace45e6cfee895f": {
          "model_module": "@jupyter-widgets/base",
          "model_name": "LayoutModel",
          "model_module_version": "1.2.0",
          "state": {
            "_view_name": "LayoutView",
            "grid_template_rows": null,
            "right": null,
            "justify_content": null,
            "_view_module": "@jupyter-widgets/base",
            "overflow": null,
            "_model_module_version": "1.2.0",
            "_view_count": null,
            "flex_flow": null,
            "width": null,
            "min_width": null,
            "border": null,
            "align_items": null,
            "bottom": null,
            "_model_module": "@jupyter-widgets/base",
            "top": null,
            "grid_column": null,
            "overflow_y": null,
            "overflow_x": null,
            "grid_auto_flow": null,
            "grid_area": null,
            "grid_template_columns": null,
            "flex": null,
            "_model_name": "LayoutModel",
            "justify_items": null,
            "grid_row": null,
            "max_height": null,
            "align_content": null,
            "visibility": null,
            "align_self": null,
            "height": null,
            "min_height": null,
            "padding": null,
            "grid_auto_rows": null,
            "grid_gap": null,
            "max_width": null,
            "order": null,
            "_view_module_version": "1.2.0",
            "grid_template_areas": null,
            "object_position": null,
            "object_fit": null,
            "grid_auto_columns": null,
            "margin": null,
            "display": null,
            "left": null
          }
        },
        "9caf01a3e2f64ab59a575d234f9b659d": {
          "model_module": "@jupyter-widgets/controls",
          "model_name": "HTMLModel",
          "model_module_version": "1.5.0",
          "state": {
            "_view_name": "HTMLView",
            "style": "IPY_MODEL_2ee0024a584a4fa497c8263a105b5540",
            "_dom_classes": [],
            "description": "",
            "_model_name": "HTMLModel",
            "placeholder": "​",
            "_view_module": "@jupyter-widgets/controls",
            "_model_module_version": "1.5.0",
            "value": "",
            "_view_count": null,
            "_view_module_version": "1.5.0",
            "description_tooltip": null,
            "_model_module": "@jupyter-widgets/controls",
            "layout": "IPY_MODEL_a3bd7dadc93641ce842280128e7b8883"
          }
        },
        "36954ee279e747bfad90f321f261fc77": {
          "model_module": "@jupyter-widgets/controls",
          "model_name": "FloatProgressModel",
          "model_module_version": "1.5.0",
          "state": {
            "_view_name": "ProgressView",
            "style": "IPY_MODEL_41dbfb514f064b07bea209b9ca414ee9",
            "_dom_classes": [],
            "description": "",
            "_model_name": "FloatProgressModel",
            "bar_style": "success",
            "max": 170498071,
            "_view_module": "@jupyter-widgets/controls",
            "_model_module_version": "1.5.0",
            "value": 170498071,
            "_view_count": null,
            "_view_module_version": "1.5.0",
            "orientation": "horizontal",
            "min": 0,
            "description_tooltip": null,
            "_model_module": "@jupyter-widgets/controls",
            "layout": "IPY_MODEL_0c3b2f7b08964ea68b3abf618a5158a9"
          }
        },
        "5bfb4939173f4702b96fccf6fcd589e0": {
          "model_module": "@jupyter-widgets/controls",
          "model_name": "HTMLModel",
          "model_module_version": "1.5.0",
          "state": {
            "_view_name": "HTMLView",
            "style": "IPY_MODEL_6269a4b017c54277bba5e7402121c838",
            "_dom_classes": [],
            "description": "",
            "_model_name": "HTMLModel",
            "placeholder": "​",
            "_view_module": "@jupyter-widgets/controls",
            "_model_module_version": "1.5.0",
            "value": " 170499072/? [00:03&lt;00:00, 51931270.88it/s]",
            "_view_count": null,
            "_view_module_version": "1.5.0",
            "description_tooltip": null,
            "_model_module": "@jupyter-widgets/controls",
            "layout": "IPY_MODEL_1cf4c1eb4e374b0aacaff4af60c08430"
          }
        },
        "2ee0024a584a4fa497c8263a105b5540": {
          "model_module": "@jupyter-widgets/controls",
          "model_name": "DescriptionStyleModel",
          "model_module_version": "1.5.0",
          "state": {
            "_view_name": "StyleView",
            "_model_name": "DescriptionStyleModel",
            "description_width": "",
            "_view_module": "@jupyter-widgets/base",
            "_model_module_version": "1.5.0",
            "_view_count": null,
            "_view_module_version": "1.2.0",
            "_model_module": "@jupyter-widgets/controls"
          }
        },
        "a3bd7dadc93641ce842280128e7b8883": {
          "model_module": "@jupyter-widgets/base",
          "model_name": "LayoutModel",
          "model_module_version": "1.2.0",
          "state": {
            "_view_name": "LayoutView",
            "grid_template_rows": null,
            "right": null,
            "justify_content": null,
            "_view_module": "@jupyter-widgets/base",
            "overflow": null,
            "_model_module_version": "1.2.0",
            "_view_count": null,
            "flex_flow": null,
            "width": null,
            "min_width": null,
            "border": null,
            "align_items": null,
            "bottom": null,
            "_model_module": "@jupyter-widgets/base",
            "top": null,
            "grid_column": null,
            "overflow_y": null,
            "overflow_x": null,
            "grid_auto_flow": null,
            "grid_area": null,
            "grid_template_columns": null,
            "flex": null,
            "_model_name": "LayoutModel",
            "justify_items": null,
            "grid_row": null,
            "max_height": null,
            "align_content": null,
            "visibility": null,
            "align_self": null,
            "height": null,
            "min_height": null,
            "padding": null,
            "grid_auto_rows": null,
            "grid_gap": null,
            "max_width": null,
            "order": null,
            "_view_module_version": "1.2.0",
            "grid_template_areas": null,
            "object_position": null,
            "object_fit": null,
            "grid_auto_columns": null,
            "margin": null,
            "display": null,
            "left": null
          }
        },
        "41dbfb514f064b07bea209b9ca414ee9": {
          "model_module": "@jupyter-widgets/controls",
          "model_name": "ProgressStyleModel",
          "model_module_version": "1.5.0",
          "state": {
            "_view_name": "StyleView",
            "_model_name": "ProgressStyleModel",
            "description_width": "",
            "_view_module": "@jupyter-widgets/base",
            "_model_module_version": "1.5.0",
            "_view_count": null,
            "_view_module_version": "1.2.0",
            "bar_color": null,
            "_model_module": "@jupyter-widgets/controls"
          }
        },
        "0c3b2f7b08964ea68b3abf618a5158a9": {
          "model_module": "@jupyter-widgets/base",
          "model_name": "LayoutModel",
          "model_module_version": "1.2.0",
          "state": {
            "_view_name": "LayoutView",
            "grid_template_rows": null,
            "right": null,
            "justify_content": null,
            "_view_module": "@jupyter-widgets/base",
            "overflow": null,
            "_model_module_version": "1.2.0",
            "_view_count": null,
            "flex_flow": null,
            "width": null,
            "min_width": null,
            "border": null,
            "align_items": null,
            "bottom": null,
            "_model_module": "@jupyter-widgets/base",
            "top": null,
            "grid_column": null,
            "overflow_y": null,
            "overflow_x": null,
            "grid_auto_flow": null,
            "grid_area": null,
            "grid_template_columns": null,
            "flex": null,
            "_model_name": "LayoutModel",
            "justify_items": null,
            "grid_row": null,
            "max_height": null,
            "align_content": null,
            "visibility": null,
            "align_self": null,
            "height": null,
            "min_height": null,
            "padding": null,
            "grid_auto_rows": null,
            "grid_gap": null,
            "max_width": null,
            "order": null,
            "_view_module_version": "1.2.0",
            "grid_template_areas": null,
            "object_position": null,
            "object_fit": null,
            "grid_auto_columns": null,
            "margin": null,
            "display": null,
            "left": null
          }
        },
        "6269a4b017c54277bba5e7402121c838": {
          "model_module": "@jupyter-widgets/controls",
          "model_name": "DescriptionStyleModel",
          "model_module_version": "1.5.0",
          "state": {
            "_view_name": "StyleView",
            "_model_name": "DescriptionStyleModel",
            "description_width": "",
            "_view_module": "@jupyter-widgets/base",
            "_model_module_version": "1.5.0",
            "_view_count": null,
            "_view_module_version": "1.2.0",
            "_model_module": "@jupyter-widgets/controls"
          }
        },
        "1cf4c1eb4e374b0aacaff4af60c08430": {
          "model_module": "@jupyter-widgets/base",
          "model_name": "LayoutModel",
          "model_module_version": "1.2.0",
          "state": {
            "_view_name": "LayoutView",
            "grid_template_rows": null,
            "right": null,
            "justify_content": null,
            "_view_module": "@jupyter-widgets/base",
            "overflow": null,
            "_model_module_version": "1.2.0",
            "_view_count": null,
            "flex_flow": null,
            "width": null,
            "min_width": null,
            "border": null,
            "align_items": null,
            "bottom": null,
            "_model_module": "@jupyter-widgets/base",
            "top": null,
            "grid_column": null,
            "overflow_y": null,
            "overflow_x": null,
            "grid_auto_flow": null,
            "grid_area": null,
            "grid_template_columns": null,
            "flex": null,
            "_model_name": "LayoutModel",
            "justify_items": null,
            "grid_row": null,
            "max_height": null,
            "align_content": null,
            "visibility": null,
            "align_self": null,
            "height": null,
            "min_height": null,
            "padding": null,
            "grid_auto_rows": null,
            "grid_gap": null,
            "max_width": null,
            "order": null,
            "_view_module_version": "1.2.0",
            "grid_template_areas": null,
            "object_position": null,
            "object_fit": null,
            "grid_auto_columns": null,
            "margin": null,
            "display": null,
            "left": null
          }
        }
      }
    }
  },
  "cells": [
    {
      "cell_type": "markdown",
      "metadata": {
        "id": "view-in-github",
        "colab_type": "text"
      },
      "source": [
        "<a href=\"https://colab.research.google.com/github/JamesLeeeeeee/machineLearning_practice/blob/master/20211126_pytorch_cifar10.ipynb\" target=\"_parent\"><img src=\"https://colab.research.google.com/assets/colab-badge.svg\" alt=\"Open In Colab\"/></a>"
      ]
    },
    {
      "cell_type": "code",
      "metadata": {
        "id": "DBLXDVhRk3T7"
      },
      "source": [
        "import torch\n",
        "import torch.nn as nn\n",
        "import torch.nn.functional as F\n",
        "import torch.optim as optim\n",
        "from torch.utils.data import Dataset, DataLoader\n",
        "\n",
        "import torchvision\n",
        "import torchvision.datasets\n",
        "import torchvision.transforms as transforms\n",
        "\n",
        "import numpy as np\n",
        "import matplotlib.pyplot as plt\n",
        "plt.style.use('seaborn-white')"
      ],
      "execution_count": 1,
      "outputs": []
    },
    {
      "cell_type": "code",
      "metadata": {
        "colab": {
          "base_uri": "https://localhost:8080/"
        },
        "id": "dgDUsAx-nI5P",
        "outputId": "8b96249b-6f37-49d2-9907-ec814ef36e27"
      },
      "source": [
        "torch.cuda.is_available()"
      ],
      "execution_count": 2,
      "outputs": [
        {
          "output_type": "execute_result",
          "data": {
            "text/plain": [
              "True"
            ]
          },
          "metadata": {},
          "execution_count": 2
        }
      ]
    },
    {
      "cell_type": "code",
      "metadata": {
        "id": "1xMsiRTrnL2P"
      },
      "source": [
        "use_cuda=torch.cuda.is_available()\n",
        "device=torch.device('cuda' if use_cuda else 'cpu')"
      ],
      "execution_count": 5,
      "outputs": []
    },
    {
      "cell_type": "code",
      "metadata": {
        "colab": {
          "base_uri": "https://localhost:8080/"
        },
        "id": "jj8fYUt2n0l7",
        "outputId": "1b51a301-ba49-4d22-d2cf-ee31b2304022"
      },
      "source": [
        "device"
      ],
      "execution_count": 32,
      "outputs": [
        {
          "output_type": "execute_result",
          "data": {
            "text/plain": [
              "device(type='cuda')"
            ]
          },
          "metadata": {},
          "execution_count": 32
        }
      ]
    },
    {
      "cell_type": "code",
      "metadata": {
        "id": "GmRwtk99n1SI"
      },
      "source": [
        "transform= transforms.Compose([transforms.ToTensor(),\n",
        "                              transforms.Normalize((0.5,0.5,0.5),(0.5,0.5,0.5))])"
      ],
      "execution_count": 9,
      "outputs": []
    },
    {
      "cell_type": "code",
      "metadata": {
        "colab": {
          "base_uri": "https://localhost:8080/",
          "height": 124,
          "referenced_widgets": [
            "9aa1c65098b5415388a1446802443676",
            "6410a1a77cad4e8c9ace45e6cfee895f",
            "9caf01a3e2f64ab59a575d234f9b659d",
            "36954ee279e747bfad90f321f261fc77",
            "5bfb4939173f4702b96fccf6fcd589e0",
            "2ee0024a584a4fa497c8263a105b5540",
            "a3bd7dadc93641ce842280128e7b8883",
            "41dbfb514f064b07bea209b9ca414ee9",
            "0c3b2f7b08964ea68b3abf618a5158a9",
            "6269a4b017c54277bba5e7402121c838",
            "1cf4c1eb4e374b0aacaff4af60c08430"
          ]
        },
        "id": "JwgWtCMSoGCm",
        "outputId": "40204f5a-fc37-40c9-aca1-12a427a20c44"
      },
      "source": [
        "trainset= torchvision.datasets.CIFAR10(root='/data',\n",
        "                                       train=True,\n",
        "                                       download=True,\n",
        "                                       transform=transform)\n",
        "testset= torchvision.datasets.CIFAR10(root='/data',\n",
        "                                       train=False,\n",
        "                                       download=True,\n",
        "                                       transform=transform)"
      ],
      "execution_count": 10,
      "outputs": [
        {
          "output_type": "stream",
          "name": "stdout",
          "text": [
            "Downloading https://www.cs.toronto.edu/~kriz/cifar-10-python.tar.gz to /data/cifar-10-python.tar.gz\n"
          ]
        },
        {
          "output_type": "display_data",
          "data": {
            "application/vnd.jupyter.widget-view+json": {
              "model_id": "9aa1c65098b5415388a1446802443676",
              "version_minor": 0,
              "version_major": 2
            },
            "text/plain": [
              "  0%|          | 0/170498071 [00:00<?, ?it/s]"
            ]
          },
          "metadata": {}
        },
        {
          "output_type": "stream",
          "name": "stdout",
          "text": [
            "Extracting /data/cifar-10-python.tar.gz to /data\n",
            "Files already downloaded and verified\n"
          ]
        }
      ]
    },
    {
      "cell_type": "code",
      "metadata": {
        "id": "wH6cmYBwoqMv"
      },
      "source": [
        "train_loader= DataLoader(trainset,\n",
        "                         batch_size=4,\n",
        "                         shuffle=True,\n",
        "                         num_workers=2\n",
        "                         )\n",
        "test_loader= DataLoader(trainset,\n",
        "                         batch_size=4,\n",
        "                         shuffle=False,\n",
        "                         num_workers=2\n",
        "                         )"
      ],
      "execution_count": 20,
      "outputs": []
    },
    {
      "cell_type": "code",
      "metadata": {
        "id": "xguu5YV6o40v"
      },
      "source": [
        "classes= ('plane', 'car','bird','cat','deer','dog','frog','horse','ship','truck')"
      ],
      "execution_count": 21,
      "outputs": []
    },
    {
      "cell_type": "code",
      "metadata": {
        "colab": {
          "base_uri": "https://localhost:8080/",
          "height": 153
        },
        "id": "m0VC01W4pIBI",
        "outputId": "9340cbd8-53ed-4ae8-ef62-7811d1c8807b"
      },
      "source": [
        "def imshow(img):\n",
        "  img=img/2+0.5\n",
        "  npimg=img.numpy()\n",
        "  plt.imshow(np.transpose(npimg,(1,2,0)))\n",
        "  plt.show()\n",
        "dataiter=iter(train_loader)\n",
        "images, labels= dataiter.next()\n",
        "\n",
        "imshow(torchvision.utils.make_grid(images))\n",
        "print(' '.join('{}\\t\\t'.format(classes[labels[j]]) for j in range(4)))"
      ],
      "execution_count": 23,
      "outputs": [
        {
          "output_type": "display_data",
          "data": {
            "image/png": "[encoded data removed]",
            "text/plain": [
              "<Figure size 432x288 with 1 Axes>"
            ]
          },
          "metadata": {
            "needs_background": "light"
          }
        },
        {
          "output_type": "stream",
          "name": "stdout",
          "text": [
            "frog\t\t dog\t\t bird\t\t dog\t\t\n"
          ]
        }
      ]
    },
    {
      "cell_type": "code",
      "metadata": {
        "id": "9zla6WdUp1aW"
      },
      "source": [
        "class Net(nn.Module):\n",
        "  def __init__(self):\n",
        "    super(Net, self).__init__()\n",
        "\n",
        "    self.conv1= nn.Conv2d(3,6,5)\n",
        "    self.pool= nn.MaxPool2d(2,2)\n",
        "    self.conv2= nn.Conv2d(6,16,5)\n",
        "    self.fc1= nn.Linear(16*5*5, 120)\n",
        "    self.fc2= nn.Linear(120,84)\n",
        "    self.fc3= nn.Linear(84,10)\n",
        "\n",
        "  def forward(self,x):\n",
        "    x= self.pool(F.relu(self.conv1(x)))\n",
        "    x= self.pool(F.relu(self.conv2(x)))\n",
        "    x= x.view(-1, 16*5*5)\n",
        "    x= F.relu(self.fc1(x))\n",
        "    x= F.relu(self.fc2(x))\n",
        "    x= self.fc3(x)\n",
        "    return x\n",
        "net= Net().to(device)"
      ],
      "execution_count": 33,
      "outputs": []
    },
    {
      "cell_type": "code",
      "metadata": {
        "id": "MHmNvRjqrV8o"
      },
      "source": [
        "criterion= nn.CrossEntropyLoss()\n",
        "optimizer=optim.SGD(net.parameters(), lr=0.001, momentum=0.9)"
      ],
      "execution_count": 26,
      "outputs": []
    },
    {
      "cell_type": "code",
      "metadata": {
        "colab": {
          "base_uri": "https://localhost:8080/"
        },
        "id": "uHl7xd0CrfpX",
        "outputId": "63b1bc4e-9a4f-4113-9478-6cd908078036"
      },
      "source": [
        "for epoch in range(2):\n",
        "  running_loss=0.0\n",
        "\n",
        "  for i , data in enumerate(train_loader,0):\n",
        "    inputs, labels= data[0].to(device), data[1].to(device)\n",
        "\n",
        "    optimizer.zero_grad()\n",
        "\n",
        "    outputs= net(inputs)\n",
        "    loss= criterion(outputs, labels)\n",
        "    loss.backward()\n",
        "    optimizer.step()\n",
        "\n",
        "    running_loss+=loss.item()\n",
        "    if i %2000==1999:\n",
        "      print('Epoch: {}, Batch: {}, Loss: {}'.format(epoch+1, i+1, running_loss/2000))\n",
        "      running_loss=0.0"
      ],
      "execution_count": 27,
      "outputs": [
        {
          "output_type": "stream",
          "name": "stdout",
          "text": [
            "Epoch: 1, Batch: 2000, Loss: 2.242868305146694\n",
            "Epoch: 1, Batch: 4000, Loss: 1.871295183867216\n",
            "Epoch: 1, Batch: 6000, Loss: 1.6817591636776925\n",
            "Epoch: 1, Batch: 8000, Loss: 1.5749032465815545\n",
            "Epoch: 1, Batch: 10000, Loss: 1.524734778687358\n",
            "Epoch: 1, Batch: 12000, Loss: 1.4601038616746664\n",
            "Epoch: 2, Batch: 2000, Loss: 1.3983636830300092\n",
            "Epoch: 2, Batch: 4000, Loss: 1.376623291105032\n",
            "Epoch: 2, Batch: 6000, Loss: 1.3501811770871281\n",
            "Epoch: 2, Batch: 8000, Loss: 1.3319705280661582\n",
            "Epoch: 2, Batch: 10000, Loss: 1.2822946396172046\n",
            "Epoch: 2, Batch: 12000, Loss: 1.2983007630743086\n"
          ]
        }
      ]
    },
    {
      "cell_type": "code",
      "metadata": {
        "id": "RjlvazkmsVSY"
      },
      "source": [
        "path='./cifar_net.pth'\n",
        "torch.save(net.state_dict(),path)\n"
      ],
      "execution_count": 28,
      "outputs": []
    },
    {
      "cell_type": "code",
      "metadata": {
        "colab": {
          "base_uri": "https://localhost:8080/",
          "height": 153
        },
        "id": "v3j3DbuJs258",
        "outputId": "0a2e0745-ffe4-4e87-933b-646da3a53675"
      },
      "source": [
        "dataiter= iter(test_loader)\n",
        "images, labels= dataiter.next()\n",
        "\n",
        "imshow(torchvision.utils.make_grid(images))\n",
        "print(' '.join('{}\\t\\t'.format(classes[labels[j]])for j in range(4)))"
      ],
      "execution_count": 29,
      "outputs": [
        {
          "output_type": "display_data",
          "data": {
            "image/png": "[encoded data removed]",
            "text/plain": [
              "<Figure size 432x288 with 1 Axes>"
            ]
          },
          "metadata": {
            "needs_background": "light"
          }
        },
        {
          "output_type": "stream",
          "name": "stdout",
          "text": [
            "frog\t\t truck\t\t truck\t\t deer\t\t\n"
          ]
        }
      ]
    },
    {
      "cell_type": "code",
      "metadata": {
        "colab": {
          "base_uri": "https://localhost:8080/"
        },
        "id": "4AzKC_sotMw2",
        "outputId": "e1eafd64-afaf-488a-c072-67c65a5fafe5"
      },
      "source": [
        "net.load_state_dict(torch.load(path))"
      ],
      "execution_count": 34,
      "outputs": [
        {
          "output_type": "execute_result",
          "data": {
            "text/plain": [
              "<All keys matched successfully>"
            ]
          },
          "metadata": {},
          "execution_count": 34
        }
      ]
    },
    {
      "cell_type": "code",
      "metadata": {
        "id": "gVAy1j05tfAo"
      },
      "source": [
        "outputs= net(images.to(device))"
      ],
      "execution_count": 35,
      "outputs": []
    },
    {
      "cell_type": "code",
      "metadata": {
        "colab": {
          "base_uri": "https://localhost:8080/"
        },
        "id": "Vwc0LbVmtx1u",
        "outputId": "1b70b115-8e4f-4953-ab99-198c656a21a1"
      },
      "source": [
        "_,predicted= torch.max(outputs, 1)\n",
        "print(' '.join('{}\\t'.format(classes[predicted[j]]) for j in range(4)))"
      ],
      "execution_count": 36,
      "outputs": [
        {
          "output_type": "stream",
          "name": "stdout",
          "text": [
            "frog\t truck\t truck\t frog\t\n"
          ]
        }
      ]
    },
    {
      "cell_type": "code",
      "metadata": {
        "colab": {
          "base_uri": "https://localhost:8080/"
        },
        "id": "iUeO4zZTt-b3",
        "outputId": "99cd4aa2-ccfd-4302-e343-2240b967305c"
      },
      "source": [
        "correct=0\n",
        "total=0\n",
        "\n",
        "with torch.no_grad():\n",
        "  for data in test_loader:\n",
        "    images, labels= data[0].to(device), data[1].to(device)\n",
        "    outputs= net(images)\n",
        "    _,predicted= torch.max(outputs.data, 1)\n",
        "    total+= labels.size(0)\n",
        "    correct += (predicted==labels).sum().item()\n",
        "print(100*correct/total)"
      ],
      "execution_count": 38,
      "outputs": [
        {
          "output_type": "stream",
          "name": "stdout",
          "text": [
            "58.48\n"
          ]
        }
      ]
    },
    {
      "cell_type": "code",
      "metadata": {
        "colab": {
          "base_uri": "https://localhost:8080/"
        },
        "id": "CyRdBBnlubig",
        "outputId": "52f35b9d-b82c-489d-cc32-e4646a1427a6"
      },
      "source": [
        "class_correct= list(0. for i in range(10))\n",
        "class_total= list(0. for i in range(10))\n",
        "\n",
        "with torch.no_grad():\n",
        "  for data in test_loader:\n",
        "    images, labels= data[0].to(device), data[1].to(device)\n",
        "    outputs= net(images)\n",
        "    _,predicted= torch.max(outputs.data, 1)\n",
        "    c=(predicted==labels).squeeze()\n",
        "    for i in range(4):\n",
        "      label= labels[i]\n",
        "      class_correct[label]+=c[i].item()\n",
        "      class_total[label]+=1\n",
        "\n",
        "for i in range(10):\n",
        "  print('Accuracy of {}: {}%'.format(classes[i], 100*class_correct[i]/class_total[i]))\n",
        "\n"
      ],
      "execution_count": 42,
      "outputs": [
        {
          "output_type": "stream",
          "name": "stdout",
          "text": [
            "Accuracy of plane: 62.6%\n",
            "Accuracy of car: 82.62%\n",
            "Accuracy of bird: 39.2%\n",
            "Accuracy of cat: 48.08%\n",
            "Accuracy of deer: 46.42%\n",
            "Accuracy of dog: 36.64%\n",
            "Accuracy of frog: 73.16%\n",
            "Accuracy of horse: 65.8%\n",
            "Accuracy of ship: 68.46%\n",
            "Accuracy of truck: 61.82%\n"
          ]
        }
      ]
    },
    {
      "cell_type": "markdown",
      "metadata": {
        "id": "tijPlDDLu1Ud"
      },
      "source": [
        ""
      ]
    },
    {
      "cell_type": "code",
      "metadata": {
        "colab": {
          "base_uri": "https://localhost:8080/"
        },
        "id": "wX-G9BBWuveO",
        "outputId": "051d28f6-d89c-4911-8773-4ddca9fd9980"
      },
      "source": [
        ""
      ],
      "execution_count": 41,
      "outputs": [
        {
          "output_type": "execute_result",
          "data": {
            "text/plain": [
              "[0.0, 0.0, 0.0, 0.0, 0.0, 0.0, 0.0, 0.0, 0.0, 0.0]"
            ]
          },
          "metadata": {},
          "execution_count": 41
        }
      ]
    },
    {
      "cell_type": "code",
      "metadata": {
        "id": "N5RkPcv5uwzG"
      },
      "source": [
        ""
      ],
      "execution_count": null,
      "outputs": []
    }
  ]
}