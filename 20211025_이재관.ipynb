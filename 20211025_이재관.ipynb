{
  "nbformat": 4,
  "nbformat_minor": 0,
  "metadata": {
    "colab": {
      "name": "20211025_이재관.ipynb",
      "provenance": [],
      "collapsed_sections": [],
      "authorship_tag": "ABX9TyOqutem3gdpwvQOMGuO3674",
      "include_colab_link": true
    },
    "kernelspec": {
      "name": "python3",
      "display_name": "Python 3"
    },
    "language_info": {
      "name": "python"
    }
  },
  "cells": [
    {
      "cell_type": "markdown",
      "metadata": {
        "id": "view-in-github",
        "colab_type": "text"
      },
      "source": [
        "<a href=\"https://colab.research.google.com/github/JamesLeeeeeee/machineLearning_practice/blob/master/20211025_%EC%9D%B4%EC%9E%AC%EA%B4%80.ipynb\" target=\"_parent\"><img src=\"https://colab.research.google.com/assets/colab-badge.svg\" alt=\"Open In Colab\"/></a>"
      ]
    },
    {
      "cell_type": "markdown",
      "metadata": {
        "id": "v_Xeb9xHB6qk"
      },
      "source": [
        "# 7-3"
      ]
    },
    {
      "cell_type": "code",
      "metadata": {
        "id": "51wmFS1w-BPd"
      },
      "source": [
        "from tensorflow import keras\n",
        "from sklearn.model_selection import train_test_split\n",
        "(train_input, train_target),(test_input, test_target)=\\\n",
        "keras.datasets.fashion_mnist.load_data()\n",
        "train_scaled=train_input/255.0\n",
        "train_scaled,val_scaled, train_target, val_target= train_test_split(train_scaled, train_target, test_size=0.2,random_state=42)"
      ],
      "execution_count": 129,
      "outputs": []
    },
    {
      "cell_type": "code",
      "metadata": {
        "id": "kShvD0Bug9sP"
      },
      "source": [
        "def model_fn(a_layer=None):\n",
        "  model=keras.Sequential()\n",
        "  model.add(keras.layers.Flatten(input_shape=(28,28)))\n",
        "  model.add(keras.layers.Dense(100, activation='relu'))\n",
        "  if a_layer:\n",
        "    model.add(a_layer)\n",
        "  model.add(keras.layers.Dense(10, activation='softmax'))\n",
        "  return model"
      ],
      "execution_count": 28,
      "outputs": []
    },
    {
      "cell_type": "code",
      "metadata": {
        "id": "d2IlDT1nhijX"
      },
      "source": [
        "model = model_fn()"
      ],
      "execution_count": 29,
      "outputs": []
    },
    {
      "cell_type": "code",
      "metadata": {
        "colab": {
          "base_uri": "https://localhost:8080/"
        },
        "id": "1Shzz6JKjpp5",
        "outputId": "c3c2933d-2e20-44dc-b805-9e0fedf5436e"
      },
      "source": [
        "model.summary()"
      ],
      "execution_count": 31,
      "outputs": [
        {
          "output_type": "stream",
          "name": "stdout",
          "text": [
            "Model: \"sequential_6\"\n",
            "_________________________________________________________________\n",
            "Layer (type)                 Output Shape              Param #   \n",
            "=================================================================\n",
            "flatten_6 (Flatten)          (None, 784)               0         \n",
            "_________________________________________________________________\n",
            "dense_6 (Dense)              (None, 100)               78500     \n",
            "_________________________________________________________________\n",
            "dense_7 (Dense)              (None, 10)                1010      \n",
            "=================================================================\n",
            "Total params: 79,510\n",
            "Trainable params: 79,510\n",
            "Non-trainable params: 0\n",
            "_________________________________________________________________\n"
          ]
        }
      ]
    },
    {
      "cell_type": "code",
      "metadata": {
        "id": "PAtBBksliipH"
      },
      "source": [
        "model.compile(loss='sparse_categorical_crossentropy', metrics='accuracy')"
      ],
      "execution_count": 30,
      "outputs": []
    },
    {
      "cell_type": "code",
      "metadata": {
        "id": "2EOBoEcCipKV"
      },
      "source": [
        "history=model.fit(train_scaled, train_target, epochs=5, verbose=0)"
      ],
      "execution_count": 32,
      "outputs": []
    },
    {
      "cell_type": "code",
      "metadata": {
        "colab": {
          "base_uri": "https://localhost:8080/"
        },
        "id": "L4rqk2LBj2cV",
        "outputId": "936f9384-78a3-4de6-bf8f-1b1cf17b7859"
      },
      "source": [
        "print(history.history.keys())"
      ],
      "execution_count": 33,
      "outputs": [
        {
          "output_type": "stream",
          "name": "stdout",
          "text": [
            "dict_keys(['loss', 'accuracy'])\n"
          ]
        }
      ]
    },
    {
      "cell_type": "code",
      "metadata": {
        "colab": {
          "base_uri": "https://localhost:8080/",
          "height": 282
        },
        "id": "2jzKdx36kCnj",
        "outputId": "09b48570-d28f-4258-aa32-bb91e0fa6344"
      },
      "source": [
        "import matplotlib.pyplot as plt\n",
        "plt.plot(history.history['accuracy'])\n",
        "plt.xlabel('epoch')\n",
        "plt.ylabel('accuracy')\n",
        "plt.show()"
      ],
      "execution_count": 36,
      "outputs": [
        {
          "output_type": "display_data",
          "data": {
            "image/png": "[encoded data removed]",
            "text/plain": [
              "<Figure size 432x288 with 1 Axes>"
            ]
          },
          "metadata": {
            "needs_background": "light"
          }
        }
      ]
    },
    {
      "cell_type": "code",
      "metadata": {
        "colab": {
          "base_uri": "https://localhost:8080/",
          "height": 279
        },
        "id": "VRTE9iAFkZbv",
        "outputId": "3feb428e-5cd3-413a-d30c-07b4444e75ea"
      },
      "source": [
        "plt.plot(history.history['loss'])\n",
        "plt.xlabel('epoch')\n",
        "plt.ylabel('loss')\n",
        "plt.show()"
      ],
      "execution_count": 37,
      "outputs": [
        {
          "output_type": "display_data",
          "data": {
            "image/png": "[encoded data removed]",
            "text/plain": [
              "<Figure size 432x288 with 1 Axes>"
            ]
          },
          "metadata": {
            "needs_background": "light"
          }
        }
      ]
    },
    {
      "cell_type": "code",
      "metadata": {
        "id": "qviunE7SkmVX"
      },
      "source": [
        "model= model_fn()\n",
        "model.compile(loss='sparse_categorical_crossentropy', metrics='accuracy')\n",
        "history=model.fit(train_scaled, train_target, epochs=25, verbose=0)"
      ],
      "execution_count": 40,
      "outputs": []
    },
    {
      "cell_type": "code",
      "metadata": {
        "colab": {
          "base_uri": "https://localhost:8080/",
          "height": 279
        },
        "id": "dBtc32zMk_d6",
        "outputId": "b08f2d0a-fcdb-4769-d3e2-edaf04e0bf29"
      },
      "source": [
        "plt.plot(history.history['loss'])\n",
        "plt.xlabel('epochs')\n",
        "plt.ylabel('loss')\n",
        "plt.show()"
      ],
      "execution_count": 41,
      "outputs": [
        {
          "output_type": "display_data",
          "data": {
            "image/png": "[encoded data removed]",
            "text/plain": [
              "<Figure size 432x288 with 1 Axes>"
            ]
          },
          "metadata": {
            "needs_background": "light"
          }
        }
      ]
    },
    {
      "cell_type": "code",
      "metadata": {
        "colab": {
          "base_uri": "https://localhost:8080/",
          "height": 279
        },
        "id": "V-SlphmOlg16",
        "outputId": "6cf4643e-2fc0-404d-9bbb-925e058ade59"
      },
      "source": [
        "plt.plot(history.history['accuracy'])\n",
        "plt.xlabel('epochs')\n",
        "plt.ylabel('accuracy')\n",
        "plt.show()"
      ],
      "execution_count": 42,
      "outputs": [
        {
          "output_type": "display_data",
          "data": {
            "image/png": "[encoded data removed]",
            "text/plain": [
              "<Figure size 432x288 with 1 Axes>"
            ]
          },
          "metadata": {
            "needs_background": "light"
          }
        }
      ]
    },
    {
      "cell_type": "code",
      "metadata": {
        "id": "5FmbFTdzlreU"
      },
      "source": [
        "model=model_fn()\n",
        "model.compile(loss='sparse_categorical_crossentropy', metrics='accuracy')\n",
        "history=model.fit(train_scaled, train_target, epochs=25, verbose=0,\n",
        "          validation_data=(val_scaled, val_target))"
      ],
      "execution_count": 46,
      "outputs": []
    },
    {
      "cell_type": "code",
      "metadata": {
        "colab": {
          "base_uri": "https://localhost:8080/"
        },
        "id": "16ctq23UmaV1",
        "outputId": "4f8f7433-4ada-4f4f-bb14-3fdfd746e89e"
      },
      "source": [
        "print(history.history.keys())"
      ],
      "execution_count": 47,
      "outputs": [
        {
          "output_type": "stream",
          "name": "stdout",
          "text": [
            "dict_keys(['loss', 'accuracy', 'val_loss', 'val_accuracy'])\n"
          ]
        }
      ]
    },
    {
      "cell_type": "code",
      "metadata": {
        "colab": {
          "base_uri": "https://localhost:8080/",
          "height": 279
        },
        "id": "CdnipTIEn7om",
        "outputId": "888cd4fa-98ac-4d36-fda6-67b803b45a3f"
      },
      "source": [
        "plt.plot(history.history['loss'])\n",
        "plt.plot(history.history['val_loss'])\n",
        "plt.xlabel('epochs')\n",
        "plt.ylabel('loss')\n",
        "plt.legend(['train','val'])\n",
        "plt.show()"
      ],
      "execution_count": 50,
      "outputs": [
        {
          "output_type": "display_data",
          "data": {
            "image/png": "[encoded data removed]",
            "text/plain": [
              "<Figure size 432x288 with 1 Axes>"
            ]
          },
          "metadata": {
            "needs_background": "light"
          }
        }
      ]
    },
    {
      "cell_type": "code",
      "metadata": {
        "colab": {
          "base_uri": "https://localhost:8080/",
          "height": 283
        },
        "id": "guSVXnj-qk_A",
        "outputId": "5212d2dc-48ff-4293-8434-ba9c7be827dd"
      },
      "source": [
        "model=model_fn()\n",
        "model.compile(optimizer='RMSprop', loss='sparse_categorical_crossentropy', metrics='accuracy')\n",
        "history=model.fit(train_scaled, train_target, epochs=25, verbose=0,\n",
        "                  validation_data=(val_scaled, val_target))\n",
        "plt.plot(history.history['loss'])\n",
        "plt.plot(history.history['val_loss'])\n",
        "plt.legend(['train','val'])\n",
        "plt.xlabel('epochs')\n",
        "plt.ylabel('loss')\n",
        "plt.show()"
      ],
      "execution_count": 51,
      "outputs": [
        {
          "output_type": "display_data",
          "data": {
            "image/png": "[encoded data removed]",
            "text/plain": [
              "<Figure size 432x288 with 1 Axes>"
            ]
          },
          "metadata": {
            "needs_background": "light"
          }
        }
      ]
    },
    {
      "cell_type": "code",
      "metadata": {
        "colab": {
          "base_uri": "https://localhost:8080/",
          "height": 1000
        },
        "id": "o4aBc8UDr-xp",
        "outputId": "7f9ce511-7c12-4c78-e8c2-9ba79e24be64"
      },
      "source": [
        "model=model_fn()\n",
        "model.compile(loss='sparse_categorical_crossentropy',optimizer='adam', metrics='accuracy')\n",
        "history=model.fit(train_scaled, train_target, epochs=25, verbose=2,\n",
        "          validation_data=(val_scaled, val_target))\n",
        "plt.plot(history.history['loss'])\n",
        "plt.plot(history.history['val_loss'])\n",
        "plt.xlabel('epochs')\n",
        "plt.ylabel('loss')\n",
        "plt.legend(['train', 'val'])\n",
        "plt.show()"
      ],
      "execution_count": 53,
      "outputs": [
        {
          "output_type": "stream",
          "name": "stdout",
          "text": [
            "Epoch 1/25\n",
            "1500/1500 - 3s - loss: 0.5267 - accuracy: 0.8160 - val_loss: 0.4313 - val_accuracy: 0.8470\n",
            "Epoch 2/25\n",
            "1500/1500 - 3s - loss: 0.3939 - accuracy: 0.8587 - val_loss: 0.4168 - val_accuracy: 0.8477\n",
            "Epoch 3/25\n",
            "1500/1500 - 3s - loss: 0.3518 - accuracy: 0.8736 - val_loss: 0.3650 - val_accuracy: 0.8698\n",
            "Epoch 4/25\n",
            "1500/1500 - 3s - loss: 0.3265 - accuracy: 0.8815 - val_loss: 0.3457 - val_accuracy: 0.8739\n",
            "Epoch 5/25\n",
            "1500/1500 - 3s - loss: 0.3062 - accuracy: 0.8873 - val_loss: 0.3400 - val_accuracy: 0.8758\n",
            "Epoch 6/25\n",
            "1500/1500 - 3s - loss: 0.2942 - accuracy: 0.8914 - val_loss: 0.3388 - val_accuracy: 0.8755\n",
            "Epoch 7/25\n",
            "1500/1500 - 3s - loss: 0.2810 - accuracy: 0.8951 - val_loss: 0.3290 - val_accuracy: 0.8785\n",
            "Epoch 8/25\n",
            "1500/1500 - 3s - loss: 0.2707 - accuracy: 0.8991 - val_loss: 0.3288 - val_accuracy: 0.8833\n",
            "Epoch 9/25\n",
            "1500/1500 - 3s - loss: 0.2584 - accuracy: 0.9049 - val_loss: 0.3349 - val_accuracy: 0.8807\n",
            "Epoch 10/25\n",
            "1500/1500 - 3s - loss: 0.2494 - accuracy: 0.9092 - val_loss: 0.3262 - val_accuracy: 0.8856\n",
            "Epoch 11/25\n",
            "1500/1500 - 3s - loss: 0.2430 - accuracy: 0.9097 - val_loss: 0.3162 - val_accuracy: 0.8892\n",
            "Epoch 12/25\n",
            "1500/1500 - 3s - loss: 0.2349 - accuracy: 0.9124 - val_loss: 0.3328 - val_accuracy: 0.8823\n",
            "Epoch 13/25\n",
            "1500/1500 - 3s - loss: 0.2289 - accuracy: 0.9140 - val_loss: 0.3267 - val_accuracy: 0.8867\n",
            "Epoch 14/25\n",
            "1500/1500 - 3s - loss: 0.2214 - accuracy: 0.9165 - val_loss: 0.3252 - val_accuracy: 0.8888\n",
            "Epoch 15/25\n",
            "1500/1500 - 3s - loss: 0.2160 - accuracy: 0.9199 - val_loss: 0.3611 - val_accuracy: 0.8817\n",
            "Epoch 16/25\n",
            "1500/1500 - 3s - loss: 0.2080 - accuracy: 0.9221 - val_loss: 0.3331 - val_accuracy: 0.8888\n",
            "Epoch 17/25\n",
            "1500/1500 - 3s - loss: 0.2049 - accuracy: 0.9227 - val_loss: 0.3436 - val_accuracy: 0.8867\n",
            "Epoch 18/25\n",
            "1500/1500 - 3s - loss: 0.1989 - accuracy: 0.9247 - val_loss: 0.3555 - val_accuracy: 0.8834\n",
            "Epoch 19/25\n",
            "1500/1500 - 3s - loss: 0.1926 - accuracy: 0.9285 - val_loss: 0.3356 - val_accuracy: 0.8887\n",
            "Epoch 20/25\n",
            "1500/1500 - 3s - loss: 0.1888 - accuracy: 0.9299 - val_loss: 0.3325 - val_accuracy: 0.8934\n",
            "Epoch 21/25\n",
            "1500/1500 - 3s - loss: 0.1850 - accuracy: 0.9306 - val_loss: 0.3664 - val_accuracy: 0.8807\n",
            "Epoch 22/25\n",
            "1500/1500 - 3s - loss: 0.1807 - accuracy: 0.9316 - val_loss: 0.3601 - val_accuracy: 0.8855\n",
            "Epoch 23/25\n",
            "1500/1500 - 3s - loss: 0.1779 - accuracy: 0.9331 - val_loss: 0.3701 - val_accuracy: 0.8830\n",
            "Epoch 24/25\n",
            "1500/1500 - 3s - loss: 0.1746 - accuracy: 0.9353 - val_loss: 0.3662 - val_accuracy: 0.8837\n",
            "Epoch 25/25\n",
            "1500/1500 - 3s - loss: 0.1688 - accuracy: 0.9367 - val_loss: 0.3394 - val_accuracy: 0.8946\n"
          ]
        },
        {
          "output_type": "display_data",
          "data": {
            "image/png": "[encoded data removed]",
            "text/plain": [
              "<Figure size 432x288 with 1 Axes>"
            ]
          },
          "metadata": {
            "needs_background": "light"
          }
        }
      ]
    },
    {
      "cell_type": "code",
      "metadata": {
        "colab": {
          "base_uri": "https://localhost:8080/"
        },
        "id": "FA7Fgtu_uBhh",
        "outputId": "f68bd816-aed6-4123-90fd-4bf888a675ad"
      },
      "source": [
        "model= model_fn(keras.layers.Dropout(0.3))\n",
        "model.summary()"
      ],
      "execution_count": 54,
      "outputs": [
        {
          "output_type": "stream",
          "name": "stdout",
          "text": [
            "Model: \"sequential_13\"\n",
            "_________________________________________________________________\n",
            "Layer (type)                 Output Shape              Param #   \n",
            "=================================================================\n",
            "flatten_13 (Flatten)         (None, 784)               0         \n",
            "_________________________________________________________________\n",
            "dense_20 (Dense)             (None, 100)               78500     \n",
            "_________________________________________________________________\n",
            "dropout (Dropout)            (None, 100)               0         \n",
            "_________________________________________________________________\n",
            "dense_21 (Dense)             (None, 10)                1010      \n",
            "=================================================================\n",
            "Total params: 79,510\n",
            "Trainable params: 79,510\n",
            "Non-trainable params: 0\n",
            "_________________________________________________________________\n"
          ]
        }
      ]
    },
    {
      "cell_type": "code",
      "metadata": {
        "colab": {
          "base_uri": "https://localhost:8080/",
          "height": 281
        },
        "id": "iwDPmFphvJ12",
        "outputId": "f930629a-ed58-4ad8-f6ab-3cf1ff227317"
      },
      "source": [
        "model.compile(optimizer='adam',loss='sparse_categorical_crossentropy', metrics='accuracy')\n",
        "history= model.fit(train_scaled, train_target, epochs=25, verbose=0,\n",
        "                   validation_data=(val_scaled, val_target))\n",
        "plt.plot(history.history['loss'])\n",
        "plt.plot(history.history['val_loss'])\n",
        "plt.xlabel('epoch')\n",
        "plt.ylabel('loss')\n",
        "plt.legend(['train', 'val'])\n",
        "plt.show()"
      ],
      "execution_count": 56,
      "outputs": [
        {
          "output_type": "display_data",
          "data": {
            "image/png": "[encoded data removed]",
            "text/plain": [
              "<Figure size 432x288 with 1 Axes>"
            ]
          },
          "metadata": {
            "needs_background": "light"
          }
        }
      ]
    },
    {
      "cell_type": "code",
      "metadata": {
        "id": "bVgGtK-TwGB4"
      },
      "source": [
        "model=model_fn(keras.layers.Dropout(0.3))\n",
        "model.compile(optimizer='adam',loss='sparse_categorical_crossentropy', metrics='accuracy')\n",
        "history= model.fit(train_scaled, train_target, epochs=10, verbose=0,\n",
        "                   validation_data=(val_scaled, val_target))"
      ],
      "execution_count": 61,
      "outputs": []
    },
    {
      "cell_type": "code",
      "metadata": {
        "id": "gDAiviSKxFGw"
      },
      "source": [
        "model.save_weights('model-weights.h5')"
      ],
      "execution_count": 62,
      "outputs": []
    },
    {
      "cell_type": "code",
      "metadata": {
        "id": "5as2S_0cyfWT"
      },
      "source": [
        "model.save('model-whole.h5')"
      ],
      "execution_count": 63,
      "outputs": []
    },
    {
      "cell_type": "code",
      "metadata": {
        "colab": {
          "base_uri": "https://localhost:8080/"
        },
        "id": "3gU9d5xqynid",
        "outputId": "f20dcd1e-dadd-4dc6-da89-daf052cb0c58"
      },
      "source": [
        "!ls -al *.h5"
      ],
      "execution_count": 64,
      "outputs": [
        {
          "output_type": "stream",
          "name": "stdout",
          "text": [
            "-rw-r--r-- 1 root root 332480 Oct 26 13:28 model-weights.h5\n",
            "-rw-r--r-- 1 root root 981736 Oct 26 13:29 model-whole.h5\n"
          ]
        }
      ]
    },
    {
      "cell_type": "code",
      "metadata": {
        "id": "h2nybTFCyqZP"
      },
      "source": [
        "model=model_fn(keras.layers.Dropout(0.3))\n",
        "model.load_weights('model-weights.h5')"
      ],
      "execution_count": 66,
      "outputs": []
    },
    {
      "cell_type": "code",
      "metadata": {
        "colab": {
          "base_uri": "https://localhost:8080/"
        },
        "id": "IaxjeBI8y0WV",
        "outputId": "a70039b7-ef9a-47fe-c459-5526cf915544"
      },
      "source": [
        "import numpy as np\n",
        "val_labels=np.argmax(model.predict(val_scaled),axis=-1)\n",
        "print(np.mean(val_labels==val_target))"
      ],
      "execution_count": 67,
      "outputs": [
        {
          "output_type": "stream",
          "name": "stdout",
          "text": [
            "0.8819166666666667\n"
          ]
        }
      ]
    },
    {
      "cell_type": "code",
      "metadata": {
        "colab": {
          "base_uri": "https://localhost:8080/"
        },
        "id": "HbJ0vet2zZFc",
        "outputId": "a8c556ae-c6db-4302-9967-202e137bbd0d"
      },
      "source": [
        "a=np.array([[3,6,5],[1,5,2]])\n",
        "\n",
        "print(\"Array:\")\n",
        "print(a)\n",
        "\n",
        "req_index=np.argmax(a, axis=-1)\n",
        "print(\"\\nIndex with the largest value:\")\n",
        "print(req_index)\n",
        "\n",
        "print(\"\\nThe largest value in the array:\")\n",
        "print(a[req_index])"
      ],
      "execution_count": 118,
      "outputs": [
        {
          "output_type": "stream",
          "name": "stdout",
          "text": [
            "Array:\n",
            "[[3 6 5]\n",
            " [1 5 2]]\n",
            "\n",
            "Index with the largest value:\n",
            "[1 1]\n",
            "\n",
            "The largest value in the array:\n",
            "[[1 5 2]\n",
            " [1 5 2]]\n"
          ]
        }
      ]
    },
    {
      "cell_type": "code",
      "metadata": {
        "colab": {
          "base_uri": "https://localhost:8080/"
        },
        "id": "91YmvvY73ilC",
        "outputId": "d7ef285d-b6a5-4358-957f-d633fdeff2cd"
      },
      "source": [
        "model=keras.models.load_model('model-whole.h5')\n",
        "model.evaluate(val_scaled, val_target)"
      ],
      "execution_count": 119,
      "outputs": [
        {
          "output_type": "stream",
          "name": "stdout",
          "text": [
            "375/375 [==============================] - 1s 1ms/step - loss: 0.3317 - accuracy: 0.8819\n"
          ]
        },
        {
          "output_type": "execute_result",
          "data": {
            "text/plain": [
              "[0.33166345953941345, 0.8819166421890259]"
            ]
          },
          "metadata": {},
          "execution_count": 119
        }
      ]
    },
    {
      "cell_type": "code",
      "metadata": {
        "colab": {
          "base_uri": "https://localhost:8080/"
        },
        "id": "fZroUZvk8dbJ",
        "outputId": "e7881178-d6ed-45c2-d20d-84c29a38ea93"
      },
      "source": [
        "model=model_fn(keras.layers.Dropout(0.3))\n",
        "model.compile(optimizer='adam', loss='sparse_categorical_crossentropy',metrics='accuracy')\n",
        "checkpoint_cb= keras.callbacks.ModelCheckpoint('best-model.h5', save_best_only=True)\n",
        "model.fit(train_scaled, train_target, epochs=20, verbose=0,\n",
        "          validation_data=(val_scaled,val_target),\n",
        "          callbacks=[checkpoint_cb])"
      ],
      "execution_count": 121,
      "outputs": [
        {
          "output_type": "execute_result",
          "data": {
            "text/plain": [
              "<keras.callbacks.History at 0x7ff8dd7ee810>"
            ]
          },
          "metadata": {},
          "execution_count": 121
        }
      ]
    },
    {
      "cell_type": "code",
      "metadata": {
        "colab": {
          "base_uri": "https://localhost:8080/"
        },
        "id": "IMGrUTi19tit",
        "outputId": "23815e97-b11f-4a94-c96f-e41ee00d6c6b"
      },
      "source": [
        "model=keras.models.load_model('best-model.h5')\n",
        "model.evaluate(val_scaled, val_target)"
      ],
      "execution_count": 122,
      "outputs": [
        {
          "output_type": "stream",
          "name": "stdout",
          "text": [
            "375/375 [==============================] - 1s 1ms/step - loss: 0.3180 - accuracy: 0.8857\n"
          ]
        },
        {
          "output_type": "execute_result",
          "data": {
            "text/plain": [
              "[0.3180461823940277, 0.8857499957084656]"
            ]
          },
          "metadata": {},
          "execution_count": 122
        }
      ]
    },
    {
      "cell_type": "code",
      "metadata": {
        "id": "2SCiVzOc_cnb"
      },
      "source": [
        "model= model_fn(keras.layers.Dropout(0.3))\n",
        "model.compile(optimizer='adam', loss='sparse_categorical_crossentropy',metrics='accuracy')\n",
        "checkpoint_cb=keras.callbacks.ModelCheckpoint('best-model.h5',save_best_only=True)\n",
        "early_stopping_cb=keras.callbacks.EarlyStopping(patience=2, restore_best_weights=True)\n",
        "history=model.fit(train_scaled, train_target, epochs=20, verbose=0,\n",
        "                  validation_data=(val_scaled, val_target),callbacks=[checkpoint_cb, early_stopping_cb])"
      ],
      "execution_count": 124,
      "outputs": []
    },
    {
      "cell_type": "code",
      "metadata": {
        "colab": {
          "base_uri": "https://localhost:8080/"
        },
        "id": "IsZV9GB7AhRV",
        "outputId": "76e495c0-8ff0-4230-fd87-24c9ec501c71"
      },
      "source": [
        "print(early_stopping_cb.stopped_epoch)"
      ],
      "execution_count": 125,
      "outputs": [
        {
          "output_type": "stream",
          "name": "stdout",
          "text": [
            "12\n"
          ]
        }
      ]
    },
    {
      "cell_type": "code",
      "metadata": {
        "colab": {
          "base_uri": "https://localhost:8080/",
          "height": 280
        },
        "id": "UCMnchS4A0r3",
        "outputId": "4b467755-7424-4ede-9f41-f35d3218b3dc"
      },
      "source": [
        "plt.plot(history.history['loss'])\n",
        "plt.plot(history.history['val_loss'])\n",
        "plt.legend(['train','val'])\n",
        "plt.xlabel('epoch')\n",
        "plt.ylabel('loss')\n",
        "plt.show()"
      ],
      "execution_count": 127,
      "outputs": [
        {
          "output_type": "display_data",
          "data": {
            "image/png": "[encoded data removed]",
            "text/plain": [
              "<Figure size 432x288 with 1 Axes>"
            ]
          },
          "metadata": {
            "needs_background": "light"
          }
        }
      ]
    },
    {
      "cell_type": "code",
      "metadata": {
        "colab": {
          "base_uri": "https://localhost:8080/"
        },
        "id": "PUgzYlfbBcpe",
        "outputId": "7d1ccb2e-8a6a-4bf4-98d3-078008a91a13"
      },
      "source": [
        "model.evaluate(val_scaled, val_target)"
      ],
      "execution_count": 128,
      "outputs": [
        {
          "output_type": "stream",
          "name": "stdout",
          "text": [
            "375/375 [==============================] - 1s 1ms/step - loss: 0.3177 - accuracy: 0.8852\n"
          ]
        },
        {
          "output_type": "execute_result",
          "data": {
            "text/plain": [
              "[0.3177127242088318, 0.8852499723434448]"
            ]
          },
          "metadata": {},
          "execution_count": 128
        }
      ]
    },
    {
      "cell_type": "code",
      "metadata": {
        "id": "35ejrJjUBozZ"
      },
      "source": [
        ""
      ],
      "execution_count": null,
      "outputs": []
    },
    {
      "cell_type": "code",
      "metadata": {
        "id": "935nt8T5BtMg"
      },
      "source": [
        ""
      ],
      "execution_count": null,
      "outputs": []
    }
  ]
}