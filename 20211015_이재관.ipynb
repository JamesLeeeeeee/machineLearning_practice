{
  "nbformat": 4,
  "nbformat_minor": 0,
  "metadata": {
    "colab": {
      "name": "20211015_이재관.ipynb",
      "provenance": [],
      "collapsed_sections": [],
      "authorship_tag": "ABX9TyNPidiRLYifIY5jWStaOvT8",
      "include_colab_link": true
    },
    "kernelspec": {
      "name": "python3",
      "display_name": "Python 3"
    },
    "language_info": {
      "name": "python"
    }
  },
  "cells": [
    {
      "cell_type": "markdown",
      "metadata": {
        "id": "view-in-github",
        "colab_type": "text"
      },
      "source": [
        "<a href=\"https://colab.research.google.com/github/JamesLeeeeeee/machineLearning_practice/blob/master/20211015_%EC%9D%B4%EC%9E%AC%EA%B4%80.ipynb\" target=\"_parent\"><img src=\"https://colab.research.google.com/assets/colab-badge.svg\" alt=\"Open In Colab\"/></a>"
      ]
    },
    {
      "cell_type": "code",
      "metadata": {
        "id": "630e5Nd5dtbf"
      },
      "source": [
        "fish_length = [25.4, 26.3, 26.5, 29.0, 29.0, 29.7, 29.7, 30.0, 30.0, 30.7, 31.0, 31.0, \n",
        "                31.5, 32.0, 32.0, 32.0, 33.0, 33.0, 33.5, 33.5, 34.0, 34.0, 34.5, 35.0, \n",
        "                35.0, 35.0, 35.0, 36.0, 36.0, 37.0, 38.5, 38.5, 39.5, 41.0, 41.0, 9.8, \n",
        "                10.5, 10.6, 11.0, 11.2, 11.3, 11.8, 11.8, 12.0, 12.2, 12.4, 13.0, 14.3, 15.0]\n",
        "fish_weight = [242.0, 290.0, 340.0, 363.0, 430.0, 450.0, 500.0, 390.0, 450.0, 500.0, 475.0, 500.0, \n",
        "                500.0, 340.0, 600.0, 600.0, 700.0, 700.0, 610.0, 650.0, 575.0, 685.0, 620.0, 680.0, \n",
        "                700.0, 725.0, 720.0, 714.0, 850.0, 1000.0, 920.0, 955.0, 925.0, 975.0, 950.0, 6.7, \n",
        "                7.5, 7.0, 9.7, 9.8, 8.7, 10.0, 9.9, 9.8, 12.2, 13.4, 12.2, 19.7, 19.9]"
      ],
      "execution_count": null,
      "outputs": []
    },
    {
      "cell_type": "code",
      "metadata": {
        "id": "nDkfmEFteNyv"
      },
      "source": [
        "import numpy as np"
      ],
      "execution_count": null,
      "outputs": []
    },
    {
      "cell_type": "code",
      "metadata": {
        "colab": {
          "base_uri": "https://localhost:8080/"
        },
        "id": "L-YoR691eRnT",
        "outputId": "8cd39dcd-8e92-4d3d-be75-67f985161636"
      },
      "source": [
        "np.column_stack(([1,2,3],[4,5,6,]))"
      ],
      "execution_count": null,
      "outputs": [
        {
          "output_type": "execute_result",
          "data": {
            "text/plain": [
              "array([[1, 4],\n",
              "       [2, 5],\n",
              "       [3, 6]])"
            ]
          },
          "metadata": {},
          "execution_count": 4
        }
      ]
    },
    {
      "cell_type": "code",
      "metadata": {
        "colab": {
          "base_uri": "https://localhost:8080/"
        },
        "id": "ECV_m1xkeeij",
        "outputId": "3350d2c0-4144-49d1-c707-89c1f4080174"
      },
      "source": [
        "fish_data=np.column_stack((fish_length, fish_weight))\n",
        "print(fish_data)"
      ],
      "execution_count": null,
      "outputs": [
        {
          "output_type": "stream",
          "name": "stdout",
          "text": [
            "[[  25.4  242. ]\n",
            " [  26.3  290. ]\n",
            " [  26.5  340. ]\n",
            " [  29.   363. ]\n",
            " [  29.   430. ]\n",
            " [  29.7  450. ]\n",
            " [  29.7  500. ]\n",
            " [  30.   390. ]\n",
            " [  30.   450. ]\n",
            " [  30.7  500. ]\n",
            " [  31.   475. ]\n",
            " [  31.   500. ]\n",
            " [  31.5  500. ]\n",
            " [  32.   340. ]\n",
            " [  32.   600. ]\n",
            " [  32.   600. ]\n",
            " [  33.   700. ]\n",
            " [  33.   700. ]\n",
            " [  33.5  610. ]\n",
            " [  33.5  650. ]\n",
            " [  34.   575. ]\n",
            " [  34.   685. ]\n",
            " [  34.5  620. ]\n",
            " [  35.   680. ]\n",
            " [  35.   700. ]\n",
            " [  35.   725. ]\n",
            " [  35.   720. ]\n",
            " [  36.   714. ]\n",
            " [  36.   850. ]\n",
            " [  37.  1000. ]\n",
            " [  38.5  920. ]\n",
            " [  38.5  955. ]\n",
            " [  39.5  925. ]\n",
            " [  41.   975. ]\n",
            " [  41.   950. ]\n",
            " [   9.8    6.7]\n",
            " [  10.5    7.5]\n",
            " [  10.6    7. ]\n",
            " [  11.     9.7]\n",
            " [  11.2    9.8]\n",
            " [  11.3    8.7]\n",
            " [  11.8   10. ]\n",
            " [  11.8    9.9]\n",
            " [  12.     9.8]\n",
            " [  12.2   12.2]\n",
            " [  12.4   13.4]\n",
            " [  13.    12.2]\n",
            " [  14.3   19.7]\n",
            " [  15.    19.9]]\n"
          ]
        }
      ]
    },
    {
      "cell_type": "code",
      "metadata": {
        "colab": {
          "base_uri": "https://localhost:8080/"
        },
        "id": "LVVmeVume0VK",
        "outputId": "a6d0b035-9264-47b8-f05f-61ccf49106ea"
      },
      "source": [
        "print(np.ones(5))"
      ],
      "execution_count": null,
      "outputs": [
        {
          "output_type": "stream",
          "name": "stdout",
          "text": [
            "[1. 1. 1. 1. 1.]\n"
          ]
        }
      ]
    },
    {
      "cell_type": "code",
      "metadata": {
        "colab": {
          "base_uri": "https://localhost:8080/"
        },
        "id": "JCykMMDlfJjU",
        "outputId": "8a098514-3920-446a-a68c-0433abdf3a33"
      },
      "source": [
        "print(np.zeros(5))"
      ],
      "execution_count": null,
      "outputs": [
        {
          "output_type": "stream",
          "name": "stdout",
          "text": [
            "[0. 0. 0. 0. 0.]\n"
          ]
        }
      ]
    },
    {
      "cell_type": "code",
      "metadata": {
        "colab": {
          "base_uri": "https://localhost:8080/"
        },
        "id": "ERqnLRoDfLis",
        "outputId": "f6dd8957-7a10-488a-b3bf-827462ffa35a"
      },
      "source": [
        "fish_target= np.concatenate((np.ones(35), np.zeros(14)))\n",
        "print(fish_target)"
      ],
      "execution_count": null,
      "outputs": [
        {
          "output_type": "stream",
          "name": "stdout",
          "text": [
            "[1. 1. 1. 1. 1. 1. 1. 1. 1. 1. 1. 1. 1. 1. 1. 1. 1. 1. 1. 1. 1. 1. 1. 1.\n",
            " 1. 1. 1. 1. 1. 1. 1. 1. 1. 1. 1. 0. 0. 0. 0. 0. 0. 0. 0. 0. 0. 0. 0. 0.\n",
            " 0.]\n"
          ]
        }
      ]
    },
    {
      "cell_type": "code",
      "metadata": {
        "id": "4InMvMLofdtb"
      },
      "source": [
        "from sklearn.model_selection import train_test_split"
      ],
      "execution_count": null,
      "outputs": []
    },
    {
      "cell_type": "code",
      "metadata": {
        "id": "ltploihtgb1y"
      },
      "source": [
        "train_input, test_input, train_target, test_target= train_test_split(fish_data, fish_target, random_state=42)"
      ],
      "execution_count": null,
      "outputs": []
    },
    {
      "cell_type": "code",
      "metadata": {
        "colab": {
          "base_uri": "https://localhost:8080/"
        },
        "id": "PDxZPejqgo1P",
        "outputId": "a4ad787b-ff95-46d2-d871-b1c6501db639"
      },
      "source": [
        "print(train_input, train_target)"
      ],
      "execution_count": null,
      "outputs": [
        {
          "output_type": "stream",
          "name": "stdout",
          "text": [
            "[[  30.   450. ]\n",
            " [  29.   363. ]\n",
            " [  29.7  500. ]\n",
            " [  11.3    8.7]\n",
            " [  11.8   10. ]\n",
            " [  13.    12.2]\n",
            " [  32.   600. ]\n",
            " [  30.7  500. ]\n",
            " [  33.   700. ]\n",
            " [  35.   700. ]\n",
            " [  41.   975. ]\n",
            " [  38.5  920. ]\n",
            " [  25.4  242. ]\n",
            " [  12.     9.8]\n",
            " [  39.5  925. ]\n",
            " [  29.7  450. ]\n",
            " [  37.  1000. ]\n",
            " [  31.   500. ]\n",
            " [  10.5    7.5]\n",
            " [  26.3  290. ]\n",
            " [  34.   685. ]\n",
            " [  26.5  340. ]\n",
            " [  10.6    7. ]\n",
            " [   9.8    6.7]\n",
            " [  35.   680. ]\n",
            " [  11.2    9.8]\n",
            " [  31.   475. ]\n",
            " [  34.5  620. ]\n",
            " [  33.5  610. ]\n",
            " [  15.    19.9]\n",
            " [  34.   575. ]\n",
            " [  30.   390. ]\n",
            " [  11.8    9.9]\n",
            " [  32.   600. ]\n",
            " [  36.   850. ]\n",
            " [  11.     9.7]] [1. 1. 1. 0. 0. 0. 1. 1. 1. 1. 1. 1. 1. 0. 1. 1. 1. 1. 0. 1. 1. 1. 0. 0.\n",
            " 1. 0. 1. 1. 1. 0. 1. 1. 0. 1. 1. 0.]\n"
          ]
        }
      ]
    },
    {
      "cell_type": "code",
      "metadata": {
        "colab": {
          "base_uri": "https://localhost:8080/"
        },
        "id": "hWquBSUSgr07",
        "outputId": "b61c4be7-1277-4851-a902-ee3aadd93020"
      },
      "source": [
        "print(test_target.shape)"
      ],
      "execution_count": null,
      "outputs": [
        {
          "output_type": "stream",
          "name": "stdout",
          "text": [
            "(13,)\n"
          ]
        }
      ]
    },
    {
      "cell_type": "code",
      "metadata": {
        "colab": {
          "base_uri": "https://localhost:8080/"
        },
        "id": "oaQzpPo7gwhw",
        "outputId": "093b549c-55ac-4abf-9be9-9647a7852abb"
      },
      "source": [
        "print(test_input.shape)"
      ],
      "execution_count": null,
      "outputs": [
        {
          "output_type": "stream",
          "name": "stdout",
          "text": [
            "(13, 2)\n"
          ]
        }
      ]
    },
    {
      "cell_type": "code",
      "metadata": {
        "colab": {
          "base_uri": "https://localhost:8080/"
        },
        "id": "yaeVKM-wgzl5",
        "outputId": "cd1b7268-b0ea-4e79-85fe-373caa3b7a5f"
      },
      "source": [
        "print(test_target)"
      ],
      "execution_count": null,
      "outputs": [
        {
          "output_type": "stream",
          "name": "stdout",
          "text": [
            "[1. 0. 0. 0. 1. 1. 1. 1. 1. 1. 1. 1. 1.]\n"
          ]
        }
      ]
    },
    {
      "cell_type": "code",
      "metadata": {
        "id": "ut_YIOk1g5Qk"
      },
      "source": [
        "train_input, test_input,train_target, test_target = train_test_split(fish_data, fish_target, stratify=fish_target, random_state=42)"
      ],
      "execution_count": null,
      "outputs": []
    },
    {
      "cell_type": "code",
      "metadata": {
        "colab": {
          "base_uri": "https://localhost:8080/"
        },
        "id": "eUEHyfkmhT9J",
        "outputId": "80f55c03-551f-4ec2-81f8-63623f17f117"
      },
      "source": [
        "print(train_input,test_input, train_target, test_target)"
      ],
      "execution_count": null,
      "outputs": [
        {
          "output_type": "stream",
          "name": "stdout",
          "text": [
            "[[  29.7  500. ]\n",
            " [  12.2   12.2]\n",
            " [  33.   700. ]\n",
            " [  11.3    8.7]\n",
            " [  39.5  925. ]\n",
            " [  29.   430. ]\n",
            " [  36.   714. ]\n",
            " [  36.   850. ]\n",
            " [  31.   475. ]\n",
            " [  35.   720. ]\n",
            " [  37.  1000. ]\n",
            " [  11.2    9.8]\n",
            " [  34.5  620. ]\n",
            " [  12.     9.8]\n",
            " [  29.   363. ]\n",
            " [  33.   700. ]\n",
            " [  30.7  500. ]\n",
            " [  38.5  955. ]\n",
            " [  33.5  650. ]\n",
            " [  14.3   19.7]\n",
            " [  31.5  500. ]\n",
            " [  25.4  242. ]\n",
            " [   9.8    6.7]\n",
            " [  32.   600. ]\n",
            " [  10.5    7.5]\n",
            " [  33.5  610. ]\n",
            " [  10.6    7. ]\n",
            " [  35.   700. ]\n",
            " [  32.   600. ]\n",
            " [  35.   725. ]\n",
            " [  13.    12.2]\n",
            " [  30.   450. ]\n",
            " [  32.   340. ]\n",
            " [  15.    19.9]\n",
            " [  30.   390. ]\n",
            " [  41.   975. ]] [[ 11.    9.7]\n",
            " [ 11.8   9.9]\n",
            " [ 29.7 450. ]\n",
            " [ 11.8  10. ]\n",
            " [ 26.5 340. ]\n",
            " [ 12.4  13.4]\n",
            " [ 34.  685. ]\n",
            " [ 34.  575. ]\n",
            " [ 38.5 920. ]\n",
            " [ 35.  680. ]\n",
            " [ 26.3 290. ]\n",
            " [ 31.  500. ]\n",
            " [ 41.  950. ]] [1. 0. 1. 0. 1. 1. 1. 1. 1. 1. 1. 0. 1. 0. 1. 1. 1. 1. 1. 0. 1. 1. 0. 1.\n",
            " 0. 1. 0. 1. 1. 1. 0. 1. 1. 0. 1. 1.] [0. 0. 1. 0. 1. 0. 1. 1. 1. 1. 1. 1. 1.]\n"
          ]
        }
      ]
    },
    {
      "cell_type": "code",
      "metadata": {
        "colab": {
          "base_uri": "https://localhost:8080/"
        },
        "id": "CzXDJmMxhfkR",
        "outputId": "2c1744d4-7a68-4a68-f483-ecfb3ed0bd1c"
      },
      "source": [
        "from sklearn.neighbors import KNeighborsClassifier\n",
        "kn = KNeighborsClassifier()\n",
        "kn.fit(train_input, train_target)\n",
        "kn.score(test_input, test_target)"
      ],
      "execution_count": null,
      "outputs": [
        {
          "output_type": "execute_result",
          "data": {
            "text/plain": [
              "1.0"
            ]
          },
          "metadata": {},
          "execution_count": 24
        }
      ]
    },
    {
      "cell_type": "code",
      "metadata": {
        "colab": {
          "base_uri": "https://localhost:8080/"
        },
        "id": "zltdZ_u4h-qF",
        "outputId": "90c8bf86-f8d4-4c21-eee4-7ff5aee6a4d1"
      },
      "source": [
        "print(kn.predict([[24,150]]))"
      ],
      "execution_count": null,
      "outputs": [
        {
          "output_type": "stream",
          "name": "stdout",
          "text": [
            "[0.]\n"
          ]
        }
      ]
    },
    {
      "cell_type": "code",
      "metadata": {
        "id": "OgsQUuNbiC2h"
      },
      "source": [
        "import matplotlib.pyplot as plt"
      ],
      "execution_count": null,
      "outputs": []
    },
    {
      "cell_type": "code",
      "metadata": {
        "id": "Jck10fQ1jZ_T",
        "colab": {
          "base_uri": "https://localhost:8080/",
          "height": 279
        },
        "outputId": "9c6baad7-85d9-47c3-f8ac-6f160e23ec78"
      },
      "source": [
        "plt.scatter(train_input[:,0],train_input[:,1])\n",
        "plt.scatter(24,150,marker='^',s=100)\n",
        "plt.xlabel('length')\n",
        "plt.ylabel('weight')\n",
        "plt.show()"
      ],
      "execution_count": 28,
      "outputs": [
        {
          "output_type": "display_data",
          "data": {
            "image/png": "[encoded data removed]",
            "text/plain": [
              "<Figure size 432x288 with 1 Axes>"
            ]
          },
          "metadata": {
            "needs_background": "light"
          }
        }
      ]
    },
    {
      "cell_type": "code",
      "metadata": {
        "id": "tD11DBdHj7dZ"
      },
      "source": [
        "distances, indexes = kn.kneighbors([[24,150]])"
      ],
      "execution_count": 29,
      "outputs": []
    },
    {
      "cell_type": "code",
      "metadata": {
        "colab": {
          "base_uri": "https://localhost:8080/",
          "height": 279
        },
        "id": "CPItGYhZkEjA",
        "outputId": "3267facd-6057-4c8e-ed28-e3166b23ec89"
      },
      "source": [
        "plt.scatter(train_input[indexes,0],train_input[indexes,1], marker='d',s=110)\n",
        "plt.scatter(train_input[:,0],train_input[:,1])\n",
        "plt.scatter(24,150,marker='^',s=100)\n",
        "plt.xlabel('length')\n",
        "plt.ylabel('weight')\n",
        "plt.show()"
      ],
      "execution_count": 33,
      "outputs": [
        {
          "output_type": "display_data",
          "data": {
            "image/png": "[encoded data removed]",
            "text/plain": [
              "<Figure size 432x288 with 1 Axes>"
            ]
          },
          "metadata": {
            "needs_background": "light"
          }
        }
      ]
    },
    {
      "cell_type": "code",
      "metadata": {
        "colab": {
          "base_uri": "https://localhost:8080/"
        },
        "id": "0LW_JhBDkdm0",
        "outputId": "ed58acfa-6d0b-45ef-ca57-3f3d096e732e"
      },
      "source": [
        "print(train_input[indexes])"
      ],
      "execution_count": 34,
      "outputs": [
        {
          "output_type": "stream",
          "name": "stdout",
          "text": [
            "[[[ 25.4 242. ]\n",
            "  [ 15.   19.9]\n",
            "  [ 14.3  19.7]\n",
            "  [ 13.   12.2]\n",
            "  [ 12.2  12.2]]]\n"
          ]
        }
      ]
    },
    {
      "cell_type": "code",
      "metadata": {
        "colab": {
          "base_uri": "https://localhost:8080/"
        },
        "id": "1Djw5L5AlFwE",
        "outputId": "7d89f088-9a59-4386-c89f-0b2645876c87"
      },
      "source": [
        "print(train_target[indexes])"
      ],
      "execution_count": 35,
      "outputs": [
        {
          "output_type": "stream",
          "name": "stdout",
          "text": [
            "[[1. 0. 0. 0. 0.]]\n"
          ]
        }
      ]
    },
    {
      "cell_type": "code",
      "metadata": {
        "colab": {
          "base_uri": "https://localhost:8080/"
        },
        "id": "y3BoKsoHlKnm",
        "outputId": "f6f137df-d125-49b7-e171-f1cf28109a52"
      },
      "source": [
        "print(distances)"
      ],
      "execution_count": 36,
      "outputs": [
        {
          "output_type": "stream",
          "name": "stdout",
          "text": [
            "[[ 92.01065156 130.41092746 130.66055258 138.2383449  138.30430217]]\n"
          ]
        }
      ]
    },
    {
      "cell_type": "code",
      "metadata": {
        "colab": {
          "base_uri": "https://localhost:8080/",
          "height": 279
        },
        "id": "v4X_ZqEslQAk",
        "outputId": "a894e3c1-7431-4893-f266-7600e2c57c3f"
      },
      "source": [
        "plt.scatter(train_input[:,0], train_input[:,1])\n",
        "plt.scatter(25,150,marker='^')\n",
        "plt.scatter(train_input[indexes,0],train_input[indexes,1], marker='D')\n",
        "plt.xlim((0,1000))\n",
        "plt.xlabel('length')\n",
        "plt.ylabel('weight')\n",
        "plt.show()"
      ],
      "execution_count": 37,
      "outputs": [
        {
          "output_type": "display_data",
          "data": {
            "image/png": "[encoded data removed]",
            "text/plain": [
              "<Figure size 432x288 with 1 Axes>"
            ]
          },
          "metadata": {
            "needs_background": "light"
          }
        }
      ]
    },
    {
      "cell_type": "code",
      "metadata": {
        "colab": {
          "base_uri": "https://localhost:8080/"
        },
        "id": "AapWZeFGl3pG",
        "outputId": "0ca10e8f-59fc-442b-96d9-9a0eaff7d6ce"
      },
      "source": [
        "mean= np.mean(train_input, axis=0)\n",
        "std=np.std(train_input,axis=0)\n",
        "print(mean, std)"
      ],
      "execution_count": 38,
      "outputs": [
        {
          "output_type": "stream",
          "name": "stdout",
          "text": [
            "[ 27.29722222 454.09722222] [  9.98244253 323.29893931]\n"
          ]
        }
      ]
    },
    {
      "cell_type": "code",
      "metadata": {
        "colab": {
          "base_uri": "https://localhost:8080/"
        },
        "id": "ipDQSCaOm9Wq",
        "outputId": "7aadc7d0-ad13-4d24-b3ef-c5f02940faf6"
      },
      "source": [
        "train_scaled = (train_input - mean ) / std \n",
        "\n",
        "print(train_scaled)"
      ],
      "execution_count": 39,
      "outputs": [
        {
          "output_type": "stream",
          "name": "stdout",
          "text": [
            "[[ 0.24070039  0.14198246]\n",
            " [-1.51237757 -1.36683783]\n",
            " [ 0.5712808   0.76060496]\n",
            " [-1.60253587 -1.37766373]\n",
            " [ 1.22242404  1.45655528]\n",
            " [ 0.17057727 -0.07453542]\n",
            " [ 0.87180845  0.80390854]\n",
            " [ 0.87180845  1.22457184]\n",
            " [ 0.37092904  0.06465464]\n",
            " [ 0.77163257  0.82246721]\n",
            " [ 0.97198434  1.68853872]\n",
            " [-1.61255346 -1.3742613 ]\n",
            " [ 0.72154463  0.51315596]\n",
            " [-1.53241275 -1.3742613 ]\n",
            " [ 0.17057727 -0.28177396]\n",
            " [ 0.5712808   0.76060496]\n",
            " [ 0.34087627  0.14198246]\n",
            " [ 1.12224816  1.54934866]\n",
            " [ 0.62136874  0.60594934]\n",
            " [-1.30200822 -1.34363949]\n",
            " [ 0.42101698  0.14198246]\n",
            " [-0.19005591 -0.65604058]\n",
            " [-1.75279969 -1.38384995]\n",
            " [ 0.47110492  0.45129371]\n",
            " [-1.68267658 -1.38137546]\n",
            " [ 0.62136874  0.48222484]\n",
            " [-1.67265899 -1.38292202]\n",
            " [ 0.77163257  0.76060496]\n",
            " [ 0.47110492  0.45129371]\n",
            " [ 0.77163257  0.83793278]\n",
            " [-1.43223687 -1.36683783]\n",
            " [ 0.27075315 -0.01267317]\n",
            " [ 0.47110492 -0.35291555]\n",
            " [-1.2318851  -1.34302087]\n",
            " [ 0.27075315 -0.19825992]\n",
            " [ 1.37268787  1.61121091]]\n"
          ]
        }
      ]
    },
    {
      "cell_type": "code",
      "metadata": {
        "colab": {
          "base_uri": "https://localhost:8080/",
          "height": 279
        },
        "id": "DpnnOtWFq1j8",
        "outputId": "8c0214a6-b2a6-4f1b-b2de-37ec514a1e48"
      },
      "source": [
        "plt.scatter(train_scaled[:,0], train_scaled[:,1])\n",
        "plt.scatter(25,150, marker='^')\n",
        "plt.xlabel('length')\n",
        "plt.ylabel('weight')\n",
        "plt.show()"
      ],
      "execution_count": 41,
      "outputs": [
        {
          "output_type": "display_data",
          "data": {
            "image/png": "[encoded data removed]",
            "text/plain": [
              "<Figure size 432x288 with 1 Axes>"
            ]
          },
          "metadata": {
            "needs_background": "light"
          }
        }
      ]
    },
    {
      "cell_type": "code",
      "metadata": {
        "colab": {
          "base_uri": "https://localhost:8080/",
          "height": 279
        },
        "id": "wLOCy-TIrNdq",
        "outputId": "bea6ad0f-bcab-4593-8b1c-f6ac0d341ee5"
      },
      "source": [
        "plt.scatter(train_scaled[:,0], train_scaled[:,1])\n",
        "new=([25,150]-mean)/std\n",
        "plt.scatter(new[0],new[1], marker='^')\n",
        "plt.xlabel('length')\n",
        "plt.ylabel('weight')\n",
        "plt.show()"
      ],
      "execution_count": 42,
      "outputs": [
        {
          "output_type": "display_data",
          "data": {
            "image/png": "[encoded data removed]",
            "text/plain": [
              "<Figure size 432x288 with 1 Axes>"
            ]
          },
          "metadata": {
            "needs_background": "light"
          }
        }
      ]
    },
    {
      "cell_type": "code",
      "metadata": {
        "colab": {
          "base_uri": "https://localhost:8080/"
        },
        "id": "wi2FNY5rr_Uf",
        "outputId": "04b3a3d2-67e3-4eb5-910e-05b6626aee2a"
      },
      "source": [
        "kn.fit(train_scaled, train_target)"
      ],
      "execution_count": 43,
      "outputs": [
        {
          "output_type": "execute_result",
          "data": {
            "text/plain": [
              "KNeighborsClassifier(algorithm='auto', leaf_size=30, metric='minkowski',\n",
              "                     metric_params=None, n_jobs=None, n_neighbors=5, p=2,\n",
              "                     weights='uniform')"
            ]
          },
          "metadata": {},
          "execution_count": 43
        }
      ]
    },
    {
      "cell_type": "code",
      "metadata": {
        "colab": {
          "base_uri": "https://localhost:8080/"
        },
        "id": "fICwFigZsKoq",
        "outputId": "9b36c331-05e2-44bf-d815-3eb39826aedb"
      },
      "source": [
        "test_scaled= (test_input- mean) /std\n",
        "print(test_scaled)"
      ],
      "execution_count": 44,
      "outputs": [
        {
          "output_type": "stream",
          "name": "stdout",
          "text": [
            "[[-1.63258863 -1.37457062]\n",
            " [-1.55244793 -1.37395199]\n",
            " [ 0.24070039 -0.01267317]\n",
            " [-1.55244793 -1.37364268]\n",
            " [-0.07986244 -0.35291555]\n",
            " [-1.4923424  -1.3631261 ]\n",
            " [ 0.67145669  0.71420828]\n",
            " [ 0.67145669  0.3739659 ]\n",
            " [ 1.12224816  1.44108972]\n",
            " [ 0.77163257  0.69874271]\n",
            " [-0.09989762 -0.50757117]\n",
            " [ 0.37092904  0.14198246]\n",
            " [ 1.37268787  1.5338831 ]]\n"
          ]
        }
      ]
    },
    {
      "cell_type": "code",
      "metadata": {
        "colab": {
          "base_uri": "https://localhost:8080/"
        },
        "id": "HQWG7PQDuLNo",
        "outputId": "cd59b7ad-74c5-4d09-de37-bd4e762efbee"
      },
      "source": [
        "kn.score(test_scaled, test_target)"
      ],
      "execution_count": 45,
      "outputs": [
        {
          "output_type": "execute_result",
          "data": {
            "text/plain": [
              "1.0"
            ]
          },
          "metadata": {},
          "execution_count": 45
        }
      ]
    },
    {
      "cell_type": "code",
      "metadata": {
        "colab": {
          "base_uri": "https://localhost:8080/"
        },
        "id": "HI6N998YuRLC",
        "outputId": "627a1e1f-cb81-4a18-e762-6fd07cfb2ac8"
      },
      "source": [
        "print(kn.predict([new]))"
      ],
      "execution_count": 47,
      "outputs": [
        {
          "output_type": "stream",
          "name": "stdout",
          "text": [
            "[1.]\n"
          ]
        }
      ]
    },
    {
      "cell_type": "code",
      "metadata": {
        "id": "4shZpYNluVwK"
      },
      "source": [
        "distances, indexes = kn.kneighbors([new])"
      ],
      "execution_count": 48,
      "outputs": []
    },
    {
      "cell_type": "code",
      "metadata": {
        "colab": {
          "base_uri": "https://localhost:8080/",
          "height": 279
        },
        "id": "-lNafp13ufti",
        "outputId": "e0afea37-97ac-4281-c48c-82519552932a"
      },
      "source": [
        "plt.scatter(train_scaled[:,0],train_scaled[:,1])\n",
        "plt.scatter(new[0],new[1],marker='^')\n",
        "plt.scatter(train_scaled[indexes,0],train_scaled[indexes,1],marker='D')\n",
        "plt.xlabel('length')\n",
        "plt.ylabel('weight')\n",
        "plt.show()"
      ],
      "execution_count": 49,
      "outputs": [
        {
          "output_type": "display_data",
          "data": {
            "image/png": "[encoded data removed]",
            "text/plain": [
              "<Figure size 432x288 with 1 Axes>"
            ]
          },
          "metadata": {
            "needs_background": "light"
          }
        }
      ]
    },
    {
      "cell_type": "code",
      "metadata": {
        "id": "s1iftt-3u8-1"
      },
      "source": [
        "import numpy as np\n",
        "\n",
        "perch_length = np.array(\n",
        "    [8.4, 13.7, 15.0, 16.2, 17.4, 18.0, 18.7, 19.0, 19.6, 20.0, \n",
        "     21.0, 21.0, 21.0, 21.3, 22.0, 22.0, 22.0, 22.0, 22.0, 22.5, \n",
        "     22.5, 22.7, 23.0, 23.5, 24.0, 24.0, 24.6, 25.0, 25.6, 26.5, \n",
        "     27.3, 27.5, 27.5, 27.5, 28.0, 28.7, 30.0, 32.8, 34.5, 35.0, \n",
        "     36.5, 36.0, 37.0, 37.0, 39.0, 39.0, 39.0, 40.0, 40.0, 40.0, \n",
        "     40.0, 42.0, 43.0, 43.0, 43.5, 44.0]\n",
        "     )\n",
        "perch_weight = np.array(\n",
        "    [5.9, 32.0, 40.0, 51.5, 70.0, 100.0, 78.0, 80.0, 85.0, 85.0, \n",
        "     110.0, 115.0, 125.0, 130.0, 120.0, 120.0, 130.0, 135.0, 110.0, \n",
        "     130.0, 150.0, 145.0, 150.0, 170.0, 225.0, 145.0, 188.0, 180.0, \n",
        "     197.0, 218.0, 300.0, 260.0, 265.0, 250.0, 250.0, 300.0, 320.0, \n",
        "     514.0, 556.0, 840.0, 685.0, 700.0, 700.0, 690.0, 900.0, 650.0, \n",
        "     820.0, 850.0, 900.0, 1015.0, 820.0, 1100.0, 1000.0, 1100.0, \n",
        "     1000.0, 1000.0]\n",
        "     )"
      ],
      "execution_count": 51,
      "outputs": []
    },
    {
      "cell_type": "code",
      "metadata": {
        "colab": {
          "base_uri": "https://localhost:8080/"
        },
        "id": "yS71P_UA0NIR",
        "outputId": "0e201204-ccaa-48ad-e0dc-578451570a56"
      },
      "source": [
        "import matplotlib.pyplot as plt\n",
        "print(perch_length)\n",
        "print(perch_weight)"
      ],
      "execution_count": 55,
      "outputs": [
        {
          "output_type": "stream",
          "name": "stdout",
          "text": [
            "[ 8.4 13.7 15.  16.2 17.4 18.  18.7 19.  19.6 20.  21.  21.  21.  21.3\n",
            " 22.  22.  22.  22.  22.  22.5 22.5 22.7 23.  23.5 24.  24.  24.6 25.\n",
            " 25.6 26.5 27.3 27.5 27.5 27.5 28.  28.7 30.  32.8 34.5 35.  36.5 36.\n",
            " 37.  37.  39.  39.  39.  40.  40.  40.  40.  42.  43.  43.  43.5 44. ]\n",
            "[   5.9   32.    40.    51.5   70.   100.    78.    80.    85.    85.\n",
            "  110.   115.   125.   130.   120.   120.   130.   135.   110.   130.\n",
            "  150.   145.   150.   170.   225.   145.   188.   180.   197.   218.\n",
            "  300.   260.   265.   250.   250.   300.   320.   514.   556.   840.\n",
            "  685.   700.   700.   690.   900.   650.   820.   850.   900.  1015.\n",
            "  820.  1100.  1000.  1100.  1000.  1000. ]\n"
          ]
        }
      ]
    },
    {
      "cell_type": "code",
      "metadata": {
        "colab": {
          "base_uri": "https://localhost:8080/",
          "height": 279
        },
        "id": "0gAYikSd0UzZ",
        "outputId": "83a7824b-87df-4907-9365-2969aff06d0e"
      },
      "source": [
        "plt.scatter(perch_length, perch_weight)\n",
        "plt.xlabel('length')\n",
        "plt.ylabel('weight')\n",
        "plt.show()"
      ],
      "execution_count": 54,
      "outputs": [
        {
          "output_type": "display_data",
          "data": {
            "image/png": "[encoded data removed]",
            "text/plain": [
              "<Figure size 432x288 with 1 Axes>"
            ]
          },
          "metadata": {
            "needs_background": "light"
          }
        }
      ]
    },
    {
      "cell_type": "code",
      "metadata": {
        "id": "k4tVlAHR0kRC"
      },
      "source": [
        "from  sklearn.model_selection import train_test_split\n",
        "train_input , test_input, train_target, test_target = train_test_split(perch_length, perch_weight , random_state= 42)"
      ],
      "execution_count": 56,
      "outputs": []
    },
    {
      "cell_type": "code",
      "metadata": {
        "colab": {
          "base_uri": "https://localhost:8080/"
        },
        "id": "h2bQ_nPW4ZwQ",
        "outputId": "d2962d63-0ec4-476b-cbcd-277ae37f1e85"
      },
      "source": [
        "test_array=np.array([1,2,3,4])\n",
        "print(test_array)\n",
        "print(test_array.shape)"
      ],
      "execution_count": 68,
      "outputs": [
        {
          "output_type": "stream",
          "name": "stdout",
          "text": [
            "[1 2 3 4]\n",
            "(4,)\n"
          ]
        }
      ]
    },
    {
      "cell_type": "code",
      "metadata": {
        "colab": {
          "base_uri": "https://localhost:8080/"
        },
        "id": "6bE6w5xX4i8i",
        "outputId": "1e25c4c8-9136-4caf-d68a-ba3b3941cc9a"
      },
      "source": [
        "test_array= test_array.reshape(-1,2)\n",
        "print(test_array)\n",
        "print(test_array.shape)"
      ],
      "execution_count": 72,
      "outputs": [
        {
          "output_type": "stream",
          "name": "stdout",
          "text": [
            "[[1 2]\n",
            " [3 4]]\n",
            "(2, 2)\n"
          ]
        }
      ]
    },
    {
      "cell_type": "code",
      "metadata": {
        "colab": {
          "base_uri": "https://localhost:8080/"
        },
        "id": "NaV9V2M94vih",
        "outputId": "cef310c0-2542-41c8-b892-033dbbd5edd5"
      },
      "source": [
        "train_input=train_input.reshape(-1,1)\n",
        "test_input= test_input.reshape(-1,1)\n",
        "print(train_input, test_input)\n",
        "print(train_input.shape,test_input.shape)"
      ],
      "execution_count": 74,
      "outputs": [
        {
          "output_type": "stream",
          "name": "stdout",
          "text": [
            "[[19.6]\n",
            " [22. ]\n",
            " [18.7]\n",
            " [17.4]\n",
            " [36. ]\n",
            " [25. ]\n",
            " [40. ]\n",
            " [39. ]\n",
            " [43. ]\n",
            " [22. ]\n",
            " [20. ]\n",
            " [22. ]\n",
            " [24. ]\n",
            " [27.5]\n",
            " [43. ]\n",
            " [40. ]\n",
            " [24. ]\n",
            " [21. ]\n",
            " [27.5]\n",
            " [40. ]\n",
            " [32.8]\n",
            " [26.5]\n",
            " [36.5]\n",
            " [13.7]\n",
            " [22.7]\n",
            " [15. ]\n",
            " [37. ]\n",
            " [35. ]\n",
            " [28.7]\n",
            " [23.5]\n",
            " [39. ]\n",
            " [21. ]\n",
            " [23. ]\n",
            " [22. ]\n",
            " [44. ]\n",
            " [22.5]\n",
            " [19. ]\n",
            " [37. ]\n",
            " [22. ]\n",
            " [25.6]\n",
            " [42. ]\n",
            " [34.5]] [[ 8.4]\n",
            " [18. ]\n",
            " [27.5]\n",
            " [21.3]\n",
            " [22.5]\n",
            " [40. ]\n",
            " [30. ]\n",
            " [24.6]\n",
            " [39. ]\n",
            " [21. ]\n",
            " [43.5]\n",
            " [16.2]\n",
            " [28. ]\n",
            " [27.3]]\n",
            "(42, 1) (14, 1)\n"
          ]
        }
      ]
    },
    {
      "cell_type": "code",
      "metadata": {
        "id": "vJXkfo-S5jZ4"
      },
      "source": [
        "from sklearn.neighbors import KNeighborsRegressor"
      ],
      "execution_count": 76,
      "outputs": []
    },
    {
      "cell_type": "code",
      "metadata": {
        "colab": {
          "base_uri": "https://localhost:8080/"
        },
        "id": "UjGu_0au50xv",
        "outputId": "7235d343-fec7-45ad-aad7-ac602eacf61a"
      },
      "source": [
        "knr =KNeighborsRegressor()\n",
        "knr.fit(train_input, train_target)\n",
        "print(knr.score(test_input, test_target))"
      ],
      "execution_count": 77,
      "outputs": [
        {
          "output_type": "stream",
          "name": "stdout",
          "text": [
            "0.9928094061010639\n"
          ]
        }
      ]
    },
    {
      "cell_type": "code",
      "metadata": {
        "id": "8028vV-76HwJ"
      },
      "source": [
        "from sklearn.metrics import mean_absolute_error"
      ],
      "execution_count": 78,
      "outputs": []
    },
    {
      "cell_type": "code",
      "metadata": {
        "colab": {
          "base_uri": "https://localhost:8080/"
        },
        "id": "2-IPgeff67Od",
        "outputId": "e2628ba0-4206-486c-8423-3478bb52be04"
      },
      "source": [
        "test_prediction= knr.predict(test_input)\n",
        "print(test_prediction)"
      ],
      "execution_count": 80,
      "outputs": [
        {
          "output_type": "stream",
          "name": "stdout",
          "text": [
            "[  60.    79.6  248.   122.   136.   847.   311.4  183.4  847.   113.\n",
            " 1010.    60.   248.   248. ]\n"
          ]
        }
      ]
    },
    {
      "cell_type": "code",
      "metadata": {
        "colab": {
          "base_uri": "https://localhost:8080/"
        },
        "id": "AAs3PMmg7HS1",
        "outputId": "1d907fae-c030-471c-d4d3-57e91d4ac5cc"
      },
      "source": [
        "mae = mean_absolute_error(test_target, test_prediction)\n",
        "print(mae)\n",
        "\n",
        "# 예측값보다 19g 정도 차이가 남.        "
      ],
      "execution_count": 81,
      "outputs": [
        {
          "output_type": "stream",
          "name": "stdout",
          "text": [
            "19.157142857142862\n"
          ]
        }
      ]
    },
    {
      "cell_type": "code",
      "metadata": {
        "colab": {
          "base_uri": "https://localhost:8080/"
        },
        "id": "GxcHyBTH7fEv",
        "outputId": "debdd1a2-fc14-4df3-be2e-2cf928ec8da6"
      },
      "source": [
        "print(knr.score(train_input , train_target))"
      ],
      "execution_count": 82,
      "outputs": [
        {
          "output_type": "stream",
          "name": "stdout",
          "text": [
            "0.9698823289099255\n"
          ]
        }
      ]
    },
    {
      "cell_type": "code",
      "metadata": {
        "id": "WBXz9SuP73Od"
      },
      "source": [
        "knr.n_neighbors=3"
      ],
      "execution_count": 83,
      "outputs": []
    },
    {
      "cell_type": "code",
      "metadata": {
        "colab": {
          "base_uri": "https://localhost:8080/"
        },
        "id": "YrusWVcf79I7",
        "outputId": "d4f33d85-593a-4793-8f31-653e193d0137"
      },
      "source": [
        "knr.fit(train_input, train_target)\n",
        "print(knr.score(test_input, test_target))"
      ],
      "execution_count": 84,
      "outputs": [
        {
          "output_type": "stream",
          "name": "stdout",
          "text": [
            "0.974645996398761\n"
          ]
        }
      ]
    },
    {
      "cell_type": "code",
      "metadata": {
        "colab": {
          "base_uri": "https://localhost:8080/"
        },
        "id": "08i-szZl8DzZ",
        "outputId": "efced206-ff04-4b4f-d069-846c26f5674c"
      },
      "source": [
        "print(knr.score(train_input, train_target))"
      ],
      "execution_count": 85,
      "outputs": [
        {
          "output_type": "stream",
          "name": "stdout",
          "text": [
            "0.9804899950518966\n"
          ]
        }
      ]
    },
    {
      "cell_type": "code",
      "metadata": {
        "id": "kkEP06sr-Kl4"
      },
      "source": [
        ""
      ],
      "execution_count": null,
      "outputs": []
    },
    {
      "cell_type": "code",
      "metadata": {
        "id": "Ts6omwDF-KtI"
      },
      "source": [
        ""
      ],
      "execution_count": null,
      "outputs": []
    },
    {
      "cell_type": "code",
      "metadata": {
        "colab": {
          "base_uri": "https://localhost:8080/",
          "height": 265
        },
        "id": "_f4x1q9o8JSy",
        "outputId": "5e7aac72-e86d-453c-e7cd-beae9cfec94d"
      },
      "source": [
        "plt.scatter(train_input[:],train_input[:])\n",
        "plt.scatter(test_input[:],test_input[:], marker='^')\n",
        "plt.show()"
      ],
      "execution_count": 90,
      "outputs": [
        {
          "output_type": "display_data",
          "data": {
            "image/png": "[encoded data removed]",
            "text/plain": [
              "<Figure size 432x288 with 1 Axes>"
            ]
          },
          "metadata": {
            "needs_background": "light"
          }
        }
      ]
    },
    {
      "cell_type": "code",
      "metadata": {
        "id": "-xmXDKQd87IC"
      },
      "source": [
        "knr - KNeigh"
      ],
      "execution_count": null,
      "outputs": []
    }
  ]
}