{
  "nbformat": 4,
  "nbformat_minor": 0,
  "metadata": {
    "colab": {
      "name": "20211018_이재관.ipynb",
      "provenance": [],
      "collapsed_sections": [],
      "authorship_tag": "ABX9TyOiL3rjrPoV7bqKY1iFKM1U",
      "include_colab_link": true
    },
    "kernelspec": {
      "name": "python3",
      "display_name": "Python 3"
    },
    "language_info": {
      "name": "python"
    }
  },
  "cells": [
    {
      "cell_type": "markdown",
      "metadata": {
        "id": "view-in-github",
        "colab_type": "text"
      },
      "source": [
        "<a href=\"https://colab.research.google.com/github/JamesLeeeeeee/machineLearning_practice/blob/master/20211018_%EC%9D%B4%EC%9E%AC%EA%B4%80.ipynb\" target=\"_parent\"><img src=\"https://colab.research.google.com/assets/colab-badge.svg\" alt=\"Open In Colab\"/></a>"
      ]
    },
    {
      "cell_type": "code",
      "metadata": {
        "id": "G1W4VaQc7EZo"
      },
      "source": [
        "\n",
        "import numpy as np\n",
        "\n",
        "perch_length = np.array(\n",
        "    [8.4, 13.7, 15.0, 16.2, 17.4, 18.0, 18.7, 19.0, 19.6, 20.0, \n",
        "     21.0, 21.0, 21.0, 21.3, 22.0, 22.0, 22.0, 22.0, 22.0, 22.5, \n",
        "     22.5, 22.7, 23.0, 23.5, 24.0, 24.0, 24.6, 25.0, 25.6, 26.5, \n",
        "     27.3, 27.5, 27.5, 27.5, 28.0, 28.7, 30.0, 32.8, 34.5, 35.0, \n",
        "     36.5, 36.0, 37.0, 37.0, 39.0, 39.0, 39.0, 40.0, 40.0, 40.0, \n",
        "     40.0, 42.0, 43.0, 43.0, 43.5, 44.0]\n",
        "     )\n",
        "perch_weight = np.array(\n",
        "    [5.9, 32.0, 40.0, 51.5, 70.0, 100.0, 78.0, 80.0, 85.0, 85.0, \n",
        "     110.0, 115.0, 125.0, 130.0, 120.0, 120.0, 130.0, 135.0, 110.0, \n",
        "     130.0, 150.0, 145.0, 150.0, 170.0, 225.0, 145.0, 188.0, 180.0, \n",
        "     197.0, 218.0, 300.0, 260.0, 265.0, 250.0, 250.0, 300.0, 320.0, \n",
        "     514.0, 556.0, 840.0, 685.0, 700.0, 700.0, 690.0, 900.0, 650.0, \n",
        "     820.0, 850.0, 900.0, 1015.0, 820.0, 1100.0, 1000.0, 1100.0, \n",
        "     1000.0, 1000.0]\n",
        "     )"
      ],
      "execution_count": 1,
      "outputs": []
    },
    {
      "cell_type": "code",
      "metadata": {
        "id": "kt32dt8V-3r5"
      },
      "source": [
        "from sklearn.model_selection import train_test_split"
      ],
      "execution_count": 2,
      "outputs": []
    },
    {
      "cell_type": "code",
      "metadata": {
        "id": "ItqArwPD_FHl"
      },
      "source": [
        "train_input, test_input, train_target, test_target= train_test_split(perch_length, perch_weight, random_state=42)"
      ],
      "execution_count": 3,
      "outputs": []
    },
    {
      "cell_type": "code",
      "metadata": {
        "id": "jyVtgMHP_SDg"
      },
      "source": [
        "train_input = train_input.reshape(-1,1)\n",
        "test_input=test_input.reshape(-1,1)"
      ],
      "execution_count": 4,
      "outputs": []
    },
    {
      "cell_type": "code",
      "metadata": {
        "id": "wyW4ZLnv_n12"
      },
      "source": [
        "from sklearn.neighbors import KNeighborsRegressor"
      ],
      "execution_count": 5,
      "outputs": []
    },
    {
      "cell_type": "code",
      "metadata": {
        "colab": {
          "base_uri": "https://localhost:8080/"
        },
        "id": "2HyDgNvL_udz",
        "outputId": "9ed7ad25-ce33-4ee5-c67f-27bb644ea3fe"
      },
      "source": [
        "knr= KNeighborsRegressor(n_neighbors= 3)\n",
        "knr.fit(train_input, train_target)"
      ],
      "execution_count": 6,
      "outputs": [
        {
          "output_type": "execute_result",
          "data": {
            "text/plain": [
              "KNeighborsRegressor(algorithm='auto', leaf_size=30, metric='minkowski',\n",
              "                    metric_params=None, n_jobs=None, n_neighbors=3, p=2,\n",
              "                    weights='uniform')"
            ]
          },
          "metadata": {},
          "execution_count": 6
        }
      ]
    },
    {
      "cell_type": "code",
      "metadata": {
        "colab": {
          "base_uri": "https://localhost:8080/"
        },
        "id": "oiAQJhNC_3pj",
        "outputId": "39bd9e35-84de-4549-9399-8dac093cd462"
      },
      "source": [
        "knr.score(test_input, test_target)"
      ],
      "execution_count": 7,
      "outputs": [
        {
          "output_type": "execute_result",
          "data": {
            "text/plain": [
              "0.974645996398761"
            ]
          },
          "metadata": {},
          "execution_count": 7
        }
      ]
    },
    {
      "cell_type": "code",
      "metadata": {
        "colab": {
          "base_uri": "https://localhost:8080/"
        },
        "id": "OS6R3dxG_6kU",
        "outputId": "2b9923d9-88d4-42c5-c026-33fb29a76161"
      },
      "source": [
        "knr.predict([[50]])"
      ],
      "execution_count": 8,
      "outputs": [
        {
          "output_type": "execute_result",
          "data": {
            "text/plain": [
              "array([1033.33333333])"
            ]
          },
          "metadata": {},
          "execution_count": 8
        }
      ]
    },
    {
      "cell_type": "code",
      "metadata": {
        "id": "OC8O-7oh__Gz"
      },
      "source": [
        "import matplotlib.pyplot as plt"
      ],
      "execution_count": 9,
      "outputs": []
    },
    {
      "cell_type": "code",
      "metadata": {
        "colab": {
          "base_uri": "https://localhost:8080/",
          "height": 279
        },
        "id": "74vTgARVAMFZ",
        "outputId": "89146082-6c5e-4b1e-855e-90b99b0ac327"
      },
      "source": [
        "distances, indexes = knr.kneighbors([[50]])\n",
        "plt.scatter(train_input, train_target)\n",
        "plt.scatter(train_input[indexes],train_target[indexes], marker='D')\n",
        "\n",
        "plt.scatter(50,1033, marker='^')\n",
        "plt.xlabel('length')\n",
        "plt.ylabel('weight')\n",
        "plt.show()"
      ],
      "execution_count": 10,
      "outputs": [
        {
          "output_type": "display_data",
          "data": {
            "image/png": "[encoded data removed]",
            "text/plain": [
              "<Figure size 432x288 with 1 Axes>"
            ]
          },
          "metadata": {
            "needs_background": "light"
          }
        }
      ]
    },
    {
      "cell_type": "code",
      "metadata": {
        "colab": {
          "base_uri": "https://localhost:8080/"
        },
        "id": "5hJJI8N6BIHr",
        "outputId": "c825d1be-7bb4-4dc4-f66d-dee1ba7cbdb0"
      },
      "source": [
        "print(np.mean(train_target[indexes]))"
      ],
      "execution_count": 11,
      "outputs": [
        {
          "output_type": "stream",
          "name": "stdout",
          "text": [
            "1033.3333333333333\n"
          ]
        }
      ]
    },
    {
      "cell_type": "code",
      "metadata": {
        "colab": {
          "base_uri": "https://localhost:8080/"
        },
        "id": "SJ1KPGA_BL4W",
        "outputId": "83642453-60a2-4482-fc76-7621daa39211"
      },
      "source": [
        "print(knr.predict([[100]]))"
      ],
      "execution_count": 12,
      "outputs": [
        {
          "output_type": "stream",
          "name": "stdout",
          "text": [
            "[1033.33333333]\n"
          ]
        }
      ]
    },
    {
      "cell_type": "code",
      "metadata": {
        "colab": {
          "base_uri": "https://localhost:8080/",
          "height": 279
        },
        "id": "aFXoVehzBUGF",
        "outputId": "8f0cfdb0-e120-4617-86da-f0d7d99436c0"
      },
      "source": [
        "distances, indexes = knr.kneighbors([[100]])\n",
        "\n",
        "plt.scatter(train_input, train_target)\n",
        "plt.scatter(train_input[indexes], train_target[indexes], marker='D')\n",
        "plt.scatter(100,1033, marker='^')\n",
        "plt.xlabel('weight')\n",
        "plt.ylabel('length')\n",
        "plt.show()"
      ],
      "execution_count": 13,
      "outputs": [
        {
          "output_type": "display_data",
          "data": {
            "image/png": "[encoded data removed]",
            "text/plain": [
              "<Figure size 432x288 with 1 Axes>"
            ]
          },
          "metadata": {
            "needs_background": "light"
          }
        }
      ]
    },
    {
      "cell_type": "code",
      "metadata": {
        "id": "O_dhCPm9BULu"
      },
      "source": [
        "from sklearn.linear_model import LinearRegression\n",
        "lr = LinearRegression()"
      ],
      "execution_count": 14,
      "outputs": []
    },
    {
      "cell_type": "code",
      "metadata": {
        "colab": {
          "base_uri": "https://localhost:8080/"
        },
        "id": "Y6brRSnDDybA",
        "outputId": "73910f54-acfc-4a17-8624-0ccd4f59a883"
      },
      "source": [
        "lr.fit(train_input, train_target)\n",
        "print(lr.predict([[100]]))"
      ],
      "execution_count": 16,
      "outputs": [
        {
          "output_type": "stream",
          "name": "stdout",
          "text": [
            "[3192.69585141]\n"
          ]
        }
      ]
    },
    {
      "cell_type": "code",
      "metadata": {
        "colab": {
          "base_uri": "https://localhost:8080/"
        },
        "id": "viJhJchbD3wQ",
        "outputId": "82ab56e7-884b-48bf-8047-72fdb2512d66"
      },
      "source": [
        "print(lr.coef_, lr.intercept_)"
      ],
      "execution_count": 17,
      "outputs": [
        {
          "output_type": "stream",
          "name": "stdout",
          "text": [
            "[39.01714496] -709.0186449535477\n"
          ]
        }
      ]
    },
    {
      "cell_type": "code",
      "metadata": {
        "colab": {
          "base_uri": "https://localhost:8080/",
          "height": 279
        },
        "id": "YvgYAxobD_Ul",
        "outputId": "d296e6c6-d349-448d-c416-5f0025d507f0"
      },
      "source": [
        "plt.scatter(train_input, train_target)\n",
        "plt.scatter(50, 1241.8 , marker='^')\n",
        "plt.plot([15,100],[15*lr.coef_+lr.intercept_, 100*lr.coef_+ lr.intercept_])\n",
        "plt.xlabel('weight')\n",
        "plt.ylabel('length')\n",
        "plt.show()"
      ],
      "execution_count": 19,
      "outputs": [
        {
          "output_type": "display_data",
          "data": {
            "image/png": "[encoded data removed]",
            "text/plain": [
              "<Figure size 432x288 with 1 Axes>"
            ]
          },
          "metadata": {
            "needs_background": "light"
          }
        }
      ]
    },
    {
      "cell_type": "code",
      "metadata": {
        "colab": {
          "base_uri": "https://localhost:8080/"
        },
        "id": "Vgy2zy6OEw84",
        "outputId": "10391264-b138-4dd0-a737-71090b8462dc"
      },
      "source": [
        "print(lr.score(train_input, train_target))\n",
        "print(lr.score(test_input, test_target))"
      ],
      "execution_count": 20,
      "outputs": [
        {
          "output_type": "stream",
          "name": "stdout",
          "text": [
            "0.9398463339976039\n",
            "0.8247503123313558\n"
          ]
        }
      ]
    },
    {
      "cell_type": "code",
      "metadata": {
        "colab": {
          "base_uri": "https://localhost:8080/"
        },
        "id": "d9DHRU18FH2D",
        "outputId": "5c457095-0e3c-47c5-fbce-a5c1afc03a78"
      },
      "source": [
        "train_poly= np.column_stack((train_input**2, train_input))\n",
        "test_poly= np.column_stack((test_input**2, test_input))\n",
        "print(train_poly.shape, test_poly.shape)"
      ],
      "execution_count": 22,
      "outputs": [
        {
          "output_type": "stream",
          "name": "stdout",
          "text": [
            "(42, 2) (14, 2)\n"
          ]
        }
      ]
    },
    {
      "cell_type": "code",
      "metadata": {
        "colab": {
          "base_uri": "https://localhost:8080/"
        },
        "id": "MS7SfAxVF8no",
        "outputId": "757bde0e-6479-471c-a263-6d78131bdad9"
      },
      "source": [
        "lr= LinearRegression()\n",
        "lr.fit(train_poly, train_target)\n",
        "print(lr.predict([[50**2,50]]))"
      ],
      "execution_count": 25,
      "outputs": [
        {
          "output_type": "stream",
          "name": "stdout",
          "text": [
            "[1573.98423528]\n"
          ]
        }
      ]
    },
    {
      "cell_type": "code",
      "metadata": {
        "colab": {
          "base_uri": "https://localhost:8080/"
        },
        "id": "fGh_eaHvH7e6",
        "outputId": "0f9244b9-a8fe-44be-a767-5594d1fe47ae"
      },
      "source": [
        "print(lr.coef_, lr.intercept_)"
      ],
      "execution_count": 26,
      "outputs": [
        {
          "output_type": "stream",
          "name": "stdout",
          "text": [
            "[  1.01433211 -21.55792498] 116.05021078278276\n"
          ]
        }
      ]
    },
    {
      "cell_type": "code",
      "metadata": {
        "id": "nHsK2d3UIY0m"
      },
      "source": [
        "# 무게 = a * 길이**2 + b *길이 + c"
      ],
      "execution_count": 27,
      "outputs": []
    },
    {
      "cell_type": "code",
      "metadata": {
        "colab": {
          "base_uri": "https://localhost:8080/",
          "height": 279
        },
        "id": "t_e9H2x7ImVM",
        "outputId": "5e3e2070-4c97-4fd0-a105-c25b00e22ae5"
      },
      "source": [
        "point= np.arange(15,50)\n",
        "plt.scatter(train_input, train_target)\n",
        "plt.plot(point,1.01*point**2 - 21.6*point + 116.05)\n",
        "plt.scatter(50, 1574 , marker='^')\n",
        "plt.xlabel('weight')\n",
        "plt.ylabel('length')\n",
        "plt.show()"
      ],
      "execution_count": 29,
      "outputs": [
        {
          "output_type": "display_data",
          "data": {
            "image/png": "[encoded data removed]",
            "text/plain": [
              "<Figure size 432x288 with 1 Axes>"
            ]
          },
          "metadata": {
            "needs_background": "light"
          }
        }
      ]
    },
    {
      "cell_type": "code",
      "metadata": {
        "colab": {
          "base_uri": "https://localhost:8080/"
        },
        "id": "SSaFzWGGNVyK",
        "outputId": "2cd935b3-9c03-4c6a-aeee-31363b5a137a"
      },
      "source": [
        "print(lr.score(train_poly, train_target))\n",
        "print(lr.score(test_poly, test_target))"
      ],
      "execution_count": 30,
      "outputs": [
        {
          "output_type": "stream",
          "name": "stdout",
          "text": [
            "0.9706807451768623\n",
            "0.9775935108325122\n"
          ]
        }
      ]
    },
    {
      "cell_type": "code",
      "metadata": {
        "colab": {
          "base_uri": "https://localhost:8080/"
        },
        "id": "Y7-O3epZNdkm",
        "outputId": "e7c308b9-45cd-4c7c-e17e-0f89dc847d69"
      },
      "source": [
        "import pandas as pd\n",
        "df = pd.read_csv('https://bit.ly/perch_csv_data')\n",
        "print(df)"
      ],
      "execution_count": 31,
      "outputs": [
        {
          "output_type": "stream",
          "name": "stdout",
          "text": [
            "    length   height   width\n",
            "0      8.4     2.11    1.41\n",
            "1     13.7     3.53    2.00\n",
            "2     15.0     3.82    2.43\n",
            "3     16.2     4.59    2.63\n",
            "4     17.4     4.59    2.94\n",
            "5     18.0     5.22    3.32\n",
            "6     18.7     5.20    3.12\n",
            "7     19.0     5.64    3.05\n",
            "8     19.6     5.14    3.04\n",
            "9     20.0     5.08    2.77\n",
            "10    21.0     5.69    3.56\n",
            "11    21.0     5.92    3.31\n",
            "12    21.0     5.69    3.67\n",
            "13    21.3     6.38    3.53\n",
            "14    22.0     6.11    3.41\n",
            "15    22.0     5.64    3.52\n",
            "16    22.0     6.11    3.52\n",
            "17    22.0     5.88    3.52\n",
            "18    22.0     5.52    4.00\n",
            "19    22.5     5.86    3.62\n",
            "20    22.5     6.79    3.62\n",
            "21    22.7     5.95    3.63\n",
            "22    23.0     5.22    3.63\n",
            "23    23.5     6.28    3.72\n",
            "24    24.0     7.29    3.72\n",
            "25    24.0     6.38    3.82\n",
            "26    24.6     6.73    4.17\n",
            "27    25.0     6.44    3.68\n",
            "28    25.6     6.56    4.24\n",
            "29    26.5     7.17    4.14\n",
            "30    27.3     8.32    5.14\n",
            "31    27.5     7.17    4.34\n",
            "32    27.5     7.05    4.34\n",
            "33    27.5     7.28    4.57\n",
            "34    28.0     7.82    4.20\n",
            "35    28.7     7.59    4.64\n",
            "36    30.0     7.62    4.77\n",
            "37    32.8    10.03    6.02\n",
            "38    34.5    10.26    6.39\n",
            "39    35.0    11.49    7.80\n",
            "40    36.5    10.88    6.86\n",
            "41    36.0    10.61    6.74\n",
            "42    37.0    10.84    6.26\n",
            "43    37.0    10.57    6.37\n",
            "44    39.0    11.14    7.49\n",
            "45    39.0    11.14    6.00\n",
            "46    39.0    12.43    7.35\n",
            "47    40.0    11.93    7.11\n",
            "48    40.0    11.73    7.22\n",
            "49    40.0    12.38    7.46\n",
            "50    40.0    11.14    6.63\n",
            "51    42.0    12.80    6.87\n",
            "52    43.0    11.93    7.28\n",
            "53    43.0    12.51    7.42\n",
            "54    43.5    12.60    8.14\n",
            "55    44.0    12.49    7.60\n"
          ]
        }
      ]
    },
    {
      "cell_type": "code",
      "metadata": {
        "colab": {
          "base_uri": "https://localhost:8080/"
        },
        "id": "Hjx163u-Su0m",
        "outputId": "e0df0159-dd5e-47e7-d8bb-41bc2297bae1"
      },
      "source": [
        "perch_full= df.to_numpy()\n",
        "print(perch_full)"
      ],
      "execution_count": 33,
      "outputs": [
        {
          "output_type": "stream",
          "name": "stdout",
          "text": [
            "[[ 8.4   2.11  1.41]\n",
            " [13.7   3.53  2.  ]\n",
            " [15.    3.82  2.43]\n",
            " [16.2   4.59  2.63]\n",
            " [17.4   4.59  2.94]\n",
            " [18.    5.22  3.32]\n",
            " [18.7   5.2   3.12]\n",
            " [19.    5.64  3.05]\n",
            " [19.6   5.14  3.04]\n",
            " [20.    5.08  2.77]\n",
            " [21.    5.69  3.56]\n",
            " [21.    5.92  3.31]\n",
            " [21.    5.69  3.67]\n",
            " [21.3   6.38  3.53]\n",
            " [22.    6.11  3.41]\n",
            " [22.    5.64  3.52]\n",
            " [22.    6.11  3.52]\n",
            " [22.    5.88  3.52]\n",
            " [22.    5.52  4.  ]\n",
            " [22.5   5.86  3.62]\n",
            " [22.5   6.79  3.62]\n",
            " [22.7   5.95  3.63]\n",
            " [23.    5.22  3.63]\n",
            " [23.5   6.28  3.72]\n",
            " [24.    7.29  3.72]\n",
            " [24.    6.38  3.82]\n",
            " [24.6   6.73  4.17]\n",
            " [25.    6.44  3.68]\n",
            " [25.6   6.56  4.24]\n",
            " [26.5   7.17  4.14]\n",
            " [27.3   8.32  5.14]\n",
            " [27.5   7.17  4.34]\n",
            " [27.5   7.05  4.34]\n",
            " [27.5   7.28  4.57]\n",
            " [28.    7.82  4.2 ]\n",
            " [28.7   7.59  4.64]\n",
            " [30.    7.62  4.77]\n",
            " [32.8  10.03  6.02]\n",
            " [34.5  10.26  6.39]\n",
            " [35.   11.49  7.8 ]\n",
            " [36.5  10.88  6.86]\n",
            " [36.   10.61  6.74]\n",
            " [37.   10.84  6.26]\n",
            " [37.   10.57  6.37]\n",
            " [39.   11.14  7.49]\n",
            " [39.   11.14  6.  ]\n",
            " [39.   12.43  7.35]\n",
            " [40.   11.93  7.11]\n",
            " [40.   11.73  7.22]\n",
            " [40.   12.38  7.46]\n",
            " [40.   11.14  6.63]\n",
            " [42.   12.8   6.87]\n",
            " [43.   11.93  7.28]\n",
            " [43.   12.51  7.42]\n",
            " [43.5  12.6   8.14]\n",
            " [44.   12.49  7.6 ]]\n"
          ]
        }
      ]
    },
    {
      "cell_type": "code",
      "metadata": {
        "id": "n8SAYYieS0WR"
      },
      "source": [
        "import numpy as np\n",
        "\n",
        "perch_weight = np.array(\n",
        "    [5.9, 32.0, 40.0, 51.5, 70.0, 100.0, 78.0, 80.0, 85.0, 85.0, \n",
        "     110.0, 115.0, 125.0, 130.0, 120.0, 120.0, 130.0, 135.0, 110.0, \n",
        "     130.0, 150.0, 145.0, 150.0, 170.0, 225.0, 145.0, 188.0, 180.0, \n",
        "     197.0, 218.0, 300.0, 260.0, 265.0, 250.0, 250.0, 300.0, 320.0, \n",
        "     514.0, 556.0, 840.0, 685.0, 700.0, 700.0, 690.0, 900.0, 650.0, \n",
        "     820.0, 850.0, 900.0, 1015.0, 820.0, 1100.0, 1000.0, 1100.0, \n",
        "     1000.0, 1000.0]\n",
        "     )"
      ],
      "execution_count": 34,
      "outputs": []
    },
    {
      "cell_type": "code",
      "metadata": {
        "id": "2mHLvVq6TJA3"
      },
      "source": [
        "from sklearn.model_selection import train_test_split\n",
        "train_input, test_input, train_target, test_target= train_test_split(perch_full, perch_weight, random_state=42)"
      ],
      "execution_count": 35,
      "outputs": []
    },
    {
      "cell_type": "code",
      "metadata": {
        "id": "OnPYG0UMTbS-"
      },
      "source": [
        "from sklearn.preprocessing import PolynomialFeatures"
      ],
      "execution_count": 36,
      "outputs": []
    },
    {
      "cell_type": "code",
      "metadata": {
        "colab": {
          "base_uri": "https://localhost:8080/"
        },
        "id": "mSw_r9VVTm6u",
        "outputId": "859c1453-84ac-4bb6-a9ef-8f01d5065fc3"
      },
      "source": [
        "poly= PolynomialFeatures()\n",
        "print(poly)\n",
        "print(type(poly))"
      ],
      "execution_count": 39,
      "outputs": [
        {
          "output_type": "stream",
          "name": "stdout",
          "text": [
            "PolynomialFeatures(degree=2, include_bias=True, interaction_only=False,\n",
            "                   order='C')\n",
            "<class 'sklearn.preprocessing._data.PolynomialFeatures'>\n"
          ]
        }
      ]
    },
    {
      "cell_type": "code",
      "metadata": {
        "colab": {
          "base_uri": "https://localhost:8080/"
        },
        "id": "pcPCffu5T9kp",
        "outputId": "7c71b47d-65c4-4733-fec4-bd150a301b74"
      },
      "source": [
        "poly.fit([[2,3]])\n",
        "print(poly.transform([[2,3]]))"
      ],
      "execution_count": 42,
      "outputs": [
        {
          "output_type": "stream",
          "name": "stdout",
          "text": [
            "[[1. 2. 3. 4. 6. 9.]]\n"
          ]
        }
      ]
    },
    {
      "cell_type": "code",
      "metadata": {
        "colab": {
          "base_uri": "https://localhost:8080/"
        },
        "id": "VKxzJI_UUOeK",
        "outputId": "adf909b3-5795-4944-934e-e9f5b6aebfdd"
      },
      "source": [
        "print(poly.fit_transform([[2,3]]))"
      ],
      "execution_count": 44,
      "outputs": [
        {
          "output_type": "stream",
          "name": "stdout",
          "text": [
            "[[1. 2. 3. 4. 6. 9.]]\n"
          ]
        }
      ]
    },
    {
      "cell_type": "code",
      "metadata": {
        "colab": {
          "base_uri": "https://localhost:8080/"
        },
        "id": "jSe-kWCNUpmW",
        "outputId": "38b8b146-ba77-4b64-f59b-8a8a1548f445"
      },
      "source": [
        "poly= PolynomialFeatures(include_bias=False)\n",
        "print(poly.fit_transform([[2,3]]))"
      ],
      "execution_count": 45,
      "outputs": [
        {
          "output_type": "stream",
          "name": "stdout",
          "text": [
            "[[2. 3. 4. 6. 9.]]\n"
          ]
        }
      ]
    },
    {
      "cell_type": "code",
      "metadata": {
        "colab": {
          "base_uri": "https://localhost:8080/"
        },
        "id": "sP-PIP8PVUGz",
        "outputId": "9f9a6fac-229d-492a-a39f-b28d69efe0aa"
      },
      "source": [
        "poly= PolynomialFeatures(include_bias=False)\n",
        "poly.fit(train_input)\n",
        "train_poly = poly.transform(train_input)\n",
        "print(train_poly.shape)"
      ],
      "execution_count": 50,
      "outputs": [
        {
          "output_type": "stream",
          "name": "stdout",
          "text": [
            "(42, 9)\n"
          ]
        }
      ]
    },
    {
      "cell_type": "code",
      "metadata": {
        "colab": {
          "base_uri": "https://localhost:8080/"
        },
        "id": "KnUlcGA0WZmT",
        "outputId": "bc69314b-f934-4174-894a-1adedddcf60c"
      },
      "source": [
        "poly.get_feature_names()"
      ],
      "execution_count": 51,
      "outputs": [
        {
          "output_type": "execute_result",
          "data": {
            "text/plain": [
              "['x0', 'x1', 'x2', 'x0^2', 'x0 x1', 'x0 x2', 'x1^2', 'x1 x2', 'x2^2']"
            ]
          },
          "metadata": {},
          "execution_count": 51
        }
      ]
    },
    {
      "cell_type": "code",
      "metadata": {
        "id": "q4eskh1vWgn0"
      },
      "source": [
        "test_poly= poly.transform(test_input)"
      ],
      "execution_count": 52,
      "outputs": []
    },
    {
      "cell_type": "code",
      "metadata": {
        "colab": {
          "base_uri": "https://localhost:8080/"
        },
        "id": "HSI_N_jhWx27",
        "outputId": "7cbc7832-fbda-47e7-f353-834c23f37211"
      },
      "source": [
        "from sklearn.linear_model import LinearRegression\n",
        "lr= LinearRegression()\n",
        "lr.fit(train_poly, train_target)"
      ],
      "execution_count": 53,
      "outputs": [
        {
          "output_type": "execute_result",
          "data": {
            "text/plain": [
              "LinearRegression(copy_X=True, fit_intercept=True, n_jobs=None, normalize=False)"
            ]
          },
          "metadata": {},
          "execution_count": 53
        }
      ]
    },
    {
      "cell_type": "code",
      "metadata": {
        "colab": {
          "base_uri": "https://localhost:8080/"
        },
        "id": "cFMsITYoXo6i",
        "outputId": "43a4e192-2d4d-424c-e4e8-02b70a5319d1"
      },
      "source": [
        "print(lr.score(train_poly, train_target))\n",
        "print(lr.score(test_poly, test_target))"
      ],
      "execution_count": 55,
      "outputs": [
        {
          "output_type": "stream",
          "name": "stdout",
          "text": [
            "0.9903183436982124\n",
            "0.9714559911594132\n"
          ]
        }
      ]
    },
    {
      "cell_type": "code",
      "metadata": {
        "colab": {
          "base_uri": "https://localhost:8080/"
        },
        "id": "vW1jjdymXu3Z",
        "outputId": "ffd3aaae-e834-4bbd-993a-3058456fcf8f"
      },
      "source": [
        "poly= PolynomialFeatures(degree= 5, include_bias= False)\n",
        "train_poly=poly.fit_transform(train_input)\n",
        "test_poly=poly.transform(test_input)\n",
        "print(train_poly.shape, test_poly.shape)"
      ],
      "execution_count": 56,
      "outputs": [
        {
          "output_type": "stream",
          "name": "stdout",
          "text": [
            "(42, 55) (14, 55)\n"
          ]
        }
      ]
    },
    {
      "cell_type": "code",
      "metadata": {
        "colab": {
          "base_uri": "https://localhost:8080/"
        },
        "id": "tZZ5Vd6va-cY",
        "outputId": "8a0cc47c-a94c-42fd-db32-a09dfbb44c6d"
      },
      "source": [
        "lr.fit(train_poly, train_target)\n",
        "print(lr.score(train_poly, train_target))\n",
        "print(lr.score(test_poly, test_target))"
      ],
      "execution_count": 57,
      "outputs": [
        {
          "output_type": "stream",
          "name": "stdout",
          "text": [
            "0.9999999999991096\n",
            "-144.40579242335605\n"
          ]
        }
      ]
    },
    {
      "cell_type": "code",
      "metadata": {
        "id": "8baA3YqPbLQk"
      },
      "source": [
        "from sklearn.preprocessing import StandardScaler"
      ],
      "execution_count": 58,
      "outputs": []
    },
    {
      "cell_type": "code",
      "metadata": {
        "id": "RYk8mDHJbSx4"
      },
      "source": [
        "ss= StandardScaler()\n",
        "train_scaled= ss.fit_transform(train_poly)\n",
        "test_scaled= ss.transform(test_poly)"
      ],
      "execution_count": 59,
      "outputs": []
    },
    {
      "cell_type": "code",
      "metadata": {
        "colab": {
          "base_uri": "https://localhost:8080/"
        },
        "id": "J8JlkngHbunZ",
        "outputId": "a74c2c33-6da9-40a6-f019-bce871c0c9f7"
      },
      "source": [
        "from sklearn.linear_model import Ridge\n",
        "ridge= Ridge()\n",
        "ridge.fit(train_scaled, train_target)\n",
        "print(ridge.score(train_scaled, train_target))\n",
        "print(ridge.score(test_scaled, test_target))"
      ],
      "execution_count": 60,
      "outputs": [
        {
          "output_type": "stream",
          "name": "stdout",
          "text": [
            "0.9896101671037343\n",
            "0.9790693977615398\n"
          ]
        }
      ]
    },
    {
      "cell_type": "code",
      "metadata": {
        "id": "eInjJtkWcFBr"
      },
      "source": [
        "import matplotlib.pyplot as plt\n",
        "train_score=[]\n",
        "test_score=[]"
      ],
      "execution_count": 61,
      "outputs": []
    },
    {
      "cell_type": "code",
      "metadata": {
        "colab": {
          "base_uri": "https://localhost:8080/"
        },
        "id": "TkoHlTKgcPIy",
        "outputId": "f7fe6276-0209-4bfd-cc72-7dffa8345f46"
      },
      "source": [
        "alpha_list=[0.001, 0.01, 0.1, 1, 10, 100]\n",
        "\n",
        "for alpha in alpha_list:\n",
        "  ridge= Ridge(alpha=alpha)\n",
        "  ridge.fit(train_scaled, train_target)\n",
        "\n",
        "  train_score.append(ridge.score(train_scaled, train_target))\n",
        "  test_score.append(ridge.score(test_scaled, test_target))\n",
        "\n",
        "print(train_score)\n",
        "print(test_score)"
      ],
      "execution_count": 62,
      "outputs": [
        {
          "output_type": "stream",
          "name": "stdout",
          "text": [
            "[0.9930455252088191, 0.9917809981250537, 0.9903815817570366, 0.9896101671037343, 0.988728468997471, 0.9841843235774494]\n",
            "[0.9569388961556662, 0.980018793687313, 0.9827976465386927, 0.9790693977615398, 0.9725329582461568, 0.9627042641050291]\n"
          ]
        }
      ]
    },
    {
      "cell_type": "code",
      "metadata": {
        "colab": {
          "base_uri": "https://localhost:8080/"
        },
        "id": "zwXFOkNEc0p1",
        "outputId": "6f0c227f-31d0-4a44-c43c-eacbabdfe9a8"
      },
      "source": [
        "for i in range(5):\n",
        "  print(train_score[i]-test_score[i])"
      ],
      "execution_count": 64,
      "outputs": [
        {
          "output_type": "stream",
          "name": "stdout",
          "text": [
            "0.03610662905315287\n",
            "0.011762204437740675\n",
            "0.007583935218343885\n",
            "0.0105407693421945\n",
            "0.0161955107513142\n"
          ]
        }
      ]
    },
    {
      "cell_type": "code",
      "metadata": {
        "colab": {
          "base_uri": "https://localhost:8080/",
          "height": 279
        },
        "id": "00KiINAXc7KU",
        "outputId": "769f604d-b37c-40fa-9bf9-b8d283340c58"
      },
      "source": [
        "plt.plot(alpha_list, train_score)\n",
        "plt.plot(alpha_list, test_score)\n",
        "plt.xlabel('alpha')\n",
        "plt.ylabel('R^2')\n",
        "plt.show()"
      ],
      "execution_count": 66,
      "outputs": [
        {
          "output_type": "display_data",
          "data": {
            "image/png": "[encoded data removed]",
            "text/plain": [
              "<Figure size 432x288 with 1 Axes>"
            ]
          },
          "metadata": {
            "needs_background": "light"
          }
        }
      ]
    },
    {
      "cell_type": "code",
      "metadata": {
        "colab": {
          "base_uri": "https://localhost:8080/",
          "height": 279
        },
        "id": "zZrsp2lbdlAH",
        "outputId": "57a2bf3d-3db3-44ee-bb3d-c6e1d0200e1b"
      },
      "source": [
        "plt.plot(np.log(alpha_list), train_score)\n",
        "plt.plot(np.log(alpha_list), test_score)\n",
        "plt.xlabel('alpha')\n",
        "plt.ylabel('R^2')\n",
        "plt.show()"
      ],
      "execution_count": 67,
      "outputs": [
        {
          "output_type": "display_data",
          "data": {
            "image/png": "[encoded data removed]",
            "text/plain": [
              "<Figure size 432x288 with 1 Axes>"
            ]
          },
          "metadata": {
            "needs_background": "light"
          }
        }
      ]
    },
    {
      "cell_type": "code",
      "metadata": {
        "colab": {
          "base_uri": "https://localhost:8080/",
          "height": 279
        },
        "id": "kUvrXpVxdvYC",
        "outputId": "06c1f530-74e4-4ada-c590-e6203e923add"
      },
      "source": [
        "plt.plot(np.log10(alpha_list), train_score)\n",
        "plt.plot(np.log10(alpha_list), test_score)\n",
        "plt.xlabel('alpha')\n",
        "plt.ylabel('R^2')\n",
        "plt.show()"
      ],
      "execution_count": 68,
      "outputs": [
        {
          "output_type": "display_data",
          "data": {
            "image/png": "[encoded data removed]",
            "text/plain": [
              "<Figure size 432x288 with 1 Axes>"
            ]
          },
          "metadata": {
            "needs_background": "light"
          }
        }
      ]
    },
    {
      "cell_type": "code",
      "metadata": {
        "colab": {
          "base_uri": "https://localhost:8080/"
        },
        "id": "za55ikW1dzMV",
        "outputId": "78e25e5c-5cb5-4974-d681-b40e447ae4a8"
      },
      "source": [
        "ridge= Ridge(alpha=0.1)\n",
        "ridge.fit(train_scaled, train_target)\n",
        "print(ridge.score(train_scaled, train_target))\n",
        "print(ridge.score(test_scaled, test_target))"
      ],
      "execution_count": 69,
      "outputs": [
        {
          "output_type": "stream",
          "name": "stdout",
          "text": [
            "0.9903815817570366\n",
            "0.9827976465386927\n"
          ]
        }
      ]
    },
    {
      "cell_type": "code",
      "metadata": {
        "colab": {
          "base_uri": "https://localhost:8080/"
        },
        "id": "ZEXMaSk4fDws",
        "outputId": "00d8bb0b-cc30-45d6-cc6f-47157b6da5b7"
      },
      "source": [
        "from sklearn.linear_model import Lasso \n",
        "lasso= Lasso()\n",
        "lasso.fit(train_scaled, train_target)\n",
        "print(lasso.score(train_scaled, train_target))\n",
        "print(lasso.score(test_scaled, test_target))"
      ],
      "execution_count": 70,
      "outputs": [
        {
          "output_type": "stream",
          "name": "stdout",
          "text": [
            "0.9897898972080961\n",
            "0.9800593698421883\n"
          ]
        }
      ]
    },
    {
      "cell_type": "code",
      "metadata": {
        "colab": {
          "base_uri": "https://localhost:8080/"
        },
        "id": "PrVUTHWPgNFw",
        "outputId": "529f7d0d-e346-435c-a40e-e7c7370e930b"
      },
      "source": [
        "test_score=[]\n",
        "train_score=[]\n",
        "alphas=[0.001, 0.01 , 0.1 , 1 , 10, 100]\n",
        "for alpha in alphas:\n",
        "  lasso=Lasso(alpha=alpha, max_iter= 10000)\n",
        "  lasso.fit(train_scaled, train_target)\n",
        "  train_score.append(lasso.score(train_scaled, train_target))\n",
        "  test_score.append(lasso.score(test_scaled, test_target))\n",
        "print(train_score)\n",
        "print(test_score)"
      ],
      "execution_count": 72,
      "outputs": [
        {
          "output_type": "stream",
          "name": "stdout",
          "text": [
            "[0.9924957354689654, 0.9922988130765112, 0.9902080238600285, 0.9898116789062786, 0.9887624603020235, 0.9078618674946646]\n",
            "[0.9731817502723494, 0.9761545611184548, 0.9824382983968606, 0.9801844137326112, 0.9830309645308443, 0.9090772073024512]\n"
          ]
        },
        {
          "output_type": "stream",
          "name": "stderr",
          "text": [
            "/usr/local/lib/python3.7/dist-packages/sklearn/linear_model/_coordinate_descent.py:476: ConvergenceWarning: Objective did not converge. You might want to increase the number of iterations. Duality gap: 18778.697957792876, tolerance: 518.2793833333334\n",
            "  positive)\n",
            "/usr/local/lib/python3.7/dist-packages/sklearn/linear_model/_coordinate_descent.py:476: ConvergenceWarning: Objective did not converge. You might want to increase the number of iterations. Duality gap: 12972.821345404844, tolerance: 518.2793833333334\n",
            "  positive)\n"
          ]
        }
      ]
    },
    {
      "cell_type": "code",
      "metadata": {
        "colab": {
          "base_uri": "https://localhost:8080/",
          "height": 279
        },
        "id": "8j5czfLrg4rh",
        "outputId": "2a31e847-47bf-4919-aeba-acaf97183b98"
      },
      "source": [
        "plt.plot(alphas, train_score)\n",
        "plt.plot(alphas, test_score)\n",
        "plt.xlabel('alpha')\n",
        "plt.ylabel('R^2')\n",
        "plt.show()"
      ],
      "execution_count": 73,
      "outputs": [
        {
          "output_type": "display_data",
          "data": {
            "image/png": "[encoded data removed]",
            "text/plain": [
              "<Figure size 432x288 with 1 Axes>"
            ]
          },
          "metadata": {
            "needs_background": "light"
          }
        }
      ]
    },
    {
      "cell_type": "code",
      "metadata": {
        "colab": {
          "base_uri": "https://localhost:8080/",
          "height": 279
        },
        "id": "L92e9je0hbFn",
        "outputId": "6516a428-63a0-45d0-ffdd-acce0a6e7d7f"
      },
      "source": [
        "plt.plot(np.log10(alphas), train_score)\n",
        "plt.plot(np.log10(alphas), test_score)\n",
        "plt.xlabel('alpha')\n",
        "plt.ylabel('R^2')\n",
        "plt.show()"
      ],
      "execution_count": 74,
      "outputs": [
        {
          "output_type": "display_data",
          "data": {
            "image/png": "[encoded data removed]",
            "text/plain": [
              "<Figure size 432x288 with 1 Axes>"
            ]
          },
          "metadata": {
            "needs_background": "light"
          }
        }
      ]
    },
    {
      "cell_type": "code",
      "metadata": {
        "colab": {
          "base_uri": "https://localhost:8080/"
        },
        "id": "obSYx_kXhhZk",
        "outputId": "1c01328d-2c75-4548-d948-aeba9f6abdaf"
      },
      "source": [
        "lasso= Lasso(alpha=10)\n",
        "lasso.fit(train_scaled, train_target)\n",
        "print(lasso.score(train_scaled, train_target))\n",
        "print(lasso.score(test_scaled, test_target))"
      ],
      "execution_count": 76,
      "outputs": [
        {
          "output_type": "stream",
          "name": "stdout",
          "text": [
            "0.9888067471131867\n",
            "0.9824470598706695\n"
          ]
        }
      ]
    },
    {
      "cell_type": "code",
      "metadata": {
        "colab": {
          "base_uri": "https://localhost:8080/"
        },
        "id": "9duVcst_h2yK",
        "outputId": "12556d7b-5f76-4a65-aa71-64afc8070e55"
      },
      "source": [
        "print(np.sum(lasso.coef_==0))"
      ],
      "execution_count": 77,
      "outputs": [
        {
          "output_type": "stream",
          "name": "stdout",
          "text": [
            "40\n"
          ]
        }
      ]
    },
    {
      "cell_type": "code",
      "metadata": {
        "id": "iaXXY3bRiEFZ"
      },
      "source": [
        ""
      ],
      "execution_count": null,
      "outputs": []
    }
  ]
}