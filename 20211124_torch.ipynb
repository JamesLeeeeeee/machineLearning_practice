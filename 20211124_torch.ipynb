{
  "nbformat": 4,
  "nbformat_minor": 0,
  "metadata": {
    "colab": {
      "name": "20211124_torch.ipynb",
      "provenance": [],
      "authorship_tag": "ABX9TyP5zATmTcnLsDcg+LKSpt/w",
      "include_colab_link": true
    },
    "kernelspec": {
      "name": "python3",
      "display_name": "Python 3"
    },
    "language_info": {
      "name": "python"
    },
    "accelerator": "GPU",
    "widgets": {
      "application/vnd.jupyter.widget-state+json": {
        "560535e1b7414602bba8b49e6f5574fb": {
          "model_module": "@jupyter-widgets/controls",
          "model_name": "HBoxModel",
          "model_module_version": "1.5.0",
          "state": {
            "_view_name": "HBoxView",
            "_dom_classes": [],
            "_model_name": "HBoxModel",
            "_view_module": "@jupyter-widgets/controls",
            "_model_module_version": "1.5.0",
            "_view_count": null,
            "_view_module_version": "1.5.0",
            "box_style": "",
            "layout": "IPY_MODEL_83891e113d48468082c8c7555015e669",
            "_model_module": "@jupyter-widgets/controls",
            "children": [
              "IPY_MODEL_f6477bd8eb8b4e81b369b308909503ef",
              "IPY_MODEL_be8e845e2e564b59bcd2071413970e9f",
              "IPY_MODEL_802aa14b37b34dafaa8b7cee9a77f4a4"
            ]
          }
        },
        "83891e113d48468082c8c7555015e669": {
          "model_module": "@jupyter-widgets/base",
          "model_name": "LayoutModel",
          "model_module_version": "1.2.0",
          "state": {
            "_view_name": "LayoutView",
            "grid_template_rows": null,
            "right": null,
            "justify_content": null,
            "_view_module": "@jupyter-widgets/base",
            "overflow": null,
            "_model_module_version": "1.2.0",
            "_view_count": null,
            "flex_flow": null,
            "width": null,
            "min_width": null,
            "border": null,
            "align_items": null,
            "bottom": null,
            "_model_module": "@jupyter-widgets/base",
            "top": null,
            "grid_column": null,
            "overflow_y": null,
            "overflow_x": null,
            "grid_auto_flow": null,
            "grid_area": null,
            "grid_template_columns": null,
            "flex": null,
            "_model_name": "LayoutModel",
            "justify_items": null,
            "grid_row": null,
            "max_height": null,
            "align_content": null,
            "visibility": null,
            "align_self": null,
            "height": null,
            "min_height": null,
            "padding": null,
            "grid_auto_rows": null,
            "grid_gap": null,
            "max_width": null,
            "order": null,
            "_view_module_version": "1.2.0",
            "grid_template_areas": null,
            "object_position": null,
            "object_fit": null,
            "grid_auto_columns": null,
            "margin": null,
            "display": null,
            "left": null
          }
        },
        "f6477bd8eb8b4e81b369b308909503ef": {
          "model_module": "@jupyter-widgets/controls",
          "model_name": "HTMLModel",
          "model_module_version": "1.5.0",
          "state": {
            "_view_name": "HTMLView",
            "style": "IPY_MODEL_83cec4027ec2404a91e8dc1c30830996",
            "_dom_classes": [],
            "description": "",
            "_model_name": "HTMLModel",
            "placeholder": "​",
            "_view_module": "@jupyter-widgets/controls",
            "_model_module_version": "1.5.0",
            "value": "",
            "_view_count": null,
            "_view_module_version": "1.5.0",
            "description_tooltip": null,
            "_model_module": "@jupyter-widgets/controls",
            "layout": "IPY_MODEL_448adb5baac04ab9a8ffa15739987d19"
          }
        },
        "be8e845e2e564b59bcd2071413970e9f": {
          "model_module": "@jupyter-widgets/controls",
          "model_name": "FloatProgressModel",
          "model_module_version": "1.5.0",
          "state": {
            "_view_name": "ProgressView",
            "style": "IPY_MODEL_4b873e7c805342968a08b011b747f86e",
            "_dom_classes": [],
            "description": "",
            "_model_name": "FloatProgressModel",
            "bar_style": "success",
            "max": 9912422,
            "_view_module": "@jupyter-widgets/controls",
            "_model_module_version": "1.5.0",
            "value": 9912422,
            "_view_count": null,
            "_view_module_version": "1.5.0",
            "orientation": "horizontal",
            "min": 0,
            "description_tooltip": null,
            "_model_module": "@jupyter-widgets/controls",
            "layout": "IPY_MODEL_67900bb2d21f46d4b7a6bf0f70639c5f"
          }
        },
        "802aa14b37b34dafaa8b7cee9a77f4a4": {
          "model_module": "@jupyter-widgets/controls",
          "model_name": "HTMLModel",
          "model_module_version": "1.5.0",
          "state": {
            "_view_name": "HTMLView",
            "style": "IPY_MODEL_1e8cabf335664819ad03eaa5034b285f",
            "_dom_classes": [],
            "description": "",
            "_model_name": "HTMLModel",
            "placeholder": "​",
            "_view_module": "@jupyter-widgets/controls",
            "_model_module_version": "1.5.0",
            "value": " 9913344/? [00:00&lt;00:00, 33938795.87it/s]",
            "_view_count": null,
            "_view_module_version": "1.5.0",
            "description_tooltip": null,
            "_model_module": "@jupyter-widgets/controls",
            "layout": "IPY_MODEL_97a2c7b843074281acb2c56aac600867"
          }
        },
        "83cec4027ec2404a91e8dc1c30830996": {
          "model_module": "@jupyter-widgets/controls",
          "model_name": "DescriptionStyleModel",
          "model_module_version": "1.5.0",
          "state": {
            "_view_name": "StyleView",
            "_model_name": "DescriptionStyleModel",
            "description_width": "",
            "_view_module": "@jupyter-widgets/base",
            "_model_module_version": "1.5.0",
            "_view_count": null,
            "_view_module_version": "1.2.0",
            "_model_module": "@jupyter-widgets/controls"
          }
        },
        "448adb5baac04ab9a8ffa15739987d19": {
          "model_module": "@jupyter-widgets/base",
          "model_name": "LayoutModel",
          "model_module_version": "1.2.0",
          "state": {
            "_view_name": "LayoutView",
            "grid_template_rows": null,
            "right": null,
            "justify_content": null,
            "_view_module": "@jupyter-widgets/base",
            "overflow": null,
            "_model_module_version": "1.2.0",
            "_view_count": null,
            "flex_flow": null,
            "width": null,
            "min_width": null,
            "border": null,
            "align_items": null,
            "bottom": null,
            "_model_module": "@jupyter-widgets/base",
            "top": null,
            "grid_column": null,
            "overflow_y": null,
            "overflow_x": null,
            "grid_auto_flow": null,
            "grid_area": null,
            "grid_template_columns": null,
            "flex": null,
            "_model_name": "LayoutModel",
            "justify_items": null,
            "grid_row": null,
            "max_height": null,
            "align_content": null,
            "visibility": null,
            "align_self": null,
            "height": null,
            "min_height": null,
            "padding": null,
            "grid_auto_rows": null,
            "grid_gap": null,
            "max_width": null,
            "order": null,
            "_view_module_version": "1.2.0",
            "grid_template_areas": null,
            "object_position": null,
            "object_fit": null,
            "grid_auto_columns": null,
            "margin": null,
            "display": null,
            "left": null
          }
        },
        "4b873e7c805342968a08b011b747f86e": {
          "model_module": "@jupyter-widgets/controls",
          "model_name": "ProgressStyleModel",
          "model_module_version": "1.5.0",
          "state": {
            "_view_name": "StyleView",
            "_model_name": "ProgressStyleModel",
            "description_width": "",
            "_view_module": "@jupyter-widgets/base",
            "_model_module_version": "1.5.0",
            "_view_count": null,
            "_view_module_version": "1.2.0",
            "bar_color": null,
            "_model_module": "@jupyter-widgets/controls"
          }
        },
        "67900bb2d21f46d4b7a6bf0f70639c5f": {
          "model_module": "@jupyter-widgets/base",
          "model_name": "LayoutModel",
          "model_module_version": "1.2.0",
          "state": {
            "_view_name": "LayoutView",
            "grid_template_rows": null,
            "right": null,
            "justify_content": null,
            "_view_module": "@jupyter-widgets/base",
            "overflow": null,
            "_model_module_version": "1.2.0",
            "_view_count": null,
            "flex_flow": null,
            "width": null,
            "min_width": null,
            "border": null,
            "align_items": null,
            "bottom": null,
            "_model_module": "@jupyter-widgets/base",
            "top": null,
            "grid_column": null,
            "overflow_y": null,
            "overflow_x": null,
            "grid_auto_flow": null,
            "grid_area": null,
            "grid_template_columns": null,
            "flex": null,
            "_model_name": "LayoutModel",
            "justify_items": null,
            "grid_row": null,
            "max_height": null,
            "align_content": null,
            "visibility": null,
            "align_self": null,
            "height": null,
            "min_height": null,
            "padding": null,
            "grid_auto_rows": null,
            "grid_gap": null,
            "max_width": null,
            "order": null,
            "_view_module_version": "1.2.0",
            "grid_template_areas": null,
            "object_position": null,
            "object_fit": null,
            "grid_auto_columns": null,
            "margin": null,
            "display": null,
            "left": null
          }
        },
        "1e8cabf335664819ad03eaa5034b285f": {
          "model_module": "@jupyter-widgets/controls",
          "model_name": "DescriptionStyleModel",
          "model_module_version": "1.5.0",
          "state": {
            "_view_name": "StyleView",
            "_model_name": "DescriptionStyleModel",
            "description_width": "",
            "_view_module": "@jupyter-widgets/base",
            "_model_module_version": "1.5.0",
            "_view_count": null,
            "_view_module_version": "1.2.0",
            "_model_module": "@jupyter-widgets/controls"
          }
        },
        "97a2c7b843074281acb2c56aac600867": {
          "model_module": "@jupyter-widgets/base",
          "model_name": "LayoutModel",
          "model_module_version": "1.2.0",
          "state": {
            "_view_name": "LayoutView",
            "grid_template_rows": null,
            "right": null,
            "justify_content": null,
            "_view_module": "@jupyter-widgets/base",
            "overflow": null,
            "_model_module_version": "1.2.0",
            "_view_count": null,
            "flex_flow": null,
            "width": null,
            "min_width": null,
            "border": null,
            "align_items": null,
            "bottom": null,
            "_model_module": "@jupyter-widgets/base",
            "top": null,
            "grid_column": null,
            "overflow_y": null,
            "overflow_x": null,
            "grid_auto_flow": null,
            "grid_area": null,
            "grid_template_columns": null,
            "flex": null,
            "_model_name": "LayoutModel",
            "justify_items": null,
            "grid_row": null,
            "max_height": null,
            "align_content": null,
            "visibility": null,
            "align_self": null,
            "height": null,
            "min_height": null,
            "padding": null,
            "grid_auto_rows": null,
            "grid_gap": null,
            "max_width": null,
            "order": null,
            "_view_module_version": "1.2.0",
            "grid_template_areas": null,
            "object_position": null,
            "object_fit": null,
            "grid_auto_columns": null,
            "margin": null,
            "display": null,
            "left": null
          }
        },
        "ea6a9115ccf447a1b501838fac895564": {
          "model_module": "@jupyter-widgets/controls",
          "model_name": "HBoxModel",
          "model_module_version": "1.5.0",
          "state": {
            "_view_name": "HBoxView",
            "_dom_classes": [],
            "_model_name": "HBoxModel",
            "_view_module": "@jupyter-widgets/controls",
            "_model_module_version": "1.5.0",
            "_view_count": null,
            "_view_module_version": "1.5.0",
            "box_style": "",
            "layout": "IPY_MODEL_46391ca350804fd984ff379c5e6bf563",
            "_model_module": "@jupyter-widgets/controls",
            "children": [
              "IPY_MODEL_115e4c119b5b4b47a719954c4268ca88",
              "IPY_MODEL_8cd37ae1885340489c07472cf338a082",
              "IPY_MODEL_ff188b13f0af4fe3baf0662309407300"
            ]
          }
        },
        "46391ca350804fd984ff379c5e6bf563": {
          "model_module": "@jupyter-widgets/base",
          "model_name": "LayoutModel",
          "model_module_version": "1.2.0",
          "state": {
            "_view_name": "LayoutView",
            "grid_template_rows": null,
            "right": null,
            "justify_content": null,
            "_view_module": "@jupyter-widgets/base",
            "overflow": null,
            "_model_module_version": "1.2.0",
            "_view_count": null,
            "flex_flow": null,
            "width": null,
            "min_width": null,
            "border": null,
            "align_items": null,
            "bottom": null,
            "_model_module": "@jupyter-widgets/base",
            "top": null,
            "grid_column": null,
            "overflow_y": null,
            "overflow_x": null,
            "grid_auto_flow": null,
            "grid_area": null,
            "grid_template_columns": null,
            "flex": null,
            "_model_name": "LayoutModel",
            "justify_items": null,
            "grid_row": null,
            "max_height": null,
            "align_content": null,
            "visibility": null,
            "align_self": null,
            "height": null,
            "min_height": null,
            "padding": null,
            "grid_auto_rows": null,
            "grid_gap": null,
            "max_width": null,
            "order": null,
            "_view_module_version": "1.2.0",
            "grid_template_areas": null,
            "object_position": null,
            "object_fit": null,
            "grid_auto_columns": null,
            "margin": null,
            "display": null,
            "left": null
          }
        },
        "115e4c119b5b4b47a719954c4268ca88": {
          "model_module": "@jupyter-widgets/controls",
          "model_name": "HTMLModel",
          "model_module_version": "1.5.0",
          "state": {
            "_view_name": "HTMLView",
            "style": "IPY_MODEL_03e15e88596b4a2085e486fb0621645a",
            "_dom_classes": [],
            "description": "",
            "_model_name": "HTMLModel",
            "placeholder": "​",
            "_view_module": "@jupyter-widgets/controls",
            "_model_module_version": "1.5.0",
            "value": "",
            "_view_count": null,
            "_view_module_version": "1.5.0",
            "description_tooltip": null,
            "_model_module": "@jupyter-widgets/controls",
            "layout": "IPY_MODEL_771559929a6c40798d9ea204a66dc65a"
          }
        },
        "8cd37ae1885340489c07472cf338a082": {
          "model_module": "@jupyter-widgets/controls",
          "model_name": "FloatProgressModel",
          "model_module_version": "1.5.0",
          "state": {
            "_view_name": "ProgressView",
            "style": "IPY_MODEL_5f5c12245ab243b78b8afb894588a96c",
            "_dom_classes": [],
            "description": "",
            "_model_name": "FloatProgressModel",
            "bar_style": "success",
            "max": 28881,
            "_view_module": "@jupyter-widgets/controls",
            "_model_module_version": "1.5.0",
            "value": 28881,
            "_view_count": null,
            "_view_module_version": "1.5.0",
            "orientation": "horizontal",
            "min": 0,
            "description_tooltip": null,
            "_model_module": "@jupyter-widgets/controls",
            "layout": "IPY_MODEL_196bc48841b34ca08591def5116b0429"
          }
        },
        "ff188b13f0af4fe3baf0662309407300": {
          "model_module": "@jupyter-widgets/controls",
          "model_name": "HTMLModel",
          "model_module_version": "1.5.0",
          "state": {
            "_view_name": "HTMLView",
            "style": "IPY_MODEL_6930f2f54b0648a0b881bf832f7b958f",
            "_dom_classes": [],
            "description": "",
            "_model_name": "HTMLModel",
            "placeholder": "​",
            "_view_module": "@jupyter-widgets/controls",
            "_model_module_version": "1.5.0",
            "value": " 29696/? [00:00&lt;00:00, 572691.27it/s]",
            "_view_count": null,
            "_view_module_version": "1.5.0",
            "description_tooltip": null,
            "_model_module": "@jupyter-widgets/controls",
            "layout": "IPY_MODEL_fa5e592178ae415f9b9f1f2cf2b49a69"
          }
        },
        "03e15e88596b4a2085e486fb0621645a": {
          "model_module": "@jupyter-widgets/controls",
          "model_name": "DescriptionStyleModel",
          "model_module_version": "1.5.0",
          "state": {
            "_view_name": "StyleView",
            "_model_name": "DescriptionStyleModel",
            "description_width": "",
            "_view_module": "@jupyter-widgets/base",
            "_model_module_version": "1.5.0",
            "_view_count": null,
            "_view_module_version": "1.2.0",
            "_model_module": "@jupyter-widgets/controls"
          }
        },
        "771559929a6c40798d9ea204a66dc65a": {
          "model_module": "@jupyter-widgets/base",
          "model_name": "LayoutModel",
          "model_module_version": "1.2.0",
          "state": {
            "_view_name": "LayoutView",
            "grid_template_rows": null,
            "right": null,
            "justify_content": null,
            "_view_module": "@jupyter-widgets/base",
            "overflow": null,
            "_model_module_version": "1.2.0",
            "_view_count": null,
            "flex_flow": null,
            "width": null,
            "min_width": null,
            "border": null,
            "align_items": null,
            "bottom": null,
            "_model_module": "@jupyter-widgets/base",
            "top": null,
            "grid_column": null,
            "overflow_y": null,
            "overflow_x": null,
            "grid_auto_flow": null,
            "grid_area": null,
            "grid_template_columns": null,
            "flex": null,
            "_model_name": "LayoutModel",
            "justify_items": null,
            "grid_row": null,
            "max_height": null,
            "align_content": null,
            "visibility": null,
            "align_self": null,
            "height": null,
            "min_height": null,
            "padding": null,
            "grid_auto_rows": null,
            "grid_gap": null,
            "max_width": null,
            "order": null,
            "_view_module_version": "1.2.0",
            "grid_template_areas": null,
            "object_position": null,
            "object_fit": null,
            "grid_auto_columns": null,
            "margin": null,
            "display": null,
            "left": null
          }
        },
        "5f5c12245ab243b78b8afb894588a96c": {
          "model_module": "@jupyter-widgets/controls",
          "model_name": "ProgressStyleModel",
          "model_module_version": "1.5.0",
          "state": {
            "_view_name": "StyleView",
            "_model_name": "ProgressStyleModel",
            "description_width": "",
            "_view_module": "@jupyter-widgets/base",
            "_model_module_version": "1.5.0",
            "_view_count": null,
            "_view_module_version": "1.2.0",
            "bar_color": null,
            "_model_module": "@jupyter-widgets/controls"
          }
        },
        "196bc48841b34ca08591def5116b0429": {
          "model_module": "@jupyter-widgets/base",
          "model_name": "LayoutModel",
          "model_module_version": "1.2.0",
          "state": {
            "_view_name": "LayoutView",
            "grid_template_rows": null,
            "right": null,
            "justify_content": null,
            "_view_module": "@jupyter-widgets/base",
            "overflow": null,
            "_model_module_version": "1.2.0",
            "_view_count": null,
            "flex_flow": null,
            "width": null,
            "min_width": null,
            "border": null,
            "align_items": null,
            "bottom": null,
            "_model_module": "@jupyter-widgets/base",
            "top": null,
            "grid_column": null,
            "overflow_y": null,
            "overflow_x": null,
            "grid_auto_flow": null,
            "grid_area": null,
            "grid_template_columns": null,
            "flex": null,
            "_model_name": "LayoutModel",
            "justify_items": null,
            "grid_row": null,
            "max_height": null,
            "align_content": null,
            "visibility": null,
            "align_self": null,
            "height": null,
            "min_height": null,
            "padding": null,
            "grid_auto_rows": null,
            "grid_gap": null,
            "max_width": null,
            "order": null,
            "_view_module_version": "1.2.0",
            "grid_template_areas": null,
            "object_position": null,
            "object_fit": null,
            "grid_auto_columns": null,
            "margin": null,
            "display": null,
            "left": null
          }
        },
        "6930f2f54b0648a0b881bf832f7b958f": {
          "model_module": "@jupyter-widgets/controls",
          "model_name": "DescriptionStyleModel",
          "model_module_version": "1.5.0",
          "state": {
            "_view_name": "StyleView",
            "_model_name": "DescriptionStyleModel",
            "description_width": "",
            "_view_module": "@jupyter-widgets/base",
            "_model_module_version": "1.5.0",
            "_view_count": null,
            "_view_module_version": "1.2.0",
            "_model_module": "@jupyter-widgets/controls"
          }
        },
        "fa5e592178ae415f9b9f1f2cf2b49a69": {
          "model_module": "@jupyter-widgets/base",
          "model_name": "LayoutModel",
          "model_module_version": "1.2.0",
          "state": {
            "_view_name": "LayoutView",
            "grid_template_rows": null,
            "right": null,
            "justify_content": null,
            "_view_module": "@jupyter-widgets/base",
            "overflow": null,
            "_model_module_version": "1.2.0",
            "_view_count": null,
            "flex_flow": null,
            "width": null,
            "min_width": null,
            "border": null,
            "align_items": null,
            "bottom": null,
            "_model_module": "@jupyter-widgets/base",
            "top": null,
            "grid_column": null,
            "overflow_y": null,
            "overflow_x": null,
            "grid_auto_flow": null,
            "grid_area": null,
            "grid_template_columns": null,
            "flex": null,
            "_model_name": "LayoutModel",
            "justify_items": null,
            "grid_row": null,
            "max_height": null,
            "align_content": null,
            "visibility": null,
            "align_self": null,
            "height": null,
            "min_height": null,
            "padding": null,
            "grid_auto_rows": null,
            "grid_gap": null,
            "max_width": null,
            "order": null,
            "_view_module_version": "1.2.0",
            "grid_template_areas": null,
            "object_position": null,
            "object_fit": null,
            "grid_auto_columns": null,
            "margin": null,
            "display": null,
            "left": null
          }
        },
        "d2a995413e534707b31e6b9a2d2fd372": {
          "model_module": "@jupyter-widgets/controls",
          "model_name": "HBoxModel",
          "model_module_version": "1.5.0",
          "state": {
            "_view_name": "HBoxView",
            "_dom_classes": [],
            "_model_name": "HBoxModel",
            "_view_module": "@jupyter-widgets/controls",
            "_model_module_version": "1.5.0",
            "_view_count": null,
            "_view_module_version": "1.5.0",
            "box_style": "",
            "layout": "IPY_MODEL_b4323c5b404f4c1e827e5958ac1fed1e",
            "_model_module": "@jupyter-widgets/controls",
            "children": [
              "IPY_MODEL_569260ed7160470994809f2ec3edba91",
              "IPY_MODEL_7fb36059a6af4720b5935c8fa9ac8d53",
              "IPY_MODEL_ec3259e2611e47be9d19a0faa6a8a28d"
            ]
          }
        },
        "b4323c5b404f4c1e827e5958ac1fed1e": {
          "model_module": "@jupyter-widgets/base",
          "model_name": "LayoutModel",
          "model_module_version": "1.2.0",
          "state": {
            "_view_name": "LayoutView",
            "grid_template_rows": null,
            "right": null,
            "justify_content": null,
            "_view_module": "@jupyter-widgets/base",
            "overflow": null,
            "_model_module_version": "1.2.0",
            "_view_count": null,
            "flex_flow": null,
            "width": null,
            "min_width": null,
            "border": null,
            "align_items": null,
            "bottom": null,
            "_model_module": "@jupyter-widgets/base",
            "top": null,
            "grid_column": null,
            "overflow_y": null,
            "overflow_x": null,
            "grid_auto_flow": null,
            "grid_area": null,
            "grid_template_columns": null,
            "flex": null,
            "_model_name": "LayoutModel",
            "justify_items": null,
            "grid_row": null,
            "max_height": null,
            "align_content": null,
            "visibility": null,
            "align_self": null,
            "height": null,
            "min_height": null,
            "padding": null,
            "grid_auto_rows": null,
            "grid_gap": null,
            "max_width": null,
            "order": null,
            "_view_module_version": "1.2.0",
            "grid_template_areas": null,
            "object_position": null,
            "object_fit": null,
            "grid_auto_columns": null,
            "margin": null,
            "display": null,
            "left": null
          }
        },
        "569260ed7160470994809f2ec3edba91": {
          "model_module": "@jupyter-widgets/controls",
          "model_name": "HTMLModel",
          "model_module_version": "1.5.0",
          "state": {
            "_view_name": "HTMLView",
            "style": "IPY_MODEL_9c4a99d69f02457fa575df838a9361eb",
            "_dom_classes": [],
            "description": "",
            "_model_name": "HTMLModel",
            "placeholder": "​",
            "_view_module": "@jupyter-widgets/controls",
            "_model_module_version": "1.5.0",
            "value": "",
            "_view_count": null,
            "_view_module_version": "1.5.0",
            "description_tooltip": null,
            "_model_module": "@jupyter-widgets/controls",
            "layout": "IPY_MODEL_74969f8e4ef541e59e33baf9e990146a"
          }
        },
        "7fb36059a6af4720b5935c8fa9ac8d53": {
          "model_module": "@jupyter-widgets/controls",
          "model_name": "FloatProgressModel",
          "model_module_version": "1.5.0",
          "state": {
            "_view_name": "ProgressView",
            "style": "IPY_MODEL_d46d3414bf244df9b93335d4f214c3be",
            "_dom_classes": [],
            "description": "",
            "_model_name": "FloatProgressModel",
            "bar_style": "success",
            "max": 1648877,
            "_view_module": "@jupyter-widgets/controls",
            "_model_module_version": "1.5.0",
            "value": 1648877,
            "_view_count": null,
            "_view_module_version": "1.5.0",
            "orientation": "horizontal",
            "min": 0,
            "description_tooltip": null,
            "_model_module": "@jupyter-widgets/controls",
            "layout": "IPY_MODEL_adbceb995afa478785871e344d2caca4"
          }
        },
        "ec3259e2611e47be9d19a0faa6a8a28d": {
          "model_module": "@jupyter-widgets/controls",
          "model_name": "HTMLModel",
          "model_module_version": "1.5.0",
          "state": {
            "_view_name": "HTMLView",
            "style": "IPY_MODEL_153b0432da9e4693b415957d0b95ce87",
            "_dom_classes": [],
            "description": "",
            "_model_name": "HTMLModel",
            "placeholder": "​",
            "_view_module": "@jupyter-widgets/controls",
            "_model_module_version": "1.5.0",
            "value": " 1649664/? [00:00&lt;00:00, 17648209.50it/s]",
            "_view_count": null,
            "_view_module_version": "1.5.0",
            "description_tooltip": null,
            "_model_module": "@jupyter-widgets/controls",
            "layout": "IPY_MODEL_ccba013e1d92475188c8638650ae4ae9"
          }
        },
        "9c4a99d69f02457fa575df838a9361eb": {
          "model_module": "@jupyter-widgets/controls",
          "model_name": "DescriptionStyleModel",
          "model_module_version": "1.5.0",
          "state": {
            "_view_name": "StyleView",
            "_model_name": "DescriptionStyleModel",
            "description_width": "",
            "_view_module": "@jupyter-widgets/base",
            "_model_module_version": "1.5.0",
            "_view_count": null,
            "_view_module_version": "1.2.0",
            "_model_module": "@jupyter-widgets/controls"
          }
        },
        "74969f8e4ef541e59e33baf9e990146a": {
          "model_module": "@jupyter-widgets/base",
          "model_name": "LayoutModel",
          "model_module_version": "1.2.0",
          "state": {
            "_view_name": "LayoutView",
            "grid_template_rows": null,
            "right": null,
            "justify_content": null,
            "_view_module": "@jupyter-widgets/base",
            "overflow": null,
            "_model_module_version": "1.2.0",
            "_view_count": null,
            "flex_flow": null,
            "width": null,
            "min_width": null,
            "border": null,
            "align_items": null,
            "bottom": null,
            "_model_module": "@jupyter-widgets/base",
            "top": null,
            "grid_column": null,
            "overflow_y": null,
            "overflow_x": null,
            "grid_auto_flow": null,
            "grid_area": null,
            "grid_template_columns": null,
            "flex": null,
            "_model_name": "LayoutModel",
            "justify_items": null,
            "grid_row": null,
            "max_height": null,
            "align_content": null,
            "visibility": null,
            "align_self": null,
            "height": null,
            "min_height": null,
            "padding": null,
            "grid_auto_rows": null,
            "grid_gap": null,
            "max_width": null,
            "order": null,
            "_view_module_version": "1.2.0",
            "grid_template_areas": null,
            "object_position": null,
            "object_fit": null,
            "grid_auto_columns": null,
            "margin": null,
            "display": null,
            "left": null
          }
        },
        "d46d3414bf244df9b93335d4f214c3be": {
          "model_module": "@jupyter-widgets/controls",
          "model_name": "ProgressStyleModel",
          "model_module_version": "1.5.0",
          "state": {
            "_view_name": "StyleView",
            "_model_name": "ProgressStyleModel",
            "description_width": "",
            "_view_module": "@jupyter-widgets/base",
            "_model_module_version": "1.5.0",
            "_view_count": null,
            "_view_module_version": "1.2.0",
            "bar_color": null,
            "_model_module": "@jupyter-widgets/controls"
          }
        },
        "adbceb995afa478785871e344d2caca4": {
          "model_module": "@jupyter-widgets/base",
          "model_name": "LayoutModel",
          "model_module_version": "1.2.0",
          "state": {
            "_view_name": "LayoutView",
            "grid_template_rows": null,
            "right": null,
            "justify_content": null,
            "_view_module": "@jupyter-widgets/base",
            "overflow": null,
            "_model_module_version": "1.2.0",
            "_view_count": null,
            "flex_flow": null,
            "width": null,
            "min_width": null,
            "border": null,
            "align_items": null,
            "bottom": null,
            "_model_module": "@jupyter-widgets/base",
            "top": null,
            "grid_column": null,
            "overflow_y": null,
            "overflow_x": null,
            "grid_auto_flow": null,
            "grid_area": null,
            "grid_template_columns": null,
            "flex": null,
            "_model_name": "LayoutModel",
            "justify_items": null,
            "grid_row": null,
            "max_height": null,
            "align_content": null,
            "visibility": null,
            "align_self": null,
            "height": null,
            "min_height": null,
            "padding": null,
            "grid_auto_rows": null,
            "grid_gap": null,
            "max_width": null,
            "order": null,
            "_view_module_version": "1.2.0",
            "grid_template_areas": null,
            "object_position": null,
            "object_fit": null,
            "grid_auto_columns": null,
            "margin": null,
            "display": null,
            "left": null
          }
        },
        "153b0432da9e4693b415957d0b95ce87": {
          "model_module": "@jupyter-widgets/controls",
          "model_name": "DescriptionStyleModel",
          "model_module_version": "1.5.0",
          "state": {
            "_view_name": "StyleView",
            "_model_name": "DescriptionStyleModel",
            "description_width": "",
            "_view_module": "@jupyter-widgets/base",
            "_model_module_version": "1.5.0",
            "_view_count": null,
            "_view_module_version": "1.2.0",
            "_model_module": "@jupyter-widgets/controls"
          }
        },
        "ccba013e1d92475188c8638650ae4ae9": {
          "model_module": "@jupyter-widgets/base",
          "model_name": "LayoutModel",
          "model_module_version": "1.2.0",
          "state": {
            "_view_name": "LayoutView",
            "grid_template_rows": null,
            "right": null,
            "justify_content": null,
            "_view_module": "@jupyter-widgets/base",
            "overflow": null,
            "_model_module_version": "1.2.0",
            "_view_count": null,
            "flex_flow": null,
            "width": null,
            "min_width": null,
            "border": null,
            "align_items": null,
            "bottom": null,
            "_model_module": "@jupyter-widgets/base",
            "top": null,
            "grid_column": null,
            "overflow_y": null,
            "overflow_x": null,
            "grid_auto_flow": null,
            "grid_area": null,
            "grid_template_columns": null,
            "flex": null,
            "_model_name": "LayoutModel",
            "justify_items": null,
            "grid_row": null,
            "max_height": null,
            "align_content": null,
            "visibility": null,
            "align_self": null,
            "height": null,
            "min_height": null,
            "padding": null,
            "grid_auto_rows": null,
            "grid_gap": null,
            "max_width": null,
            "order": null,
            "_view_module_version": "1.2.0",
            "grid_template_areas": null,
            "object_position": null,
            "object_fit": null,
            "grid_auto_columns": null,
            "margin": null,
            "display": null,
            "left": null
          }
        },
        "65c52b78dc654b5e930c907f89cb0256": {
          "model_module": "@jupyter-widgets/controls",
          "model_name": "HBoxModel",
          "model_module_version": "1.5.0",
          "state": {
            "_view_name": "HBoxView",
            "_dom_classes": [],
            "_model_name": "HBoxModel",
            "_view_module": "@jupyter-widgets/controls",
            "_model_module_version": "1.5.0",
            "_view_count": null,
            "_view_module_version": "1.5.0",
            "box_style": "",
            "layout": "IPY_MODEL_5ffd274127244cfa8ddc4ece55ae6e61",
            "_model_module": "@jupyter-widgets/controls",
            "children": [
              "IPY_MODEL_2636778f1aa0450fb54605bb290bd9f5",
              "IPY_MODEL_2ebc038241854638850f25ed3eaffdfe",
              "IPY_MODEL_5a8d266a4374470aad50b8ff9541213b"
            ]
          }
        },
        "5ffd274127244cfa8ddc4ece55ae6e61": {
          "model_module": "@jupyter-widgets/base",
          "model_name": "LayoutModel",
          "model_module_version": "1.2.0",
          "state": {
            "_view_name": "LayoutView",
            "grid_template_rows": null,
            "right": null,
            "justify_content": null,
            "_view_module": "@jupyter-widgets/base",
            "overflow": null,
            "_model_module_version": "1.2.0",
            "_view_count": null,
            "flex_flow": null,
            "width": null,
            "min_width": null,
            "border": null,
            "align_items": null,
            "bottom": null,
            "_model_module": "@jupyter-widgets/base",
            "top": null,
            "grid_column": null,
            "overflow_y": null,
            "overflow_x": null,
            "grid_auto_flow": null,
            "grid_area": null,
            "grid_template_columns": null,
            "flex": null,
            "_model_name": "LayoutModel",
            "justify_items": null,
            "grid_row": null,
            "max_height": null,
            "align_content": null,
            "visibility": null,
            "align_self": null,
            "height": null,
            "min_height": null,
            "padding": null,
            "grid_auto_rows": null,
            "grid_gap": null,
            "max_width": null,
            "order": null,
            "_view_module_version": "1.2.0",
            "grid_template_areas": null,
            "object_position": null,
            "object_fit": null,
            "grid_auto_columns": null,
            "margin": null,
            "display": null,
            "left": null
          }
        },
        "2636778f1aa0450fb54605bb290bd9f5": {
          "model_module": "@jupyter-widgets/controls",
          "model_name": "HTMLModel",
          "model_module_version": "1.5.0",
          "state": {
            "_view_name": "HTMLView",
            "style": "IPY_MODEL_d2a44cd7a4294ffbbffbdc6dd83df80b",
            "_dom_classes": [],
            "description": "",
            "_model_name": "HTMLModel",
            "placeholder": "​",
            "_view_module": "@jupyter-widgets/controls",
            "_model_module_version": "1.5.0",
            "value": "",
            "_view_count": null,
            "_view_module_version": "1.5.0",
            "description_tooltip": null,
            "_model_module": "@jupyter-widgets/controls",
            "layout": "IPY_MODEL_4aa99f01ea7147289f240faf92e410b9"
          }
        },
        "2ebc038241854638850f25ed3eaffdfe": {
          "model_module": "@jupyter-widgets/controls",
          "model_name": "FloatProgressModel",
          "model_module_version": "1.5.0",
          "state": {
            "_view_name": "ProgressView",
            "style": "IPY_MODEL_c052912051d940e6ab16796d4d565e2c",
            "_dom_classes": [],
            "description": "",
            "_model_name": "FloatProgressModel",
            "bar_style": "success",
            "max": 4542,
            "_view_module": "@jupyter-widgets/controls",
            "_model_module_version": "1.5.0",
            "value": 4542,
            "_view_count": null,
            "_view_module_version": "1.5.0",
            "orientation": "horizontal",
            "min": 0,
            "description_tooltip": null,
            "_model_module": "@jupyter-widgets/controls",
            "layout": "IPY_MODEL_ae977e575f4a4832861b14dc40c575b6"
          }
        },
        "5a8d266a4374470aad50b8ff9541213b": {
          "model_module": "@jupyter-widgets/controls",
          "model_name": "HTMLModel",
          "model_module_version": "1.5.0",
          "state": {
            "_view_name": "HTMLView",
            "style": "IPY_MODEL_059c06d8c2c04b72a7bee911937c31cc",
            "_dom_classes": [],
            "description": "",
            "_model_name": "HTMLModel",
            "placeholder": "​",
            "_view_module": "@jupyter-widgets/controls",
            "_model_module_version": "1.5.0",
            "value": " 5120/? [00:00&lt;00:00, 133545.83it/s]",
            "_view_count": null,
            "_view_module_version": "1.5.0",
            "description_tooltip": null,
            "_model_module": "@jupyter-widgets/controls",
            "layout": "IPY_MODEL_c146cfee752b4dccbee044f13846a202"
          }
        },
        "d2a44cd7a4294ffbbffbdc6dd83df80b": {
          "model_module": "@jupyter-widgets/controls",
          "model_name": "DescriptionStyleModel",
          "model_module_version": "1.5.0",
          "state": {
            "_view_name": "StyleView",
            "_model_name": "DescriptionStyleModel",
            "description_width": "",
            "_view_module": "@jupyter-widgets/base",
            "_model_module_version": "1.5.0",
            "_view_count": null,
            "_view_module_version": "1.2.0",
            "_model_module": "@jupyter-widgets/controls"
          }
        },
        "4aa99f01ea7147289f240faf92e410b9": {
          "model_module": "@jupyter-widgets/base",
          "model_name": "LayoutModel",
          "model_module_version": "1.2.0",
          "state": {
            "_view_name": "LayoutView",
            "grid_template_rows": null,
            "right": null,
            "justify_content": null,
            "_view_module": "@jupyter-widgets/base",
            "overflow": null,
            "_model_module_version": "1.2.0",
            "_view_count": null,
            "flex_flow": null,
            "width": null,
            "min_width": null,
            "border": null,
            "align_items": null,
            "bottom": null,
            "_model_module": "@jupyter-widgets/base",
            "top": null,
            "grid_column": null,
            "overflow_y": null,
            "overflow_x": null,
            "grid_auto_flow": null,
            "grid_area": null,
            "grid_template_columns": null,
            "flex": null,
            "_model_name": "LayoutModel",
            "justify_items": null,
            "grid_row": null,
            "max_height": null,
            "align_content": null,
            "visibility": null,
            "align_self": null,
            "height": null,
            "min_height": null,
            "padding": null,
            "grid_auto_rows": null,
            "grid_gap": null,
            "max_width": null,
            "order": null,
            "_view_module_version": "1.2.0",
            "grid_template_areas": null,
            "object_position": null,
            "object_fit": null,
            "grid_auto_columns": null,
            "margin": null,
            "display": null,
            "left": null
          }
        },
        "c052912051d940e6ab16796d4d565e2c": {
          "model_module": "@jupyter-widgets/controls",
          "model_name": "ProgressStyleModel",
          "model_module_version": "1.5.0",
          "state": {
            "_view_name": "StyleView",
            "_model_name": "ProgressStyleModel",
            "description_width": "",
            "_view_module": "@jupyter-widgets/base",
            "_model_module_version": "1.5.0",
            "_view_count": null,
            "_view_module_version": "1.2.0",
            "bar_color": null,
            "_model_module": "@jupyter-widgets/controls"
          }
        },
        "ae977e575f4a4832861b14dc40c575b6": {
          "model_module": "@jupyter-widgets/base",
          "model_name": "LayoutModel",
          "model_module_version": "1.2.0",
          "state": {
            "_view_name": "LayoutView",
            "grid_template_rows": null,
            "right": null,
            "justify_content": null,
            "_view_module": "@jupyter-widgets/base",
            "overflow": null,
            "_model_module_version": "1.2.0",
            "_view_count": null,
            "flex_flow": null,
            "width": null,
            "min_width": null,
            "border": null,
            "align_items": null,
            "bottom": null,
            "_model_module": "@jupyter-widgets/base",
            "top": null,
            "grid_column": null,
            "overflow_y": null,
            "overflow_x": null,
            "grid_auto_flow": null,
            "grid_area": null,
            "grid_template_columns": null,
            "flex": null,
            "_model_name": "LayoutModel",
            "justify_items": null,
            "grid_row": null,
            "max_height": null,
            "align_content": null,
            "visibility": null,
            "align_self": null,
            "height": null,
            "min_height": null,
            "padding": null,
            "grid_auto_rows": null,
            "grid_gap": null,
            "max_width": null,
            "order": null,
            "_view_module_version": "1.2.0",
            "grid_template_areas": null,
            "object_position": null,
            "object_fit": null,
            "grid_auto_columns": null,
            "margin": null,
            "display": null,
            "left": null
          }
        },
        "059c06d8c2c04b72a7bee911937c31cc": {
          "model_module": "@jupyter-widgets/controls",
          "model_name": "DescriptionStyleModel",
          "model_module_version": "1.5.0",
          "state": {
            "_view_name": "StyleView",
            "_model_name": "DescriptionStyleModel",
            "description_width": "",
            "_view_module": "@jupyter-widgets/base",
            "_model_module_version": "1.5.0",
            "_view_count": null,
            "_view_module_version": "1.2.0",
            "_model_module": "@jupyter-widgets/controls"
          }
        },
        "c146cfee752b4dccbee044f13846a202": {
          "model_module": "@jupyter-widgets/base",
          "model_name": "LayoutModel",
          "model_module_version": "1.2.0",
          "state": {
            "_view_name": "LayoutView",
            "grid_template_rows": null,
            "right": null,
            "justify_content": null,
            "_view_module": "@jupyter-widgets/base",
            "overflow": null,
            "_model_module_version": "1.2.0",
            "_view_count": null,
            "flex_flow": null,
            "width": null,
            "min_width": null,
            "border": null,
            "align_items": null,
            "bottom": null,
            "_model_module": "@jupyter-widgets/base",
            "top": null,
            "grid_column": null,
            "overflow_y": null,
            "overflow_x": null,
            "grid_auto_flow": null,
            "grid_area": null,
            "grid_template_columns": null,
            "flex": null,
            "_model_name": "LayoutModel",
            "justify_items": null,
            "grid_row": null,
            "max_height": null,
            "align_content": null,
            "visibility": null,
            "align_self": null,
            "height": null,
            "min_height": null,
            "padding": null,
            "grid_auto_rows": null,
            "grid_gap": null,
            "max_width": null,
            "order": null,
            "_view_module_version": "1.2.0",
            "grid_template_areas": null,
            "object_position": null,
            "object_fit": null,
            "grid_auto_columns": null,
            "margin": null,
            "display": null,
            "left": null
          }
        }
      }
    }
  },
  "cells": [
    {
      "cell_type": "markdown",
      "metadata": {
        "id": "view-in-github",
        "colab_type": "text"
      },
      "source": [
        "<a href=\"https://colab.research.google.com/github/JamesLeeeeeee/machineLearning_practice/blob/master/20211124_torch.ipynb\" target=\"_parent\"><img src=\"https://colab.research.google.com/assets/colab-badge.svg\" alt=\"Open In Colab\"/></a>"
      ]
    },
    {
      "cell_type": "code",
      "metadata": {
        "id": "OwbmNNu8DNKY"
      },
      "source": [
        "import torch"
      ],
      "execution_count": 1,
      "outputs": []
    },
    {
      "cell_type": "code",
      "metadata": {
        "colab": {
          "base_uri": "https://localhost:8080/",
          "height": 35
        },
        "id": "x5h-pJ6KDTo9",
        "outputId": "cd9798c5-2712-4827-d754-f37e30f30620"
      },
      "source": [
        "torch.__version__"
      ],
      "execution_count": 2,
      "outputs": [
        {
          "output_type": "execute_result",
          "data": {
            "application/vnd.google.colaboratory.intrinsic+json": {
              "type": "string"
            },
            "text/plain": [
              "'1.10.0+cu111'"
            ]
          },
          "metadata": {},
          "execution_count": 2
        }
      ]
    },
    {
      "cell_type": "code",
      "metadata": {
        "colab": {
          "base_uri": "https://localhost:8080/"
        },
        "id": "LunuHypxDWnI",
        "outputId": "a9c1d875-bf50-401e-820f-b92e6ba7fa13"
      },
      "source": [
        "x=torch.empty(4,2)\n",
        "print(x)"
      ],
      "execution_count": 3,
      "outputs": [
        {
          "output_type": "stream",
          "name": "stdout",
          "text": [
            "tensor([[-2.9704e+23,  3.0837e-41],\n",
            "        [ 3.3631e-44,  0.0000e+00],\n",
            "        [        nan,  6.4460e-44],\n",
            "        [ 1.1578e+27,  1.1362e+30]])\n"
          ]
        }
      ]
    },
    {
      "cell_type": "code",
      "metadata": {
        "colab": {
          "base_uri": "https://localhost:8080/"
        },
        "id": "PiSw8dXhDgQn",
        "outputId": "0c6382c5-4b9b-40d7-fd59-f639dba9c369"
      },
      "source": [
        "x=torch.rand(4,2)\n",
        "print(x)"
      ],
      "execution_count": 4,
      "outputs": [
        {
          "output_type": "stream",
          "name": "stdout",
          "text": [
            "tensor([[0.7604, 0.7303],\n",
            "        [0.6276, 0.5940],\n",
            "        [0.2154, 0.8239],\n",
            "        [0.6182, 0.0268]])\n"
          ]
        }
      ]
    },
    {
      "cell_type": "code",
      "metadata": {
        "colab": {
          "base_uri": "https://localhost:8080/"
        },
        "id": "qFEaKg5_Dx2Z",
        "outputId": "e13692a1-440a-4c4c-e700-ba69b6a5aa1b"
      },
      "source": [
        "x= torch.zeros(4,2, dtype=(torch.long))\n",
        "print(x)"
      ],
      "execution_count": 12,
      "outputs": [
        {
          "output_type": "stream",
          "name": "stdout",
          "text": [
            "tensor([[0, 0],\n",
            "        [0, 0],\n",
            "        [0, 0],\n",
            "        [0, 0]])\n"
          ]
        }
      ]
    },
    {
      "cell_type": "code",
      "metadata": {
        "colab": {
          "base_uri": "https://localhost:8080/"
        },
        "id": "0akaud-gD4ep",
        "outputId": "2d9ee7bf-50ac-41a5-e515-4fa16c716bfa"
      },
      "source": [
        "x= torch.tensor([3, 2.3])\n",
        "print(x)"
      ],
      "execution_count": 13,
      "outputs": [
        {
          "output_type": "stream",
          "name": "stdout",
          "text": [
            "tensor([3.0000, 2.3000])\n"
          ]
        }
      ]
    },
    {
      "cell_type": "code",
      "metadata": {
        "colab": {
          "base_uri": "https://localhost:8080/"
        },
        "id": "XZJ248MsEPg6",
        "outputId": "c1746f78-6b22-412e-a64f-538daa201bb5"
      },
      "source": [
        "x= x.new_ones(2,4,dtype=torch.double)\n",
        "print(x)"
      ],
      "execution_count": 8,
      "outputs": [
        {
          "output_type": "stream",
          "name": "stdout",
          "text": [
            "tensor([[1., 1., 1., 1.],\n",
            "        [1., 1., 1., 1.]], device='cuda:0', dtype=torch.float64)\n"
          ]
        }
      ]
    },
    {
      "cell_type": "code",
      "metadata": {
        "colab": {
          "base_uri": "https://localhost:8080/"
        },
        "id": "ISG6ZZE0Ehaq",
        "outputId": "6dc99e23-4b01-495a-9f87-34f4beff796b"
      },
      "source": [
        "y= torch.randn_like(x, dtype=torch.float)\n",
        "print(y)"
      ],
      "execution_count": 9,
      "outputs": [
        {
          "output_type": "stream",
          "name": "stdout",
          "text": [
            "tensor([[-0.5905,  0.4423,  0.9980, -1.4403],\n",
            "        [-1.2580, -0.1633,  0.0599, -2.0150]], device='cuda:0')\n"
          ]
        }
      ]
    },
    {
      "cell_type": "code",
      "metadata": {
        "colab": {
          "base_uri": "https://localhost:8080/"
        },
        "id": "DfSumeLsH_my",
        "outputId": "94bbce2e-1880-4166-aa96-d6cb4c3be3a2"
      },
      "source": [
        "print(x.size())"
      ],
      "execution_count": 21,
      "outputs": [
        {
          "output_type": "stream",
          "name": "stdout",
          "text": [
            "torch.Size([2, 4])\n"
          ]
        }
      ]
    },
    {
      "cell_type": "code",
      "metadata": {
        "colab": {
          "base_uri": "https://localhost:8080/"
        },
        "id": "KcoYxKdPITU4",
        "outputId": "ee459530-a367-4156-9523-eba5b7084e66"
      },
      "source": [
        "print(x)"
      ],
      "execution_count": 22,
      "outputs": [
        {
          "output_type": "stream",
          "name": "stdout",
          "text": [
            "tensor([[ 0.1163,  1.2117, -0.0369, -0.8539],\n",
            "        [ 0.3045,  0.5688,  0.3525,  0.2666]])\n"
          ]
        }
      ]
    },
    {
      "cell_type": "code",
      "metadata": {
        "colab": {
          "base_uri": "https://localhost:8080/"
        },
        "id": "lqgCd2VHIX_A",
        "outputId": "5569b720-716c-4bfe-dde8-978ec044f0a6"
      },
      "source": [
        "y=torch.rand(2,4)\n",
        "print(x+y)"
      ],
      "execution_count": 23,
      "outputs": [
        {
          "output_type": "stream",
          "name": "stdout",
          "text": [
            "tensor([[ 1.0297,  1.5195,  0.5477, -0.7099],\n",
            "        [ 0.5462,  1.2199,  1.1370,  1.2032]])\n"
          ]
        }
      ]
    },
    {
      "cell_type": "code",
      "metadata": {
        "colab": {
          "base_uri": "https://localhost:8080/"
        },
        "id": "Y99YT2cTIcEx",
        "outputId": "f892a518-3416-4d18-9a2c-461b5dfa2ea4"
      },
      "source": [
        "print(torch.add(x,y))"
      ],
      "execution_count": 25,
      "outputs": [
        {
          "output_type": "stream",
          "name": "stdout",
          "text": [
            "tensor([[ 1.0297,  1.5195,  0.5477, -0.7099],\n",
            "        [ 0.5462,  1.2199,  1.1370,  1.2032]])\n"
          ]
        }
      ]
    },
    {
      "cell_type": "code",
      "metadata": {
        "colab": {
          "base_uri": "https://localhost:8080/"
        },
        "id": "Wax-ESrVIoE6",
        "outputId": "bf979ab0-f952-4094-8feb-983810651ca1"
      },
      "source": [
        "result=torch.empty(2,4)\n",
        "torch.add(x,y, out=result)\n",
        "print(result)"
      ],
      "execution_count": 26,
      "outputs": [
        {
          "output_type": "stream",
          "name": "stdout",
          "text": [
            "tensor([[ 1.0297,  1.5195,  0.5477, -0.7099],\n",
            "        [ 0.5462,  1.2199,  1.1370,  1.2032]])\n"
          ]
        }
      ]
    },
    {
      "cell_type": "code",
      "metadata": {
        "colab": {
          "base_uri": "https://localhost:8080/"
        },
        "id": "c2oEc-QyI0Wo",
        "outputId": "f9f80a17-bc88-4c23-82f0-1f01cd72d919"
      },
      "source": [
        "print(x)\n",
        "print(y)\n",
        "y.add_(x)\n",
        "print(y)"
      ],
      "execution_count": 27,
      "outputs": [
        {
          "output_type": "stream",
          "name": "stdout",
          "text": [
            "tensor([[ 0.1163,  1.2117, -0.0369, -0.8539],\n",
            "        [ 0.3045,  0.5688,  0.3525,  0.2666]])\n",
            "tensor([[0.9134, 0.3078, 0.5846, 0.1439],\n",
            "        [0.2417, 0.6511, 0.7845, 0.9365]])\n",
            "tensor([[ 1.0297,  1.5195,  0.5477, -0.7099],\n",
            "        [ 0.5462,  1.2199,  1.1370,  1.2032]])\n"
          ]
        }
      ]
    },
    {
      "cell_type": "code",
      "metadata": {
        "colab": {
          "base_uri": "https://localhost:8080/"
        },
        "id": "wTQhJbfVI97g",
        "outputId": "bff3d5c1-fe53-4d24-86f8-c16d6b89e063"
      },
      "source": [
        "x= torch.Tensor([[1,3],\n",
        "                 [5,7]])\n",
        "y= torch.Tensor([[2,4],\n",
        "                [6,8]])\n",
        "print(x-y)\n",
        "print(torch.sub(x,y))\n",
        "print(x.sub(x))"
      ],
      "execution_count": 31,
      "outputs": [
        {
          "output_type": "stream",
          "name": "stdout",
          "text": [
            "tensor([[-1., -1.],\n",
            "        [-1., -1.]])\n",
            "tensor([[-1., -1.],\n",
            "        [-1., -1.]])\n",
            "tensor([[0., 0.],\n",
            "        [0., 0.]])\n"
          ]
        }
      ]
    },
    {
      "cell_type": "code",
      "metadata": {
        "colab": {
          "base_uri": "https://localhost:8080/"
        },
        "id": "UEHqDSx-Jhht",
        "outputId": "e669495f-24c9-46ae-8430-9fdd0caefa0f"
      },
      "source": [
        "x= torch.Tensor([[1,3],\n",
        "                 [5,7]])\n",
        "y= torch.Tensor([[2,4],\n",
        "                [6,8]])\n",
        "print(x*y)\n",
        "print(torch.mul(x,y))\n",
        "print(x.mul(y))"
      ],
      "execution_count": 32,
      "outputs": [
        {
          "output_type": "stream",
          "name": "stdout",
          "text": [
            "tensor([[ 2., 12.],\n",
            "        [30., 56.]])\n",
            "tensor([[ 2., 12.],\n",
            "        [30., 56.]])\n",
            "tensor([[ 2., 12.],\n",
            "        [30., 56.]])\n"
          ]
        }
      ]
    },
    {
      "cell_type": "code",
      "metadata": {
        "colab": {
          "base_uri": "https://localhost:8080/"
        },
        "id": "UPoaJm_MJ4iS",
        "outputId": "b5b7c1ad-fab6-4015-f5d8-0bb20c2072b6"
      },
      "source": [
        "x= torch.Tensor([[1,3],\n",
        "                 [5,7]])\n",
        "y= torch.Tensor([[2,4],\n",
        "                [6,8]])\n",
        "print(x/y)\n",
        "print(torch.div(x,y))\n",
        "print(x.div(y))"
      ],
      "execution_count": 33,
      "outputs": [
        {
          "output_type": "stream",
          "name": "stdout",
          "text": [
            "tensor([[0.5000, 0.7500],\n",
            "        [0.8333, 0.8750]])\n",
            "tensor([[0.5000, 0.7500],\n",
            "        [0.8333, 0.8750]])\n",
            "tensor([[0.5000, 0.7500],\n",
            "        [0.8333, 0.8750]])\n"
          ]
        }
      ]
    },
    {
      "cell_type": "code",
      "metadata": {
        "colab": {
          "base_uri": "https://localhost:8080/"
        },
        "id": "Uxz0ZSeQJ8e4",
        "outputId": "e5031616-d58d-4024-9616-fd96d2b53784"
      },
      "source": [
        "x= torch.Tensor([[1,3],\n",
        "                 [5,7]])\n",
        "y= torch.Tensor([[2,4],\n",
        "                [6,8]])\n",
        "print(torch.mm(x,y))"
      ],
      "execution_count": 34,
      "outputs": [
        {
          "output_type": "stream",
          "name": "stdout",
          "text": [
            "tensor([[20., 28.],\n",
            "        [52., 76.]])\n"
          ]
        }
      ]
    },
    {
      "cell_type": "code",
      "metadata": {
        "colab": {
          "base_uri": "https://localhost:8080/"
        },
        "id": "w1R1u1NEKCqA",
        "outputId": "00d89de9-19b3-474b-e84c-b331d0766b62"
      },
      "source": [
        "print(x)"
      ],
      "execution_count": 35,
      "outputs": [
        {
          "output_type": "stream",
          "name": "stdout",
          "text": [
            "tensor([[1., 3.],\n",
            "        [5., 7.]])\n"
          ]
        }
      ]
    },
    {
      "cell_type": "code",
      "metadata": {
        "colab": {
          "base_uri": "https://localhost:8080/"
        },
        "id": "zDcGSNRPKSUY",
        "outputId": "34b1a933-1133-4d3f-e27e-99767c6ae107"
      },
      "source": [
        "print(x[:,1])"
      ],
      "execution_count": 36,
      "outputs": [
        {
          "output_type": "stream",
          "name": "stdout",
          "text": [
            "tensor([3., 7.])\n"
          ]
        }
      ]
    },
    {
      "cell_type": "code",
      "metadata": {
        "colab": {
          "base_uri": "https://localhost:8080/"
        },
        "id": "dKgPI5tZKUl6",
        "outputId": "6ddfaaff-17ab-4603-b673-6e9fcb551c4d"
      },
      "source": [
        "x= torch.randn(4,5)\n",
        "y=x.view(20)\n",
        "z=x.view(5,-1)\n",
        "print(x.size())\n",
        "print(y.size())\n",
        "print(z.size())\n",
        "print(x)\n",
        "print(y)\n",
        "print(z)"
      ],
      "execution_count": 41,
      "outputs": [
        {
          "output_type": "stream",
          "name": "stdout",
          "text": [
            "torch.Size([4, 5])\n",
            "torch.Size([20])\n",
            "torch.Size([5, 4])\n",
            "tensor([[-0.3486,  0.2272,  1.0275,  0.2465, -0.2693],\n",
            "        [-0.8962,  0.0348, -0.7010, -0.7494,  1.2425],\n",
            "        [-0.2562,  0.4381,  0.6186,  0.1330, -1.0358],\n",
            "        [ 0.6981, -1.0363,  0.8213, -0.8327, -1.4252]])\n",
            "tensor([-0.3486,  0.2272,  1.0275,  0.2465, -0.2693, -0.8962,  0.0348, -0.7010,\n",
            "        -0.7494,  1.2425, -0.2562,  0.4381,  0.6186,  0.1330, -1.0358,  0.6981,\n",
            "        -1.0363,  0.8213, -0.8327, -1.4252])\n",
            "tensor([[-0.3486,  0.2272,  1.0275,  0.2465],\n",
            "        [-0.2693, -0.8962,  0.0348, -0.7010],\n",
            "        [-0.7494,  1.2425, -0.2562,  0.4381],\n",
            "        [ 0.6186,  0.1330, -1.0358,  0.6981],\n",
            "        [-1.0363,  0.8213, -0.8327, -1.4252]])\n"
          ]
        }
      ]
    },
    {
      "cell_type": "code",
      "metadata": {
        "colab": {
          "base_uri": "https://localhost:8080/"
        },
        "id": "LBZiUjiiKcYB",
        "outputId": "53e48aea-82d0-4623-da90-80d88435c5be"
      },
      "source": [
        "x= torch.randn(1)\n",
        "print(x)\n",
        "print(x.item())\n",
        "print(x.dtype)"
      ],
      "execution_count": 42,
      "outputs": [
        {
          "output_type": "stream",
          "name": "stdout",
          "text": [
            "tensor([1.3527])\n",
            "1.3526591062545776\n",
            "torch.float32\n"
          ]
        }
      ]
    },
    {
      "cell_type": "code",
      "metadata": {
        "colab": {
          "base_uri": "https://localhost:8080/",
          "height": 247
        },
        "id": "KgxVVSjAK9eB",
        "outputId": "82c3c2ad-40b4-4a96-e6b4-7e78fd8b7020"
      },
      "source": [
        "x= torch.randn(2)\n",
        "print(x)\n",
        "print(x.item())\n",
        "print(x.dtype)"
      ],
      "execution_count": 44,
      "outputs": [
        {
          "output_type": "stream",
          "name": "stdout",
          "text": [
            "tensor([ 1.3215, -1.9645])\n"
          ]
        },
        {
          "output_type": "error",
          "ename": "ValueError",
          "evalue": "ignored",
          "traceback": [
            "\u001b[0;31m---------------------------------------------------------------------------\u001b[0m",
            "\u001b[0;31mValueError\u001b[0m                                Traceback (most recent call last)",
            "\u001b[0;32m<ipython-input-44-61df4f4b833e>\u001b[0m in \u001b[0;36m<module>\u001b[0;34m()\u001b[0m\n\u001b[1;32m      1\u001b[0m \u001b[0mx\u001b[0m\u001b[0;34m=\u001b[0m \u001b[0mtorch\u001b[0m\u001b[0;34m.\u001b[0m\u001b[0mrandn\u001b[0m\u001b[0;34m(\u001b[0m\u001b[0;36m2\u001b[0m\u001b[0;34m)\u001b[0m\u001b[0;34m\u001b[0m\u001b[0;34m\u001b[0m\u001b[0m\n\u001b[1;32m      2\u001b[0m \u001b[0mprint\u001b[0m\u001b[0;34m(\u001b[0m\u001b[0mx\u001b[0m\u001b[0;34m)\u001b[0m\u001b[0;34m\u001b[0m\u001b[0;34m\u001b[0m\u001b[0m\n\u001b[0;32m----> 3\u001b[0;31m \u001b[0mprint\u001b[0m\u001b[0;34m(\u001b[0m\u001b[0mx\u001b[0m\u001b[0;34m.\u001b[0m\u001b[0mitem\u001b[0m\u001b[0;34m(\u001b[0m\u001b[0;34m)\u001b[0m\u001b[0;34m)\u001b[0m\u001b[0;34m\u001b[0m\u001b[0;34m\u001b[0m\u001b[0m\n\u001b[0m\u001b[1;32m      4\u001b[0m \u001b[0mprint\u001b[0m\u001b[0;34m(\u001b[0m\u001b[0mx\u001b[0m\u001b[0;34m.\u001b[0m\u001b[0mdtype\u001b[0m\u001b[0;34m)\u001b[0m\u001b[0;34m\u001b[0m\u001b[0;34m\u001b[0m\u001b[0m\n",
            "\u001b[0;31mValueError\u001b[0m: only one element tensors can be converted to Python scalars"
          ]
        }
      ]
    },
    {
      "cell_type": "code",
      "metadata": {
        "colab": {
          "base_uri": "https://localhost:8080/"
        },
        "id": "5AkLK9ddLJYX",
        "outputId": "6a1f0521-11f4-48c1-8cfe-d49179478019"
      },
      "source": [
        "tensor= torch.rand(1,3,3)\n",
        "tensor.shape\n",
        "print(tensor)"
      ],
      "execution_count": 47,
      "outputs": [
        {
          "output_type": "stream",
          "name": "stdout",
          "text": [
            "tensor([[[0.4888, 0.6540, 0.9910],\n",
            "         [0.4895, 0.3886, 0.6228],\n",
            "         [0.0218, 0.8253, 0.4203]]])\n"
          ]
        }
      ]
    },
    {
      "cell_type": "code",
      "metadata": {
        "colab": {
          "base_uri": "https://localhost:8080/"
        },
        "id": "iH9OCmxcLXPI",
        "outputId": "354164c0-040d-43f8-d965-261aeef27c62"
      },
      "source": [
        "t= tensor.squeeze()\n",
        "print(t)\n",
        "print(t.shape)"
      ],
      "execution_count": 46,
      "outputs": [
        {
          "output_type": "stream",
          "name": "stdout",
          "text": [
            "tensor([[0.4896, 0.4447, 0.4757],\n",
            "        [0.1628, 0.1831, 0.5487],\n",
            "        [0.0464, 0.2654, 0.5498]])\n",
            "torch.Size([3, 3])\n"
          ]
        }
      ]
    },
    {
      "cell_type": "code",
      "metadata": {
        "colab": {
          "base_uri": "https://localhost:8080/"
        },
        "id": "mbusOQPFLbv5",
        "outputId": "213100a1-a22a-4701-905a-d724fa02494c"
      },
      "source": [
        "import torch\n",
        "tensor=torch.rand(1,3,3)\n",
        "print(tensor)"
      ],
      "execution_count": 2,
      "outputs": [
        {
          "output_type": "stream",
          "name": "stdout",
          "text": [
            "tensor([[[0.1864, 0.0579, 0.1690],\n",
            "         [0.4542, 0.9290, 0.9914],\n",
            "         [0.5893, 0.7168, 0.0666]]])\n"
          ]
        }
      ]
    },
    {
      "cell_type": "code",
      "metadata": {
        "colab": {
          "base_uri": "https://localhost:8080/"
        },
        "id": "Lt8vahcASPkl",
        "outputId": "ddb29124-8768-49db-c151-6042378e83fc"
      },
      "source": [
        "t= tensor.unsqueeze(dim=0)\n",
        "print(t)\n",
        "print(t.shape)"
      ],
      "execution_count": 3,
      "outputs": [
        {
          "output_type": "stream",
          "name": "stdout",
          "text": [
            "tensor([[[[0.1864, 0.0579, 0.1690],\n",
            "          [0.4542, 0.9290, 0.9914],\n",
            "          [0.5893, 0.7168, 0.0666]]]])\n",
            "torch.Size([1, 1, 3, 3])\n"
          ]
        }
      ]
    },
    {
      "cell_type": "code",
      "metadata": {
        "colab": {
          "base_uri": "https://localhost:8080/"
        },
        "id": "cgxP4M-CSJMU",
        "outputId": "89a4fcb0-bf98-40c8-9d8b-bd4073bc04b7"
      },
      "source": [
        "x= torch.FloatTensor([1,4])\n",
        "y= torch.FloatTensor([1,4])\n",
        "z= torch.FloatTensor([1,4])\n",
        "print(torch.stack([x,y,z]))"
      ],
      "execution_count": 5,
      "outputs": [
        {
          "output_type": "stream",
          "name": "stdout",
          "text": [
            "tensor([[1., 4.],\n",
            "        [1., 4.],\n",
            "        [1., 4.]])\n"
          ]
        }
      ]
    },
    {
      "cell_type": "code",
      "metadata": {
        "colab": {
          "base_uri": "https://localhost:8080/"
        },
        "id": "vLWZdYRHSujb",
        "outputId": "7b34414b-35a4-4004-9757-34201edb1631"
      },
      "source": [
        "a = torch.randn(1,1,3,3)\n",
        "b= torch.randn(1,1,3,3,)\n",
        "c=torch.cat((a,b), dim=0)\n",
        "\n",
        "print(c)\n",
        "print(c.shape)"
      ],
      "execution_count": 7,
      "outputs": [
        {
          "output_type": "stream",
          "name": "stdout",
          "text": [
            "tensor([[[[ 1.2395, -0.3102, -0.8895],\n",
            "          [-2.6027, -0.5727, -0.6736],\n",
            "          [ 0.2356,  1.4524,  1.0128]]],\n",
            "\n",
            "\n",
            "        [[[ 0.6019,  0.8930,  1.5312],\n",
            "          [-0.7400, -0.5620,  0.6526],\n",
            "          [ 0.5446,  0.2820, -0.9533]]]])\n",
            "torch.Size([2, 1, 3, 3])\n"
          ]
        }
      ]
    },
    {
      "cell_type": "code",
      "metadata": {
        "colab": {
          "base_uri": "https://localhost:8080/"
        },
        "id": "zrPArLDFTCtk",
        "outputId": "39b13449-a3ec-4f72-dbe9-bb202dd8862f"
      },
      "source": [
        "a = torch.randn(1,3,3)\n",
        "b= torch.randn(1,3,3,)\n",
        "c=torch.cat((a,b), dim=1)\n",
        "\n",
        "print(c)\n",
        "print(c.shape)"
      ],
      "execution_count": 9,
      "outputs": [
        {
          "output_type": "stream",
          "name": "stdout",
          "text": [
            "tensor([[[ 1.4660,  1.0887, -0.4334],\n",
            "         [-0.4053,  0.8450,  0.2317],\n",
            "         [-0.1570, -0.2784,  0.5188],\n",
            "         [ 0.1475, -0.6382, -1.2640],\n",
            "         [-1.9087,  1.7171, -0.3143],\n",
            "         [-0.3386, -1.3431, -2.1723]]])\n",
            "torch.Size([1, 6, 3])\n"
          ]
        }
      ]
    },
    {
      "cell_type": "code",
      "metadata": {
        "colab": {
          "base_uri": "https://localhost:8080/"
        },
        "id": "ksylh4meTXcM",
        "outputId": "be29b920-23ed-4916-896d-f4cef711ef3e"
      },
      "source": [
        "tensor= torch.rand(3,6)\n",
        "t1, t2, t3 = torch.chunk(tensor, 3, dim=0)\n",
        "\n",
        "print(tensor)\n",
        "print(t1)\n",
        "print(t2)\n",
        "print(t3)"
      ],
      "execution_count": 15,
      "outputs": [
        {
          "output_type": "stream",
          "name": "stdout",
          "text": [
            "tensor([[0.6578, 0.2033, 0.8573, 0.8581, 0.5384, 0.8777],\n",
            "        [0.1414, 0.7434, 0.3217, 0.5639, 0.4362, 0.5035],\n",
            "        [0.6324, 0.3950, 0.1690, 0.8328, 0.2950, 0.3861]])\n",
            "tensor([[0.6578, 0.2033, 0.8573, 0.8581, 0.5384, 0.8777]])\n",
            "tensor([[0.1414, 0.7434, 0.3217, 0.5639, 0.4362, 0.5035]])\n",
            "tensor([[0.6324, 0.3950, 0.1690, 0.8328, 0.2950, 0.3861]])\n"
          ]
        }
      ]
    },
    {
      "cell_type": "code",
      "metadata": {
        "colab": {
          "base_uri": "https://localhost:8080/"
        },
        "id": "82iqgkXHTtyj",
        "outputId": "70cfb69e-fd74-4219-c680-dfa33fbaf28d"
      },
      "source": [
        "tensor= torch.rand(3,6)\n",
        "t1, t2= torch.split(tensor, 3, dim=1)\n",
        "print(tensor)\n",
        "print(t1)\n",
        "print(t2)"
      ],
      "execution_count": 16,
      "outputs": [
        {
          "output_type": "stream",
          "name": "stdout",
          "text": [
            "tensor([[5.2074e-01, 1.5754e-01, 4.9679e-02, 3.2596e-01, 5.6343e-01, 8.1150e-01],\n",
            "        [3.2085e-01, 1.5629e-01, 2.0103e-01, 7.8039e-01, 9.0572e-01, 3.3651e-01],\n",
            "        [3.3309e-01, 9.4529e-01, 8.8573e-05, 6.7467e-01, 2.0434e-01, 8.1405e-01]])\n",
            "tensor([[5.2074e-01, 1.5754e-01, 4.9679e-02],\n",
            "        [3.2085e-01, 1.5629e-01, 2.0103e-01],\n",
            "        [3.3309e-01, 9.4529e-01, 8.8573e-05]])\n",
            "tensor([[0.3260, 0.5634, 0.8115],\n",
            "        [0.7804, 0.9057, 0.3365],\n",
            "        [0.6747, 0.2043, 0.8140]])\n"
          ]
        }
      ]
    },
    {
      "cell_type": "code",
      "metadata": {
        "colab": {
          "base_uri": "https://localhost:8080/"
        },
        "id": "lRYYbBsuURBr",
        "outputId": "d8496d16-457c-4685-eb34-36ca684c5e39"
      },
      "source": [
        " a= torch.ones(7)\n",
        " print(a)"
      ],
      "execution_count": 17,
      "outputs": [
        {
          "output_type": "stream",
          "name": "stdout",
          "text": [
            "tensor([1., 1., 1., 1., 1., 1., 1.])\n"
          ]
        }
      ]
    },
    {
      "cell_type": "code",
      "metadata": {
        "colab": {
          "base_uri": "https://localhost:8080/"
        },
        "id": "Wgf_VN3UUt-D",
        "outputId": "c8d42174-cbbd-4e3f-c86c-73b9013baf11"
      },
      "source": [
        "b= a.numpy()\n",
        "print(b)"
      ],
      "execution_count": 18,
      "outputs": [
        {
          "output_type": "stream",
          "name": "stdout",
          "text": [
            "[1. 1. 1. 1. 1. 1. 1.]\n"
          ]
        }
      ]
    },
    {
      "cell_type": "code",
      "metadata": {
        "colab": {
          "base_uri": "https://localhost:8080/"
        },
        "id": "SGydo4SDUwXE",
        "outputId": "56de009b-7715-40d3-f06a-f13b89ce4907"
      },
      "source": [
        "a.add_(1)\n",
        "print(a)\n",
        "print(b)"
      ],
      "execution_count": 20,
      "outputs": [
        {
          "output_type": "stream",
          "name": "stdout",
          "text": [
            "tensor([3., 3., 3., 3., 3., 3., 3.])\n",
            "[3. 3. 3. 3. 3. 3. 3.]\n"
          ]
        }
      ]
    },
    {
      "cell_type": "code",
      "metadata": {
        "colab": {
          "base_uri": "https://localhost:8080/"
        },
        "id": "t0NUK92zU0db",
        "outputId": "70cf7da0-691a-4971-9f83-3a68ef66b937"
      },
      "source": [
        "import numpy as np\n",
        "a= np.ones(7)\n",
        "b=torch.from_numpy(a)\n",
        "np.add(a,1,out=a)\n",
        "print(a)\n",
        "print(b)"
      ],
      "execution_count": 23,
      "outputs": [
        {
          "output_type": "stream",
          "name": "stdout",
          "text": [
            "[2. 2. 2. 2. 2. 2. 2.]\n",
            "tensor([2., 2., 2., 2., 2., 2., 2.], dtype=torch.float64)\n"
          ]
        }
      ]
    },
    {
      "cell_type": "code",
      "metadata": {
        "id": "jPXB8TK-VGbt"
      },
      "source": [
        "import torch"
      ],
      "execution_count": 1,
      "outputs": []
    },
    {
      "cell_type": "code",
      "metadata": {
        "colab": {
          "base_uri": "https://localhost:8080/"
        },
        "id": "_3Q8A0bvVW60",
        "outputId": "7316aa35-277f-4c98-92e1-ab4e3597cb74"
      },
      "source": [
        "x= torch.randn(1)\n",
        "print(x)\n",
        "print(x.item())\n",
        "print(x.dtype)"
      ],
      "execution_count": 11,
      "outputs": [
        {
          "output_type": "stream",
          "name": "stdout",
          "text": [
            "tensor([-0.7188])\n",
            "-0.7188292145729065\n",
            "torch.float32\n"
          ]
        }
      ]
    },
    {
      "cell_type": "code",
      "metadata": {
        "colab": {
          "base_uri": "https://localhost:8080/"
        },
        "id": "vLHrrzjDVdpF",
        "outputId": "dc4bb9ae-77e8-4446-a5ee-917df28d61d7"
      },
      "source": [
        "device= torch.device('cuda' if torch.cuda.is_available() else 'cpu' )\n",
        "y= torch.ones_like(x, device=device)\n",
        "x=x.to(device)\n",
        "z=x+y\n",
        "print(device)\n",
        "print(z)\n",
        "print(z.to('cpu', torch.double))"
      ],
      "execution_count": 13,
      "outputs": [
        {
          "output_type": "stream",
          "name": "stdout",
          "text": [
            "cuda\n",
            "tensor([0.2812], device='cuda:0')\n",
            "tensor([0.2812], dtype=torch.float64)\n"
          ]
        }
      ]
    },
    {
      "cell_type": "code",
      "metadata": {
        "colab": {
          "base_uri": "https://localhost:8080/"
        },
        "id": "yqyIHhGEWONb",
        "outputId": "b01e8fa1-9cb9-4ec9-e809-028c959b3afd"
      },
      "source": [
        "x= torch.ones(3,3, requires_grad=True)\n",
        "print(x)"
      ],
      "execution_count": 14,
      "outputs": [
        {
          "output_type": "stream",
          "name": "stdout",
          "text": [
            "tensor([[1., 1., 1.],\n",
            "        [1., 1., 1.],\n",
            "        [1., 1., 1.]], requires_grad=True)\n"
          ]
        }
      ]
    },
    {
      "cell_type": "code",
      "metadata": {
        "colab": {
          "base_uri": "https://localhost:8080/"
        },
        "id": "kYy24lJcX5CF",
        "outputId": "d9057504-4412-4485-8d2e-725a27ee7e26"
      },
      "source": [
        "y= x+5\n",
        "print(y)"
      ],
      "execution_count": 15,
      "outputs": [
        {
          "output_type": "stream",
          "name": "stdout",
          "text": [
            "tensor([[6., 6., 6.],\n",
            "        [6., 6., 6.],\n",
            "        [6., 6., 6.]], grad_fn=<AddBackward0>)\n"
          ]
        }
      ]
    },
    {
      "cell_type": "code",
      "metadata": {
        "colab": {
          "base_uri": "https://localhost:8080/"
        },
        "id": "c6o4T8P3X8Tz",
        "outputId": "0564cb52-e0ed-4d88-95db-fb2dd8f202d6"
      },
      "source": [
        "print(y.grad_fn)"
      ],
      "execution_count": 16,
      "outputs": [
        {
          "output_type": "stream",
          "name": "stdout",
          "text": [
            "<AddBackward0 object at 0x7f50a7204890>\n"
          ]
        }
      ]
    },
    {
      "cell_type": "code",
      "metadata": {
        "colab": {
          "base_uri": "https://localhost:8080/"
        },
        "id": "pNgiI_KnYCsT",
        "outputId": "e63bda64-20f5-49af-b121-adb2efb762e6"
      },
      "source": [
        "z= y*y*2\n",
        "out= z.mean()\n",
        "print(z, out)"
      ],
      "execution_count": 17,
      "outputs": [
        {
          "output_type": "stream",
          "name": "stdout",
          "text": [
            "tensor([[72., 72., 72.],\n",
            "        [72., 72., 72.],\n",
            "        [72., 72., 72.]], grad_fn=<MulBackward0>) tensor(72., grad_fn=<MeanBackward0>)\n"
          ]
        }
      ]
    },
    {
      "cell_type": "code",
      "metadata": {
        "colab": {
          "base_uri": "https://localhost:8080/"
        },
        "id": "8en9FM4RYJ3j",
        "outputId": "21694baf-e614-45a3-b130-b751242083a9"
      },
      "source": [
        "a= torch.randn(3,3)\n",
        "a= ((a*3)/(a-1))\n",
        "print(a.requires_grad)\n",
        "\n",
        "a.requires_grad_(True)\n",
        "print(a.requires_grad)\n",
        "\n",
        "b= (a*a).sum()\n",
        "print(b.grad_fn)"
      ],
      "execution_count": 19,
      "outputs": [
        {
          "output_type": "stream",
          "name": "stdout",
          "text": [
            "False\n",
            "True\n",
            "<SumBackward0 object at 0x7f50a723b3d0>\n"
          ]
        }
      ]
    },
    {
      "cell_type": "code",
      "metadata": {
        "id": "bpLdujBrYtdz"
      },
      "source": [
        "out.backward()"
      ],
      "execution_count": 20,
      "outputs": []
    },
    {
      "cell_type": "code",
      "metadata": {
        "colab": {
          "base_uri": "https://localhost:8080/"
        },
        "id": "EoIuy2ubZJLL",
        "outputId": "648fee30-6e17-41bf-c906-7276c47ca213"
      },
      "source": [
        "print(x.grad)"
      ],
      "execution_count": 21,
      "outputs": [
        {
          "output_type": "stream",
          "name": "stdout",
          "text": [
            "tensor([[2.6667, 2.6667, 2.6667],\n",
            "        [2.6667, 2.6667, 2.6667],\n",
            "        [2.6667, 2.6667, 2.6667]])\n"
          ]
        }
      ]
    },
    {
      "cell_type": "code",
      "metadata": {
        "colab": {
          "base_uri": "https://localhost:8080/"
        },
        "id": "8Yf37LYgZKVb",
        "outputId": "b6b13fe4-9733-44dc-d40c-b82aeb0e4569"
      },
      "source": [
        "x= torch.randn(3, requires_grad=True)\n",
        "y=x*2\n",
        "\n",
        "while y.data.norm()<1000:\n",
        "  y=y*2\n",
        "\n",
        "print(y)"
      ],
      "execution_count": 23,
      "outputs": [
        {
          "output_type": "stream",
          "name": "stdout",
          "text": [
            "tensor([-126.5375, 1024.7170,   88.8729], grad_fn=<MulBackward0>)\n"
          ]
        }
      ]
    },
    {
      "cell_type": "code",
      "metadata": {
        "colab": {
          "base_uri": "https://localhost:8080/"
        },
        "id": "kyq3Cvo5ZWz7",
        "outputId": "2885bab7-1ad5-4f26-f0e6-d1e5d89080a3"
      },
      "source": [
        "v= torch.tensor([0.1,1.0, 0.0001], dtype=torch.float)\n",
        "y.backward(v)\n",
        "\n",
        "print(x.grad)"
      ],
      "execution_count": 24,
      "outputs": [
        {
          "output_type": "stream",
          "name": "stdout",
          "text": [
            "tensor([1.0240e+02, 1.0240e+03, 1.0240e-01])\n"
          ]
        }
      ]
    },
    {
      "cell_type": "code",
      "metadata": {
        "colab": {
          "base_uri": "https://localhost:8080/"
        },
        "id": "WIq-3mXsZokC",
        "outputId": "088b1d0d-6f87-4b20-c035-c755658965bb"
      },
      "source": [
        "print(x.requires_grad)\n",
        "print((x**2).requires_grad)\n",
        "\n",
        "with torch.no_grad():\n",
        "  print((x**2).requires_grad)"
      ],
      "execution_count": 25,
      "outputs": [
        {
          "output_type": "stream",
          "name": "stdout",
          "text": [
            "True\n",
            "True\n",
            "False\n"
          ]
        }
      ]
    },
    {
      "cell_type": "code",
      "metadata": {
        "colab": {
          "base_uri": "https://localhost:8080/"
        },
        "id": "NNjit9d8aAyd",
        "outputId": "1afc60ba-5898-44d9-a0c1-0265d1a20321"
      },
      "source": [
        "print(x.requires_grad)\n",
        "\n",
        "y=x.detach()\n",
        "print(y.requires_grad)\n",
        "print(x.eq(y).all())"
      ],
      "execution_count": 26,
      "outputs": [
        {
          "output_type": "stream",
          "name": "stdout",
          "text": [
            "True\n",
            "False\n",
            "tensor(True)\n"
          ]
        }
      ]
    },
    {
      "cell_type": "code",
      "metadata": {
        "colab": {
          "base_uri": "https://localhost:8080/"
        },
        "id": "T4-hsXIpaLyl",
        "outputId": "2e29571c-50e5-4429-a768-f64c0244d775"
      },
      "source": [
        "a= torch.ones(2,2)\n",
        "print(a)"
      ],
      "execution_count": 27,
      "outputs": [
        {
          "output_type": "stream",
          "name": "stdout",
          "text": [
            "tensor([[1., 1.],\n",
            "        [1., 1.]])\n"
          ]
        }
      ]
    },
    {
      "cell_type": "code",
      "metadata": {
        "colab": {
          "base_uri": "https://localhost:8080/"
        },
        "id": "930VyPkZaiMM",
        "outputId": "dbc78e09-400f-4d1c-a3fc-868b25077d1c"
      },
      "source": [
        "a= torch.ones(2,2, requires_grad= True)\n",
        "print(a)"
      ],
      "execution_count": 28,
      "outputs": [
        {
          "output_type": "stream",
          "name": "stdout",
          "text": [
            "tensor([[1., 1.],\n",
            "        [1., 1.]], requires_grad=True)\n"
          ]
        }
      ]
    },
    {
      "cell_type": "code",
      "metadata": {
        "colab": {
          "base_uri": "https://localhost:8080/"
        },
        "id": "NxZeAKMjams8",
        "outputId": "b5a058ba-4b67-49f5-a722-03ab74d0e51e"
      },
      "source": [
        "print('a.data:', a)\n",
        "print('a.grad:',a.grad)\n",
        "print('a.grad_fn', a.grad_fn)"
      ],
      "execution_count": 29,
      "outputs": [
        {
          "output_type": "stream",
          "name": "stdout",
          "text": [
            "a.data: tensor([[1., 1.],\n",
            "        [1., 1.]], requires_grad=True)\n",
            "a.grad: None\n",
            "a.grad_fn None\n"
          ]
        }
      ]
    },
    {
      "cell_type": "code",
      "metadata": {
        "colab": {
          "base_uri": "https://localhost:8080/"
        },
        "id": "0nY-bs7taxGb",
        "outputId": "b7a32524-cfd1-4e10-db1c-fff2f191268f"
      },
      "source": [
        "b= a+2\n",
        "print(b)"
      ],
      "execution_count": 30,
      "outputs": [
        {
          "output_type": "stream",
          "name": "stdout",
          "text": [
            "tensor([[3., 3.],\n",
            "        [3., 3.]], grad_fn=<AddBackward0>)\n"
          ]
        }
      ]
    },
    {
      "cell_type": "code",
      "metadata": {
        "colab": {
          "base_uri": "https://localhost:8080/"
        },
        "id": "fc_pqMdha4ds",
        "outputId": "4c743afc-2884-4bae-f4ac-3b22fdba6318"
      },
      "source": [
        "c= b**2\n",
        "print(c)"
      ],
      "execution_count": 31,
      "outputs": [
        {
          "output_type": "stream",
          "name": "stdout",
          "text": [
            "tensor([[9., 9.],\n",
            "        [9., 9.]], grad_fn=<PowBackward0>)\n"
          ]
        }
      ]
    },
    {
      "cell_type": "code",
      "metadata": {
        "colab": {
          "base_uri": "https://localhost:8080/"
        },
        "id": "qiByZZsHa7tz",
        "outputId": "90bfcee5-c90d-4a41-a219-600b749f04f1"
      },
      "source": [
        "out= c.sum()\n",
        "print(out)"
      ],
      "execution_count": 32,
      "outputs": [
        {
          "output_type": "stream",
          "name": "stdout",
          "text": [
            "tensor(36., grad_fn=<SumBackward0>)\n"
          ]
        }
      ]
    },
    {
      "cell_type": "code",
      "metadata": {
        "colab": {
          "base_uri": "https://localhost:8080/"
        },
        "id": "Za2WpIaNbAWq",
        "outputId": "2769dfc7-49cd-46af-8ec2-2d204380f57c"
      },
      "source": [
        "print(out)\n",
        "out.backward()"
      ],
      "execution_count": 33,
      "outputs": [
        {
          "output_type": "stream",
          "name": "stdout",
          "text": [
            "tensor(36., grad_fn=<SumBackward0>)\n"
          ]
        }
      ]
    },
    {
      "cell_type": "code",
      "metadata": {
        "colab": {
          "base_uri": "https://localhost:8080/"
        },
        "id": "Rl5SZK7abF8z",
        "outputId": "357f7eb1-400a-4ee5-9299-b7316e157c90"
      },
      "source": [
        "print('a.data:', a)\n",
        "print('a.grad:',a.grad)\n",
        "print('a.grad_fn', a.grad_fn)"
      ],
      "execution_count": 34,
      "outputs": [
        {
          "output_type": "stream",
          "name": "stdout",
          "text": [
            "a.data: tensor([[1., 1.],\n",
            "        [1., 1.]], requires_grad=True)\n",
            "a.grad: tensor([[6., 6.],\n",
            "        [6., 6.]])\n",
            "a.grad_fn None\n"
          ]
        }
      ]
    },
    {
      "cell_type": "code",
      "metadata": {
        "colab": {
          "base_uri": "https://localhost:8080/"
        },
        "id": "UwEuqeZsbKMG",
        "outputId": "9144ffe0-27b1-4d71-fc1f-a536b135ecb0"
      },
      "source": [
        "print('b.data:', b)\n",
        "print('b.grad:',b.grad)\n",
        "print('b.grad_fn', b.grad_fn)"
      ],
      "execution_count": 36,
      "outputs": [
        {
          "output_type": "stream",
          "name": "stdout",
          "text": [
            "b.data: tensor([[3., 3.],\n",
            "        [3., 3.]], grad_fn=<AddBackward0>)\n",
            "b.grad: None\n",
            "b.grad_fn <AddBackward0 object at 0x7f50a2046590>\n"
          ]
        },
        {
          "output_type": "stream",
          "name": "stderr",
          "text": [
            "/usr/local/lib/python3.7/dist-packages/torch/_tensor.py:1013: UserWarning: The .grad attribute of a Tensor that is not a leaf Tensor is being accessed. Its .grad attribute won't be populated during autograd.backward(). If you indeed want the .grad field to be populated for a non-leaf Tensor, use .retain_grad() on the non-leaf Tensor. If you access the non-leaf Tensor by mistake, make sure you access the leaf Tensor instead. See github.com/pytorch/pytorch/pull/30531 for more informations. (Triggered internally at  aten/src/ATen/core/TensorBody.h:417.)\n",
            "  return self._grad\n"
          ]
        }
      ]
    },
    {
      "cell_type": "code",
      "metadata": {
        "colab": {
          "base_uri": "https://localhost:8080/"
        },
        "id": "1QK89LufbQkV",
        "outputId": "a8b02aef-5e37-4f7f-d33c-b86984a5aece"
      },
      "source": [
        "print('out.data:', out)\n",
        "print('out.grad:',out.grad)\n",
        "print('out.grad_fn', out.grad_fn)"
      ],
      "execution_count": 38,
      "outputs": [
        {
          "output_type": "stream",
          "name": "stdout",
          "text": [
            "out.data: tensor(36., grad_fn=<SumBackward0>)\n",
            "out.grad: None\n",
            "out.grad_fn <SumBackward0 object at 0x7f50a7212ed0>\n"
          ]
        },
        {
          "output_type": "stream",
          "name": "stderr",
          "text": [
            "/usr/local/lib/python3.7/dist-packages/torch/_tensor.py:1013: UserWarning: The .grad attribute of a Tensor that is not a leaf Tensor is being accessed. Its .grad attribute won't be populated during autograd.backward(). If you indeed want the .grad field to be populated for a non-leaf Tensor, use .retain_grad() on the non-leaf Tensor. If you access the non-leaf Tensor by mistake, make sure you access the leaf Tensor instead. See github.com/pytorch/pytorch/pull/30531 for more informations. (Triggered internally at  aten/src/ATen/core/TensorBody.h:417.)\n",
            "  return self._grad\n"
          ]
        }
      ]
    },
    {
      "cell_type": "code",
      "metadata": {
        "colab": {
          "base_uri": "https://localhost:8080/"
        },
        "id": "kQhOl09rbZ47",
        "outputId": "9f70c986-2c36-468d-a6d4-a56c504c20e1"
      },
      "source": [
        "x= torch.ones(3, requires_grad=True)\n",
        "y= (x**2)\n",
        "z= y**2+x\n",
        "out= z.sum()\n",
        "print(out)"
      ],
      "execution_count": 39,
      "outputs": [
        {
          "output_type": "stream",
          "name": "stdout",
          "text": [
            "tensor(6., grad_fn=<SumBackward0>)\n"
          ]
        }
      ]
    },
    {
      "cell_type": "code",
      "metadata": {
        "id": "KQ9n_6jLb17S"
      },
      "source": [
        "grad= torch.Tensor([0.1,1,100])\n",
        "z.backward(grad)"
      ],
      "execution_count": 40,
      "outputs": []
    },
    {
      "cell_type": "code",
      "metadata": {
        "colab": {
          "base_uri": "https://localhost:8080/"
        },
        "id": "Nllgi05vcDAK",
        "outputId": "76ccc4ca-3999-4fe9-8ab9-45562ce91999"
      },
      "source": [
        "print('a.data:', x)\n",
        "print('a.grad:',x.grad)\n",
        "print('a.grad_fn', x.grad_fn)"
      ],
      "execution_count": 42,
      "outputs": [
        {
          "output_type": "stream",
          "name": "stdout",
          "text": [
            "a.data: tensor([1., 1., 1.], requires_grad=True)\n",
            "a.grad: tensor([  0.5000,   5.0000, 500.0000])\n",
            "a.grad_fn None\n"
          ]
        }
      ]
    },
    {
      "cell_type": "code",
      "metadata": {
        "colab": {
          "base_uri": "https://localhost:8080/"
        },
        "id": "3MOAIuWlcHl8",
        "outputId": "2544fd18-e6c1-491b-b919-ff9f44af5428"
      },
      "source": [
        "print('y.data:', y)\n",
        "print('y.grad:',y.grad)\n",
        "print('y.grad_fn', y.grad_fn)"
      ],
      "execution_count": 43,
      "outputs": [
        {
          "output_type": "stream",
          "name": "stdout",
          "text": [
            "y.data: tensor([1., 1., 1.], grad_fn=<PowBackward0>)\n",
            "y.grad: None\n",
            "y.grad_fn <PowBackward0 object at 0x7f50a2906810>\n"
          ]
        },
        {
          "output_type": "stream",
          "name": "stderr",
          "text": [
            "/usr/local/lib/python3.7/dist-packages/torch/_tensor.py:1013: UserWarning: The .grad attribute of a Tensor that is not a leaf Tensor is being accessed. Its .grad attribute won't be populated during autograd.backward(). If you indeed want the .grad field to be populated for a non-leaf Tensor, use .retain_grad() on the non-leaf Tensor. If you access the non-leaf Tensor by mistake, make sure you access the leaf Tensor instead. See github.com/pytorch/pytorch/pull/30531 for more informations. (Triggered internally at  aten/src/ATen/core/TensorBody.h:417.)\n",
            "  return self._grad\n"
          ]
        }
      ]
    },
    {
      "cell_type": "code",
      "metadata": {
        "colab": {
          "base_uri": "https://localhost:8080/"
        },
        "id": "jIQQi639cLyS",
        "outputId": "744fb9c0-1bb3-4af2-b479-04c05ab3410f"
      },
      "source": [
        "print('z.data:', z.data)\n",
        "print('z.grad:',z.grad)\n",
        "print('z.grad_fn', z.grad_fn)"
      ],
      "execution_count": 45,
      "outputs": [
        {
          "output_type": "stream",
          "name": "stdout",
          "text": [
            "z.data: tensor([2., 2., 2.])\n",
            "z.grad: None\n",
            "z.grad_fn <AddBackward0 object at 0x7f50a2044f10>\n"
          ]
        },
        {
          "output_type": "stream",
          "name": "stderr",
          "text": [
            "/usr/local/lib/python3.7/dist-packages/torch/_tensor.py:1013: UserWarning: The .grad attribute of a Tensor that is not a leaf Tensor is being accessed. Its .grad attribute won't be populated during autograd.backward(). If you indeed want the .grad field to be populated for a non-leaf Tensor, use .retain_grad() on the non-leaf Tensor. If you access the non-leaf Tensor by mistake, make sure you access the leaf Tensor instead. See github.com/pytorch/pytorch/pull/30531 for more informations. (Triggered internally at  aten/src/ATen/core/TensorBody.h:417.)\n",
            "  return self._grad\n"
          ]
        }
      ]
    },
    {
      "cell_type": "code",
      "metadata": {
        "id": "eikkMBSucQAz"
      },
      "source": [
        "import torch.nn as nn"
      ],
      "execution_count": 46,
      "outputs": []
    },
    {
      "cell_type": "code",
      "metadata": {
        "colab": {
          "base_uri": "https://localhost:8080/"
        },
        "id": "qE7djocrdI6b",
        "outputId": "a95e1e23-c4db-4318-e501-bd55eec65efb"
      },
      "source": [
        "m= nn.Conv2d(16, 33, 3, stride=2)\n",
        "\n",
        "m=nn.Conv2d(16, 33, (3,5), stride=(2,1), padding=(4,2))\n",
        "\n",
        "m=nn.Conv2d(16, 33, (3,5), stride=(2,1), padding=(4,2), dilation=(3,1)) #dilation 패딩사이의 간격\n",
        "\n",
        "input= torch.randn(20, 16, 50, 100)\n",
        "print(input)\n",
        "output=m(input)\n",
        "print(output)\n"
      ],
      "execution_count": 51,
      "outputs": [
        {
          "output_type": "stream",
          "name": "stdout",
          "text": [
            "tensor([[[[ 9.2737e-01,  6.7853e-01,  1.7011e-01,  ..., -1.0563e-01,\n",
            "            1.2692e+00, -9.2927e-01],\n",
            "          [ 5.1234e-02,  8.1850e-01,  9.5024e-01,  ..., -2.3239e-01,\n",
            "            9.4128e-01,  4.1321e-01],\n",
            "          [ 1.3267e+00,  3.5208e-01,  2.2047e+00,  ..., -1.5863e-01,\n",
            "            2.7956e-01, -1.3770e-01],\n",
            "          ...,\n",
            "          [ 1.3348e-01,  4.7617e-01,  1.0501e+00,  ..., -6.4985e-01,\n",
            "            6.3680e-01, -7.6686e-01],\n",
            "          [ 1.3364e+00, -2.6885e-01, -5.6687e-01,  ..., -6.5463e-01,\n",
            "            6.7817e-01, -1.5856e+00],\n",
            "          [-1.4607e-01, -6.1244e-01, -3.5669e-01,  ..., -2.7602e-01,\n",
            "           -1.3480e+00,  3.0510e-01]],\n",
            "\n",
            "         [[ 1.5791e+00, -1.9773e+00,  1.4714e-01,  ..., -3.5739e-01,\n",
            "           -1.2286e+00, -1.8228e-02],\n",
            "          [ 3.6769e-02,  1.2026e-01, -1.1370e-01,  ...,  1.1109e+00,\n",
            "            4.0938e-01,  1.1326e+00],\n",
            "          [ 8.5495e-01, -3.1623e-01, -2.2512e+00,  ...,  1.3683e+00,\n",
            "           -8.3515e-01,  1.0734e+00],\n",
            "          ...,\n",
            "          [-7.1075e-01, -2.3675e-01, -1.0878e+00,  ...,  5.1944e-01,\n",
            "            2.6674e-01,  1.7181e-01],\n",
            "          [ 3.8101e-01, -1.5469e+00, -7.4886e-01,  ...,  1.5698e+00,\n",
            "           -9.7551e-01, -9.7928e-01],\n",
            "          [-8.0286e-01,  5.5558e-01,  1.3343e+00,  ..., -7.5916e-01,\n",
            "            1.3703e-01,  9.5007e-01]],\n",
            "\n",
            "         [[-9.2110e-01,  9.9167e-01,  7.8626e-01,  ..., -8.2461e-02,\n",
            "            9.5364e-01, -8.6686e-01],\n",
            "          [ 8.3393e-01, -4.9992e-01, -5.4897e-01,  ...,  1.6979e-02,\n",
            "           -1.1341e+00, -2.2647e-01],\n",
            "          [-5.2371e-01,  3.8958e-01, -5.3587e-01,  ...,  6.6986e-01,\n",
            "           -4.1193e-02,  1.3116e+00],\n",
            "          ...,\n",
            "          [-1.4008e-01, -2.2417e+00, -4.5468e-01,  ...,  1.2472e+00,\n",
            "            1.1802e+00,  2.9941e-01],\n",
            "          [-1.6005e+00, -6.5898e-01, -1.4222e+00,  ...,  1.3390e+00,\n",
            "            1.2025e+00,  5.2449e-01],\n",
            "          [-1.4619e+00, -4.5720e-01,  1.4694e+00,  ..., -6.5053e-01,\n",
            "           -6.5920e-01, -9.1533e-01]],\n",
            "\n",
            "         ...,\n",
            "\n",
            "         [[ 4.6172e-01, -1.6201e+00,  9.8043e-01,  ...,  4.4078e-01,\n",
            "           -8.3896e-01, -4.0224e-01],\n",
            "          [ 1.1151e+00, -2.3809e-01, -2.2650e+00,  ..., -3.9927e-01,\n",
            "           -2.9720e-01,  1.2678e+00],\n",
            "          [-7.6338e-01,  1.4022e+00,  4.4704e-01,  ..., -2.2346e-01,\n",
            "           -7.7638e-01,  6.4913e-01],\n",
            "          ...,\n",
            "          [ 8.6314e-02, -9.3634e-01,  3.3903e-01,  ...,  6.1962e-01,\n",
            "           -7.2844e-01, -8.4578e-02],\n",
            "          [-5.2676e-01, -1.4105e+00, -8.2698e-02,  ...,  2.4463e-01,\n",
            "            9.7811e-01, -1.1350e+00],\n",
            "          [-1.1447e+00, -1.1412e+00, -8.7360e-01,  ...,  1.4360e+00,\n",
            "            1.4521e+00, -1.1241e+00]],\n",
            "\n",
            "         [[-1.9670e-01,  1.4689e-01, -4.8700e-01,  ..., -5.0406e-01,\n",
            "           -3.8427e-01,  8.1189e-01],\n",
            "          [-4.7452e-01,  1.0721e+00,  4.2349e-01,  ...,  3.6723e-01,\n",
            "           -2.3695e-01, -3.8083e-01],\n",
            "          [-8.1263e-01,  1.6673e+00, -1.0514e+00,  ..., -1.1475e-01,\n",
            "           -5.8476e-01,  5.9568e-01],\n",
            "          ...,\n",
            "          [-2.4372e+00,  2.6274e-01, -3.8888e-01,  ...,  4.7772e-01,\n",
            "            2.5466e+00, -3.0758e-01],\n",
            "          [-1.1102e+00,  1.2195e+00,  6.8129e-01,  ...,  1.5315e+00,\n",
            "           -9.3292e-02,  9.7805e-02],\n",
            "          [-9.7260e-02,  1.9909e+00,  1.4879e+00,  ..., -8.5153e-01,\n",
            "           -9.0784e-01,  9.3465e-01]],\n",
            "\n",
            "         [[-1.5234e+00, -3.3042e-01, -5.5569e-01,  ..., -1.2919e+00,\n",
            "            9.2527e-01, -7.9505e-02],\n",
            "          [-3.9033e-01, -5.4314e-01, -3.3106e-01,  ...,  8.1298e-01,\n",
            "            4.3599e-01,  7.1840e-02],\n",
            "          [ 1.5515e+00, -6.1848e-01,  2.6864e-01,  ...,  3.5069e-01,\n",
            "           -2.1732e+00,  6.0489e-01],\n",
            "          ...,\n",
            "          [ 7.8444e-01,  8.7741e-01, -1.6598e+00,  ...,  2.2496e-01,\n",
            "           -1.1085e+00, -1.4950e+00],\n",
            "          [ 2.7313e-01, -4.7424e-03, -9.3145e-01,  ...,  1.5845e+00,\n",
            "           -2.5381e-01,  7.1473e-01],\n",
            "          [-1.4086e+00, -1.7574e+00,  9.0046e-01,  ..., -2.2023e+00,\n",
            "            1.8798e-01, -2.1054e+00]]],\n",
            "\n",
            "\n",
            "        [[[ 6.2718e-01,  1.5297e-01,  2.4141e-02,  ...,  1.8710e-01,\n",
            "           -1.3414e-01,  4.8626e-01],\n",
            "          [-5.5192e-01,  9.0619e-01,  7.2964e-01,  ..., -1.0423e+00,\n",
            "            7.9618e-01,  5.8746e-01],\n",
            "          [ 7.4403e-01,  1.2146e+00, -1.7566e+00,  ..., -3.8447e-01,\n",
            "           -2.4907e+00,  2.6103e-01],\n",
            "          ...,\n",
            "          [ 1.1801e+00, -2.5171e+00,  1.2757e+00,  ...,  7.6516e-01,\n",
            "            1.9874e-01, -9.2990e-01],\n",
            "          [-1.5010e+00, -1.3786e+00,  5.8524e-01,  ..., -5.8022e-01,\n",
            "            1.3683e+00, -4.3900e-01],\n",
            "          [ 4.5218e-01, -8.6205e-01,  1.0063e+00,  ..., -5.8699e-01,\n",
            "           -1.9402e-01,  8.4508e-01]],\n",
            "\n",
            "         [[-8.2453e-01, -1.1534e+00,  5.4235e-01,  ...,  1.2316e+00,\n",
            "           -1.0518e+00, -2.6931e-01],\n",
            "          [-8.5785e-01, -7.3372e-01, -9.1982e-02,  ...,  1.4001e+00,\n",
            "           -2.3916e+00,  7.2148e-01],\n",
            "          [ 2.2401e-01, -2.3669e+00, -1.0675e-01,  ...,  4.4885e-01,\n",
            "            2.3804e+00, -1.1568e+00],\n",
            "          ...,\n",
            "          [ 6.3959e-01, -9.4931e-01, -1.1975e-01,  ..., -3.3043e-01,\n",
            "            1.4462e+00,  1.8795e+00],\n",
            "          [ 7.4631e-01, -2.0544e-01, -5.1937e-01,  ...,  4.3870e-02,\n",
            "           -6.1726e-01,  1.0056e+00],\n",
            "          [-6.6262e-01,  1.6605e+00, -1.5388e+00,  ..., -2.1626e+00,\n",
            "           -5.6225e-02,  6.4367e-01]],\n",
            "\n",
            "         [[-2.4707e-01, -1.4092e+00, -1.8317e-01,  ..., -2.0974e+00,\n",
            "            7.9817e-01, -1.2221e+00],\n",
            "          [-8.2982e-02, -1.5656e+00, -5.6462e-01,  ...,  4.8431e-02,\n",
            "            5.8148e-01,  3.4924e-01],\n",
            "          [ 1.1300e+00, -6.8404e-01,  5.3813e-01,  ...,  2.5600e-01,\n",
            "            9.6247e-01,  5.8891e-01],\n",
            "          ...,\n",
            "          [ 9.4116e-01,  1.2997e+00, -9.3091e-01,  ...,  1.4643e+00,\n",
            "            5.2854e-01,  2.0473e-01],\n",
            "          [-5.3078e-02,  3.1640e-01, -1.7072e+00,  ..., -8.1535e-01,\n",
            "           -8.7334e-01,  1.4164e+00],\n",
            "          [-2.4339e+00,  4.6809e-02, -3.2324e-01,  ...,  4.0872e-01,\n",
            "            6.9127e-01,  8.1328e-01]],\n",
            "\n",
            "         ...,\n",
            "\n",
            "         [[ 1.6982e+00,  1.5476e+00,  8.9295e-01,  ..., -5.5726e-01,\n",
            "           -5.5261e-01,  1.3069e-01],\n",
            "          [ 1.7378e+00,  1.1846e+00,  6.4304e-01,  ...,  1.9462e+00,\n",
            "            6.2464e-01,  1.5689e-01],\n",
            "          [-1.0425e-01, -7.1406e-01, -6.6552e-01,  ...,  1.9607e+00,\n",
            "            5.8758e-01,  1.1481e+00],\n",
            "          ...,\n",
            "          [-1.7154e-01,  2.1591e-01, -8.7260e-01,  ...,  2.9449e-01,\n",
            "           -1.1975e+00, -9.3949e-01],\n",
            "          [ 5.9495e-01, -2.5005e+00, -4.1129e-02,  ..., -1.0395e+00,\n",
            "           -1.2471e+00, -7.8077e-01],\n",
            "          [-2.0729e-02,  5.1687e-01,  1.3567e+00,  ...,  1.0747e-01,\n",
            "           -1.7262e-01,  4.9362e-01]],\n",
            "\n",
            "         [[ 6.1692e-01,  1.0565e+00,  2.9370e-01,  ..., -7.4463e-01,\n",
            "           -6.5133e-02, -6.2759e-01],\n",
            "          [ 5.5909e-01,  4.4449e-01, -3.2422e-01,  ..., -5.0531e-01,\n",
            "           -1.7026e+00,  3.1578e-01],\n",
            "          [-1.0161e+00, -3.5393e-01,  9.6808e-02,  ..., -6.8105e-01,\n",
            "           -3.7578e-01,  1.6654e-01],\n",
            "          ...,\n",
            "          [-1.5458e+00,  9.2240e-01, -7.6941e-01,  ...,  1.2421e+00,\n",
            "            5.3936e-01, -1.0697e+00],\n",
            "          [-4.2960e-01, -1.5193e+00, -1.7586e-01,  ...,  4.6430e-01,\n",
            "           -5.2904e-01,  8.3896e-01],\n",
            "          [-6.6267e-01,  3.4477e-01,  6.6595e-01,  ..., -1.0626e+00,\n",
            "           -1.9392e-01,  7.1911e-02]],\n",
            "\n",
            "         [[-9.7765e-01,  6.8847e-01,  3.7227e-01,  ..., -1.3836e+00,\n",
            "            4.4561e-01, -2.0337e+00],\n",
            "          [ 2.4465e+00,  1.7130e-01, -1.3410e-01,  ...,  1.1189e+00,\n",
            "            9.3991e-01, -7.4404e-01],\n",
            "          [-1.2914e+00, -7.5889e-01,  8.3135e-01,  ...,  2.0675e-01,\n",
            "            1.7367e-01, -3.5746e-01],\n",
            "          ...,\n",
            "          [ 2.2931e-01,  7.5842e-01,  4.9295e-02,  ...,  3.1656e-01,\n",
            "            2.9567e-01, -6.8146e-01],\n",
            "          [-4.3641e-01, -1.1716e+00, -8.6626e-01,  ...,  1.0242e-02,\n",
            "            7.5657e-02,  4.2831e-01],\n",
            "          [-2.5923e-01,  2.8510e+00,  2.0853e+00,  ...,  1.0460e+00,\n",
            "           -1.2887e+00,  3.3149e-01]]],\n",
            "\n",
            "\n",
            "        [[[ 9.1909e-01, -3.3652e-02, -5.6741e-01,  ..., -1.1961e+00,\n",
            "           -5.9699e-01, -1.2250e+00],\n",
            "          [ 9.4427e-01, -5.1168e-01,  2.0946e-01,  ...,  1.7923e+00,\n",
            "            1.9368e-01, -7.2929e-01],\n",
            "          [-5.3169e-01, -8.4637e-01,  4.6603e-01,  ..., -5.1025e-01,\n",
            "            3.2003e-01,  1.4105e+00],\n",
            "          ...,\n",
            "          [-9.5320e-01,  6.7976e-01,  1.2817e+00,  ..., -1.0428e+00,\n",
            "            1.4266e+00,  3.7285e-01],\n",
            "          [-4.9935e-01,  8.7189e-01,  1.8320e+00,  ...,  9.5296e-01,\n",
            "           -5.5240e-02,  1.6563e+00],\n",
            "          [-8.5741e-01, -2.9394e-01, -6.2558e-02,  ...,  2.1186e+00,\n",
            "           -1.0491e+00,  2.5852e-01]],\n",
            "\n",
            "         [[-2.1569e-01, -1.5814e+00,  8.3099e-01,  ..., -7.0286e-01,\n",
            "           -9.3317e-01,  1.9382e+00],\n",
            "          [-4.4461e-01,  1.3213e+00,  3.1271e-01,  ..., -2.8876e-01,\n",
            "            1.0312e+00,  1.1118e-01],\n",
            "          [ 7.6910e-01,  1.9417e-01, -1.3193e+00,  ..., -5.8299e-01,\n",
            "            1.2541e+00, -1.6167e+00],\n",
            "          ...,\n",
            "          [-1.6226e+00, -1.0094e-01,  1.9619e-01,  ...,  4.2454e-01,\n",
            "            1.1336e+00, -2.7936e-02],\n",
            "          [ 1.2327e+00, -2.9540e-01, -3.4994e-01,  ...,  9.3459e-01,\n",
            "            9.7332e-01, -7.6961e-01],\n",
            "          [-1.1123e+00, -1.1950e+00,  1.5672e+00,  ..., -4.2806e-01,\n",
            "           -2.0516e-01, -4.4052e-01]],\n",
            "\n",
            "         [[-4.1049e-01,  1.5569e-01,  7.9942e-01,  ..., -3.0561e-01,\n",
            "            1.5302e+00, -7.4799e-01],\n",
            "          [ 4.0303e-01, -1.1715e+00,  1.7300e-01,  ..., -1.2371e+00,\n",
            "           -1.9565e+00,  2.5563e-01],\n",
            "          [ 1.1895e-02,  5.3364e-01, -8.2518e-01,  ..., -2.0375e-01,\n",
            "           -1.1427e+00, -5.9355e-01],\n",
            "          ...,\n",
            "          [ 2.6159e+00,  7.0985e-01,  1.7842e-01,  ...,  6.4251e-01,\n",
            "           -4.4969e-01,  8.6569e-01],\n",
            "          [-9.6383e-01, -5.6307e-01, -4.3401e-01,  ..., -9.4604e-02,\n",
            "            3.0318e-01, -1.1269e+00],\n",
            "          [-1.1479e+00, -3.7801e-01, -1.4686e+00,  ..., -1.9816e-01,\n",
            "            1.0193e+00, -1.2404e+00]],\n",
            "\n",
            "         ...,\n",
            "\n",
            "         [[-3.1921e-01, -1.7124e+00,  6.5556e-01,  ...,  1.4510e-01,\n",
            "           -1.3796e+00,  9.7535e-01],\n",
            "          [ 8.1414e-01,  5.7903e-01,  1.6617e+00,  ...,  4.1382e-01,\n",
            "           -4.1895e-01, -9.7653e-01],\n",
            "          [-2.8338e-01,  3.4390e-01,  5.0888e-01,  ..., -1.9690e+00,\n",
            "           -1.9497e+00,  8.7933e-02],\n",
            "          ...,\n",
            "          [-1.7778e-01,  1.1760e+00,  1.9854e+00,  ...,  6.9263e-01,\n",
            "            8.8238e-01, -1.0429e+00],\n",
            "          [-4.9922e-02, -1.5102e+00,  1.2880e-01,  ..., -7.7703e-01,\n",
            "           -3.8121e-01,  5.1295e-01],\n",
            "          [-7.6991e-01,  6.3272e-01, -7.2518e-01,  ..., -8.6707e-02,\n",
            "            1.7951e-01,  7.7684e-01]],\n",
            "\n",
            "         [[ 1.2113e+00, -4.3728e-01, -1.2954e+00,  ..., -1.0366e+00,\n",
            "            9.9249e-01, -1.5398e+00],\n",
            "          [ 9.6228e-01, -9.4842e-01, -7.2221e-01,  ..., -7.7304e-01,\n",
            "            1.1777e+00,  1.1739e+00],\n",
            "          [-7.5091e-01,  1.1076e+00,  3.4649e-01,  ...,  1.1426e+00,\n",
            "            1.9106e-01, -5.8036e-01],\n",
            "          ...,\n",
            "          [ 1.4842e+00,  5.6745e-01,  3.9350e-01,  ..., -1.4239e+00,\n",
            "            2.7051e-01,  2.4262e-01],\n",
            "          [ 1.0814e+00,  9.8303e-01,  1.3817e+00,  ...,  5.2780e-01,\n",
            "            9.8513e-01,  1.1293e+00],\n",
            "          [-1.5052e+00, -1.1660e+00,  7.7876e-02,  ..., -3.8604e-01,\n",
            "            1.7159e+00,  1.1891e+00]],\n",
            "\n",
            "         [[ 4.5555e-01,  5.8035e-01, -7.3812e-02,  ..., -4.9916e-01,\n",
            "            2.0369e+00,  1.3608e+00],\n",
            "          [ 1.6293e+00, -6.4663e-01, -2.5311e-01,  ...,  1.5552e+00,\n",
            "           -8.3763e-01,  9.4009e-01],\n",
            "          [ 1.5717e+00, -7.0576e-01,  8.0668e-01,  ..., -1.0103e+00,\n",
            "           -4.9323e-01, -1.9512e-02],\n",
            "          ...,\n",
            "          [ 6.4119e-01,  4.5896e-01,  1.6833e-02,  ...,  5.2082e-01,\n",
            "            1.4376e+00,  1.4809e+00],\n",
            "          [ 2.3012e-02,  5.3911e-02,  1.1783e-01,  ...,  1.4629e+00,\n",
            "            5.8331e-01, -9.0727e-02],\n",
            "          [ 1.7701e+00, -1.5582e+00, -4.2965e-02,  ...,  4.4569e-01,\n",
            "           -4.7775e-01,  6.2324e-01]]],\n",
            "\n",
            "\n",
            "        ...,\n",
            "\n",
            "\n",
            "        [[[-1.5468e+00,  2.6687e-01,  6.0895e-01,  ...,  4.3223e-01,\n",
            "            6.5001e-01,  8.7707e-01],\n",
            "          [ 5.9528e-01,  5.6473e-01,  3.0262e-01,  ..., -7.1086e-01,\n",
            "           -1.9562e+00, -6.5233e-01],\n",
            "          [ 1.7656e-01, -4.8458e-01, -1.4939e-01,  ..., -7.4724e-01,\n",
            "           -9.1937e-01, -1.5802e+00],\n",
            "          ...,\n",
            "          [-5.1256e-01, -3.1064e-01,  1.2560e+00,  ..., -1.0309e+00,\n",
            "            8.1572e-01, -4.4862e-01],\n",
            "          [-1.6288e+00, -2.1228e+00,  4.1580e-01,  ..., -2.4448e-02,\n",
            "            6.3667e-01, -1.4870e-01],\n",
            "          [-6.6585e-01, -5.8655e-01,  4.5478e-01,  ...,  3.1199e-01,\n",
            "           -6.7424e-01, -4.0976e-01]],\n",
            "\n",
            "         [[-1.8647e+00,  7.7262e-01, -3.8878e-01,  ..., -1.3451e+00,\n",
            "            1.0827e+00,  8.8080e-01],\n",
            "          [-3.6887e-01,  6.2185e-01, -1.1125e-01,  ..., -2.0261e-01,\n",
            "            1.1806e+00, -5.8808e-01],\n",
            "          [-4.7931e-01, -1.4373e+00,  1.4706e+00,  ...,  4.2708e-01,\n",
            "           -7.0056e-01, -1.5298e-01],\n",
            "          ...,\n",
            "          [-5.7623e-01,  2.1715e+00, -1.3457e+00,  ..., -1.1767e+00,\n",
            "            3.3099e+00,  9.3765e-01],\n",
            "          [-6.2746e-01, -1.2364e+00, -6.4106e-02,  ...,  7.2975e-02,\n",
            "           -9.8434e-01,  2.0695e+00],\n",
            "          [-3.3991e-01, -1.2105e+00, -6.1526e-01,  ..., -1.8239e+00,\n",
            "            1.1933e-01, -2.1387e-02]],\n",
            "\n",
            "         [[-1.5367e-01,  3.0938e-01,  2.1670e-01,  ...,  1.3759e+00,\n",
            "            5.7346e-01,  6.5876e-01],\n",
            "          [ 2.6329e-01, -6.4992e-01,  1.0626e+00,  ...,  3.4027e-01,\n",
            "            1.7512e-01, -1.0309e+00],\n",
            "          [ 4.0184e-01, -8.6398e-01,  4.0423e-01,  ...,  1.8235e-01,\n",
            "            7.3834e-01,  9.4522e-01],\n",
            "          ...,\n",
            "          [ 2.9224e-01,  8.9125e-02, -1.2715e-01,  ...,  2.1714e-01,\n",
            "            1.2144e+00, -8.4350e-01],\n",
            "          [ 1.4134e-01,  2.4392e-01, -5.2120e-01,  ..., -1.1296e+00,\n",
            "            7.1201e-01, -1.4059e-01],\n",
            "          [-1.2905e+00,  6.1273e-01, -1.6134e+00,  ...,  3.5176e-01,\n",
            "            1.0570e+00,  3.4384e-01]],\n",
            "\n",
            "         ...,\n",
            "\n",
            "         [[ 4.7342e-01,  1.3236e+00, -9.3711e-01,  ..., -2.0385e-01,\n",
            "            5.3752e-01, -1.0722e+00],\n",
            "          [-7.9025e-01, -1.0985e-01, -1.0366e+00,  ...,  6.9627e-01,\n",
            "           -1.2015e+00, -5.3351e-01],\n",
            "          [-2.9396e-02,  8.2740e-01,  1.7496e+00,  ...,  2.4381e-01,\n",
            "           -7.0307e-01,  1.6247e+00],\n",
            "          ...,\n",
            "          [ 3.3699e-01,  1.0579e+00, -1.1759e+00,  ...,  1.4304e+00,\n",
            "           -6.7385e-01,  1.8365e-02],\n",
            "          [-1.1828e+00,  2.0613e+00, -1.4321e+00,  ...,  2.0001e-01,\n",
            "           -6.4460e-03, -2.9012e-01],\n",
            "          [ 4.0519e-01, -8.1443e-01, -2.4760e+00,  ..., -6.1429e-01,\n",
            "            8.5566e-02, -1.1680e+00]],\n",
            "\n",
            "         [[-2.7946e-01, -1.2183e+00,  5.0016e-01,  ...,  1.5934e-01,\n",
            "           -8.5850e-01, -8.7411e-01],\n",
            "          [ 1.8902e+00, -1.6150e+00, -1.6142e+00,  ...,  2.8411e-01,\n",
            "           -7.9284e-01, -1.9461e+00],\n",
            "          [-5.0271e-01,  4.7895e-01, -1.4922e-01,  ..., -1.0707e+00,\n",
            "            9.9901e-01,  8.6173e-01],\n",
            "          ...,\n",
            "          [-1.0428e-01,  6.0490e-02, -2.3274e-01,  ..., -9.1229e-01,\n",
            "           -1.3850e+00, -8.7511e-01],\n",
            "          [-1.4796e+00,  1.5053e-01,  1.8478e+00,  ..., -1.4483e+00,\n",
            "            1.8380e+00, -2.7981e-01],\n",
            "          [-4.7965e-01,  1.1559e+00,  5.4276e-01,  ...,  5.2778e-01,\n",
            "           -8.8434e-01,  1.0095e+00]],\n",
            "\n",
            "         [[-3.6969e-01, -1.2274e+00, -1.0899e+00,  ..., -1.0474e+00,\n",
            "           -9.5130e-02, -4.4314e-01],\n",
            "          [-4.0111e-01, -2.0474e-01, -1.9931e+00,  ..., -9.7921e-01,\n",
            "            7.2327e-01,  1.9469e+00],\n",
            "          [-7.0930e-01,  4.3348e-01,  2.0187e+00,  ...,  1.0571e+00,\n",
            "            3.6435e-01,  5.0816e-01],\n",
            "          ...,\n",
            "          [ 1.0195e+00, -2.1031e-02, -5.1486e-01,  ...,  1.6490e-01,\n",
            "            4.6738e-01, -1.4255e+00],\n",
            "          [-5.3415e-02, -1.7600e+00, -4.6616e-01,  ...,  6.3966e-01,\n",
            "            2.3207e-01,  9.0820e-01],\n",
            "          [ 1.7315e-01, -8.7479e-02, -5.8857e-01,  ...,  1.2908e+00,\n",
            "            2.1399e+00, -9.5414e-01]]],\n",
            "\n",
            "\n",
            "        [[[ 2.7249e-01,  1.0462e-01,  3.1841e-01,  ..., -8.9345e-02,\n",
            "            1.5959e+00, -4.7245e-02],\n",
            "          [ 1.0328e+00,  1.7223e-02,  9.3064e-01,  ..., -1.1009e+00,\n",
            "            2.2821e+00,  1.5093e+00],\n",
            "          [-1.1249e+00, -1.4304e-01,  6.3631e-01,  ...,  1.1979e+00,\n",
            "            2.5666e-01,  6.6136e-01],\n",
            "          ...,\n",
            "          [ 2.3545e+00,  1.1815e+00, -6.4115e-01,  ...,  6.7952e-01,\n",
            "            4.0707e-01, -1.4156e+00],\n",
            "          [-8.6341e-01, -1.0604e-01, -1.2167e+00,  ...,  6.8558e-01,\n",
            "            2.5873e+00, -6.7554e-02],\n",
            "          [-1.0927e+00, -4.5837e-01,  8.3269e-01,  ..., -4.8329e-01,\n",
            "            1.1430e+00, -9.1336e-01]],\n",
            "\n",
            "         [[ 9.3552e-01,  1.1575e+00, -5.5555e-01,  ..., -1.2311e+00,\n",
            "            7.1710e-01, -1.8745e+00],\n",
            "          [-1.9591e+00, -5.2927e-01,  1.2981e+00,  ..., -3.5894e-01,\n",
            "           -9.0591e-01,  4.5173e-01],\n",
            "          [ 7.8041e-01, -9.4879e-01, -8.9616e-01,  ..., -5.7761e-01,\n",
            "           -7.1241e-01, -4.7223e-01],\n",
            "          ...,\n",
            "          [ 5.3717e-01,  1.4209e+00, -3.1965e-01,  ..., -7.4233e-01,\n",
            "           -1.7787e+00, -1.1012e+00],\n",
            "          [-2.7522e-01,  2.0651e-01,  5.3628e-01,  ...,  2.6489e-01,\n",
            "            5.0473e-02,  1.7781e-01],\n",
            "          [ 6.2061e-03,  9.0797e-01, -1.1094e+00,  ...,  1.7087e-01,\n",
            "           -7.6816e-01,  1.0382e+00]],\n",
            "\n",
            "         [[ 2.9944e-01,  2.5030e-01, -5.4023e-01,  ..., -8.3185e-01,\n",
            "           -3.9615e-01, -4.3198e-01],\n",
            "          [-3.7185e-01,  2.8816e-01,  3.3160e-01,  ..., -1.0568e+00,\n",
            "           -8.1021e-02,  6.0164e-01],\n",
            "          [-3.4927e-02, -1.0091e-01,  1.8847e+00,  ..., -5.2708e-01,\n",
            "            1.7552e+00,  6.4892e-01],\n",
            "          ...,\n",
            "          [-6.5251e-01,  1.0818e+00,  7.2614e-01,  ..., -5.0521e-01,\n",
            "           -1.0459e+00, -2.0905e+00],\n",
            "          [ 1.5210e+00,  1.3738e+00, -8.8387e-01,  ..., -8.7124e-01,\n",
            "            2.3581e-01,  2.1774e+00],\n",
            "          [-1.6976e-02, -6.5966e-02, -2.9452e-01,  ...,  1.3972e+00,\n",
            "            6.7870e-01,  1.6074e-01]],\n",
            "\n",
            "         ...,\n",
            "\n",
            "         [[ 5.1653e-01, -2.6845e-01, -1.5523e+00,  ...,  1.9743e+00,\n",
            "           -2.7106e-01, -8.0179e-01],\n",
            "          [-2.0695e-01, -2.3558e-01,  6.4109e-01,  ..., -1.4483e+00,\n",
            "            1.2350e+00,  5.4116e-01],\n",
            "          [ 3.6177e-01, -1.6101e+00,  7.4886e-01,  ..., -2.6822e-01,\n",
            "           -8.1226e-01, -1.1909e+00],\n",
            "          ...,\n",
            "          [-6.7732e-01, -1.2305e+00, -9.6307e-01,  ...,  2.2067e+00,\n",
            "            7.6655e-01,  8.8021e-01],\n",
            "          [-1.1468e-01,  2.6374e-01,  1.0576e+00,  ..., -1.4926e+00,\n",
            "           -3.2048e-02, -1.1351e+00],\n",
            "          [ 7.6875e-01, -8.7698e-01,  1.4568e+00,  ...,  6.6255e-01,\n",
            "            1.6346e+00,  1.8689e-01]],\n",
            "\n",
            "         [[ 8.7145e-01,  6.7909e-01, -1.6248e+00,  ..., -7.3354e-01,\n",
            "           -1.1107e+00, -1.1474e+00],\n",
            "          [ 6.4997e-01, -2.9726e-01,  3.6164e-01,  ..., -1.0775e+00,\n",
            "            8.3043e-01,  5.8071e-01],\n",
            "          [-8.1921e-02,  1.1560e+00, -3.9163e-01,  ..., -5.4541e-01,\n",
            "           -8.3865e-01,  1.3062e-01],\n",
            "          ...,\n",
            "          [ 1.5362e+00, -3.0767e-02, -2.4441e-01,  ..., -2.0794e+00,\n",
            "            1.9808e-01,  1.1071e+00],\n",
            "          [-1.0210e+00,  1.5004e+00, -2.2094e-01,  ..., -1.2805e+00,\n",
            "           -1.2162e+00, -1.4497e+00],\n",
            "          [ 2.7115e-01, -5.2414e-02,  5.7478e-01,  ...,  1.8567e+00,\n",
            "           -1.5094e+00,  2.1976e+00]],\n",
            "\n",
            "         [[-1.9960e+00, -2.7904e-01, -1.1767e+00,  ...,  1.6766e+00,\n",
            "           -4.4179e-01,  5.2846e-01],\n",
            "          [ 5.0724e-01, -8.8773e-01,  5.0785e-01,  ..., -2.9100e-01,\n",
            "            9.9796e-01,  1.5403e+00],\n",
            "          [-1.3631e-01, -3.9456e-01, -5.6152e-02,  ...,  7.0666e-01,\n",
            "            2.0922e-01, -9.9792e-01],\n",
            "          ...,\n",
            "          [ 2.5360e+00, -9.2790e-01,  1.0479e+00,  ..., -5.4818e-02,\n",
            "           -6.6204e-01,  1.5876e-01],\n",
            "          [ 2.1077e-01,  2.9438e-01, -1.0584e+00,  ...,  2.5111e-01,\n",
            "            3.0234e-01, -2.7305e-01],\n",
            "          [ 4.4125e-01,  9.4761e-01, -2.2098e-01,  ..., -1.4939e-01,\n",
            "            1.2059e+00,  8.7176e-02]]],\n",
            "\n",
            "\n",
            "        [[[ 1.7754e+00,  2.3901e-02,  5.2965e-01,  ..., -9.9850e-01,\n",
            "           -7.5200e-01, -2.8816e-01],\n",
            "          [ 2.7206e-01,  3.7108e-01, -2.2363e+00,  ...,  6.1158e-01,\n",
            "           -5.6210e-01,  8.5299e-01],\n",
            "          [-2.1527e+00, -4.3390e-01,  8.3263e-01,  ..., -1.1174e+00,\n",
            "           -7.7629e-01,  3.7471e-01],\n",
            "          ...,\n",
            "          [ 5.0392e-01,  9.5830e-01, -4.4886e-01,  ...,  1.0062e+00,\n",
            "           -1.3861e+00,  1.4466e+00],\n",
            "          [ 2.0755e-01,  1.0093e+00, -7.8499e-01,  ..., -2.1426e-01,\n",
            "           -1.2421e+00,  4.9092e-01],\n",
            "          [ 1.4572e+00, -2.0294e+00, -1.4635e+00,  ...,  2.2037e-01,\n",
            "            8.1055e-02, -8.9822e-01]],\n",
            "\n",
            "         [[ 6.0584e-01,  1.5145e+00, -3.1980e-01,  ..., -7.2725e-01,\n",
            "           -1.4090e+00, -1.1050e+00],\n",
            "          [ 8.9815e-01, -2.6589e-01,  1.2687e+00,  ...,  1.9603e+00,\n",
            "           -1.3967e+00, -1.2797e-01],\n",
            "          [-2.7041e-02, -1.5098e+00,  4.0443e-01,  ..., -3.5457e-01,\n",
            "            2.0276e+00,  8.2396e-01],\n",
            "          ...,\n",
            "          [-2.4474e+00,  6.9858e-02,  1.0358e+00,  ..., -1.5222e-01,\n",
            "            2.5281e-01,  6.6410e-01],\n",
            "          [ 5.2218e-01,  2.4930e-01, -4.1079e-01,  ..., -6.2195e-01,\n",
            "            8.3343e-01,  2.2127e-01],\n",
            "          [-9.1128e-01, -2.2383e-01, -1.0055e+00,  ..., -9.1066e-01,\n",
            "           -4.0177e-02,  7.6841e-02]],\n",
            "\n",
            "         [[ 5.3808e-01, -1.6574e+00,  1.1302e+00,  ...,  1.1123e+00,\n",
            "            2.1428e+00, -1.0930e+00],\n",
            "          [-9.4084e-01,  2.7163e-01,  9.6769e-01,  ...,  7.6239e-01,\n",
            "            1.7173e-01, -2.1410e-01],\n",
            "          [-2.3805e-01, -1.4383e-01, -3.2002e-01,  ..., -7.0750e-01,\n",
            "           -1.0651e-01,  8.8551e-01],\n",
            "          ...,\n",
            "          [-5.4908e-01, -1.5330e-01, -5.5997e-01,  ..., -2.8609e-01,\n",
            "            6.3186e-01, -5.1103e-01],\n",
            "          [-1.0117e+00, -9.1102e-01,  1.5840e+00,  ...,  8.1118e-01,\n",
            "            1.1087e-01,  4.8918e-01],\n",
            "          [ 1.6365e+00,  3.9966e-01, -8.2233e-01,  ...,  9.8764e-01,\n",
            "            7.2062e-01,  1.7670e-01]],\n",
            "\n",
            "         ...,\n",
            "\n",
            "         [[ 5.7934e-01,  3.5710e-01,  2.2647e-02,  ..., -5.1556e-01,\n",
            "           -1.1651e+00,  7.0648e-01],\n",
            "          [ 8.5107e-01,  3.1393e-01,  1.7211e+00,  ..., -5.7815e-01,\n",
            "            5.0643e-03,  1.5158e+00],\n",
            "          [-4.6413e-01,  5.8860e-01, -4.7673e-03,  ..., -1.0437e+00,\n",
            "           -1.2224e+00, -1.0328e+00],\n",
            "          ...,\n",
            "          [ 1.3202e+00,  3.9292e-02, -3.5419e-01,  ..., -4.9617e-01,\n",
            "            8.3864e-01,  4.1095e-02],\n",
            "          [-7.8504e-01,  9.2661e-01, -1.4892e+00,  ..., -4.6091e-01,\n",
            "            4.3152e-01, -1.1638e+00],\n",
            "          [ 3.2430e-01,  4.8214e-01,  2.5316e-01,  ...,  3.4702e-01,\n",
            "           -5.7434e-01, -9.3166e-01]],\n",
            "\n",
            "         [[-8.2385e-01,  5.0498e-01,  1.3582e-03,  ..., -2.8579e-01,\n",
            "            1.6263e+00, -4.6457e-01],\n",
            "          [ 6.0187e-01, -1.1025e+00,  2.3573e-01,  ...,  4.1286e-01,\n",
            "           -2.9836e-01, -2.6615e-01],\n",
            "          [-2.2320e-01,  3.8393e-01,  2.4931e-01,  ..., -1.1223e+00,\n",
            "           -4.2768e-01,  1.9060e+00],\n",
            "          ...,\n",
            "          [ 4.8734e-01, -1.1549e+00, -1.4301e+00,  ...,  2.1364e-01,\n",
            "           -1.0696e+00, -7.1485e-01],\n",
            "          [ 1.5004e+00,  4.9808e-01, -4.6490e-01,  ..., -1.1318e+00,\n",
            "            6.3485e-02, -1.0924e+00],\n",
            "          [-2.8757e-01, -8.8848e-01,  6.6231e-01,  ...,  1.8122e+00,\n",
            "            9.0960e-01,  2.2975e+00]],\n",
            "\n",
            "         [[-9.4982e-01,  1.4915e+00, -9.7403e-01,  ...,  5.4293e-01,\n",
            "            1.3938e+00,  1.6528e+00],\n",
            "          [-1.4436e-01,  1.1151e+00,  1.5219e+00,  ...,  8.9289e-01,\n",
            "           -4.8497e-01,  5.0787e-01],\n",
            "          [-6.2400e-01,  7.8155e-01, -2.1919e-01,  ...,  1.2383e+00,\n",
            "            2.7878e-01,  1.2979e+00],\n",
            "          ...,\n",
            "          [ 9.9779e-01, -4.3842e-01,  3.1785e-01,  ...,  6.0663e-01,\n",
            "            7.7828e-01,  1.8217e-01],\n",
            "          [ 1.4992e-01,  1.2588e+00,  7.4410e-02,  ...,  2.0741e-01,\n",
            "           -4.1731e-02, -5.2833e-01],\n",
            "          [ 5.7237e-01, -1.5457e-01,  9.3291e-02,  ...,  1.7325e-02,\n",
            "           -1.7557e-01,  2.9175e-01]]]])\n",
            "tensor([[[[-3.6997e-02, -2.8136e-02,  2.4539e-01,  ...,  4.5471e-01,\n",
            "           -3.7949e-01,  8.0536e-02],\n",
            "          [ 5.1443e-01, -9.0028e-02, -7.9227e-02,  ...,  2.8190e-01,\n",
            "            2.6568e-01,  5.5171e-01],\n",
            "          [ 7.7995e-01,  6.9675e-03, -6.4868e-02,  ...,  6.3624e-01,\n",
            "            3.5112e-01,  4.6965e-01],\n",
            "          ...,\n",
            "          [ 6.2769e-01, -2.3257e-01, -1.2402e+00,  ..., -7.1716e-01,\n",
            "            2.5763e-01, -6.2817e-02],\n",
            "          [ 5.3861e-02,  2.5438e-01, -3.7200e-01,  ..., -3.5957e-01,\n",
            "           -2.5142e-01,  3.9503e-02],\n",
            "          [ 2.1009e-01,  1.1212e-01, -8.0553e-01,  ...,  1.7482e-02,\n",
            "           -3.4701e-02, -2.7439e-01]],\n",
            "\n",
            "         [[ 9.0468e-02,  2.7302e-01, -1.7318e-01,  ..., -1.9496e-01,\n",
            "           -9.9276e-02,  4.4101e-02],\n",
            "          [-3.1820e-02, -1.2086e-01, -3.0605e-01,  ...,  4.3485e-01,\n",
            "           -6.1679e-01,  1.4675e-01],\n",
            "          [ 2.0748e-01,  4.4852e-01, -2.3560e-01,  ...,  2.0550e-01,\n",
            "            1.6780e-01, -7.2616e-02],\n",
            "          ...,\n",
            "          [ 1.6557e-01, -1.4295e-02, -4.5591e-01,  ...,  1.0137e-01,\n",
            "            6.9093e-01, -5.2302e-01],\n",
            "          [-4.6863e-01, -8.3163e-02,  9.1223e-01,  ...,  1.0193e-01,\n",
            "           -1.7115e-01, -1.9624e-01],\n",
            "          [-1.3804e-01,  4.6441e-01,  2.3797e-01,  ...,  6.3234e-01,\n",
            "            1.8404e-01,  6.6814e-02]],\n",
            "\n",
            "         [[ 2.4925e-02, -3.3084e-01, -3.7425e-01,  ...,  4.2014e-01,\n",
            "            2.2293e-01, -1.0193e-01],\n",
            "          [-4.7560e-01,  3.2664e-02,  2.4335e-01,  ..., -6.8085e-01,\n",
            "            4.1717e-01, -5.2893e-02],\n",
            "          [ 2.7860e-01,  2.3981e-01, -1.7406e-01,  ..., -8.2926e-01,\n",
            "            3.0082e-01, -3.8842e-01],\n",
            "          ...,\n",
            "          [ 2.6897e-01, -8.8152e-01,  2.5004e-01,  ..., -4.5623e-01,\n",
            "           -2.8257e-01,  3.8610e-01],\n",
            "          [-9.5837e-02, -9.7574e-03, -6.1544e-02,  ...,  6.7601e-01,\n",
            "           -3.7113e-01,  3.6466e-01],\n",
            "          [ 4.4149e-01, -4.0441e-01, -1.2404e-01,  ...,  3.2477e-01,\n",
            "            7.4667e-01, -1.2164e+00]],\n",
            "\n",
            "         ...,\n",
            "\n",
            "         [[ 1.0840e-01, -4.6643e-01,  3.2304e-01,  ..., -1.3541e-02,\n",
            "            1.5707e-01,  2.8203e-01],\n",
            "          [ 3.1765e-01, -1.0518e-01,  1.5393e-01,  ...,  2.4348e-01,\n",
            "           -3.0554e-01, -9.2286e-02],\n",
            "          [-2.0633e-01,  4.2488e-02,  4.0865e-01,  ...,  8.7681e-02,\n",
            "            7.3096e-02,  7.8592e-01],\n",
            "          ...,\n",
            "          [-1.5284e-01,  2.0483e-01,  1.0244e+00,  ...,  3.7976e-01,\n",
            "           -3.0717e-01, -5.6211e-01],\n",
            "          [-9.3487e-02,  4.7360e-01, -1.1493e-01,  ..., -6.6214e-01,\n",
            "           -6.0220e-01, -8.5664e-03],\n",
            "          [-9.4905e-02,  6.9152e-01, -1.0263e-01,  ...,  7.4218e-01,\n",
            "            4.0562e-01,  1.3889e-01]],\n",
            "\n",
            "         [[-3.7356e-01, -1.3722e-02, -1.8315e-01,  ...,  1.3612e-01,\n",
            "            8.6801e-02,  3.5123e-01],\n",
            "          [-1.7552e-01, -3.9017e-01,  8.2899e-01,  ...,  4.5967e-01,\n",
            "            3.0664e-02,  2.4395e-01],\n",
            "          [-5.7646e-02, -4.9257e-01,  3.8689e-01,  ..., -6.5492e-01,\n",
            "           -8.4211e-03,  2.1820e-01],\n",
            "          ...,\n",
            "          [ 7.6040e-01,  8.4174e-01, -1.0642e+00,  ..., -2.6188e-01,\n",
            "           -3.5221e-01,  6.4406e-01],\n",
            "          [ 7.7710e-02,  1.1846e-01,  5.3333e-01,  ..., -9.8719e-03,\n",
            "            4.2372e-01, -6.3309e-01],\n",
            "          [-5.9033e-05,  1.9768e-01, -4.0065e-01,  ..., -6.2568e-01,\n",
            "            3.2606e-02,  3.5862e-02]],\n",
            "\n",
            "         [[-6.6988e-02, -1.4041e-01, -5.9783e-01,  ...,  3.3556e-01,\n",
            "           -4.9816e-02,  3.4210e-01],\n",
            "          [-6.9130e-02,  9.7577e-02, -4.2068e-01,  ..., -4.5604e-02,\n",
            "           -4.2276e-02,  3.2847e-01],\n",
            "          [ 1.5577e-01, -2.8855e-01,  5.1393e-01,  ...,  4.1635e-01,\n",
            "           -1.9606e-01,  3.0436e-01],\n",
            "          ...,\n",
            "          [-9.4893e-01, -2.0218e-01, -1.0742e+00,  ..., -1.1491e-01,\n",
            "            2.9762e-01,  4.3600e-01],\n",
            "          [-3.6862e-01, -1.1007e-01,  1.5665e-01,  ..., -5.0331e-01,\n",
            "            3.9799e-01,  3.3917e-02],\n",
            "          [ 1.9790e-01, -1.3064e-01, -6.6895e-01,  ..., -8.4691e-01,\n",
            "           -5.1798e-01,  8.5360e-01]]],\n",
            "\n",
            "\n",
            "        [[[ 1.4054e-01, -1.3836e-01,  6.7189e-02,  ..., -3.2816e-01,\n",
            "            1.2068e-02,  1.1590e-02],\n",
            "          [ 3.4424e-01, -6.5024e-02,  1.4355e-01,  ..., -8.5055e-02,\n",
            "           -1.4499e-01,  6.7562e-01],\n",
            "          [-2.2467e-01,  1.1579e-01,  9.8034e-01,  ..., -6.1904e-01,\n",
            "           -6.1247e-01,  2.5241e-01],\n",
            "          ...,\n",
            "          [-2.8438e-01, -3.9093e-01,  7.1083e-03,  ...,  1.3968e+00,\n",
            "           -5.0872e-01,  9.1544e-02],\n",
            "          [-2.3852e-01,  3.3983e-01, -7.5979e-01,  ..., -1.0194e+00,\n",
            "           -4.8686e-01,  1.6458e-01],\n",
            "          [ 4.0895e-01,  2.9281e-01, -1.5176e-01,  ...,  2.3561e-01,\n",
            "            3.2463e-01,  1.9594e-01]],\n",
            "\n",
            "         [[ 1.5426e-01,  3.0650e-01,  2.3369e-01,  ...,  1.0820e-01,\n",
            "           -6.8172e-02, -4.7528e-01],\n",
            "          [-1.2003e-01, -5.8806e-01, -5.5728e-02,  ...,  5.4283e-01,\n",
            "           -2.4530e-01, -1.5526e-01],\n",
            "          [ 1.6834e-01, -2.9931e-01,  4.0679e-01,  ..., -9.3201e-03,\n",
            "            7.6389e-02, -6.0710e-01],\n",
            "          ...,\n",
            "          [-3.0310e-01, -1.6081e-01, -4.1141e-01,  ..., -6.4804e-01,\n",
            "            5.6045e-02,  8.0872e-01],\n",
            "          [ 8.8910e-02, -4.5474e-01, -1.2332e-01,  ...,  9.5854e-02,\n",
            "           -9.3823e-03,  7.4391e-01],\n",
            "          [ 5.1108e-01, -1.8317e-01,  1.9002e-02,  ...,  5.7819e-02,\n",
            "           -3.5999e-02,  3.4590e-01]],\n",
            "\n",
            "         [[-2.1719e-01,  1.5866e-02, -1.7564e-01,  ...,  2.1223e-01,\n",
            "            2.1877e-01, -8.2495e-02],\n",
            "          [ 4.0880e-01,  1.3327e+00, -9.8901e-02,  ..., -9.7104e-01,\n",
            "           -3.5639e-02, -3.2361e-01],\n",
            "          [ 2.0607e-01,  2.4652e-01, -6.3482e-02,  ..., -3.5624e-01,\n",
            "           -1.3895e-01, -5.1047e-02],\n",
            "          ...,\n",
            "          [-1.0511e+00, -3.5715e-01,  6.5328e-01,  ..., -1.0646e+00,\n",
            "            4.8513e-01,  8.3724e-02],\n",
            "          [ 2.5833e-01,  3.5288e-01, -3.9122e-01,  ..., -1.7421e-01,\n",
            "            4.6724e-01, -3.8435e-01],\n",
            "          [ 7.0924e-01,  8.1769e-02, -5.0228e-01,  ..., -5.0815e-01,\n",
            "           -2.4230e-01, -5.6512e-02]],\n",
            "\n",
            "         ...,\n",
            "\n",
            "         [[ 1.1974e-01, -2.7740e-01, -4.0682e-01,  ...,  2.9542e-01,\n",
            "            1.8429e-01, -3.0656e-01],\n",
            "          [ 8.4138e-02, -2.4027e-01,  4.1119e-01,  ...,  8.4199e-01,\n",
            "           -4.2352e-01, -2.1126e-01],\n",
            "          [-4.4905e-01,  5.4234e-01, -5.0817e-01,  ..., -3.8383e-01,\n",
            "            1.0272e+00, -1.7588e-01],\n",
            "          ...,\n",
            "          [-1.1298e+00, -2.7999e-01,  8.7918e-01,  ...,  1.4140e-01,\n",
            "            5.9441e-02, -3.6210e-01],\n",
            "          [-9.7416e-03, -9.6829e-02, -5.8555e-01,  ...,  3.9342e-01,\n",
            "            4.0171e-02, -2.0474e-01],\n",
            "          [ 7.1653e-01, -4.8404e-01,  6.8898e-01,  ...,  1.5227e-01,\n",
            "           -5.3125e-01, -1.2723e-01]],\n",
            "\n",
            "         [[-3.7953e-01,  1.8799e-01, -2.1736e-01,  ...,  1.4365e-01,\n",
            "            2.3809e-01,  7.7301e-02],\n",
            "          [-2.5640e-01, -1.1246e-01, -5.6280e-01,  ..., -1.0190e-01,\n",
            "            8.3351e-02, -1.6573e-01],\n",
            "          [-6.8968e-02, -2.4523e-01,  6.7122e-01,  ...,  1.5770e-01,\n",
            "            4.9828e-01,  4.1360e-01],\n",
            "          ...,\n",
            "          [ 2.4922e-01,  9.6588e-02,  8.4835e-02,  ..., -2.1886e-01,\n",
            "            3.1441e-01, -1.8169e-01],\n",
            "          [ 4.6032e-03, -1.3207e-01,  4.5619e-01,  ...,  8.2896e-01,\n",
            "            3.4937e-01,  1.6738e-01],\n",
            "          [-2.9861e-01, -9.6165e-03,  4.7265e-01,  ..., -7.1319e-02,\n",
            "            2.4756e-02,  2.4810e-02]],\n",
            "\n",
            "         [[-2.9973e-01,  1.9282e-01,  1.2583e-01,  ...,  2.2127e-01,\n",
            "            3.0354e-01, -2.2876e-01],\n",
            "          [ 1.0594e-01,  6.1289e-01, -2.5202e-01,  ...,  8.3301e-01,\n",
            "            1.3460e-01,  1.1551e-01],\n",
            "          [-1.7924e-01, -2.3921e-01,  4.4492e-01,  ..., -2.8057e-01,\n",
            "            5.7117e-01, -2.4561e-01],\n",
            "          ...,\n",
            "          [-4.8169e-02, -7.3293e-01, -5.0375e-01,  ...,  6.2336e-01,\n",
            "           -7.0066e-01,  2.6759e-01],\n",
            "          [-5.5112e-01,  1.6512e-01,  3.2843e-01,  ..., -2.5018e-01,\n",
            "            6.5279e-02, -2.5659e-01],\n",
            "          [-2.2567e-02, -3.9112e-01, -4.7300e-01,  ..., -3.5087e-01,\n",
            "           -2.1072e-02, -2.1201e-02]]],\n",
            "\n",
            "\n",
            "        [[[ 2.7984e-01, -1.6240e-01, -3.1696e-01,  ...,  5.8613e-03,\n",
            "            1.1346e-02,  3.5809e-01],\n",
            "          [-1.6115e-01,  6.3555e-01,  3.0674e-02,  ..., -9.2505e-02,\n",
            "            4.2790e-01, -6.7104e-01],\n",
            "          [-4.1981e-01,  1.5235e-01,  2.4697e-02,  ..., -6.1708e-02,\n",
            "            4.6030e-01,  1.1187e+00],\n",
            "          ...,\n",
            "          [-5.6883e-02,  4.3512e-02,  3.6427e-01,  ..., -8.7326e-02,\n",
            "           -8.7717e-02, -2.0268e-01],\n",
            "          [-2.7673e-01, -1.3304e-01,  2.4784e-01,  ...,  2.6090e-01,\n",
            "            5.6329e-01, -2.6025e-01],\n",
            "          [ 4.3619e-01,  8.6756e-02, -3.1439e-01,  ..., -1.9812e-02,\n",
            "            3.2439e-01, -5.4109e-01]],\n",
            "\n",
            "         [[ 5.2871e-02,  3.6215e-01, -1.9568e-01,  ..., -1.7320e-01,\n",
            "           -1.0100e-01,  8.2594e-02],\n",
            "          [ 2.5661e-01,  3.1120e-01,  4.8465e-01,  ..., -4.5661e-01,\n",
            "           -1.5720e-01,  3.6343e-01],\n",
            "          [-2.2775e-01, -3.6704e-01,  4.7035e-01,  ..., -1.1781e-01,\n",
            "           -3.9286e-01,  2.3861e-01],\n",
            "          ...,\n",
            "          [-4.1200e-01,  2.9012e-01,  8.2617e-01,  ..., -4.3880e-01,\n",
            "            3.3015e-01,  2.4078e-01],\n",
            "          [ 2.2746e-01, -5.0171e-01,  1.1131e-01,  ..., -2.1708e-01,\n",
            "           -1.1968e-01, -5.9914e-01],\n",
            "          [ 1.7224e-01,  4.1074e-01,  6.4268e-01,  ..., -2.6449e-02,\n",
            "           -1.1895e-01, -3.5710e-01]],\n",
            "\n",
            "         [[ 9.9641e-02,  1.2705e-01,  7.1186e-01,  ...,  5.4877e-01,\n",
            "           -5.8829e-02, -3.6178e-01],\n",
            "          [ 3.0521e-01, -1.6604e-01, -1.6071e+00,  ...,  1.9271e-02,\n",
            "           -3.5454e-01,  5.1837e-02],\n",
            "          [ 4.9654e-01, -8.7493e-01,  7.1593e-02,  ...,  2.9936e-01,\n",
            "            3.1204e-01,  1.3873e-01],\n",
            "          ...,\n",
            "          [-2.2912e-01,  2.9242e-01,  1.0063e-01,  ..., -8.3659e-01,\n",
            "            8.7337e-03, -5.4368e-02],\n",
            "          [ 1.8615e-01, -3.4229e-01,  7.5393e-01,  ..., -4.2945e-01,\n",
            "           -5.6378e-02, -4.2080e-01],\n",
            "          [ 4.7824e-02, -1.1819e-01, -6.5181e-02,  ...,  1.2709e+00,\n",
            "           -2.1698e-01,  6.8784e-01]],\n",
            "\n",
            "         ...,\n",
            "\n",
            "         [[ 4.1687e-02,  1.1202e-01, -8.0949e-02,  ..., -1.9484e-01,\n",
            "           -3.5940e-01, -3.1651e-01],\n",
            "          [-2.7951e-01, -7.3346e-01,  9.4657e-02,  ...,  8.7330e-01,\n",
            "            7.0242e-02, -3.7300e-01],\n",
            "          [-2.6186e-01, -3.5161e-01, -1.3447e-01,  ..., -3.5419e-02,\n",
            "           -5.9276e-01, -5.4168e-01],\n",
            "          ...,\n",
            "          [ 5.7156e-01, -6.5455e-01,  3.7938e-01,  ...,  2.5196e-01,\n",
            "            3.8869e-01, -9.1956e-02],\n",
            "          [ 1.3806e-01, -5.7743e-01, -2.5693e-01,  ...,  5.7964e-01,\n",
            "            5.2187e-01,  1.7286e-01],\n",
            "          [-1.8484e-03,  5.3350e-01, -3.3660e-01,  ..., -5.7829e-01,\n",
            "           -3.9994e-01,  1.1605e-01]],\n",
            "\n",
            "         [[ 2.1290e-01,  6.9988e-02,  6.1333e-02,  ...,  4.3945e-01,\n",
            "            2.3347e-01, -8.1832e-02],\n",
            "          [-1.0291e+00,  2.7267e-02, -2.1901e-01,  ..., -4.1049e-01,\n",
            "            2.4325e-01,  4.9414e-01],\n",
            "          [-4.4290e-02, -1.1566e-01,  8.8402e-01,  ...,  7.4145e-01,\n",
            "           -2.1541e-01,  1.8536e-01],\n",
            "          ...,\n",
            "          [ 3.5639e-01,  4.8556e-01,  9.8809e-01,  ...,  7.7819e-01,\n",
            "           -2.8716e-01, -2.9883e-02],\n",
            "          [-1.1000e-01, -3.4943e-01, -4.5619e-02,  ..., -3.4208e-01,\n",
            "            1.2906e-01,  5.9306e-01],\n",
            "          [-2.3883e-01, -3.9624e-01,  4.3665e-01,  ...,  3.5296e-02,\n",
            "           -1.1528e-01, -2.3325e-01]],\n",
            "\n",
            "         [[ 1.6011e-01, -3.9208e-01, -3.9234e-01,  ..., -3.3583e-01,\n",
            "           -6.9879e-02,  6.7062e-01],\n",
            "          [ 8.5974e-01,  3.2308e-01,  5.4819e-01,  ..., -1.0050e-01,\n",
            "            9.8409e-02,  1.1630e-01],\n",
            "          [-3.3088e-01, -3.0298e-01, -1.4402e-01,  ..., -1.2127e+00,\n",
            "           -7.8891e-01, -1.7592e-01],\n",
            "          ...,\n",
            "          [-8.4519e-01,  5.3872e-01,  1.3918e-01,  ..., -9.7421e-01,\n",
            "           -1.0500e+00,  1.4349e-01],\n",
            "          [-2.3738e-01, -1.7475e-01, -2.7978e-01,  ...,  1.4118e-01,\n",
            "            4.3233e-01, -4.8457e-01],\n",
            "          [-5.5052e-02, -1.9756e-01,  3.6532e-01,  ...,  2.8349e-02,\n",
            "           -5.4726e-02, -5.0311e-02]]],\n",
            "\n",
            "\n",
            "        ...,\n",
            "\n",
            "\n",
            "        [[[-7.7250e-02, -1.3324e-01,  3.0693e-01,  ..., -2.3705e-01,\n",
            "           -4.5061e-02, -4.8291e-02],\n",
            "          [-4.1505e-01, -1.1215e-01,  4.8016e-01,  ...,  3.9557e-01,\n",
            "           -2.4760e-01, -1.5300e-01],\n",
            "          [ 1.0371e+00,  4.9163e-01,  8.5435e-01,  ..., -1.7756e-01,\n",
            "            4.8775e-01,  3.2222e-01],\n",
            "          ...,\n",
            "          [-3.1553e-01,  4.7378e-01,  1.8035e-01,  ...,  1.3407e-01,\n",
            "           -8.2306e-02, -5.8246e-01],\n",
            "          [-1.1501e-01,  6.7692e-01, -4.9297e-01,  ..., -3.0105e-01,\n",
            "           -1.4631e-01,  7.6041e-01],\n",
            "          [-1.0421e-01,  3.6715e-01,  7.2860e-02,  ..., -6.9409e-01,\n",
            "            4.3652e-01,  6.8624e-02]],\n",
            "\n",
            "         [[ 1.0997e-01,  2.1537e-01, -5.2922e-01,  ...,  2.0087e-01,\n",
            "            2.5801e-02,  2.1202e-01],\n",
            "          [-6.3670e-03,  1.2273e+00, -3.7454e-01,  ...,  8.7354e-01,\n",
            "           -4.0745e-02,  4.9169e-01],\n",
            "          [-5.8829e-01, -1.1699e+00,  8.7221e-01,  ...,  1.8855e-02,\n",
            "           -6.3853e-01, -4.4221e-01],\n",
            "          ...,\n",
            "          [-1.8418e-01, -6.8045e-01,  4.7371e-01,  ...,  4.3518e-01,\n",
            "           -2.5453e-02,  3.3035e-01],\n",
            "          [-5.3470e-02,  3.5626e-01, -1.2281e-01,  ...,  5.1409e-01,\n",
            "            4.8891e-01, -2.4855e-01],\n",
            "          [ 5.1113e-01, -6.3497e-01, -4.3797e-01,  ..., -5.1491e-01,\n",
            "            1.3009e-01,  2.1447e-01]],\n",
            "\n",
            "         [[-5.0115e-01,  2.6303e-01,  2.1439e-01,  ..., -3.9013e-02,\n",
            "            5.1694e-01,  9.3138e-02],\n",
            "          [-2.5706e-01, -6.5768e-01,  1.9128e-01,  ...,  5.1450e-02,\n",
            "           -5.2252e-01, -5.0464e-01],\n",
            "          [-4.9978e-01,  8.1368e-01, -2.2615e-01,  ..., -9.6446e-01,\n",
            "            2.5870e-01,  4.9705e-01],\n",
            "          ...,\n",
            "          [ 1.1105e+00, -1.4161e+00, -6.8643e-01,  ..., -1.7993e-01,\n",
            "           -8.8118e-02,  2.0629e-01],\n",
            "          [ 5.7401e-01,  7.4689e-02,  5.2535e-02,  ..., -9.0958e-01,\n",
            "           -5.6683e-02, -6.9204e-01],\n",
            "          [-4.5906e-01, -6.4896e-01, -6.5937e-01,  ..., -1.9945e-01,\n",
            "            4.1637e-01,  2.4859e-01]],\n",
            "\n",
            "         ...,\n",
            "\n",
            "         [[-1.2162e-01,  2.2876e-02,  6.5728e-02,  ...,  6.5286e-02,\n",
            "            2.3894e-01, -1.7074e-01],\n",
            "          [-1.0083e+00,  2.8555e-01,  7.7539e-02,  ..., -3.1680e-02,\n",
            "           -2.3094e-01, -1.6388e-01],\n",
            "          [ 3.1830e-01,  2.2354e-01,  5.0611e-01,  ..., -7.5290e-01,\n",
            "            1.5889e-01, -3.2748e-01],\n",
            "          ...,\n",
            "          [ 1.2066e-01, -4.4843e-01, -1.2838e-01,  ..., -6.3037e-01,\n",
            "            3.8771e-01,  6.6358e-02],\n",
            "          [-1.7543e-01, -6.9539e-01,  3.5998e-01,  ...,  2.1118e-01,\n",
            "           -8.1159e-02, -4.2762e-01],\n",
            "          [ 2.7094e-01, -9.1110e-01,  6.1394e-01,  ..., -1.5509e-01,\n",
            "           -1.6905e-01, -8.3588e-01]],\n",
            "\n",
            "         [[ 1.2065e-01,  4.1677e-01,  8.6502e-01,  ...,  2.1308e-01,\n",
            "            4.4074e-01,  1.9518e-01],\n",
            "          [ 3.7776e-01, -1.7210e-02, -4.0609e-01,  ..., -1.8373e-01,\n",
            "           -6.5031e-01, -7.4993e-01],\n",
            "          [ 5.5134e-01, -1.2177e-01,  8.0149e-01,  ...,  7.5868e-01,\n",
            "            6.6518e-01,  1.0784e+00],\n",
            "          ...,\n",
            "          [ 4.6245e-01,  4.4277e-01, -4.4962e-01,  ...,  9.0558e-01,\n",
            "            2.2248e-01,  5.5229e-01],\n",
            "          [-7.3631e-01, -4.0532e-01, -4.7433e-01,  ...,  3.9052e-01,\n",
            "           -1.2712e-01, -1.4955e-03],\n",
            "          [ 2.5685e-01,  1.0507e+00,  9.6220e-02,  ..., -1.1939e-01,\n",
            "            3.7621e-01,  4.1958e-01]],\n",
            "\n",
            "         [[ 4.9334e-01,  1.6874e-01,  3.2397e-01,  ...,  6.1682e-01,\n",
            "            5.0530e-01,  6.3192e-03],\n",
            "          [ 7.1889e-01, -7.7423e-01, -1.2002e-01,  ...,  4.9839e-01,\n",
            "            1.7697e-01, -7.4965e-01],\n",
            "          [-4.2196e-02,  4.6781e-01,  1.3868e-01,  ..., -1.3226e+00,\n",
            "            1.4708e-02,  1.4066e-01],\n",
            "          ...,\n",
            "          [ 5.3852e-01,  7.1536e-01,  7.5694e-03,  ..., -3.9661e-01,\n",
            "            6.1387e-01,  2.4354e-01],\n",
            "          [ 1.2465e-01,  5.0898e-01,  8.7061e-01,  ..., -6.2374e-01,\n",
            "           -9.5217e-02,  1.6906e-01],\n",
            "          [ 3.0618e-01, -1.1820e-01,  5.2307e-01,  ...,  3.8946e-01,\n",
            "            3.6740e-01,  4.0109e-01]]],\n",
            "\n",
            "\n",
            "        [[[ 4.7767e-02, -1.5346e-01, -4.4506e-02,  ...,  3.7691e-01,\n",
            "           -5.6089e-01, -5.3779e-01],\n",
            "          [-6.4378e-01,  3.5822e-01, -3.9730e-02,  ..., -4.6584e-01,\n",
            "            6.9614e-01, -7.0414e-01],\n",
            "          [-3.4002e-01,  2.9715e-01, -4.0844e-01,  ...,  9.5198e-01,\n",
            "            9.6664e-01,  1.5494e-01],\n",
            "          ...,\n",
            "          [-4.8126e-02,  5.7797e-01,  5.4260e-02,  ..., -7.1013e-01,\n",
            "            1.2258e+00, -1.1612e+00],\n",
            "          [-1.2335e-01,  5.1567e-01,  2.2564e-01,  ...,  4.4774e-01,\n",
            "            5.9924e-01, -5.2582e-02],\n",
            "          [ 3.8469e-01,  3.3035e-01,  1.0260e+00,  ..., -3.4578e-01,\n",
            "           -2.8364e-01, -3.4740e-01]],\n",
            "\n",
            "         [[ 1.6481e-01, -4.8231e-01,  1.7235e-01,  ...,  8.2638e-02,\n",
            "            1.5591e-01,  1.1035e-01],\n",
            "          [-5.7580e-01,  3.3452e-01, -1.8998e-01,  ..., -2.3383e-01,\n",
            "            4.0246e-01, -2.4169e-01],\n",
            "          [ 3.0185e-01, -3.1236e-01, -1.0464e+00,  ..., -1.1160e+00,\n",
            "           -3.9813e-01,  7.6245e-02],\n",
            "          ...,\n",
            "          [-5.2388e-01,  7.4993e-02,  3.0270e-01,  ...,  3.8937e-02,\n",
            "           -4.1209e-01,  2.5814e-02],\n",
            "          [-2.9737e-01, -9.0259e-03,  2.2922e-01,  ..., -1.6480e+00,\n",
            "           -6.3326e-01,  1.2643e-01],\n",
            "          [ 4.2426e-03, -1.7819e-01, -6.3034e-01,  ...,  1.4340e-01,\n",
            "           -2.2070e-01,  9.3769e-02]],\n",
            "\n",
            "         [[ 2.0589e-04,  2.9414e-01,  1.4115e-02,  ..., -4.3347e-01,\n",
            "           -3.4809e-02,  2.5057e-01],\n",
            "          [ 2.9203e-01,  9.0983e-02,  7.8695e-01,  ..., -2.9405e-01,\n",
            "            3.5128e-01,  6.4924e-01],\n",
            "          [-5.1999e-01,  4.9177e-01,  2.1148e-01,  ...,  1.4649e-01,\n",
            "            2.6315e-03, -6.6540e-01],\n",
            "          ...,\n",
            "          [ 2.7676e-01, -2.7199e-01, -8.4915e-02,  ..., -3.5413e-01,\n",
            "            1.8509e-01, -1.1104e-01],\n",
            "          [ 1.1206e-01, -5.6851e-01,  4.2852e-01,  ...,  4.6004e-01,\n",
            "            5.8793e-01,  3.2857e-01],\n",
            "          [ 4.9729e-01,  4.8581e-01,  5.0286e-01,  ...,  3.0876e-01,\n",
            "            1.7775e-01,  6.3966e-01]],\n",
            "\n",
            "         ...,\n",
            "\n",
            "         [[-2.1549e-01, -8.1011e-01, -3.0378e-02,  ..., -5.2399e-01,\n",
            "           -1.1283e-01, -2.6148e-01],\n",
            "          [ 1.7320e-01,  6.5945e-01, -1.8234e-01,  ..., -2.3952e-01,\n",
            "            4.2550e-01, -3.2865e-01],\n",
            "          [ 1.3998e-01, -1.9523e-01, -3.7979e-01,  ..., -1.1342e+00,\n",
            "            6.6000e-01,  5.3738e-02],\n",
            "          ...,\n",
            "          [ 6.7155e-01, -3.5521e-01,  2.7168e-01,  ...,  2.2597e-01,\n",
            "           -2.2619e-01,  4.2773e-01],\n",
            "          [ 1.0208e-02, -3.4464e-01, -9.7963e-01,  ..., -1.5531e-01,\n",
            "            2.3455e-01,  5.6348e-01],\n",
            "          [ 3.4337e-01, -2.1221e-01, -4.4520e-01,  ...,  2.4114e-01,\n",
            "            2.2892e-01, -4.5810e-01]],\n",
            "\n",
            "         [[ 3.1961e-01,  1.1637e-02, -2.9716e-01,  ..., -2.8653e-01,\n",
            "           -2.6254e-01,  1.2722e-01],\n",
            "          [-4.8257e-01, -6.2441e-02, -1.7661e-02,  ..., -4.4768e-01,\n",
            "            3.2562e-01,  2.4681e-01],\n",
            "          [ 1.0499e+00,  1.1059e+00, -6.1099e-01,  ...,  6.1693e-01,\n",
            "            9.7202e-01, -8.3903e-01],\n",
            "          ...,\n",
            "          [-4.3887e-01, -1.2025e-01, -6.0292e-01,  ...,  7.7967e-01,\n",
            "            1.0990e+00, -7.5847e-03],\n",
            "          [ 1.0320e-01,  1.3520e-01, -3.5895e-01,  ..., -6.4021e-01,\n",
            "            4.0061e-02,  6.8048e-01],\n",
            "          [-4.0853e-01, -8.5334e-01, -1.6047e-01,  ..., -8.4585e-03,\n",
            "           -2.3831e-01,  1.6220e-01]],\n",
            "\n",
            "         [[ 3.6465e-01,  1.0289e-01,  1.4442e-02,  ..., -3.0501e-01,\n",
            "           -6.9473e-02, -9.1450e-02],\n",
            "          [-6.2718e-01, -2.9262e-01,  1.0378e-01,  ..., -1.8294e-01,\n",
            "            1.1598e-01,  3.4864e-01],\n",
            "          [ 1.2700e+00,  9.1967e-01,  1.0887e-01,  ...,  2.1674e-01,\n",
            "           -1.3483e-01, -6.7395e-01],\n",
            "          ...,\n",
            "          [ 5.1733e-03, -5.2447e-01, -8.2243e-01,  ..., -8.3026e-01,\n",
            "           -3.7926e-01,  7.1341e-01],\n",
            "          [-1.5794e-01,  3.0916e-01, -3.6985e-01,  ..., -3.9409e-01,\n",
            "           -1.8069e-01,  4.6307e-01],\n",
            "          [ 9.5793e-01, -1.6587e-01, -3.3939e-01,  ..., -6.9078e-01,\n",
            "           -7.5154e-01,  3.4443e-01]]],\n",
            "\n",
            "\n",
            "        [[[-4.7878e-01,  2.0125e-01,  1.2744e-01,  ...,  3.7711e-01,\n",
            "            3.0727e-01, -2.1452e-01],\n",
            "          [-2.9993e-01,  8.0576e-02,  1.0045e-01,  ...,  5.2287e-01,\n",
            "            6.8709e-01,  3.7873e-01],\n",
            "          [-2.8264e-01, -1.6436e-01,  5.1924e-01,  ..., -6.5062e-03,\n",
            "            7.4391e-01,  1.9021e-01],\n",
            "          ...,\n",
            "          [ 4.1233e-01,  6.2518e-01, -6.0529e-01,  ...,  5.0657e-01,\n",
            "           -1.6049e-01, -2.4503e-03],\n",
            "          [-1.7335e-01, -5.3059e-01,  2.5704e-02,  ...,  4.1400e-01,\n",
            "            8.1818e-01, -1.6439e-01],\n",
            "          [ 5.5842e-01,  3.4125e-01,  1.6170e-01,  ..., -5.9997e-01,\n",
            "            5.1699e-02,  4.5418e-01]],\n",
            "\n",
            "         [[-1.5470e-01, -2.2076e-01,  2.3248e-02,  ..., -5.7514e-01,\n",
            "            2.6124e-01,  2.3350e-01],\n",
            "          [-1.2987e-01,  3.0734e-01,  6.2337e-01,  ..., -6.2353e-01,\n",
            "           -8.1988e-01, -5.9531e-01],\n",
            "          [-2.1590e-01, -8.9553e-02, -4.2420e-01,  ...,  5.8197e-01,\n",
            "            2.4544e-01, -4.1473e-01],\n",
            "          ...,\n",
            "          [-5.6665e-01, -1.2921e-01, -2.0288e-01,  ..., -2.3032e-01,\n",
            "           -4.3175e-02,  7.7268e-02],\n",
            "          [ 3.3750e-01,  3.8160e-01,  3.9593e-01,  ..., -3.1943e-01,\n",
            "            1.7439e-01, -2.4374e-01],\n",
            "          [ 1.7229e-01, -2.1066e-01,  2.6803e-01,  ...,  5.3658e-01,\n",
            "            1.3537e-01,  5.9568e-01]],\n",
            "\n",
            "         [[-1.4479e-01,  6.3724e-01,  3.3820e-01,  ...,  1.9080e-02,\n",
            "            3.4921e-01,  2.9592e-01],\n",
            "          [ 4.1415e-01, -1.7539e-01, -4.8832e-01,  ..., -2.0912e-01,\n",
            "           -2.3309e-01,  3.7130e-01],\n",
            "          [ 6.3325e-01, -8.3810e-03,  2.8245e-01,  ...,  3.6765e-01,\n",
            "           -1.2099e+00, -1.0699e-01],\n",
            "          ...,\n",
            "          [ 1.4978e-01,  2.4142e-02, -3.2107e-01,  ..., -3.6455e-02,\n",
            "            5.3999e-01, -4.3993e-02],\n",
            "          [-1.1770e-02,  3.5718e-01, -7.5902e-02,  ...,  3.6424e-02,\n",
            "           -4.1601e-01,  3.1978e-01],\n",
            "          [ 4.7217e-01,  4.1041e-01,  6.7278e-01,  ...,  8.6407e-01,\n",
            "            6.2835e-01,  1.4142e-01]],\n",
            "\n",
            "         ...,\n",
            "\n",
            "         [[ 5.1526e-02,  3.7500e-01, -1.0505e-01,  ..., -2.0766e-01,\n",
            "           -2.2973e-01, -4.2341e-01],\n",
            "          [-6.5589e-01,  3.1798e-01, -1.6389e-01,  ..., -5.2786e-01,\n",
            "            2.2393e-01, -4.7310e-02],\n",
            "          [-2.3340e-01, -3.5397e-01, -3.3303e-01,  ...,  5.5328e-01,\n",
            "            6.9555e-01,  2.3607e-01],\n",
            "          ...,\n",
            "          [-2.9189e-01, -1.0679e+00,  1.2222e+00,  ...,  1.1976e+00,\n",
            "           -7.1822e-01,  6.8755e-01],\n",
            "          [-3.8877e-01, -1.7771e-01,  6.4901e-01,  ..., -3.2724e-01,\n",
            "            2.3745e-01, -2.3163e-01],\n",
            "          [-1.7304e-01,  2.7328e-01, -8.5082e-03,  ...,  4.2692e-01,\n",
            "            5.0730e-01, -5.3153e-01]],\n",
            "\n",
            "         [[-4.7280e-01,  4.1750e-01,  3.8080e-01,  ..., -3.8377e-01,\n",
            "           -4.8735e-02, -2.7471e-01],\n",
            "          [-3.9468e-01,  2.6724e-01,  6.3900e-03,  ..., -2.0068e-01,\n",
            "            1.1065e-01,  1.7543e-02],\n",
            "          [ 2.0540e-01,  1.3811e+00,  1.3847e+00,  ..., -8.9728e-01,\n",
            "           -2.1870e-01,  1.9179e-01],\n",
            "          ...,\n",
            "          [-1.0666e+00, -3.4279e-01,  8.3451e-01,  ..., -9.4231e-01,\n",
            "            1.4489e-01, -5.1239e-01],\n",
            "          [ 3.7570e-01, -2.8005e-01, -3.4181e-01,  ..., -1.1072e-01,\n",
            "           -2.3903e-01, -3.6832e-01],\n",
            "          [-1.4984e-01, -6.5700e-01, -6.7360e-01,  ..., -6.5409e-01,\n",
            "           -2.3932e-01, -5.5003e-01]],\n",
            "\n",
            "         [[-2.1616e-01, -4.5282e-01, -4.0592e-02,  ..., -7.3919e-02,\n",
            "            4.9251e-02,  1.5171e-01],\n",
            "          [ 1.9505e-01, -1.3670e-01, -3.2239e-01,  ..., -2.9891e-02,\n",
            "            2.0811e-01,  3.8297e-01],\n",
            "          [ 4.9355e-01,  3.6327e-02,  8.7543e-01,  ...,  6.1193e-01,\n",
            "            6.2545e-01, -7.7259e-01],\n",
            "          ...,\n",
            "          [ 3.7505e-01, -2.4904e-01, -2.2351e-01,  ...,  2.5504e-01,\n",
            "            3.4072e-01,  1.9513e-01],\n",
            "          [-1.6261e-01, -6.0042e-01, -4.2176e-01,  ...,  5.3705e-01,\n",
            "           -5.5264e-01, -1.6608e-01],\n",
            "          [ 1.6218e-01,  1.5768e-01,  6.5863e-02,  ...,  3.7555e-01,\n",
            "           -2.5967e-02,  2.0050e-01]]]], grad_fn=<MkldnnConvolutionBackward0>)\n"
          ]
        }
      ]
    },
    {
      "cell_type": "code",
      "metadata": {
        "colab": {
          "base_uri": "https://localhost:8080/"
        },
        "id": "s0cjD2drdwD9",
        "outputId": "73ef6405-412d-4b7c-b5f2-a770fa8fd037"
      },
      "source": [
        "output.shape"
      ],
      "execution_count": 49,
      "outputs": [
        {
          "output_type": "execute_result",
          "data": {
            "text/plain": [
              "torch.Size([20, 33, 26, 100])"
            ]
          },
          "metadata": {},
          "execution_count": 49
        }
      ]
    },
    {
      "cell_type": "code",
      "metadata": {
        "id": "roPa6atudyms"
      },
      "source": [
        "import torch.nn.functional as F"
      ],
      "execution_count": 52,
      "outputs": []
    },
    {
      "cell_type": "code",
      "metadata": {
        "id": "kzm4utvkeIZ1"
      },
      "source": [
        "filters= torch.randn(8,4,3,3)"
      ],
      "execution_count": 53,
      "outputs": []
    },
    {
      "cell_type": "code",
      "metadata": {
        "colab": {
          "base_uri": "https://localhost:8080/"
        },
        "id": "CWxYgK17eMCZ",
        "outputId": "33866a12-88de-4200-c7d6-3e71d9b91436"
      },
      "source": [
        "inputs= torch.randn(1,4,5,5)\n",
        "conv= F.conv2d(inputs, filters, padding=1)\n",
        "conv.shape"
      ],
      "execution_count": 55,
      "outputs": [
        {
          "output_type": "execute_result",
          "data": {
            "text/plain": [
              "torch.Size([1, 8, 5, 5])"
            ]
          },
          "metadata": {},
          "execution_count": 55
        }
      ]
    },
    {
      "cell_type": "code",
      "metadata": {
        "id": "Hu-C_zB1eXbc"
      },
      "source": [
        "import torchvision\n",
        "import torchvision.transforms as transforms"
      ],
      "execution_count": 56,
      "outputs": []
    },
    {
      "cell_type": "code",
      "metadata": {
        "id": "rCcRBwEie7qz"
      },
      "source": [
        "transform= transforms.Compose([transforms.ToTensor(),\n",
        "                               transforms.Normalize(mean=(0.5,), std=(0.5,))])"
      ],
      "execution_count": 58,
      "outputs": []
    },
    {
      "cell_type": "code",
      "metadata": {
        "id": "LWNMBnrGfP1T"
      },
      "source": [
        "from torch.utils.data import Dataset, DataLoader\n",
        "import torchvision\n",
        "import torchvision.transforms as transforms"
      ],
      "execution_count": 59,
      "outputs": []
    },
    {
      "cell_type": "code",
      "metadata": {
        "colab": {
          "base_uri": "https://localhost:8080/",
          "height": 460,
          "referenced_widgets": [
            "560535e1b7414602bba8b49e6f5574fb",
            "83891e113d48468082c8c7555015e669",
            "f6477bd8eb8b4e81b369b308909503ef",
            "be8e845e2e564b59bcd2071413970e9f",
            "802aa14b37b34dafaa8b7cee9a77f4a4",
            "83cec4027ec2404a91e8dc1c30830996",
            "448adb5baac04ab9a8ffa15739987d19",
            "4b873e7c805342968a08b011b747f86e",
            "67900bb2d21f46d4b7a6bf0f70639c5f",
            "1e8cabf335664819ad03eaa5034b285f",
            "97a2c7b843074281acb2c56aac600867",
            "ea6a9115ccf447a1b501838fac895564",
            "46391ca350804fd984ff379c5e6bf563",
            "115e4c119b5b4b47a719954c4268ca88",
            "8cd37ae1885340489c07472cf338a082",
            "ff188b13f0af4fe3baf0662309407300",
            "03e15e88596b4a2085e486fb0621645a",
            "771559929a6c40798d9ea204a66dc65a",
            "5f5c12245ab243b78b8afb894588a96c",
            "196bc48841b34ca08591def5116b0429",
            "6930f2f54b0648a0b881bf832f7b958f",
            "fa5e592178ae415f9b9f1f2cf2b49a69",
            "d2a995413e534707b31e6b9a2d2fd372",
            "b4323c5b404f4c1e827e5958ac1fed1e",
            "569260ed7160470994809f2ec3edba91",
            "7fb36059a6af4720b5935c8fa9ac8d53",
            "ec3259e2611e47be9d19a0faa6a8a28d",
            "9c4a99d69f02457fa575df838a9361eb",
            "74969f8e4ef541e59e33baf9e990146a",
            "d46d3414bf244df9b93335d4f214c3be",
            "adbceb995afa478785871e344d2caca4",
            "153b0432da9e4693b415957d0b95ce87",
            "ccba013e1d92475188c8638650ae4ae9",
            "65c52b78dc654b5e930c907f89cb0256",
            "5ffd274127244cfa8ddc4ece55ae6e61",
            "2636778f1aa0450fb54605bb290bd9f5",
            "2ebc038241854638850f25ed3eaffdfe",
            "5a8d266a4374470aad50b8ff9541213b",
            "d2a44cd7a4294ffbbffbdc6dd83df80b",
            "4aa99f01ea7147289f240faf92e410b9",
            "c052912051d940e6ab16796d4d565e2c",
            "ae977e575f4a4832861b14dc40c575b6",
            "059c06d8c2c04b72a7bee911937c31cc",
            "c146cfee752b4dccbee044f13846a202"
          ]
        },
        "id": "STWBqjFRfurW",
        "outputId": "2d52353b-1709-4e5e-9e4f-00a8d1897fd1"
      },
      "source": [
        "trainset= torchvision.datasets.MNIST(root='/content/',\n",
        "                                     train=True,\n",
        "                                     download=True,\n",
        "                                     transform= transform)\n",
        "testset= torchvision.datasets.MNIST(root='/content/',\n",
        "                                     train=False,\n",
        "                                     download=True,\n",
        "                                     transform= transform)"
      ],
      "execution_count": 62,
      "outputs": [
        {
          "output_type": "stream",
          "name": "stdout",
          "text": [
            "Downloading http://yann.lecun.com/exdb/mnist/train-images-idx3-ubyte.gz\n",
            "Downloading http://yann.lecun.com/exdb/mnist/train-images-idx3-ubyte.gz to /content/MNIST/raw/train-images-idx3-ubyte.gz\n"
          ]
        },
        {
          "output_type": "display_data",
          "data": {
            "application/vnd.jupyter.widget-view+json": {
              "model_id": "560535e1b7414602bba8b49e6f5574fb",
              "version_minor": 0,
              "version_major": 2
            },
            "text/plain": [
              "  0%|          | 0/9912422 [00:00<?, ?it/s]"
            ]
          },
          "metadata": {}
        },
        {
          "output_type": "stream",
          "name": "stdout",
          "text": [
            "Extracting /content/MNIST/raw/train-images-idx3-ubyte.gz to /content/MNIST/raw\n",
            "\n",
            "Downloading http://yann.lecun.com/exdb/mnist/train-labels-idx1-ubyte.gz\n",
            "Downloading http://yann.lecun.com/exdb/mnist/train-labels-idx1-ubyte.gz to /content/MNIST/raw/train-labels-idx1-ubyte.gz\n"
          ]
        },
        {
          "output_type": "display_data",
          "data": {
            "application/vnd.jupyter.widget-view+json": {
              "model_id": "ea6a9115ccf447a1b501838fac895564",
              "version_minor": 0,
              "version_major": 2
            },
            "text/plain": [
              "  0%|          | 0/28881 [00:00<?, ?it/s]"
            ]
          },
          "metadata": {}
        },
        {
          "output_type": "stream",
          "name": "stdout",
          "text": [
            "Extracting /content/MNIST/raw/train-labels-idx1-ubyte.gz to /content/MNIST/raw\n",
            "\n",
            "Downloading http://yann.lecun.com/exdb/mnist/t10k-images-idx3-ubyte.gz\n",
            "Downloading http://yann.lecun.com/exdb/mnist/t10k-images-idx3-ubyte.gz to /content/MNIST/raw/t10k-images-idx3-ubyte.gz\n"
          ]
        },
        {
          "output_type": "display_data",
          "data": {
            "application/vnd.jupyter.widget-view+json": {
              "model_id": "d2a995413e534707b31e6b9a2d2fd372",
              "version_minor": 0,
              "version_major": 2
            },
            "text/plain": [
              "  0%|          | 0/1648877 [00:00<?, ?it/s]"
            ]
          },
          "metadata": {}
        },
        {
          "output_type": "stream",
          "name": "stdout",
          "text": [
            "Extracting /content/MNIST/raw/t10k-images-idx3-ubyte.gz to /content/MNIST/raw\n",
            "\n",
            "Downloading http://yann.lecun.com/exdb/mnist/t10k-labels-idx1-ubyte.gz\n",
            "Downloading http://yann.lecun.com/exdb/mnist/t10k-labels-idx1-ubyte.gz to /content/MNIST/raw/t10k-labels-idx1-ubyte.gz\n"
          ]
        },
        {
          "output_type": "display_data",
          "data": {
            "application/vnd.jupyter.widget-view+json": {
              "model_id": "65c52b78dc654b5e930c907f89cb0256",
              "version_minor": 0,
              "version_major": 2
            },
            "text/plain": [
              "  0%|          | 0/4542 [00:00<?, ?it/s]"
            ]
          },
          "metadata": {}
        },
        {
          "output_type": "stream",
          "name": "stdout",
          "text": [
            "Extracting /content/MNIST/raw/t10k-labels-idx1-ubyte.gz to /content/MNIST/raw\n",
            "\n"
          ]
        }
      ]
    },
    {
      "cell_type": "markdown",
      "metadata": {
        "id": "Npybz1Uwf-Es"
      },
      "source": [
        ""
      ]
    },
    {
      "cell_type": "code",
      "metadata": {
        "id": "PlncN-u0gPXR"
      },
      "source": [
        "train_loader= DataLoader(trainset, batch_size=8, shuffle=True, num_workers=2)\n",
        "test_loader= DataLoader(testset, batch_size=8, shuffle=False, num_workers=2)"
      ],
      "execution_count": 63,
      "outputs": []
    },
    {
      "cell_type": "code",
      "metadata": {
        "colab": {
          "base_uri": "https://localhost:8080/"
        },
        "id": "_0FCW_MXgg37",
        "outputId": "3b7904b0-4069-40f7-eea5-4c502c5ad16a"
      },
      "source": [
        "dataiter= iter(train_loader)\n",
        "images, labels= dataiter.next()\n",
        "images.shape, labels.shape"
      ],
      "execution_count": 64,
      "outputs": [
        {
          "output_type": "execute_result",
          "data": {
            "text/plain": [
              "(torch.Size([8, 1, 28, 28]), torch.Size([8]))"
            ]
          },
          "metadata": {},
          "execution_count": 64
        }
      ]
    },
    {
      "cell_type": "code",
      "metadata": {
        "id": "gvZ2L7Buguxt"
      },
      "source": [
        "import matplotlib.pyplot as plt\n",
        "\n",
        "plt.style.use('seaborn-white')"
      ],
      "execution_count": 66,
      "outputs": []
    },
    {
      "cell_type": "code",
      "metadata": {
        "colab": {
          "base_uri": "https://localhost:8080/"
        },
        "id": "7amikTvSg-My",
        "outputId": "bf42c549-1238-416f-9ca4-d37616bf44b5"
      },
      "source": [
        "torch_image=torch.squeeze(images[0])\n",
        "torch_image.shape"
      ],
      "execution_count": 67,
      "outputs": [
        {
          "output_type": "execute_result",
          "data": {
            "text/plain": [
              "torch.Size([28, 28])"
            ]
          },
          "metadata": {},
          "execution_count": 67
        }
      ]
    },
    {
      "cell_type": "code",
      "metadata": {
        "colab": {
          "base_uri": "https://localhost:8080/"
        },
        "id": "TWj-As9bhGCD",
        "outputId": "49ee23c4-023e-48b6-fd54-77882af62f81"
      },
      "source": [
        "image= torch_image.numpy()\n",
        "image.shape"
      ],
      "execution_count": 68,
      "outputs": [
        {
          "output_type": "execute_result",
          "data": {
            "text/plain": [
              "(28, 28)"
            ]
          },
          "metadata": {},
          "execution_count": 68
        }
      ]
    },
    {
      "cell_type": "code",
      "metadata": {
        "colab": {
          "base_uri": "https://localhost:8080/"
        },
        "id": "HQWDUmZ7hKCz",
        "outputId": "dca30a94-6c74-42f9-d05b-0c8ef2b90df1"
      },
      "source": [
        "label=labels[0].numpy()\n",
        "label.shape"
      ],
      "execution_count": 69,
      "outputs": [
        {
          "output_type": "execute_result",
          "data": {
            "text/plain": [
              "()"
            ]
          },
          "metadata": {},
          "execution_count": 69
        }
      ]
    },
    {
      "cell_type": "code",
      "metadata": {
        "colab": {
          "base_uri": "https://localhost:8080/"
        },
        "id": "_QNKhJpQhNyz",
        "outputId": "2cb1142b-bbbb-4a86-bbaf-8cfe0ae83b4a"
      },
      "source": [
        "label"
      ],
      "execution_count": 70,
      "outputs": [
        {
          "output_type": "execute_result",
          "data": {
            "text/plain": [
              "array(2)"
            ]
          },
          "metadata": {},
          "execution_count": 70
        }
      ]
    },
    {
      "cell_type": "code",
      "metadata": {
        "colab": {
          "base_uri": "https://localhost:8080/",
          "height": 276
        },
        "id": "464FQWOehOrL",
        "outputId": "c3089f4b-6f06-44a4-e3d2-d9ccb3950e2c"
      },
      "source": [
        "plt.title(label)\n",
        "plt.imshow(image, 'gray_r')\n",
        "plt.show()"
      ],
      "execution_count": 71,
      "outputs": [
        {
          "output_type": "display_data",
          "data": {
            "image/png": "[encoded data removed]",
            "text/plain": [
              "<Figure size 432x288 with 1 Axes>"
            ]
          },
          "metadata": {}
        }
      ]
    },
    {
      "cell_type": "code",
      "metadata": {
        "id": "Cp6UYKuvhUT8"
      },
      "source": [
        "import torch.nn as nn\n",
        "import torch.nn.functional as F\n",
        "import torch.optim as optim"
      ],
      "execution_count": 72,
      "outputs": []
    },
    {
      "cell_type": "code",
      "metadata": {
        "colab": {
          "base_uri": "https://localhost:8080/"
        },
        "id": "bpxav9wPhd9c",
        "outputId": "4fac72c7-57e1-4dfe-9114-0e7d7f4435e4"
      },
      "source": [
        "nn.Conv2d(in_channels=1, out_channels=20, kernel_size=5, stride=1)"
      ],
      "execution_count": 73,
      "outputs": [
        {
          "output_type": "execute_result",
          "data": {
            "text/plain": [
              "Conv2d(1, 20, kernel_size=(5, 5), stride=(1, 1))"
            ]
          },
          "metadata": {},
          "execution_count": 73
        }
      ]
    },
    {
      "cell_type": "code",
      "metadata": {
        "colab": {
          "base_uri": "https://localhost:8080/"
        },
        "id": "KIUMnBKjhl98",
        "outputId": "f1144a2b-791e-4247-dfac-970cc9f25391"
      },
      "source": [
        "layer= nn.Conv2d(1,20, 5, 1).to(torch.device('cpu'))\n",
        "layer"
      ],
      "execution_count": 74,
      "outputs": [
        {
          "output_type": "execute_result",
          "data": {
            "text/plain": [
              "Conv2d(1, 20, kernel_size=(5, 5), stride=(1, 1))"
            ]
          },
          "metadata": {},
          "execution_count": 74
        }
      ]
    },
    {
      "cell_type": "code",
      "metadata": {
        "colab": {
          "base_uri": "https://localhost:8080/"
        },
        "id": "Oemo-U-RhvJL",
        "outputId": "35c22baa-7949-45d8-80c4-0336aa17ef26"
      },
      "source": [
        "weight=layer.weight\n",
        "weight.shape"
      ],
      "execution_count": 75,
      "outputs": [
        {
          "output_type": "execute_result",
          "data": {
            "text/plain": [
              "torch.Size([20, 1, 5, 5])"
            ]
          },
          "metadata": {},
          "execution_count": 75
        }
      ]
    },
    {
      "cell_type": "code",
      "metadata": {
        "colab": {
          "base_uri": "https://localhost:8080/"
        },
        "id": "SWDhkgEMhze7",
        "outputId": "33e558f1-4688-424d-9d14-3f053a774714"
      },
      "source": [
        "weight= weight.detach()\n",
        "weight=weight.numpy()\n",
        "weight.shape"
      ],
      "execution_count": 76,
      "outputs": [
        {
          "output_type": "execute_result",
          "data": {
            "text/plain": [
              "(20, 1, 5, 5)"
            ]
          },
          "metadata": {},
          "execution_count": 76
        }
      ]
    },
    {
      "cell_type": "code",
      "metadata": {
        "colab": {
          "base_uri": "https://localhost:8080/",
          "height": 262
        },
        "id": "0-qTsq6hh8xs",
        "outputId": "e9f367f7-75a7-4d52-a67d-529dc0d199dd"
      },
      "source": [
        "plt.imshow(weight[0,0,:,:],'jet')\n",
        "plt.colorbar()\n",
        "plt.show()"
      ],
      "execution_count": 77,
      "outputs": [
        {
          "output_type": "display_data",
          "data": {
            "image/png": "[encoded data removed]",
            "text/plain": [
              "<Figure size 432x288 with 2 Axes>"
            ]
          },
          "metadata": {}
        }
      ]
    },
    {
      "cell_type": "code",
      "metadata": {
        "colab": {
          "base_uri": "https://localhost:8080/"
        },
        "id": "-CkDqmNsiEbT",
        "outputId": "339d363e-5a4e-4b38-9637-956f39ad9ec9"
      },
      "source": [
        "print(images.shape)"
      ],
      "execution_count": 78,
      "outputs": [
        {
          "output_type": "stream",
          "name": "stdout",
          "text": [
            "torch.Size([8, 1, 28, 28])\n"
          ]
        }
      ]
    },
    {
      "cell_type": "code",
      "metadata": {
        "id": "gh8rG1zmiLtz"
      },
      "source": [
        "input_image= torch.unsqueeze(images[0],dim=0)\n",
        "output_data=layer(input_image)"
      ],
      "execution_count": 79,
      "outputs": []
    },
    {
      "cell_type": "code",
      "metadata": {
        "id": "W_ciGyeqiW5C"
      },
      "source": [
        "output= output_data.data"
      ],
      "execution_count": 80,
      "outputs": []
    },
    {
      "cell_type": "code",
      "metadata": {
        "colab": {
          "base_uri": "https://localhost:8080/"
        },
        "id": "8T7pqWoviY05",
        "outputId": "b49c34b2-3c68-4114-fbd3-3df32ef7c942"
      },
      "source": [
        "output_arr= output.numpy()\n",
        "output_arr.shape"
      ],
      "execution_count": 81,
      "outputs": [
        {
          "output_type": "execute_result",
          "data": {
            "text/plain": [
              "(1, 20, 24, 24)"
            ]
          },
          "metadata": {},
          "execution_count": 81
        }
      ]
    },
    {
      "cell_type": "code",
      "metadata": {
        "colab": {
          "base_uri": "https://localhost:8080/",
          "height": 305
        },
        "id": "T4KgNWuDidnj",
        "outputId": "1e763c56-d372-4444-9c2a-0b2214f784d1"
      },
      "source": [
        "plt.figure(figsize=(15,30))\n",
        "plt.subplot(131)\n",
        "plt.title('input')\n",
        "plt.imshow(image,'gray_r')\n",
        "plt.subplot(132)\n",
        "plt.title('weight')\n",
        "plt.imshow(weight[0,0,:,:],'jet')\n",
        "plt.subplot(133)\n",
        "plt.title('output')\n",
        "plt.imshow(output_arr[0,0,:,:], 'gray')\n",
        "plt.show()"
      ],
      "execution_count": 83,
      "outputs": [
        {
          "output_type": "display_data",
          "data": {
            "image/png": "[encoded data removed]",
            "text/plain": [
              "<Figure size 1080x2160 with 3 Axes>"
            ]
          },
          "metadata": {}
        }
      ]
    },
    {
      "cell_type": "code",
      "metadata": {
        "colab": {
          "base_uri": "https://localhost:8080/"
        },
        "id": "df-QDk-yi9o7",
        "outputId": "c82358b4-38e1-412b-8361-32199c09d3cd"
      },
      "source": [
        "image.shape"
      ],
      "execution_count": 84,
      "outputs": [
        {
          "output_type": "execute_result",
          "data": {
            "text/plain": [
              "(28, 28)"
            ]
          },
          "metadata": {},
          "execution_count": 84
        }
      ]
    },
    {
      "cell_type": "code",
      "metadata": {
        "colab": {
          "base_uri": "https://localhost:8080/"
        },
        "id": "loJfBPd4jEWf",
        "outputId": "f61faa10-76c8-4a8c-f26b-d23ae1963618"
      },
      "source": [
        "pool= F.max_pool2d(output, 2,2)\n",
        "pool.shape"
      ],
      "execution_count": 85,
      "outputs": [
        {
          "output_type": "execute_result",
          "data": {
            "text/plain": [
              "torch.Size([1, 20, 12, 12])"
            ]
          },
          "metadata": {},
          "execution_count": 85
        }
      ]
    },
    {
      "cell_type": "code",
      "metadata": {
        "colab": {
          "base_uri": "https://localhost:8080/"
        },
        "id": "9p8e8bQmjLJE",
        "outputId": "34bedfec-ef9e-4bfd-9c07-e4d231f82674"
      },
      "source": [
        "pool_arr= pool.numpy()\n",
        "pool_arr.shape"
      ],
      "execution_count": 87,
      "outputs": [
        {
          "output_type": "execute_result",
          "data": {
            "text/plain": [
              "(1, 20, 12, 12)"
            ]
          },
          "metadata": {},
          "execution_count": 87
        }
      ]
    },
    {
      "cell_type": "code",
      "metadata": {
        "colab": {
          "base_uri": "https://localhost:8080/",
          "height": 440
        },
        "id": "f-CKypxHjPNL",
        "outputId": "4b19ddac-dfcf-41f8-d933-0f6ffe495c24"
      },
      "source": [
        "plt.figure(figsize=(15,30))\n",
        "plt.subplot(121)\n",
        "plt.title('input')\n",
        "plt.imshow(image, 'gray_r')\n",
        "plt.subplot(122)\n",
        "plt.title('output')\n",
        "plt.imshow(pool_arr[0,0,:,:],'gray')\n",
        "plt.show()"
      ],
      "execution_count": 89,
      "outputs": [
        {
          "output_type": "display_data",
          "data": {
            "image/png": "[encoded data removed]",
            "text/plain": [
              "<Figure size 1080x2160 with 2 Axes>"
            ]
          },
          "metadata": {}
        }
      ]
    },
    {
      "cell_type": "code",
      "metadata": {
        "colab": {
          "base_uri": "https://localhost:8080/"
        },
        "id": "Q2qpEVDpjquL",
        "outputId": "da3cb9ca-4a12-4742-ed5b-f6c19640f27b"
      },
      "source": [
        "image= torch.from_numpy(image)\n",
        "image.shape"
      ],
      "execution_count": 90,
      "outputs": [
        {
          "output_type": "execute_result",
          "data": {
            "text/plain": [
              "torch.Size([28, 28])"
            ]
          },
          "metadata": {},
          "execution_count": 90
        }
      ]
    },
    {
      "cell_type": "code",
      "metadata": {
        "colab": {
          "base_uri": "https://localhost:8080/"
        },
        "id": "cRTETwzxj_V7",
        "outputId": "999f8d4c-6470-4ed8-8560-f3749f6dab60"
      },
      "source": [
        "flatten= image.view(1,28*28)\n",
        "flatten.shape"
      ],
      "execution_count": 91,
      "outputs": [
        {
          "output_type": "execute_result",
          "data": {
            "text/plain": [
              "torch.Size([1, 784])"
            ]
          },
          "metadata": {},
          "execution_count": 91
        }
      ]
    },
    {
      "cell_type": "code",
      "metadata": {
        "colab": {
          "base_uri": "https://localhost:8080/"
        },
        "id": "y-b6s-CIkGJr",
        "outputId": "2aa26e0e-a4df-4ff2-b336-cc97a58f7891"
      },
      "source": [
        "lin= nn.Linear(784, 10)(flatten)\n",
        "lin.shape"
      ],
      "execution_count": 92,
      "outputs": [
        {
          "output_type": "execute_result",
          "data": {
            "text/plain": [
              "torch.Size([1, 10])"
            ]
          },
          "metadata": {},
          "execution_count": 92
        }
      ]
    },
    {
      "cell_type": "code",
      "metadata": {
        "colab": {
          "base_uri": "https://localhost:8080/"
        },
        "id": "bONfllsrkOQs",
        "outputId": "2ba0d3f9-0222-440f-9924-d26f9ab41e06"
      },
      "source": [
        "lin"
      ],
      "execution_count": 93,
      "outputs": [
        {
          "output_type": "execute_result",
          "data": {
            "text/plain": [
              "tensor([[-1.2602,  0.1997, -0.0724,  0.0106, -0.3624, -0.6365, -0.8647, -0.3143,\n",
              "          0.6814,  0.3578]], grad_fn=<AddmmBackward0>)"
            ]
          },
          "metadata": {},
          "execution_count": 93
        }
      ]
    },
    {
      "cell_type": "code",
      "metadata": {
        "colab": {
          "base_uri": "https://localhost:8080/",
          "height": 253
        },
        "id": "3n0HCcpakQTb",
        "outputId": "5c4096ac-0943-4a7a-b2c1-13d52ab4ef78"
      },
      "source": [
        "plt.imshow(lin.detach().numpy(),'jet')\n",
        "plt.colorbar()\n",
        "plt.show()"
      ],
      "execution_count": 97,
      "outputs": [
        {
          "output_type": "display_data",
          "data": {
            "image/png": "[encoded data removed]",
            "text/plain": [
              "<Figure size 432x288 with 2 Axes>"
            ]
          },
          "metadata": {}
        }
      ]
    },
    {
      "cell_type": "code",
      "metadata": {
        "id": "CS4NUqgjkaTr"
      },
      "source": [
        "with torch.no_grad():\n",
        "  flatten=image.view(1,28*28)\n",
        "  lin= nn.Linear(784,10)(flatten)\n",
        "  softmax=F.softmax(lin, dim=1)"
      ],
      "execution_count": 98,
      "outputs": []
    },
    {
      "cell_type": "code",
      "metadata": {
        "colab": {
          "base_uri": "https://localhost:8080/"
        },
        "id": "6sTOeaa2k3G7",
        "outputId": "2ef3ba59-88cf-47fe-e8bf-5d162fe725bd"
      },
      "source": [
        "softmax"
      ],
      "execution_count": 99,
      "outputs": [
        {
          "output_type": "execute_result",
          "data": {
            "text/plain": [
              "tensor([[0.1090, 0.0989, 0.1878, 0.0681, 0.0283, 0.0917, 0.0513, 0.0792, 0.0333,\n",
              "         0.2523]])"
            ]
          },
          "metadata": {},
          "execution_count": 99
        }
      ]
    },
    {
      "cell_type": "code",
      "metadata": {
        "colab": {
          "base_uri": "https://localhost:8080/"
        },
        "id": "dGzE38zFk3-C",
        "outputId": "b655da54-0ce4-4419-d808-f02cc273e765"
      },
      "source": [
        "import numpy as np\n",
        "np.sum(softmax.numpy())"
      ],
      "execution_count": 102,
      "outputs": [
        {
          "output_type": "execute_result",
          "data": {
            "text/plain": [
              "1.0"
            ]
          },
          "metadata": {},
          "execution_count": 102
        }
      ]
    },
    {
      "cell_type": "code",
      "metadata": {
        "colab": {
          "base_uri": "https://localhost:8080/"
        },
        "id": "vjt3LWPyk8lj",
        "outputId": "0131c21b-64d1-43f8-c66b-864bf9cedab2"
      },
      "source": [
        "np.argmax(softmax)"
      ],
      "execution_count": 103,
      "outputs": [
        {
          "output_type": "execute_result",
          "data": {
            "text/plain": [
              "tensor(9)"
            ]
          },
          "metadata": {},
          "execution_count": 103
        }
      ]
    },
    {
      "cell_type": "code",
      "metadata": {
        "colab": {
          "base_uri": "https://localhost:8080/"
        },
        "id": "VtxCvDkQlJ27",
        "outputId": "e8ff8456-b353-45b1-e2d2-7e6c9d10f31c"
      },
      "source": [
        "inputs=torch.randn(4,3,28,28).to(device)\n",
        "inputs.shape"
      ],
      "execution_count": 104,
      "outputs": [
        {
          "output_type": "execute_result",
          "data": {
            "text/plain": [
              "torch.Size([4, 3, 28, 28])"
            ]
          },
          "metadata": {},
          "execution_count": 104
        }
      ]
    },
    {
      "cell_type": "code",
      "metadata": {
        "colab": {
          "base_uri": "https://localhost:8080/"
        },
        "id": "-hGD9rxilQtD",
        "outputId": "b987032d-86a9-444a-b006-349747f1d3ac"
      },
      "source": [
        "layer=nn.Conv2d(3,20,5,1).to(device)\n",
        "output=F.relu(layer(inputs))\n",
        "output.shape"
      ],
      "execution_count": 105,
      "outputs": [
        {
          "output_type": "execute_result",
          "data": {
            "text/plain": [
              "torch.Size([4, 20, 24, 24])"
            ]
          },
          "metadata": {},
          "execution_count": 105
        }
      ]
    },
    {
      "cell_type": "code",
      "metadata": {
        "colab": {
          "base_uri": "https://localhost:8080/",
          "height": 174
        },
        "id": "HLs2BK-bleir",
        "outputId": "1a635514-34b7-47ba-d024-f8d4c0506632"
      },
      "source": [
        "optimizer= torch.optim.Adam(model.parameters, lr=1e-4, weight_decay=1e-5)"
      ],
      "execution_count": 106,
      "outputs": [
        {
          "output_type": "error",
          "ename": "NameError",
          "evalue": "ignored",
          "traceback": [
            "\u001b[0;31m---------------------------------------------------------------------------\u001b[0m",
            "\u001b[0;31mNameError\u001b[0m                                 Traceback (most recent call last)",
            "\u001b[0;32m<ipython-input-106-ba08793ed3e3>\u001b[0m in \u001b[0;36m<module>\u001b[0;34m()\u001b[0m\n\u001b[0;32m----> 1\u001b[0;31m \u001b[0moptimizer\u001b[0m\u001b[0;34m=\u001b[0m \u001b[0mtorch\u001b[0m\u001b[0;34m.\u001b[0m\u001b[0moptim\u001b[0m\u001b[0;34m.\u001b[0m\u001b[0mAdam\u001b[0m\u001b[0;34m(\u001b[0m\u001b[0mmodel\u001b[0m\u001b[0;34m.\u001b[0m\u001b[0mparameters\u001b[0m\u001b[0;34m,\u001b[0m \u001b[0mlr\u001b[0m\u001b[0;34m=\u001b[0m\u001b[0;36m1e-4\u001b[0m\u001b[0;34m,\u001b[0m \u001b[0mweight_decay\u001b[0m\u001b[0;34m=\u001b[0m\u001b[0;36m1e-5\u001b[0m\u001b[0;34m)\u001b[0m\u001b[0;34m\u001b[0m\u001b[0;34m\u001b[0m\u001b[0m\n\u001b[0m",
            "\u001b[0;31mNameError\u001b[0m: name 'model' is not defined"
          ]
        }
      ]
    },
    {
      "cell_type": "code",
      "metadata": {
        "id": "6mLjQM7vlsWD"
      },
      "source": [
        ""
      ],
      "execution_count": null,
      "outputs": []
    }
  ]
}