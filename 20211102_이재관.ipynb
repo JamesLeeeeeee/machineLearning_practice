{
  "nbformat": 4,
  "nbformat_minor": 0,
  "metadata": {
    "colab": {
      "name": "20211102_이재관.ipynb",
      "provenance": [],
      "authorship_tag": "ABX9TyNDOKBQgtaUp1b4ovgKE7Nt",
      "include_colab_link": true
    },
    "kernelspec": {
      "name": "python3",
      "display_name": "Python 3"
    },
    "language_info": {
      "name": "python"
    }
  },
  "cells": [
    {
      "cell_type": "markdown",
      "metadata": {
        "id": "view-in-github",
        "colab_type": "text"
      },
      "source": [
        "<a href=\"https://colab.research.google.com/github/JamesLeeeeeee/machineLearning_practice/blob/master/20211102_%EC%9D%B4%EC%9E%AC%EA%B4%80.ipynb\" target=\"_parent\"><img src=\"https://colab.research.google.com/assets/colab-badge.svg\" alt=\"Open In Colab\"/></a>"
      ]
    },
    {
      "cell_type": "code",
      "metadata": {
        "colab": {
          "base_uri": "https://localhost:8080/"
        },
        "id": "859OOlM2UEC-",
        "outputId": "782b39e1-cc9f-47f5-c772-bf1a22dd8e4d"
      },
      "source": [
        "from tensorflow import keras\n",
        "from sklearn.model_selection import train_test_split\n",
        "(train_input, train_target), (test_input, test_target) =\\\n",
        "keras.datasets.fashion_mnist.load_data()\n",
        "train_scaled=train_input.reshape(-1,28,28,1)/255.0\n",
        "train_scaled, val_scaled, train_target, val_target= train_test_split(train_scaled, train_target, test_size=0.2, random_state=42)\n",
        "model=keras.Sequential()\n",
        "model.add(keras.layers.Conv2D(32, kernel_size=3, activation='relu', padding='same', input_shape=(28,28,1)))\n",
        "model.add(keras.layers.MaxPooling2D(2))\n",
        "model.add(keras.layers.Conv2D(64,kernel_size=3, activation='relu', padding='same'))\n",
        "model.add(keras.layers.MaxPooling2D(2))\n",
        "model.add(keras.layers.Flatten())\n",
        "model.add(keras.layers.Dense(100, activation='relu'))\n",
        "model.add(keras.layers.Dropout(0.4))\n",
        "model.add(keras.layers.Dense(10, activation='softmax'))"
      ],
      "execution_count": 3,
      "outputs": [
        {
          "output_type": "stream",
          "name": "stdout",
          "text": [
            "Downloading data from https://storage.googleapis.com/tensorflow/tf-keras-datasets/train-labels-idx1-ubyte.gz\n",
            "32768/29515 [=================================] - 0s 0us/step\n",
            "40960/29515 [=========================================] - 0s 0us/step\n",
            "Downloading data from https://storage.googleapis.com/tensorflow/tf-keras-datasets/train-images-idx3-ubyte.gz\n",
            "26427392/26421880 [==============================] - 0s 0us/step\n",
            "26435584/26421880 [==============================] - 0s 0us/step\n",
            "Downloading data from https://storage.googleapis.com/tensorflow/tf-keras-datasets/t10k-labels-idx1-ubyte.gz\n",
            "16384/5148 [===============================================================================================] - 0s 0us/step\n",
            "Downloading data from https://storage.googleapis.com/tensorflow/tf-keras-datasets/t10k-images-idx3-ubyte.gz\n",
            "4423680/4422102 [==============================] - 0s 0us/step\n",
            "4431872/4422102 [==============================] - 0s 0us/step\n"
          ]
        }
      ]
    },
    {
      "cell_type": "code",
      "metadata": {
        "colab": {
          "base_uri": "https://localhost:8080/"
        },
        "id": "5D3KewQxUgQn",
        "outputId": "9f69d1ca-7609-47d3-fa23-27f18e3b71b1"
      },
      "source": [
        "model.compile(optimizer='adam', loss='sparse_categorical_crossentropy', metrics='accuracy')\n",
        "checkpoint_cb= keras.callbacks.ModelCheckpoint('best-cnn-model.h5', save_best_only=True)\n",
        "early_stopping_cb= keras.callbacks.EarlyStopping(patience=2, restore_best_weights=True)\n",
        "history = model.fit(train_scaled, train_target, epochs=20,\n",
        "                    validation_data=(val_scaled, val_target),\n",
        "                    callbacks=[checkpoint_cb, early_stopping_cb])"
      ],
      "execution_count": 4,
      "outputs": [
        {
          "output_type": "stream",
          "name": "stdout",
          "text": [
            "Epoch 1/20\n",
            "1500/1500 [==============================] - 64s 42ms/step - loss: 0.5277 - accuracy: 0.8104 - val_loss: 0.3364 - val_accuracy: 0.8763\n",
            "Epoch 2/20\n",
            "1500/1500 [==============================] - 63s 42ms/step - loss: 0.3459 - accuracy: 0.8774 - val_loss: 0.2786 - val_accuracy: 0.8970\n",
            "Epoch 3/20\n",
            "1500/1500 [==============================] - 62s 42ms/step - loss: 0.2956 - accuracy: 0.8941 - val_loss: 0.2513 - val_accuracy: 0.9057\n",
            "Epoch 4/20\n",
            "1500/1500 [==============================] - 62s 41ms/step - loss: 0.2653 - accuracy: 0.9032 - val_loss: 0.2358 - val_accuracy: 0.9120\n",
            "Epoch 5/20\n",
            "1500/1500 [==============================] - 62s 42ms/step - loss: 0.2412 - accuracy: 0.9114 - val_loss: 0.2271 - val_accuracy: 0.9164\n",
            "Epoch 6/20\n",
            "1500/1500 [==============================] - 62s 41ms/step - loss: 0.2188 - accuracy: 0.9195 - val_loss: 0.2222 - val_accuracy: 0.9166\n",
            "Epoch 7/20\n",
            "1500/1500 [==============================] - 62s 41ms/step - loss: 0.2020 - accuracy: 0.9256 - val_loss: 0.2132 - val_accuracy: 0.9227\n",
            "Epoch 8/20\n",
            "1500/1500 [==============================] - 62s 41ms/step - loss: 0.1888 - accuracy: 0.9296 - val_loss: 0.2163 - val_accuracy: 0.9224\n",
            "Epoch 9/20\n",
            "1500/1500 [==============================] - 61s 41ms/step - loss: 0.1764 - accuracy: 0.9331 - val_loss: 0.2194 - val_accuracy: 0.9193\n"
          ]
        }
      ]
    },
    {
      "cell_type": "code",
      "metadata": {
        "id": "-g-Mw_OYUlZO"
      },
      "source": [
        "from tensorflow import keras\n",
        "model= keras.models.load_model('best-cnn-model.h5')"
      ],
      "execution_count": 5,
      "outputs": []
    },
    {
      "cell_type": "code",
      "metadata": {
        "colab": {
          "base_uri": "https://localhost:8080/"
        },
        "id": "JdULLJm3ZQ2E",
        "outputId": "6598792d-b55d-47ee-c6ca-a1e9a251c647"
      },
      "source": [
        "model.layers"
      ],
      "execution_count": 6,
      "outputs": [
        {
          "output_type": "execute_result",
          "data": {
            "text/plain": [
              "[<keras.layers.convolutional.Conv2D at 0x7efe1f1a8250>,\n",
              " <keras.layers.pooling.MaxPooling2D at 0x7efe17a8bcd0>,\n",
              " <keras.layers.convolutional.Conv2D at 0x7efe16ab5950>,\n",
              " <keras.layers.pooling.MaxPooling2D at 0x7efe199cd910>,\n",
              " <keras.layers.core.Flatten at 0x7efe1b28b490>,\n",
              " <keras.layers.core.Dense at 0x7efe19982110>,\n",
              " <keras.layers.core.Dropout at 0x7efe1f4ae650>,\n",
              " <keras.layers.core.Dense at 0x7efe17a98e90>]"
            ]
          },
          "metadata": {},
          "execution_count": 6
        }
      ]
    },
    {
      "cell_type": "code",
      "metadata": {
        "colab": {
          "base_uri": "https://localhost:8080/"
        },
        "id": "dzw6hQp1XHwn",
        "outputId": "ae4e0ac6-8517-4af3-8a40-0ad4fd0a9d14"
      },
      "source": [
        "conv= model.layers[0]\n",
        "print(conv.weights[0].shape, conv.weights[1].shape)"
      ],
      "execution_count": 7,
      "outputs": [
        {
          "output_type": "stream",
          "name": "stdout",
          "text": [
            "(3, 3, 1, 32) (32,)\n"
          ]
        }
      ]
    },
    {
      "cell_type": "code",
      "metadata": {
        "colab": {
          "base_uri": "https://localhost:8080/"
        },
        "id": "R9BjJLqRZB_s",
        "outputId": "820faf7b-8e6e-4192-f72f-bcfc89d7d767"
      },
      "source": [
        "conv_weights= conv.weights[0].numpy()\n",
        "print(conv_weights.mean(), conv_weights.std())"
      ],
      "execution_count": 8,
      "outputs": [
        {
          "output_type": "stream",
          "name": "stdout",
          "text": [
            "-0.017710268 0.23978287\n"
          ]
        }
      ]
    },
    {
      "cell_type": "code",
      "metadata": {
        "colab": {
          "base_uri": "https://localhost:8080/",
          "height": 278
        },
        "id": "hTjgjah7ZX96",
        "outputId": "ba637538-0bb5-4d57-c17a-9d9961cecedc"
      },
      "source": [
        "import matplotlib.pyplot as plt\n",
        "plt.hist(conv_weights.reshape(-1, 1))\n",
        "plt.xlabel('weight')\n",
        "plt.ylabel('count')\n",
        "plt.show()"
      ],
      "execution_count": 9,
      "outputs": [
        {
          "output_type": "display_data",
          "data": {
            "image/png": "[encoded data removed]",
            "text/plain": [
              "<Figure size 432x288 with 1 Axes>"
            ]
          },
          "metadata": {
            "needs_background": "light"
          }
        }
      ]
    },
    {
      "cell_type": "code",
      "metadata": {
        "colab": {
          "base_uri": "https://localhost:8080/",
          "height": 134
        },
        "id": "49JGIQVRZm_c",
        "outputId": "72d8186d-5782-420e-a7fc-7def91990052"
      },
      "source": [
        "fig, axs= plt.subplots(2, 16, figsize=(15,2))\n",
        "for i in range(2):\n",
        "  for j in range(16):\n",
        "    axs[i,j].imshow(conv_weights[:,:,0,i*16+j], vmin=-0.5, vmax=0.5)\n",
        "    axs[i,j].axis('off')\n",
        "plt.show()"
      ],
      "execution_count": 10,
      "outputs": [
        {
          "output_type": "display_data",
          "data": {
            "image/png": "[encoded data removed]",
            "text/plain": [
              "<Figure size 1080x144 with 32 Axes>"
            ]
          },
          "metadata": {
            "needs_background": "light"
          }
        }
      ]
    },
    {
      "cell_type": "code",
      "metadata": {
        "colab": {
          "base_uri": "https://localhost:8080/"
        },
        "id": "-aMbctmtaMca",
        "outputId": "bdc3145f-1fec-4c52-e152-1958946e7c66"
      },
      "source": [
        "no_training_model= keras.Sequential()\n",
        "no_training_model.add(keras.layers.Conv2D(32, kernel_size=3, activation='relu', padding='same', input_shape=(28,28,1)))\n",
        "no_training_conv= no_training_model.layers[0]\n",
        "print(no_training_conv.weights[0].shape)"
      ],
      "execution_count": 11,
      "outputs": [
        {
          "output_type": "stream",
          "name": "stdout",
          "text": [
            "(3, 3, 1, 32)\n"
          ]
        }
      ]
    },
    {
      "cell_type": "code",
      "metadata": {
        "colab": {
          "base_uri": "https://localhost:8080/"
        },
        "id": "H6G3onwXastf",
        "outputId": "57b9787f-ccae-42f1-8d77-e76e253f93be"
      },
      "source": [
        "no_training_weights= no_training_conv.weights[0].numpy()\n",
        "print(no_training_weights.mean(), no_training_weights.std())"
      ],
      "execution_count": 12,
      "outputs": [
        {
          "output_type": "stream",
          "name": "stdout",
          "text": [
            "0.00092592835 0.08130785\n"
          ]
        }
      ]
    },
    {
      "cell_type": "code",
      "metadata": {
        "colab": {
          "base_uri": "https://localhost:8080/",
          "height": 278
        },
        "id": "ils-qZxmbX-f",
        "outputId": "6a92b5aa-ab07-40c4-896f-7bd6d0f1d490"
      },
      "source": [
        "plt.hist(no_training_weights.reshape(-1,1))\n",
        "plt.xlabel('weight')\n",
        "plt.ylabel('count')\n",
        "plt.show()"
      ],
      "execution_count": 13,
      "outputs": [
        {
          "output_type": "display_data",
          "data": {
            "image/png": "[encoded data removed]",
            "text/plain": [
              "<Figure size 432x288 with 1 Axes>"
            ]
          },
          "metadata": {
            "needs_background": "light"
          }
        }
      ]
    },
    {
      "cell_type": "code",
      "metadata": {
        "colab": {
          "base_uri": "https://localhost:8080/",
          "height": 134
        },
        "id": "jFpv3pagblhH",
        "outputId": "f0703004-2d5e-4562-f86d-ac5f17c2a0b7"
      },
      "source": [
        "fig, axs=plt.subplots(2,16, figsize=(15,2))\n",
        "for i in range(2):\n",
        "  for j in range(16):\n",
        "    axs[i,j].imshow(no_training_weights[:,:,0,i*16+j], vmin=-0.5, vmax=0.5)\n",
        "    axs[i,j].axis('off')\n",
        "plt.show()"
      ],
      "execution_count": 14,
      "outputs": [
        {
          "output_type": "display_data",
          "data": {
            "image/png": "[encoded data removed]",
            "text/plain": [
              "<Figure size 1080x144 with 32 Axes>"
            ]
          },
          "metadata": {
            "needs_background": "light"
          }
        }
      ]
    },
    {
      "cell_type": "code",
      "metadata": {
        "id": "st7gzJ78f5oG"
      },
      "source": [
        "from tensorflow import keras\n",
        "from sklearn.model_selection import train_test_split"
      ],
      "execution_count": 1,
      "outputs": []
    },
    {
      "cell_type": "code",
      "metadata": {
        "id": "Avq-EnrYcEXo"
      },
      "source": [
        "dense1=keras.layers.Dense(100, activation='sigmoid')\n",
        "dense2=keras.layers.Dense(10, activation='softmax')"
      ],
      "execution_count": 48,
      "outputs": []
    },
    {
      "cell_type": "code",
      "metadata": {
        "id": "JCHjo1rCc0Yv"
      },
      "source": [
        "inputs= keras.Input(shape=(784,))"
      ],
      "execution_count": 49,
      "outputs": []
    },
    {
      "cell_type": "code",
      "metadata": {
        "id": "fHvNYozDc_qS"
      },
      "source": [
        "hidden=dense1(inputs)"
      ],
      "execution_count": 50,
      "outputs": []
    },
    {
      "cell_type": "code",
      "metadata": {
        "id": "93DCngcAenOW"
      },
      "source": [
        "outputs=dense2(hidden)"
      ],
      "execution_count": 51,
      "outputs": []
    },
    {
      "cell_type": "code",
      "metadata": {
        "id": "YDlf9nVce4lm"
      },
      "source": [
        "model=keras.Model(inputs, outputs)"
      ],
      "execution_count": 52,
      "outputs": []
    },
    {
      "cell_type": "code",
      "metadata": {
        "colab": {
          "base_uri": "https://localhost:8080/"
        },
        "id": "jDHbpG2ee9S5",
        "outputId": "c3bb70b5-43bd-42ae-d594-6a1a47459fe9"
      },
      "source": [
        "print(model.input)"
      ],
      "execution_count": 15,
      "outputs": [
        {
          "output_type": "stream",
          "name": "stdout",
          "text": [
            "KerasTensor(type_spec=TensorSpec(shape=(None, 28, 28, 1), dtype=tf.float32, name='conv2d_input'), name='conv2d_input', description=\"created by layer 'conv2d_input'\")\n"
          ]
        }
      ]
    },
    {
      "cell_type": "code",
      "metadata": {
        "id": "hefY5_Yje-uh"
      },
      "source": [
        "conv_acti=keras.Model(model.input, model.layers[0].output)"
      ],
      "execution_count": 16,
      "outputs": []
    },
    {
      "cell_type": "code",
      "metadata": {
        "colab": {
          "base_uri": "https://localhost:8080/",
          "height": 264
        },
        "id": "udtf_KoCfbHu",
        "outputId": "ff1c3c6d-0718-479e-a5a2-602c62fa5429"
      },
      "source": [
        "(train_input, train_target), (test_input, test_target)=\\\n",
        "keras.datasets.fashion_mnist.load_data()\n",
        "plt.imshow(train_input[0],cmap='gray_r')\n",
        "plt.show()"
      ],
      "execution_count": 17,
      "outputs": [
        {
          "output_type": "display_data",
          "data": {
            "image/png": "[encoded data removed]",
            "text/plain": [
              "<Figure size 432x288 with 1 Axes>"
            ]
          },
          "metadata": {
            "needs_background": "light"
          }
        }
      ]
    },
    {
      "cell_type": "code",
      "metadata": {
        "id": "llY3tE8Ui8Zh"
      },
      "source": [
        "inputs= train_input[:1].reshape(-1,28,28,1)/ 255.0\n",
        "feature_maps= conv_acti.predict(inputs)"
      ],
      "execution_count": 18,
      "outputs": []
    },
    {
      "cell_type": "code",
      "metadata": {
        "colab": {
          "base_uri": "https://localhost:8080/"
        },
        "id": "mFY6tSxOjJnv",
        "outputId": "d320a1ae-3767-413a-c633-4a2dca2665dc"
      },
      "source": [
        "print(feature_maps.shape)"
      ],
      "execution_count": 19,
      "outputs": [
        {
          "output_type": "stream",
          "name": "stdout",
          "text": [
            "(1, 28, 28, 32)\n"
          ]
        }
      ]
    },
    {
      "cell_type": "code",
      "metadata": {
        "colab": {
          "base_uri": "https://localhost:8080/",
          "height": 460
        },
        "id": "rY_9rdJGjMsf",
        "outputId": "dcf45a28-6a0b-4979-90f7-2284be6382f2"
      },
      "source": [
        "fig, axs= plt.subplots(4,8, figsize=(15,8))\n",
        "for i in range(4):\n",
        "  for j in range(8):\n",
        "    axs[i, j].imshow(feature_maps[0,:,:,i*8+j])\n",
        "    axs[i,j].axis('off')\n",
        "plt.show()"
      ],
      "execution_count": 21,
      "outputs": [
        {
          "output_type": "display_data",
          "data": {
            "image/png": "[encoded data removed]",
            "text/plain": [
              "<Figure size 1080x576 with 32 Axes>"
            ]
          },
          "metadata": {
            "needs_background": "light"
          }
        }
      ]
    },
    {
      "cell_type": "code",
      "metadata": {
        "id": "7LyyAMhWjilf"
      },
      "source": [
        "conv2_acti=keras.Model(model.input, model.layers[2].output)"
      ],
      "execution_count": 22,
      "outputs": []
    },
    {
      "cell_type": "code",
      "metadata": {
        "id": "Q77SaqiTj04z"
      },
      "source": [
        "inputs=train_input[:1].reshape(-1,28,28,1)/255.0\n",
        "feature_maps= conv2_acti.predict(inputs)"
      ],
      "execution_count": 23,
      "outputs": []
    },
    {
      "cell_type": "code",
      "metadata": {
        "colab": {
          "base_uri": "https://localhost:8080/"
        },
        "id": "PYs3LWBmkHpA",
        "outputId": "510fc2d0-a7f7-4d22-fb11-14902300aced"
      },
      "source": [
        "print(feature_maps.shape)"
      ],
      "execution_count": 25,
      "outputs": [
        {
          "output_type": "stream",
          "name": "stdout",
          "text": [
            "(1, 14, 14, 64)\n"
          ]
        }
      ]
    },
    {
      "cell_type": "code",
      "metadata": {
        "colab": {
          "base_uri": "https://localhost:8080/",
          "height": 683
        },
        "id": "shuhLickkJue",
        "outputId": "659965ff-91e2-4db4-ec79-b40e73a02938"
      },
      "source": [
        "fig, axs= plt.subplots(8,8, figsize=(12,12))\n",
        "for i in range(8):\n",
        "  for j in range(8):\n",
        "    axs[i,j].imshow(feature_maps[0,:,:,i*8+j])\n",
        "    axs[i,j].axis('off')\n",
        "plt.show()"
      ],
      "execution_count": 33,
      "outputs": [
        {
          "output_type": "display_data",
          "data": {
            "image/png": "[encoded data removed]",
            "text/plain": [
              "<Figure size 864x864 with 64 Axes>"
            ]
          },
          "metadata": {
            "needs_background": "light"
          }
        }
      ]
    },
    {
      "cell_type": "markdown",
      "metadata": {
        "id": "sPynhT_WlPkl"
      },
      "source": [
        ""
      ]
    },
    {
      "cell_type": "code",
      "metadata": {
        "id": "ZEJpW-ovki7D"
      },
      "source": [
        ""
      ],
      "execution_count": null,
      "outputs": []
    }
  ]
}